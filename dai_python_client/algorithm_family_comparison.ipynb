{
 "cells": [
  {
   "cell_type": "markdown",
   "metadata": {},
   "source": [
    "# Driverless AI: Comparing Algorithm Families\n",
    "\n",
    "This notebook walks through how to build experiments using only certain families of algorithms and then comparing them. This would allow for understanding the trade off of algorithm complexity vs. the accuracy of the final model."
   ]
  },
  {
   "cell_type": "markdown",
   "metadata": {},
   "source": [
    "## Before We Begin\n",
    "\n",
    "* This notebook uses the beta python client - if you would like to be a beta tester please reach out to your H2O.ai contact\n",
    "* This notebook has been written and tested in 1.8.4.1\n",
    "* Python 3.6 is required\n",
    "* You can use `Shift+Tab` to the see the signature and docstring of any function while using Jupyter"
   ]
  },
  {
   "cell_type": "code",
   "execution_count": 1,
   "metadata": {},
   "outputs": [],
   "source": [
    "import pandas as pd # local data manipulation\n",
    "import matplotlib.pyplot as plt # plot results\n",
    "import getpass # keep password out of the notebook\n",
    "from driverlessai import Client # connect to DAI\n",
    "\n",
    "%matplotlib inline\n",
    "%load_ext autotime"
   ]
  },
  {
   "cell_type": "markdown",
   "metadata": {},
   "source": [
    "## Connect to Driverless AI\n",
    "* Create a connection object for interacting with DAI \n",
    "* Print and login to the GUI\n",
    "\n",
    "<br/> **Note:** Click the DAI URL and log in now as you have the password saved to save time later in this notebook"
   ]
  },
  {
   "cell_type": "code",
   "execution_count": 2,
   "metadata": {},
   "outputs": [
    {
     "name": "stdout",
     "output_type": "stream",
     "text": [
      "Enter your Driverless AI password: ········\n",
      "time: 4.11 s\n"
     ]
    }
   ],
   "source": [
    "address = 'http://54.172.110.253:12345'\n",
    "username = 'h2oai'\n",
    "\n",
    "dai = Client()\n",
    "dai.connect(address = address, \n",
    "             username = username, \n",
    "             password = getpass.getpass(\"Enter your Driverless AI password: \"))"
   ]
  },
  {
   "cell_type": "code",
   "execution_count": 3,
   "metadata": {},
   "outputs": [
    {
     "name": "stdout",
     "output_type": "stream",
     "text": [
      "http://54.172.110.253:12345\n",
      "time: 883 µs\n"
     ]
    }
   ],
   "source": [
    "dai.gui()"
   ]
  },
  {
   "cell_type": "markdown",
   "metadata": {},
   "source": [
    "## Load a Dataset\n",
    "Most DAI instances come with some sample data in the `data` folder on the server. We will load in a dataset about customers who may churn from a telco.\n",
    "\n",
    "* Load a dataset from the DAI server\n",
    "* Print columns in the dataset\n",
    "* Create a variables to use in modeling\n",
    "* Look at the distribution of the target column\n",
    "* ~~Add the dataset to the project~~"
   ]
  },
  {
   "cell_type": "code",
   "execution_count": 4,
   "metadata": {},
   "outputs": [
    {
     "name": "stdout",
     "output_type": "stream",
     "text": [
      "Complete 100% - [4/4] Computing column statisticstime: 1.99 s\n"
     ]
    }
   ],
   "source": [
    "dai_data = dai.datasets.create('/data/Splunk/churn.csv', data_source=\"file\")"
   ]
  },
  {
   "cell_type": "code",
   "execution_count": 5,
   "metadata": {},
   "outputs": [
    {
     "data": {
      "text/plain": [
       "['State',\n",
       " 'Account Length',\n",
       " 'Area Code',\n",
       " 'Phone',\n",
       " \"Int'l Plan\",\n",
       " 'VMail Plan',\n",
       " 'VMail Message',\n",
       " 'Day Mins',\n",
       " 'Day Calls',\n",
       " 'Day Charge',\n",
       " 'Eve Mins',\n",
       " 'Eve Calls',\n",
       " 'Eve Charge',\n",
       " 'Night Mins',\n",
       " 'Night Calls',\n",
       " 'Night Charge',\n",
       " 'Intl Mins',\n",
       " 'Intl Calls',\n",
       " 'Intl Charge',\n",
       " 'CustServ Calls',\n",
       " 'Churn?']"
      ]
     },
     "execution_count": 5,
     "metadata": {},
     "output_type": "execute_result"
    },
    {
     "name": "stdout",
     "output_type": "stream",
     "text": [
      "time: 4.08 ms\n"
     ]
    }
   ],
   "source": [
    "dai_data.columns"
   ]
  },
  {
   "cell_type": "code",
   "execution_count": 14,
   "metadata": {},
   "outputs": [
    {
     "name": "stdout",
     "output_type": "stream",
     "text": [
      "time: 1.87 ms\n"
     ]
    }
   ],
   "source": [
    "# Informatin to use in modeling\n",
    "col_y = \"Churn?\"\n",
    "scoring_metric = \"AUC\"\n",
    "cols_to_drop = []\n",
    "use_case = \"classification\" # \"regression\"\n",
    "\n",
    "# Fast settings for test, longer settings for real experimentation\n",
    "accuracy = 1\n",
    "time = 1\n",
    "interpretability = 6"
   ]
  },
  {
   "cell_type": "code",
   "execution_count": 7,
   "metadata": {},
   "outputs": [
    {
     "name": "stdout",
     "output_type": "stream",
     "text": [
      "--- Churn? ---\n",
      "\n",
      " False.|████████████████████\n",
      "  True.|███\n",
      "\n",
      "Data Type: str\n",
      "Logical Types: []\n",
      "Datetime Format: \n",
      "Count: 3333\n",
      "Missing: 0\n",
      "Unique: 2\n",
      "Freq: 483\n",
      "\n",
      "\n",
      "time: 181 ms\n"
     ]
    }
   ],
   "source": [
    "print(dai_data.column_summaries([col_y]))"
   ]
  },
  {
   "cell_type": "markdown",
   "metadata": {},
   "source": [
    "## Split Dataset\n",
    "* Create training and testing datasets"
   ]
  },
  {
   "cell_type": "code",
   "execution_count": 8,
   "metadata": {},
   "outputs": [
    {
     "name": "stdout",
     "output_type": "stream",
     "text": [
      "time: 3.34 s\n"
     ]
    }
   ],
   "source": [
    "dai_data_split = dai_data.split_to_train_test(\n",
    "    train_size=0.8, \n",
    "    train_name=dai_data.name + '_train', \n",
    "    test_name=dai_data.name + '_test', \n",
    "    target_col= col_y,\n",
    "    seed=42\n",
    ")"
   ]
  },
  {
   "cell_type": "code",
   "execution_count": 9,
   "metadata": {},
   "outputs": [
    {
     "data": {
      "text/plain": [
       "{'train_dataset': <class 'driverlessai.datasets.Dataset'> churn.csv_train (7cb70a6c-5fcd-11ea-900c-129353b3dc81),\n",
       " 'test_dataset': <class 'driverlessai.datasets.Dataset'> churn.csv_test (7cb8a142-5fcd-11ea-900c-129353b3dc81)}"
      ]
     },
     "execution_count": 9,
     "metadata": {},
     "output_type": "execute_result"
    },
    {
     "name": "stdout",
     "output_type": "stream",
     "text": [
      "time: 2.18 ms\n"
     ]
    }
   ],
   "source": [
    "dai_data_split"
   ]
  },
  {
   "cell_type": "markdown",
   "metadata": {},
   "source": [
    "## Run Experiments\n",
    "* List all algorithms available on the system\n",
    "* Create a dictionary of model families\n",
    "* Run an experiment for each model family"
   ]
  },
  {
   "cell_type": "code",
   "execution_count": 10,
   "metadata": {},
   "outputs": [
    {
     "data": {
      "text/plain": [
       "['CONSTANT',\n",
       " 'DECISIONTREE',\n",
       " 'FTRL',\n",
       " 'GLM',\n",
       " 'IMBALANCEDLIGHTGBM',\n",
       " 'IMBALANCEDXGBOOSTGBM',\n",
       " 'LIGHTGBM',\n",
       " 'RULEFIT',\n",
       " 'TENSORFLOW',\n",
       " 'XGBOOSTDART',\n",
       " 'XGBOOSTGBM']"
      ]
     },
     "execution_count": 10,
     "metadata": {},
     "output_type": "execute_result"
    },
    {
     "name": "stdout",
     "output_type": "stream",
     "text": [
      "time: 181 ms\n"
     ]
    }
   ],
   "source": [
    "[m.name for m in dai.recipes.models.list()]"
   ]
  },
  {
   "cell_type": "code",
   "execution_count": 11,
   "metadata": {},
   "outputs": [
    {
     "name": "stdout",
     "output_type": "stream",
     "text": [
      "time: 1.21 ms\n"
     ]
    }
   ],
   "source": [
    "model_families = [{\"name\": \"Constant\", \"models\": ['CONSTANT'], \"complexity\": 0},\n",
    "                  {\"name\": \"Regression\", \"models\": ['GLM'], \"complexity\": 1},\n",
    "                  {\"name\": \"Decision Tree\", \"models\": ['DECISIONTREE'], \"complexity\": 1},\n",
    "                  {\"name\": \"Boosting Trees\", \"models\": ['LIGHTGBM', 'XGBOOSTDART', 'XGBOOSTGBM'], \"complexity\": 2},\n",
    "                  {\"name\": \"Neural Net\", \"models\": ['TENSORFLOW'], \"complexity\": 3}\n",
    "                 ]"
   ]
  },
  {
   "cell_type": "code",
   "execution_count": 12,
   "metadata": {},
   "outputs": [
    {
     "name": "stdout",
     "output_type": "stream",
     "text": [
      "time: 709 µs\n"
     ]
    }
   ],
   "source": [
    "# As we are testing we don't need scoring pipelines etc.\n",
    "fast_settings = {\n",
    "    'make_python_scoring_pipeline': 'off',\n",
    "    'make_mojo_scoring_pipeline': 'off',\n",
    "    'benchmark_mojo_latency': 'off',\n",
    "    'make_autoreport': False,\n",
    "    'check_leakage': 'off',\n",
    "    'check_distribution_shift': 'off'\n",
    "}"
   ]
  },
  {
   "cell_type": "code",
   "execution_count": 15,
   "metadata": {},
   "outputs": [
    {
     "name": "stdout",
     "output_type": "stream",
     "text": [
      "Experiment launched at: http://54.172.110.253:12345/#experiment?key=d2994ddc-5fcd-11ea-900c-129353b3dc81\n",
      "Complete 100% - Status: Complete                                           \n",
      "   complexity                         experiment_id      name  test_score  \\\n",
      "0           0  d2994ddc-5fcd-11ea-900c-129353b3dc81  Constant         0.5   \n",
      "\n",
      "   validation_score  \n",
      "0          0.487016  \n",
      "Experiment launched at: http://54.172.110.253:12345/#experiment?key=de6014f2-5fcd-11ea-900c-129353b3dc81\n",
      "Complete 100% - Status: Complete                                         \n",
      "   complexity                         experiment_id        name  test_score  \\\n",
      "0           1  de6014f2-5fcd-11ea-900c-129353b3dc81  Regression    0.820076   \n",
      "\n",
      "   validation_score  \n",
      "0          0.812109  \n",
      "Experiment launched at: http://54.172.110.253:12345/#experiment?key=f23162b0-5fcd-11ea-900c-129353b3dc81\n",
      "Complete 100% - Status: Complete                                                  \n",
      "   complexity                         experiment_id           name  \\\n",
      "0           1  f23162b0-5fcd-11ea-900c-129353b3dc81  Decision Tree   \n",
      "\n",
      "   test_score  validation_score  \n",
      "0     0.85094          0.877079  \n",
      "Experiment launched at: http://54.172.110.253:12345/#experiment?key=046bf5d0-5fce-11ea-900c-129353b3dc81\n",
      "Complete 100% - Status: Complete                                                \n",
      "   complexity                         experiment_id            name  \\\n",
      "0           2  046bf5d0-5fce-11ea-900c-129353b3dc81  Boosting Trees   \n",
      "\n",
      "   test_score  validation_score  \n",
      "0    0.893869          0.919971  \n",
      "Experiment launched at: http://54.172.110.253:12345/#experiment?key=190846b0-5fce-11ea-900c-129353b3dc81\n",
      "Running 25.22% - Building pipeline visualization...                             \n",
      "   complexity                         experiment_id        name  test_score  \\\n",
      "0           3  190846b0-5fce-11ea-900c-129353b3dc81  Neural Net    0.826153   \n",
      "\n",
      "   validation_score  \n",
      "0           0.82254  \n",
      "time: 3min 37s\n"
     ]
    }
   ],
   "source": [
    "results = pd.DataFrame()\n",
    "\n",
    "for m in model_families:\n",
    "    # Run the experiment\n",
    "    experiment = dai.experiments.create(name=m[\"name\"],\n",
    "                                        **dai_data_split,\n",
    "                                        target_col=col_y,\n",
    "                                        task=use_case,\n",
    "                                        accuracy=accuracy, time=time, interpretability=interpretability,\n",
    "                                        scorer=scoring_metric,\n",
    "                                        included_models=m[\"models\"],\n",
    "                                        included_scorers=[scoring_metric], # only need optimization metric\n",
    "                                        drop_cols=cols_to_drop,\n",
    "                                        **fast_settings \n",
    "                                        )\n",
    "\n",
    "    # add validation results to our dataframe\n",
    "    exp_results = pd.DataFrame([{'name': m[\"name\"],\n",
    "                                 'complexity': m[\"complexity\"], \n",
    "                                 'validation_score': experiment.metrics()[\"val_score\"],\n",
    "                                 'test_score': experiment.metrics()[\"test_score\"],\n",
    "                                 'experiment_id': experiment.key}])\n",
    "    print()\n",
    "    print(exp_results)\n",
    "    \n",
    "    results = pd.concat([results, exp_results], axis = 0)\n"
   ]
  },
  {
   "cell_type": "markdown",
   "metadata": {},
   "source": [
    "## View Results\n",
    "* View resulting table\n",
    "* View plot of accuracy by model family"
   ]
  },
  {
   "cell_type": "code",
   "execution_count": 16,
   "metadata": {},
   "outputs": [
    {
     "data": {
      "text/html": [
       "<div>\n",
       "<style scoped>\n",
       "    .dataframe tbody tr th:only-of-type {\n",
       "        vertical-align: middle;\n",
       "    }\n",
       "\n",
       "    .dataframe tbody tr th {\n",
       "        vertical-align: top;\n",
       "    }\n",
       "\n",
       "    .dataframe thead th {\n",
       "        text-align: right;\n",
       "    }\n",
       "</style>\n",
       "<table border=\"1\" class=\"dataframe\">\n",
       "  <thead>\n",
       "    <tr style=\"text-align: right;\">\n",
       "      <th></th>\n",
       "      <th>complexity</th>\n",
       "      <th>experiment_id</th>\n",
       "      <th>name</th>\n",
       "      <th>test_score</th>\n",
       "      <th>validation_score</th>\n",
       "    </tr>\n",
       "  </thead>\n",
       "  <tbody>\n",
       "    <tr>\n",
       "      <th>0</th>\n",
       "      <td>0</td>\n",
       "      <td>d2994ddc-5fcd-11ea-900c-129353b3dc81</td>\n",
       "      <td>Constant</td>\n",
       "      <td>0.500000</td>\n",
       "      <td>0.487016</td>\n",
       "    </tr>\n",
       "    <tr>\n",
       "      <th>0</th>\n",
       "      <td>1</td>\n",
       "      <td>de6014f2-5fcd-11ea-900c-129353b3dc81</td>\n",
       "      <td>Regression</td>\n",
       "      <td>0.820076</td>\n",
       "      <td>0.812109</td>\n",
       "    </tr>\n",
       "    <tr>\n",
       "      <th>0</th>\n",
       "      <td>1</td>\n",
       "      <td>f23162b0-5fcd-11ea-900c-129353b3dc81</td>\n",
       "      <td>Decision Tree</td>\n",
       "      <td>0.850940</td>\n",
       "      <td>0.877079</td>\n",
       "    </tr>\n",
       "    <tr>\n",
       "      <th>0</th>\n",
       "      <td>2</td>\n",
       "      <td>046bf5d0-5fce-11ea-900c-129353b3dc81</td>\n",
       "      <td>Boosting Trees</td>\n",
       "      <td>0.893869</td>\n",
       "      <td>0.919971</td>\n",
       "    </tr>\n",
       "    <tr>\n",
       "      <th>0</th>\n",
       "      <td>3</td>\n",
       "      <td>190846b0-5fce-11ea-900c-129353b3dc81</td>\n",
       "      <td>Neural Net</td>\n",
       "      <td>0.826153</td>\n",
       "      <td>0.822540</td>\n",
       "    </tr>\n",
       "  </tbody>\n",
       "</table>\n",
       "</div>"
      ],
      "text/plain": [
       "   complexity                         experiment_id            name  \\\n",
       "0           0  d2994ddc-5fcd-11ea-900c-129353b3dc81        Constant   \n",
       "0           1  de6014f2-5fcd-11ea-900c-129353b3dc81      Regression   \n",
       "0           1  f23162b0-5fcd-11ea-900c-129353b3dc81   Decision Tree   \n",
       "0           2  046bf5d0-5fce-11ea-900c-129353b3dc81  Boosting Trees   \n",
       "0           3  190846b0-5fce-11ea-900c-129353b3dc81      Neural Net   \n",
       "\n",
       "   test_score  validation_score  \n",
       "0    0.500000          0.487016  \n",
       "0    0.820076          0.812109  \n",
       "0    0.850940          0.877079  \n",
       "0    0.893869          0.919971  \n",
       "0    0.826153          0.822540  "
      ]
     },
     "execution_count": 16,
     "metadata": {},
     "output_type": "execute_result"
    },
    {
     "name": "stdout",
     "output_type": "stream",
     "text": [
      "time: 12.1 ms\n"
     ]
    }
   ],
   "source": [
    "results"
   ]
  },
  {
   "cell_type": "code",
   "execution_count": 17,
   "metadata": {},
   "outputs": [
    {
     "data": {
      "image/png": "[encoded data removed]",
      "text/plain": [
       "<Figure size 432x288 with 1 Axes>"
      ]
     },
     "metadata": {
      "needs_background": "light"
     },
     "output_type": "display_data"
    },
    {
     "name": "stdout",
     "output_type": "stream",
     "text": [
      "time: 276 ms\n"
     ]
    }
   ],
   "source": [
    "results.plot(x=\"name\", \n",
    "             y=[\"validation_score\", \"test_score\"], \n",
    "             kind=\"bar\", \n",
    "             title= scoring_metric + \" by Model Family\",\n",
    "             colormap='jet',\n",
    "             ylim=(0,1))\n",
    "\n",
    "\n",
    "plt.xlabel('')\n",
    "plt.xticks(rotation=45 )\n",
    "plt.ylabel(scoring_metric)\n",
    "plt.show()"
   ]
  },
  {
   "cell_type": "code",
   "execution_count": null,
   "metadata": {},
   "outputs": [],
   "source": []
  }
 ],
 "metadata": {
  "kernelspec": {
   "display_name": "Python 3",
   "language": "python",
   "name": "python3"
  },
  "language_info": {
   "codemirror_mode": {
    "name": "ipython",
    "version": 3
   },
   "file_extension": ".py",
   "mimetype": "text/x-python",
   "name": "python",
   "nbconvert_exporter": "python",
   "pygments_lexer": "ipython3",
   "version": "3.6.5"
  },
  "toc": {
   "base_numbering": 1,
   "nav_menu": {},
   "number_sections": true,
   "sideBar": true,
   "skip_h1_title": true,
   "title_cell": "Table of Contents",
   "title_sidebar": "Contents",
   "toc_cell": false,
   "toc_position": {
    "height": "calc(100% - 180px)",
    "left": "10px",
    "top": "150px",
    "width": "287.796875px"
   },
   "toc_section_display": true,
   "toc_window_display": true
  }
 },
 "nbformat": 4,
 "nbformat_minor": 2
}
