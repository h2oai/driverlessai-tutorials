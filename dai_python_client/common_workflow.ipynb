{
 "cells": [
  {
   "cell_type": "markdown",
   "metadata": {},
   "source": [
    "# Beta Python Client for Driverless AI 1.8.X\n",
    "\n",
    "_This python client for Driverless AI will allow users to interact more intuitively with the product and will also allow scripts to run successfully after upgrades. In the beta process some API calls or functionality may change. We appreciate any feedback._\n",
    "\n",
    "**Note:** Use `Shift+Tab` to see the signature and doc string of any function while in Jupyter <br/>\n",
    "**Note:** Some items, like MLI, are still being developed. These will be at the end of the notebook in the old python client <br/>\n",
    "**Note:** Provide Beta Client Feedback by sending an email to support@h2o.ai\n"
   ]
  },
  {
   "cell_type": "markdown",
   "metadata": {
    "toc": true
   },
   "source": [
    "<h1>Table of Contents<span class=\"tocSkip\"></span></h1>\n",
    "<div class=\"toc\"><ul class=\"toc-item\"><li><span><a href=\"#Connect-to-Driverless-AI\" data-toc-modified-id=\"Connect-to-Driverless-AI-1\"><span class=\"toc-item-num\">1&nbsp;&nbsp;</span>Connect to Driverless AI</a></span></li><li><span><a href=\"#Documentation\" data-toc-modified-id=\"Documentation-2\"><span class=\"toc-item-num\">2&nbsp;&nbsp;</span>Documentation</a></span></li><li><span><a href=\"#Data\" data-toc-modified-id=\"Data-3\"><span class=\"toc-item-num\">3&nbsp;&nbsp;</span>Data</a></span><ul class=\"toc-item\"><li><span><a href=\"#List-Available-Connectors\" data-toc-modified-id=\"List-Available-Connectors-3.1\"><span class=\"toc-item-num\">3.1&nbsp;&nbsp;</span>List Available Connectors</a></span></li><li><span><a href=\"#List-Existing-Datasets\" data-toc-modified-id=\"List-Existing-Datasets-3.2\"><span class=\"toc-item-num\">3.2&nbsp;&nbsp;</span>List Existing Datasets</a></span></li><li><span><a href=\"#Upload-and-Download-Data\" data-toc-modified-id=\"Upload-and-Download-Data-3.3\"><span class=\"toc-item-num\">3.3&nbsp;&nbsp;</span>Upload and Download Data</a></span></li><li><span><a href=\"#Explore-the-Dataset\" data-toc-modified-id=\"Explore-the-Dataset-3.4\"><span class=\"toc-item-num\">3.4&nbsp;&nbsp;</span>Explore the Dataset</a></span></li><li><span><a href=\"#Explore-the-Columns\" data-toc-modified-id=\"Explore-the-Columns-3.5\"><span class=\"toc-item-num\">3.5&nbsp;&nbsp;</span>Explore the Columns</a></span></li><li><span><a href=\"#Split-a-Dataset\" data-toc-modified-id=\"Split-a-Dataset-3.6\"><span class=\"toc-item-num\">3.6&nbsp;&nbsp;</span>Split a Dataset</a></span></li></ul></li><li><span><a href=\"#Recipes\" data-toc-modified-id=\"Recipes-4\"><span class=\"toc-item-num\">4&nbsp;&nbsp;</span>Recipes</a></span></li><li><span><a href=\"#Modeling\" data-toc-modified-id=\"Modeling-5\"><span class=\"toc-item-num\">5&nbsp;&nbsp;</span>Modeling</a></span><ul class=\"toc-item\"><li><span><a href=\"#List-Existing-Experiments\" data-toc-modified-id=\"List-Existing-Experiments-5.1\"><span class=\"toc-item-num\">5.1&nbsp;&nbsp;</span>List Existing Experiments</a></span></li><li><span><a href=\"#Dictionary-for-a-Use-Case\" data-toc-modified-id=\"Dictionary-for-a-Use-Case-5.2\"><span class=\"toc-item-num\">5.2&nbsp;&nbsp;</span>Dictionary for a Use Case</a></span></li><li><span><a href=\"#Dictionary-for-Fast-Experiments\" data-toc-modified-id=\"Dictionary-for-Fast-Experiments-5.3\"><span class=\"toc-item-num\">5.3&nbsp;&nbsp;</span>Dictionary for Fast Experiments</a></span></li><li><span><a href=\"#Search-for-Settings\" data-toc-modified-id=\"Search-for-Settings-5.4\"><span class=\"toc-item-num\">5.4&nbsp;&nbsp;</span>Search for Settings</a></span></li><li><span><a href=\"#Get-Reccomended-Dial-Settings\" data-toc-modified-id=\"Get-Reccomended-Dial-Settings-5.5\"><span class=\"toc-item-num\">5.5&nbsp;&nbsp;</span>Get Reccomended Dial Settings</a></span></li><li><span><a href=\"#Preview-Using-Our-Custom-Recipe\" data-toc-modified-id=\"Preview-Using-Our-Custom-Recipe-5.6\"><span class=\"toc-item-num\">5.6&nbsp;&nbsp;</span>Preview Using Our Custom Recipe</a></span></li><li><span><a href=\"#Launch-an-Experiment\" data-toc-modified-id=\"Launch-an-Experiment-5.7\"><span class=\"toc-item-num\">5.7&nbsp;&nbsp;</span>Launch an Experiment</a></span></li><li><span><a href=\"#Information-on-an-Experiment\" data-toc-modified-id=\"Information-on-an-Experiment-5.8\"><span class=\"toc-item-num\">5.8&nbsp;&nbsp;</span>Information on an Experiment</a></span></li><li><span><a href=\"#Monitor-and-Finish-the-Model-Early\" data-toc-modified-id=\"Monitor-and-Finish-the-Model-Early-5.9\"><span class=\"toc-item-num\">5.9&nbsp;&nbsp;</span>Monitor and Finish the Model Early</a></span></li><li><span><a href=\"#View-the-Experiment-Summary\" data-toc-modified-id=\"View-the-Experiment-Summary-5.10\"><span class=\"toc-item-num\">5.10&nbsp;&nbsp;</span>View the Experiment Summary</a></span></li><li><span><a href=\"#Interact-with-Model-Artifacts\" data-toc-modified-id=\"Interact-with-Model-Artifacts-5.11\"><span class=\"toc-item-num\">5.11&nbsp;&nbsp;</span>Interact with Model Artifacts</a></span></li><li><span><a href=\"#View-Final-Model-Performance\" data-toc-modified-id=\"View-Final-Model-Performance-5.12\"><span class=\"toc-item-num\">5.12&nbsp;&nbsp;</span>View Final Model Performance</a></span></li><li><span><a href=\"#Download-the-Test-Set-Predictions\" data-toc-modified-id=\"Download-the-Test-Set-Predictions-5.13\"><span class=\"toc-item-num\">5.13&nbsp;&nbsp;</span>Download the Test Set Predictions</a></span></li><li><span><a href=\"#Plot-ROC-curve\" data-toc-modified-id=\"Plot-ROC-curve-5.14\"><span class=\"toc-item-num\">5.14&nbsp;&nbsp;</span>Plot ROC curve</a></span></li><li><span><a href=\"#Variable-Importance\" data-toc-modified-id=\"Variable-Importance-5.15\"><span class=\"toc-item-num\">5.15&nbsp;&nbsp;</span>Variable Importance</a></span></li><li><span><a href=\"#Retrain-a-Model-for-Production\" data-toc-modified-id=\"Retrain-a-Model-for-Production-5.16\"><span class=\"toc-item-num\">5.16&nbsp;&nbsp;</span>Retrain a Model for Production</a></span></li><li><span><a href=\"#View-the-Pipeline\" data-toc-modified-id=\"View-the-Pipeline-5.17\"><span class=\"toc-item-num\">5.17&nbsp;&nbsp;</span>View the Pipeline</a></span></li></ul></li><li><span><a href=\"#Launching-Machine-Learning-Interpretability\" data-toc-modified-id=\"Launching-Machine-Learning-Interpretability-6\"><span class=\"toc-item-num\">6&nbsp;&nbsp;</span>Launching Machine Learning Interpretability</a></span></li><li><span><a href=\"#Disconnect\" data-toc-modified-id=\"Disconnect-7\"><span class=\"toc-item-num\">7&nbsp;&nbsp;</span>Disconnect</a></span></li></ul></div>"
   ]
  },
  {
   "cell_type": "code",
   "execution_count": 1,
   "metadata": {},
   "outputs": [],
   "source": [
    "download_location = '/Users/jgranados/Downloads/'"
   ]
  },
  {
   "cell_type": "code",
   "execution_count": 2,
   "metadata": {},
   "outputs": [],
   "source": [
    "import pandas as pd # local data manipulation\n",
    "import numpy as np\n",
    "import getpass # securely login\n",
    "import driverlessai # connect to DAI\n",
    "\n",
    "# time each cell\n",
    "%load_ext autotime"
   ]
  },
  {
   "cell_type": "markdown",
   "metadata": {},
   "source": [
    "## Connect to Driverless AI\n",
    "We'll create a connection object called `dai` that we will use to interact with the platform. Throughout the client you can use the `.gui()` function to get a link which will take you to the user interface of that specific page.<br/><br/>\n",
    "**Note:** Currently when you go to any DAI link before logging in it will re-direct you to the home page - so I reccomend logging in the UI now as you have the password copied - use the link below\n"
   ]
  },
  {
   "cell_type": "code",
   "execution_count": 3,
   "metadata": {},
   "outputs": [
    {
     "name": "stdout",
     "output_type": "stream",
     "text": [
      "Enter your Driverless AI password: ········\n"
     ]
    },
    {
     "data": {
      "text/html": [
       "<pre><a href='http://localhost:12345' rel='noopener noreferrer' target='_blank'>http://localhost:12345</a></pre>"
      ],
      "text/plain": [
       "'http://localhost:12345'"
      ]
     },
     "execution_count": 3,
     "metadata": {},
     "output_type": "execute_result"
    },
    {
     "name": "stdout",
     "output_type": "stream",
     "text": [
      "time: 58.4 s\n"
     ]
    }
   ],
   "source": [
    "dai = driverlessai.Client(address=\"http://localhost:12345\", username=\"h2oai\", \n",
    "                          password=getpass.getpass(\"Enter your Driverless AI password: \"))\n",
    "dai.server.gui()"
   ]
  },
  {
   "cell_type": "code",
   "execution_count": 4,
   "metadata": {},
   "outputs": [
    {
     "data": {
      "text/plain": [
       "'1.8.6'"
      ]
     },
     "execution_count": 4,
     "metadata": {},
     "output_type": "execute_result"
    },
    {
     "name": "stdout",
     "output_type": "stream",
     "text": [
      "time: 2.05 ms\n"
     ]
    }
   ],
   "source": [
    "dai.server.version"
   ]
  },
  {
   "cell_type": "markdown",
   "metadata": {},
   "source": [
    "## Documentation\n",
    "You can get links to the home page and search the documentation from the pythnon client any time you want to know more about a specific DAI functionality. <br/><br/>\n",
    "**Note:** If you didn't log in to the GUI in the previous step you will be taken to a white screen if you click the below link as you have not told DAI that your browswer has permission to view documentation on the server"
   ]
  },
  {
   "cell_type": "code",
   "execution_count": 5,
   "metadata": {},
   "outputs": [
    {
     "data": {
      "text/html": [
       "<pre><a href='http://localhost:12345/docs/userguide/search.html?q=autoviz' rel='noopener noreferrer' target='_blank'>http://localhost:12345/docs/userguide/search.html?q=autoviz</a></pre>"
      ],
      "text/plain": [
       "'http://localhost:12345/docs/userguide/search.html?q=autoviz'"
      ]
     },
     "execution_count": 5,
     "metadata": {},
     "output_type": "execute_result"
    },
    {
     "name": "stdout",
     "output_type": "stream",
     "text": [
      "time: 1.81 ms\n"
     ]
    }
   ],
   "source": [
    "dai.server.docs(\"autoviz\")"
   ]
  },
  {
   "cell_type": "markdown",
   "metadata": {},
   "source": [
    "## Data\n",
    "Various methods for loading, interacting with, and modifiying data wihthin Driverless AI."
   ]
  },
  {
   "cell_type": "markdown",
   "metadata": {},
   "source": [
    "### List Available Connectors\n",
    "View all ways you are allowed to add data to DAI on this instace - to enable more connectors update the `config.toml` file <br/><br/>\n",
    "**Note:** Interactions with Data Recipes is not yet available so these connectors are not shown"
   ]
  },
  {
   "cell_type": "code",
   "execution_count": 6,
   "metadata": {},
   "outputs": [
    {
     "data": {
      "text/plain": [
       "['upload', 'file', 'hdfs', 's3', 'recipe_file', 'recipe_url']"
      ]
     },
     "execution_count": 6,
     "metadata": {},
     "output_type": "execute_result"
    },
    {
     "name": "stdout",
     "output_type": "stream",
     "text": [
      "time: 9.77 ms\n"
     ]
    }
   ],
   "source": [
    "dai.connectors.list()"
   ]
  },
  {
   "cell_type": "markdown",
   "metadata": {},
   "source": [
    "### List Existing Datasets"
   ]
  },
  {
   "cell_type": "code",
   "execution_count": 7,
   "metadata": {},
   "outputs": [
    {
     "name": "stdout",
     "output_type": "stream",
     "text": [
      "\n",
      "[<class 'driverlessai._datasets.Dataset'> 7a16d80e-9ae8-11ea-bf49-0242ac110002 telco_churn_test, <class 'driverlessai._datasets.Dataset'> 7a13ab16-9ae8-11ea-bf49-0242ac110002 telco_churn_train, <class 'driverlessai._datasets.Dataset'> 792f1ff0-9ae8-11ea-bf49-0242ac110002 Fancy New Name, <class 'driverlessai._datasets.Dataset'> 773bf7fe-9ae8-11ea-bf49-0242ac110002 Telco_Churn]\n",
      "\n",
      "<class 'driverlessai._datasets.Dataset'> 7a16d80e-9ae8-11ea-bf49-0242ac110002 telco_churn_test\n",
      "<class 'driverlessai._datasets.Dataset'> 7a13ab16-9ae8-11ea-bf49-0242ac110002 telco_churn_train\n",
      "<class 'driverlessai._datasets.Dataset'> 792f1ff0-9ae8-11ea-bf49-0242ac110002 Fancy New Name\n",
      "<class 'driverlessai._datasets.Dataset'> 773bf7fe-9ae8-11ea-bf49-0242ac110002 Telco_Churn\n",
      "time: 112 ms\n"
     ]
    }
   ],
   "source": [
    "# Get a link to view all datasets in the UI\n",
    "dai.datasets.gui()\n",
    "\n",
    "print()\n",
    "\n",
    "# List all datasets    \n",
    "print(dai.datasets.list(start_index=0, count=4))\n",
    "\n",
    "print()\n",
    "\n",
    "# pretty print\n",
    "for d in dai.datasets.list(start_index=0, count=4):\n",
    "    print(type(d), d.key, d.name)"
   ]
  },
  {
   "cell_type": "markdown",
   "metadata": {},
   "source": [
    "### Upload and Download Data\n",
    "You can upload data using any method that is enabled on your system. Here we will show:\n",
    "* Add data from a public s3 link\n",
    "* Download a dataset\n",
    "* Upload data from your local machine\n",
    "* Rename a dataset\n",
    "* Upload using the JDBC connector"
   ]
  },
  {
   "cell_type": "code",
   "execution_count": 8,
   "metadata": {},
   "outputs": [
    {
     "name": "stdout",
     "output_type": "stream",
     "text": [
      "Complete 100.00% - [4/4] Computing column statistics\n",
      "time: 2.14 s\n"
     ]
    }
   ],
   "source": [
    "telco_churn = dai.datasets.create(data=\"https://h2o-internal-release.s3-us-west-2.amazonaws.com/data/Splunk/churn.csv\", \n",
    "                                  data_source=\"s3\", \n",
    "                                  name=\"Telco_Churn\")"
   ]
  },
  {
   "cell_type": "code",
   "execution_count": 9,
   "metadata": {},
   "outputs": [
    {
     "name": "stdout",
     "output_type": "stream",
     "text": [
      "Downloaded '/Users/jgranados/Downloads/churn.csv.1590014114.0093713.csv'\n",
      "time: 1.74 s\n"
     ]
    }
   ],
   "source": [
    "local_file_path = telco_churn.download(download_location, overwrite=True)"
   ]
  },
  {
   "cell_type": "code",
   "execution_count": 10,
   "metadata": {
    "scrolled": true
   },
   "outputs": [
    {
     "name": "stdout",
     "output_type": "stream",
     "text": [
      "Complete 100.00% - [4/4] Computing column statistics       \n",
      "time: 2.32 s\n"
     ]
    }
   ],
   "source": [
    "telco_churn2 = dai.datasets.create(local_file_path, name=\"Telco_Churn_Duplicate\")"
   ]
  },
  {
   "cell_type": "code",
   "execution_count": 11,
   "metadata": {},
   "outputs": [
    {
     "name": "stdout",
     "output_type": "stream",
     "text": [
      "Old Name: Telco_Churn_Duplicate\n",
      "New Name: Fancy New Name\n",
      "time: 19.8 ms\n"
     ]
    }
   ],
   "source": [
    "print(\"Old Name:\", telco_churn2.name)\n",
    "\n",
    "telco_churn2.rename(\"Fancy New Name\")\n",
    "\n",
    "print(\"New Name:\", telco_churn2.name)"
   ]
  },
  {
   "cell_type": "code",
   "execution_count": 12,
   "metadata": {},
   "outputs": [
    {
     "name": "stdout",
     "output_type": "stream",
     "text": [
      "time: 598 µs\n"
     ]
    }
   ],
   "source": [
    "# Upload using the JDBC connector\n",
    "# Note 1: You must have JDBC in the list of available connectors\n",
    "# Note 2: Appropriate JARS must be on the DAI server\n",
    "\n",
    "jdbc_config = {\n",
    "    'jdbc_jar': '/data/postgresql-42.2.9.jar',\n",
    "    'jdbc_driver': 'org.postgresql.Driver',\n",
    "    'jdbc_url': 'jdbc:postgresql://mr-dl2:5432/h2oaidev',\n",
    "    'jdbc_username': 'h2oaitester',\n",
    "    'jdbc_password': 'h2oaitesterreadonly'\n",
    "}\n",
    "\n",
    "# jdbc_ds = dai.datasets.create(   \n",
    "#     data='SELECT * FROM creditcardtrain',\n",
    "#     data_source='jdbc',\n",
    "#     data_source_config=jdbc_config,\n",
    "#     name='beta_jdbc_test'\n",
    "# )"
   ]
  },
  {
   "cell_type": "markdown",
   "metadata": {},
   "source": [
    "### Explore the Dataset\n",
    "* View the column names\n",
    "* View the data shape\n",
    "* View the first and last rows"
   ]
  },
  {
   "cell_type": "code",
   "execution_count": 13,
   "metadata": {},
   "outputs": [
    {
     "name": "stdout",
     "output_type": "stream",
     "text": [
      "2b2e2be6-9aea-11ea-bf49-0242ac110002 | Telco_Churn\n",
      "\n",
      "Columns: ['State', 'Account Length', 'Area Code', 'Phone', \"Int'l Plan\", 'VMail Plan', 'VMail Message', 'Day Mins', 'Day Calls', 'Day Charge', 'Eve Mins', 'Eve Calls', 'Eve Charge', 'Night Mins', 'Night Calls', 'Night Charge', 'Intl Mins', 'Intl Calls', 'Intl Charge', 'CustServ Calls', 'Churn?']\n",
      "\n",
      "Shape: (3333, 21)\n",
      "time: 1.05 ms\n"
     ]
    }
   ],
   "source": [
    "print(telco_churn.key, \"|\", telco_churn.name)\n",
    "print(\"\\nColumns:\", telco_churn.columns)\n",
    "print('\\nShape:', telco_churn.shape)"
   ]
  },
  {
   "cell_type": "code",
   "execution_count": 14,
   "metadata": {},
   "outputs": [
    {
     "data": {
      "text/html": [
       "<table>\n",
       "<thead>\n",
       "<tr><th>State  </th><th style=\"text-align: right;\">  Account Length</th><th style=\"text-align: right;\">  Area Code</th><th>Phone   </th><th>Int&#x27;l Plan  </th><th>VMail Plan  </th><th style=\"text-align: right;\">  VMail Message</th><th style=\"text-align: right;\">  Day Mins</th><th style=\"text-align: right;\">  Day Calls</th><th style=\"text-align: right;\">  Day Charge</th><th style=\"text-align: right;\">  Eve Mins</th><th style=\"text-align: right;\">  Eve Calls</th><th style=\"text-align: right;\">  Eve Charge</th><th style=\"text-align: right;\">  Night Mins</th><th style=\"text-align: right;\">  Night Calls</th><th style=\"text-align: right;\">  Night Charge</th><th style=\"text-align: right;\">  Intl Mins</th><th style=\"text-align: right;\">  Intl Calls</th><th style=\"text-align: right;\">  Intl Charge</th><th style=\"text-align: right;\">  CustServ Calls</th><th>Churn?  </th></tr>\n",
       "</thead>\n",
       "<tbody>\n",
       "<tr><td>KS     </td><td style=\"text-align: right;\">             128</td><td style=\"text-align: right;\">        415</td><td>382-4657</td><td>no          </td><td>yes         </td><td style=\"text-align: right;\">             25</td><td style=\"text-align: right;\">     265.1</td><td style=\"text-align: right;\">        110</td><td style=\"text-align: right;\">       45.07</td><td style=\"text-align: right;\">     197.4</td><td style=\"text-align: right;\">         99</td><td style=\"text-align: right;\">       16.78</td><td style=\"text-align: right;\">       244.7</td><td style=\"text-align: right;\">           91</td><td style=\"text-align: right;\">         11.01</td><td style=\"text-align: right;\">       10  </td><td style=\"text-align: right;\">           3</td><td style=\"text-align: right;\">         2.7 </td><td style=\"text-align: right;\">               1</td><td>False.  </td></tr>\n",
       "<tr><td>OH     </td><td style=\"text-align: right;\">             107</td><td style=\"text-align: right;\">        415</td><td>371-7191</td><td>no          </td><td>yes         </td><td style=\"text-align: right;\">             26</td><td style=\"text-align: right;\">     161.6</td><td style=\"text-align: right;\">        123</td><td style=\"text-align: right;\">       27.47</td><td style=\"text-align: right;\">     195.5</td><td style=\"text-align: right;\">        103</td><td style=\"text-align: right;\">       16.62</td><td style=\"text-align: right;\">       254.4</td><td style=\"text-align: right;\">          103</td><td style=\"text-align: right;\">         11.45</td><td style=\"text-align: right;\">       13.7</td><td style=\"text-align: right;\">           3</td><td style=\"text-align: right;\">         3.7 </td><td style=\"text-align: right;\">               1</td><td>False.  </td></tr>\n",
       "<tr><td>NJ     </td><td style=\"text-align: right;\">             137</td><td style=\"text-align: right;\">        415</td><td>358-1921</td><td>no          </td><td>no          </td><td style=\"text-align: right;\">              0</td><td style=\"text-align: right;\">     243.4</td><td style=\"text-align: right;\">        114</td><td style=\"text-align: right;\">       41.38</td><td style=\"text-align: right;\">     121.2</td><td style=\"text-align: right;\">        110</td><td style=\"text-align: right;\">       10.3 </td><td style=\"text-align: right;\">       162.6</td><td style=\"text-align: right;\">          104</td><td style=\"text-align: right;\">          7.32</td><td style=\"text-align: right;\">       12.2</td><td style=\"text-align: right;\">           5</td><td style=\"text-align: right;\">         3.29</td><td style=\"text-align: right;\">               0</td><td>False.  </td></tr>\n",
       "<tr><td>OH     </td><td style=\"text-align: right;\">              84</td><td style=\"text-align: right;\">        408</td><td>375-9999</td><td>yes         </td><td>no          </td><td style=\"text-align: right;\">              0</td><td style=\"text-align: right;\">     299.4</td><td style=\"text-align: right;\">         71</td><td style=\"text-align: right;\">       50.9 </td><td style=\"text-align: right;\">      61.9</td><td style=\"text-align: right;\">         88</td><td style=\"text-align: right;\">        5.26</td><td style=\"text-align: right;\">       196.9</td><td style=\"text-align: right;\">           89</td><td style=\"text-align: right;\">          8.86</td><td style=\"text-align: right;\">        6.6</td><td style=\"text-align: right;\">           7</td><td style=\"text-align: right;\">         1.78</td><td style=\"text-align: right;\">               2</td><td>False.  </td></tr>\n",
       "<tr><td>OK     </td><td style=\"text-align: right;\">              75</td><td style=\"text-align: right;\">        415</td><td>330-6626</td><td>yes         </td><td>no          </td><td style=\"text-align: right;\">              0</td><td style=\"text-align: right;\">     166.7</td><td style=\"text-align: right;\">        113</td><td style=\"text-align: right;\">       28.34</td><td style=\"text-align: right;\">     148.3</td><td style=\"text-align: right;\">        122</td><td style=\"text-align: right;\">       12.61</td><td style=\"text-align: right;\">       186.9</td><td style=\"text-align: right;\">          121</td><td style=\"text-align: right;\">          8.41</td><td style=\"text-align: right;\">       10.1</td><td style=\"text-align: right;\">           3</td><td style=\"text-align: right;\">         2.73</td><td style=\"text-align: right;\">               3</td><td>False.  </td></tr>\n",
       "</tbody>\n",
       "</table>"
      ],
      "text/plain": [
       "<driverlessai._utils.Table at 0x11a1e3748>"
      ]
     },
     "execution_count": 14,
     "metadata": {},
     "output_type": "execute_result"
    },
    {
     "name": "stdout",
     "output_type": "stream",
     "text": [
      "time: 26.5 ms\n"
     ]
    }
   ],
   "source": [
    "telco_churn.head()"
   ]
  },
  {
   "cell_type": "code",
   "execution_count": 15,
   "metadata": {},
   "outputs": [
    {
     "data": {
      "text/html": [
       "<table>\n",
       "<thead>\n",
       "<tr><th>State  </th><th style=\"text-align: right;\">  Account Length</th><th style=\"text-align: right;\">  Area Code</th><th>Phone   </th><th>Int&#x27;l Plan  </th><th>VMail Plan  </th><th style=\"text-align: right;\">  VMail Message</th><th style=\"text-align: right;\">  Day Mins</th><th style=\"text-align: right;\">  Day Calls</th><th style=\"text-align: right;\">  Day Charge</th><th style=\"text-align: right;\">  Eve Mins</th><th style=\"text-align: right;\">  Eve Calls</th><th style=\"text-align: right;\">  Eve Charge</th><th style=\"text-align: right;\">  Night Mins</th><th style=\"text-align: right;\">  Night Calls</th><th style=\"text-align: right;\">  Night Charge</th><th style=\"text-align: right;\">  Intl Mins</th><th style=\"text-align: right;\">  Intl Calls</th><th style=\"text-align: right;\">  Intl Charge</th><th style=\"text-align: right;\">  CustServ Calls</th><th>Churn?  </th></tr>\n",
       "</thead>\n",
       "<tbody>\n",
       "<tr><td>AZ     </td><td style=\"text-align: right;\">             192</td><td style=\"text-align: right;\">        415</td><td>414-4276</td><td>no          </td><td>yes         </td><td style=\"text-align: right;\">             36</td><td style=\"text-align: right;\">     156.2</td><td style=\"text-align: right;\">         77</td><td style=\"text-align: right;\">       26.55</td><td style=\"text-align: right;\">     215.5</td><td style=\"text-align: right;\">        126</td><td style=\"text-align: right;\">       18.32</td><td style=\"text-align: right;\">       279.1</td><td style=\"text-align: right;\">           83</td><td style=\"text-align: right;\">         12.56</td><td style=\"text-align: right;\">        9.9</td><td style=\"text-align: right;\">           6</td><td style=\"text-align: right;\">         2.67</td><td style=\"text-align: right;\">               2</td><td>False.  </td></tr>\n",
       "<tr><td>WV     </td><td style=\"text-align: right;\">              68</td><td style=\"text-align: right;\">        415</td><td>370-3271</td><td>no          </td><td>no          </td><td style=\"text-align: right;\">              0</td><td style=\"text-align: right;\">     231.1</td><td style=\"text-align: right;\">         57</td><td style=\"text-align: right;\">       39.29</td><td style=\"text-align: right;\">     153.4</td><td style=\"text-align: right;\">         55</td><td style=\"text-align: right;\">       13.04</td><td style=\"text-align: right;\">       191.3</td><td style=\"text-align: right;\">          123</td><td style=\"text-align: right;\">          8.61</td><td style=\"text-align: right;\">        9.6</td><td style=\"text-align: right;\">           4</td><td style=\"text-align: right;\">         2.59</td><td style=\"text-align: right;\">               3</td><td>False.  </td></tr>\n",
       "<tr><td>RI     </td><td style=\"text-align: right;\">              28</td><td style=\"text-align: right;\">        510</td><td>328-8230</td><td>no          </td><td>no          </td><td style=\"text-align: right;\">              0</td><td style=\"text-align: right;\">     180.8</td><td style=\"text-align: right;\">        109</td><td style=\"text-align: right;\">       30.74</td><td style=\"text-align: right;\">     288.8</td><td style=\"text-align: right;\">         58</td><td style=\"text-align: right;\">       24.55</td><td style=\"text-align: right;\">       191.9</td><td style=\"text-align: right;\">           91</td><td style=\"text-align: right;\">          8.64</td><td style=\"text-align: right;\">       14.1</td><td style=\"text-align: right;\">           6</td><td style=\"text-align: right;\">         3.81</td><td style=\"text-align: right;\">               2</td><td>False.  </td></tr>\n",
       "<tr><td>CT     </td><td style=\"text-align: right;\">             184</td><td style=\"text-align: right;\">        510</td><td>364-6381</td><td>yes         </td><td>no          </td><td style=\"text-align: right;\">              0</td><td style=\"text-align: right;\">     213.8</td><td style=\"text-align: right;\">        105</td><td style=\"text-align: right;\">       36.35</td><td style=\"text-align: right;\">     159.6</td><td style=\"text-align: right;\">         84</td><td style=\"text-align: right;\">       13.57</td><td style=\"text-align: right;\">       139.2</td><td style=\"text-align: right;\">          137</td><td style=\"text-align: right;\">          6.26</td><td style=\"text-align: right;\">        5  </td><td style=\"text-align: right;\">          10</td><td style=\"text-align: right;\">         1.35</td><td style=\"text-align: right;\">               2</td><td>False.  </td></tr>\n",
       "<tr><td>TN     </td><td style=\"text-align: right;\">              74</td><td style=\"text-align: right;\">        415</td><td>400-4344</td><td>no          </td><td>yes         </td><td style=\"text-align: right;\">             25</td><td style=\"text-align: right;\">     234.4</td><td style=\"text-align: right;\">        113</td><td style=\"text-align: right;\">       39.85</td><td style=\"text-align: right;\">     265.9</td><td style=\"text-align: right;\">         82</td><td style=\"text-align: right;\">       22.6 </td><td style=\"text-align: right;\">       241.4</td><td style=\"text-align: right;\">           77</td><td style=\"text-align: right;\">         10.86</td><td style=\"text-align: right;\">       13.7</td><td style=\"text-align: right;\">           4</td><td style=\"text-align: right;\">         3.7 </td><td style=\"text-align: right;\">               0</td><td>False.  </td></tr>\n",
       "</tbody>\n",
       "</table>"
      ],
      "text/plain": [
       "<driverlessai._utils.Table at 0x10732a400>"
      ]
     },
     "execution_count": 15,
     "metadata": {},
     "output_type": "execute_result"
    },
    {
     "name": "stdout",
     "output_type": "stream",
     "text": [
      "time: 21.7 ms\n"
     ]
    }
   ],
   "source": [
    "telco_churn.tail()"
   ]
  },
  {
   "cell_type": "markdown",
   "metadata": {},
   "source": [
    "### Explore the Columns\n",
    "* View column summaries\n",
    "* Update the datatype to be used in modeling"
   ]
  },
  {
   "cell_type": "code",
   "execution_count": 16,
   "metadata": {},
   "outputs": [
    {
     "name": "stdout",
     "output_type": "stream",
     "text": [
      "time: 263 µs\n"
     ]
    }
   ],
   "source": [
    "# View all column summaries\n",
    "# print(telco_churn.column_summaries())"
   ]
  },
  {
   "cell_type": "code",
   "execution_count": 17,
   "metadata": {},
   "outputs": [
    {
     "name": "stdout",
     "output_type": "stream",
     "text": [
      "--- Area Code ---\n",
      "\n",
      " 408|██████████\n",
      "    |████████████████████\n",
      " 510|██████████\n",
      "\n",
      "Data Type: int\n",
      "Logical Types: []\n",
      "Datetime Format: \n",
      "Count: 3333\n",
      "Missing: 0\n",
      "Mean: 437\n",
      "SD: 42.4\n",
      "Min: 408\n",
      "Max: 510\n",
      "Unique: 3\n",
      "Freq: 1655\n",
      "\n",
      "\n",
      "time: 10.9 ms\n"
     ]
    }
   ],
   "source": [
    "print(telco_churn.column_summaries([\"Area Code\"]))"
   ]
  },
  {
   "cell_type": "code",
   "execution_count": 18,
   "metadata": {},
   "outputs": [
    {
     "name": "stdout",
     "output_type": "stream",
     "text": [
      "--- Area Code ---\n",
      "\n",
      " 408|██████████\n",
      "    |████████████████████\n",
      " 510|██████████\n",
      "\n",
      "Data Type: int\n",
      "Logical Types: ['categorical']\n",
      "Datetime Format: \n",
      "Count: 3333\n",
      "Missing: 0\n",
      "Mean: 437\n",
      "SD: 42.4\n",
      "Min: 408\n",
      "Max: 510\n",
      "Unique: 3\n",
      "Freq: 1655\n",
      "\n",
      "time: 40.6 ms\n"
     ]
    }
   ],
   "source": [
    "# Force a numeric column to only be used as a category\n",
    "telco_churn.set_logical_types({'Area Code': ['categorical']})\n",
    "print(telco_churn.column_summaries()[\"Area Code\"])"
   ]
  },
  {
   "cell_type": "markdown",
   "metadata": {},
   "source": [
    "### Split a Dataset\n",
    "The split function returns a dictionary of two datasets so you can easily pass them to the experiments"
   ]
  },
  {
   "cell_type": "code",
   "execution_count": 19,
   "metadata": {},
   "outputs": [
    {
     "name": "stdout",
     "output_type": "stream",
     "text": [
      "Complete\n",
      "time: 2.19 s\n"
     ]
    }
   ],
   "source": [
    "telco_churn_split = telco_churn.split_to_train_test(\n",
    "    train_size=0.8, \n",
    "    train_name='telco_churn_train', \n",
    "    test_name='telco_churn_test', \n",
    "    target_column= \"Churn?\", # Beta users with client from before March 15th use target_col\n",
    "    seed=42\n",
    ")"
   ]
  },
  {
   "cell_type": "code",
   "execution_count": 20,
   "metadata": {},
   "outputs": [
    {
     "data": {
      "text/plain": [
       "{'train_dataset': <class 'driverlessai._datasets.Dataset'> 2f0ff244-9aea-11ea-bf49-0242ac110002 telco_churn_train,\n",
       " 'test_dataset': <class 'driverlessai._datasets.Dataset'> 2f12b826-9aea-11ea-bf49-0242ac110002 telco_churn_test}"
      ]
     },
     "execution_count": 20,
     "metadata": {},
     "output_type": "execute_result"
    },
    {
     "name": "stdout",
     "output_type": "stream",
     "text": [
      "time: 2.05 ms\n"
     ]
    }
   ],
   "source": [
    "telco_churn_split"
   ]
  },
  {
   "cell_type": "code",
   "execution_count": 21,
   "metadata": {},
   "outputs": [
    {
     "name": "stdout",
     "output_type": "stream",
     "text": [
      "train_dataset \t 2f0ff244-9aea-11ea-bf49-0242ac110002 telco_churn_train\n",
      "test_dataset \t 2f12b826-9aea-11ea-bf49-0242ac110002 telco_churn_test\n",
      "time: 937 µs\n"
     ]
    }
   ],
   "source": [
    "for k, v in telco_churn_split.items():\n",
    "    print(k, \"\\t\" ,v.key, v.name)"
   ]
  },
  {
   "cell_type": "markdown",
   "metadata": {},
   "source": [
    "## Recipes\n",
    "Recipes are components of the ML pipeline such as algorithms, feature transformers, and scores. You can view all availabe recipes and upload new ones to your instance of DAI.\n",
    "\n",
    "* List all available models\n",
    "* List any custom transformers\n",
    "* List all scorers that can be used for binomial classification\n",
    "* Upload a custom recipe and save it to be tested later"
   ]
  },
  {
   "cell_type": "code",
   "execution_count": 22,
   "metadata": {},
   "outputs": [
    {
     "data": {
      "text/plain": [
       "['CONSTANT',\n",
       " 'DECISIONTREE',\n",
       " 'FTRL',\n",
       " 'GLM',\n",
       " 'IMBALANCEDLIGHTGBM',\n",
       " 'IMBALANCEDXGBOOSTGBM',\n",
       " 'LIGHTGBM',\n",
       " 'RULEFIT',\n",
       " 'TENSORFLOW',\n",
       " 'XGBOOSTDART',\n",
       " 'XGBOOSTGBM']"
      ]
     },
     "execution_count": 22,
     "metadata": {},
     "output_type": "execute_result"
    },
    {
     "name": "stdout",
     "output_type": "stream",
     "text": [
      "time: 249 ms\n"
     ]
    }
   ],
   "source": [
    "[m.name for m in dai.recipes.models.list()]"
   ]
  },
  {
   "cell_type": "code",
   "execution_count": 23,
   "metadata": {},
   "outputs": [
    {
     "data": {
      "text/plain": [
       "['SumTransformer']"
      ]
     },
     "execution_count": 23,
     "metadata": {},
     "output_type": "execute_result"
    },
    {
     "name": "stdout",
     "output_type": "stream",
     "text": [
      "time: 204 ms\n"
     ]
    }
   ],
   "source": [
    "[t.name for t in dai.recipes.transformers.list() if t.is_custom ]"
   ]
  },
  {
   "cell_type": "code",
   "execution_count": 24,
   "metadata": {},
   "outputs": [
    {
     "data": {
      "text/plain": [
       "['ACCURACY',\n",
       " 'AUC',\n",
       " 'AUCPR',\n",
       " 'F05',\n",
       " 'F1',\n",
       " 'F2',\n",
       " 'GINI',\n",
       " 'LOGLOSS',\n",
       " 'MACROAUC',\n",
       " 'MCC']"
      ]
     },
     "execution_count": 24,
     "metadata": {},
     "output_type": "execute_result"
    },
    {
     "name": "stdout",
     "output_type": "stream",
     "text": [
      "time: 149 ms\n"
     ]
    }
   ],
   "source": [
    "[s.name for s in dai.recipes.scorers.list() if s.for_binomial]"
   ]
  },
  {
   "cell_type": "code",
   "execution_count": 25,
   "metadata": {},
   "outputs": [
    {
     "name": "stdout",
     "output_type": "stream",
     "text": [
      "Complete 100.00%\n",
      "time: 3.12 s\n"
     ]
    }
   ],
   "source": [
    "dai.recipes.create(\"https://github.com/h2oai/driverlessai-recipes/blob/rel-1.8.6/transformers/numeric/sum.py\")"
   ]
  },
  {
   "cell_type": "code",
   "execution_count": 26,
   "metadata": {},
   "outputs": [
    {
     "data": {
      "text/plain": [
       "['SumTransformer']"
      ]
     },
     "execution_count": 26,
     "metadata": {},
     "output_type": "execute_result"
    },
    {
     "name": "stdout",
     "output_type": "stream",
     "text": [
      "time: 186 ms\n"
     ]
    }
   ],
   "source": [
    "[t.name for t in dai.recipes.transformers.list() if t.is_custom ]"
   ]
  },
  {
   "cell_type": "code",
   "execution_count": 27,
   "metadata": {},
   "outputs": [
    {
     "name": "stdout",
     "output_type": "stream",
     "text": [
      "time: 227 ms\n"
     ]
    }
   ],
   "source": [
    "transformers_to_use = [t for t in dai.recipes.transformers.list() if not t.is_custom or 'Sum' in t.name]"
   ]
  },
  {
   "cell_type": "markdown",
   "metadata": {},
   "source": [
    "## Modeling\n",
    "**Notes:** Dictionaries allow you to easily use common settings in your experiments <br/>\n",
    "**Notes:** Experiments will be `sync` by default meaning they will lock the notebook until they are complete. You can also use `async` versions of the fucntions. With the `async` functions you can use included code below to monthior and experiment as it runs, see logs in real time, and stop it when it is \"good enough\"."
   ]
  },
  {
   "cell_type": "markdown",
   "metadata": {},
   "source": [
    "### List Existing Experiments"
   ]
  },
  {
   "cell_type": "code",
   "execution_count": 28,
   "metadata": {},
   "outputs": [
    {
     "data": {
      "text/plain": [
       "['lometewo',\n",
       " 'Fastest Settings',\n",
       " 'Fastest Settings',\n",
       " 'Neural Net',\n",
       " 'Boosting Trees',\n",
       " 'Decision Tree',\n",
       " 'Regression',\n",
       " 'Constant',\n",
       " 'Neural Net',\n",
       " 'Boosting Trees',\n",
       " 'Decision Tree',\n",
       " 'Regression',\n",
       " 'Constant']"
      ]
     },
     "execution_count": 28,
     "metadata": {},
     "output_type": "execute_result"
    },
    {
     "name": "stdout",
     "output_type": "stream",
     "text": [
      "time: 774 ms\n"
     ]
    }
   ],
   "source": [
    "[e.name for e in dai.experiments.list()]"
   ]
  },
  {
   "cell_type": "markdown",
   "metadata": {},
   "source": [
    "### Dictionary for a Use Case\n",
    "We might want to run several experiments with different dial and expert settings. All of these will likely have some things in common, namely details about this specific dataset. We will create a dictionary to use in many experiments."
   ]
  },
  {
   "cell_type": "code",
   "execution_count": 29,
   "metadata": {},
   "outputs": [
    {
     "name": "stdout",
     "output_type": "stream",
     "text": [
      "time: 492 µs\n"
     ]
    }
   ],
   "source": [
    "telco_settings = {\n",
    "    **telco_churn_split,\n",
    "    'task': 'classification',\n",
    "    'target_column': \"Churn?\", # Beta users with client from before March 15th use target_col\n",
    "    'scorer': 'F1'\n",
    "}"
   ]
  },
  {
   "cell_type": "markdown",
   "metadata": {},
   "source": [
    "### Dictionary for Fast Experiments\n",
    "\n",
    "There may be several common types of experiments you want to run, and H2O.ai will be creating common experiment settings in dictionaries for easy use. The one below turns off all extra settings such as building pipelines or checking for leakage. It also uses the fastest experiment settings."
   ]
  },
  {
   "cell_type": "code",
   "execution_count": 30,
   "metadata": {},
   "outputs": [
    {
     "name": "stdout",
     "output_type": "stream",
     "text": [
      "time: 1.58 ms\n"
     ]
    }
   ],
   "source": [
    "fast_settings = {\n",
    "    'accuracy': 1,\n",
    "    'time': 1,\n",
    "    'interpretability': 6,\n",
    "    'make_python_scoring_pipeline': 'off',\n",
    "    'make_mojo_scoring_pipeline': 'off',\n",
    "    'benchmark_mojo_latency': 'off',\n",
    "    'make_autoreport': False,\n",
    "    'check_leakage': 'off',\n",
    "    'check_distribution_shift': 'off'\n",
    "}"
   ]
  },
  {
   "cell_type": "markdown",
   "metadata": {},
   "source": [
    "### Search for Settings\n",
    "There are many expert settings available, you can use the serach functionality to look for names or keywords for settings you may want to use."
   ]
  },
  {
   "cell_type": "code",
   "execution_count": 31,
   "metadata": {},
   "outputs": [
    {
     "name": "stdout",
     "output_type": "stream",
     "text": [
      "force_stratified_splits_for_imbalanced_threshold_binary | default_value: 0.01\n",
      "imbalance_sampling_method | default_value: off\n",
      "imbalance_ratio_sampling_threshold | default_value: 5\n",
      "heavy_imbalance_ratio_sampling_threshold | default_value: 25\n",
      "imbalance_sampling_number_of_bags | default_value: -1\n",
      "imbalance_sampling_max_number_of_bags | default_value: 10\n",
      "imbalance_sampling_max_number_of_bags_feature_evolution | default_value: 3\n",
      "imbalance_sampling_max_multiple_data_size | default_value: 1.0\n",
      "imbalance_sampling_target_minority_fraction | default_value: -1.0\n",
      "imbalance_ratio_notification_threshold | default_value: 2.0\n",
      "time: 25 ms\n"
     ]
    }
   ],
   "source": [
    "dai.experiments.search_expert_settings('imbalanced')"
   ]
  },
  {
   "cell_type": "code",
   "execution_count": 32,
   "metadata": {},
   "outputs": [
    {
     "name": "stdout",
     "output_type": "stream",
     "text": [
      "force_stratified_splits_for_imbalanced_threshold_binary | default_value: 0.01 | Perform stratified sampling for binary classification if the target is more imbalanced than this.\n",
      "  Ratio of minority to majority class of the target column beyond which stratified sampling is done for binary classification. Otherwise perform random sampling. Set to 0 to always do random sampling. Set to 1 to always do stratified sampling.\n",
      "\n",
      "imbalance_sampling_method | default_value: off | Sampling method for imbalanced binary classification problems\n",
      "  Sampling method for imbalanced binary classification problems. Choices are: \"auto\": sample both classes as needed, depending on data \"over_under_sampling\": over-sample the minority class and under-sample the majority class, depending on data \"under_sampling\": under-sample the majority class to reach class balance \"off\": do not perform any sampling\n",
      "\n",
      "imbalance_ratio_sampling_threshold | default_value: 5 | Ratio of majority to minority class for imbalanced binary classification to trigger special sampling techniques if enabled\n",
      "  For imbalanced binary classification: ratio of majority to minority class equal and above which to enable special imbalanced models with sampling techniques (specified by imbalance_sampling_method) to attempt to improve model performance.\n",
      "\n",
      "heavy_imbalance_ratio_sampling_threshold | default_value: 25 | Ratio of majority to minority class for heavily imbalanced binary classification to only enable special sampling techniques if enabled\n",
      "  For heavily imbalanced binary classification: ratio of majority to minority class equal and above which to enable only special imbalanced models on full original data, without upfront sampling.\n",
      "\n",
      "imbalance_sampling_number_of_bags | default_value: -1 | Number of bags for sampling methods for imbalanced binary classification (if enabled). -1 for automatic.\n",
      "  -1: automatic\n",
      "\n",
      "imbalance_sampling_max_number_of_bags | default_value: 10 | Hard limit on number of bags for sampling methods for imbalanced binary classification.\n",
      "  -1: automatic\n",
      "\n",
      "imbalance_sampling_max_number_of_bags_feature_evolution | default_value: 3 | Hard limit on number of bags for sampling methods for imbalanced binary classification during feature evolution phase.\n",
      "  Only for shift/leakage/tuning/feature evolution models. Not used for final models. Final models can be limited by imbalance_sampling_max_number_of_bags.\n",
      "\n",
      "imbalance_sampling_max_multiple_data_size | default_value: 1.0 | Max. size of data sampled during imbalanced sampling (in terms of dataset size)\n",
      "  Max. size of data sampled during imbalanced sampling (in terms of dataset size), controls number of bags (approximately). Only for imbalance_sampling_number_of_bags == -1.\n",
      "\n",
      "imbalance_sampling_target_minority_fraction | default_value: -1.0 | Target fraction of minority class after applying under/over-sampling techniques. -1.0 for automatic\n",
      "  A value of 0.5 means that models/algorithms will be presented a balanced target class distribution after applying under/over-sampling techniques on the training data. Sometimes it makes sense to choose a smaller value like 0.1 or 0.01 when starting from an extremely imbalanced original target distribution. -1.0: automatic\n",
      "\n",
      "imbalance_ratio_notification_threshold | default_value: 2.0 | \n",
      "  For binary classification: ratio of majority to minority class equal and above which to notify of imbalance in GUI to say slightly imbalanced. More than imbalance_ratio_sampling_threshold will say problem is imbalanced.\n",
      "\n",
      "time: 22.8 ms\n"
     ]
    }
   ],
   "source": [
    "dai.experiments.search_expert_settings('imbalanced', show_description=True )"
   ]
  },
  {
   "cell_type": "markdown",
   "metadata": {},
   "source": [
    "### Get Reccomended Dial Settings"
   ]
  },
  {
   "cell_type": "code",
   "execution_count": 33,
   "metadata": {},
   "outputs": [
    {
     "name": "stdout",
     "output_type": "stream",
     "text": [
      "ACCURACY [7/10]:\n",
      "- Training data size: *2,666 rows, 21 cols*\n",
      "- Feature evolution: *[Constant, DecisionTree, LightGBM, XGBoostGBM]*, *3-fold CV**, 2 reps*\n",
      "- Final pipeline: *Ensemble (6 models), 3-fold CV*\n",
      "\n",
      "TIME [2/10]:\n",
      "- Feature evolution: *8 individuals*, up to *42 iterations*\n",
      "- Early stopping: After *5* iterations of no improvement\n",
      "\n",
      "INTERPRETABILITY [8/10]:\n",
      "- Feature pre-pruning strategy: Permutation Importance FS\n",
      "- Monotonicity constraints: enabled\n",
      "- Feature engineering search space: [CVCatNumEncode, CVTargetEncode, CatOriginal, Cat, Frequent, Interactions, NumCatTE, NumToCatWoEMonotonic, NumToCatWoE, Original, Text, WeightOfEvidence]\n",
      "\n",
      "[Constant, DecisionTree, LightGBM, XGBoostGBM] models to train:\n",
      "- Model and feature tuning: *192*\n",
      "- Feature evolution: *288*\n",
      "- Final pipeline: *6*\n",
      "\n",
      "Estimated runtime: *minutes*\n",
      "Auto-click Finish/Abort if not done in: *1 day*/*7 days*\n",
      "time: 3.72 s\n"
     ]
    }
   ],
   "source": [
    "# Get experiment preview with our settings\n",
    "dai.experiments.preview(\n",
    "    **telco_settings\n",
    ")"
   ]
  },
  {
   "cell_type": "markdown",
   "metadata": {},
   "source": [
    "### Preview Using Our Custom Recipe\n",
    "Notice that `Sum` has been added to the `Feature engineering search space`"
   ]
  },
  {
   "cell_type": "code",
   "execution_count": 34,
   "metadata": {},
   "outputs": [
    {
     "name": "stdout",
     "output_type": "stream",
     "text": [
      "ACCURACY [7/10]:\n",
      "- Training data size: *2,666 rows, 21 cols*\n",
      "- Feature evolution: *[Constant, DecisionTree, LightGBM, XGBoostGBM]*, *3-fold CV**, 2 reps*\n",
      "- Final pipeline: *Ensemble (6 models), 3-fold CV*\n",
      "\n",
      "TIME [2/10]:\n",
      "- Feature evolution: *8 individuals*, up to *42 iterations*\n",
      "- Early stopping: After *5* iterations of no improvement\n",
      "\n",
      "INTERPRETABILITY [8/10]:\n",
      "- Feature pre-pruning strategy: Permutation Importance FS\n",
      "- Monotonicity constraints: enabled\n",
      "- Feature engineering search space: [CVCatNumEncode, CVTargetEncode, CatOriginal, Cat, Frequent, Interactions, NumCatTE, NumToCatWoEMonotonic, NumToCatWoE, Original, Sum, Text, WeightOfEvidence]\n",
      "\n",
      "[Constant, DecisionTree, LightGBM, XGBoostGBM] models to train:\n",
      "- Model and feature tuning: *192*\n",
      "- Feature evolution: *288*\n",
      "- Final pipeline: *6*\n",
      "\n",
      "Estimated runtime: *minutes*\n",
      "Auto-click Finish/Abort if not done in: *1 day*/*7 days*\n",
      "time: 3.7 s\n"
     ]
    }
   ],
   "source": [
    "# Get experiment preview with our settings\n",
    "dai.experiments.preview(\n",
    "    **telco_settings\n",
    "    ,transformers=transformers_to_use\n",
    ")"
   ]
  },
  {
   "cell_type": "markdown",
   "metadata": {},
   "source": [
    "### Launch an Experiment\n",
    "We will start by running an async experiment which will immeadiatly free our notebook to run additional commands"
   ]
  },
  {
   "cell_type": "code",
   "execution_count": 35,
   "metadata": {},
   "outputs": [
    {
     "name": "stdout",
     "output_type": "stream",
     "text": [
      "Experiment launched at: http://localhost:12345/#experiment?key=37d94664-9aea-11ea-bf49-0242ac110002\n",
      "time: 282 ms\n"
     ]
    }
   ],
   "source": [
    "default_baseline = dai.experiments.create_async(\n",
    "    **telco_settings, \n",
    "    name='Fastest Settings', **fast_settings,\n",
    "    # name='Default Baseline', accuracy=7, time=2, interpretability=8\n",
    ")"
   ]
  },
  {
   "cell_type": "markdown",
   "metadata": {},
   "source": [
    "### Information on an Experiment"
   ]
  },
  {
   "cell_type": "code",
   "execution_count": 36,
   "metadata": {},
   "outputs": [
    {
     "name": "stdout",
     "output_type": "stream",
     "text": [
      "Name: Fastest Settings\n",
      "Datasets: {'train_dataset': <class 'driverlessai._datasets.Dataset'> 2f0ff244-9aea-11ea-bf49-0242ac110002 telco_churn_train, 'validation_dataset': None, 'test_dataset': <class 'driverlessai._datasets.Dataset'> 2f12b826-9aea-11ea-bf49-0242ac110002 telco_churn_test}\n",
      "Target: Churn?\n",
      "Scorer: F1\n",
      "Task: classification\n",
      "Status: Running 0.00% - Running Experiment...\n",
      "Web Page: "
     ]
    },
    {
     "data": {
      "text/html": [
       "<pre><a href='http://localhost:12345/#experiment?key=37d94664-9aea-11ea-bf49-0242ac110002' rel='noopener noreferrer' target='_blank'>http://localhost:12345/#experiment?key=37d94664-9aea-11ea-bf49-0242ac110002</a></pre>"
      ],
      "text/plain": [
       "'http://localhost:12345/#experiment?key=37d94664-9aea-11ea-bf49-0242ac110002'"
      ]
     },
     "execution_count": 36,
     "metadata": {},
     "output_type": "execute_result"
    },
    {
     "name": "stdout",
     "output_type": "stream",
     "text": [
      "time: 23.2 ms\n"
     ]
    }
   ],
   "source": [
    "print(\"Name:\", default_baseline.name)\n",
    "print(\"Datasets:\", default_baseline.datasets)\n",
    "print(\"Target:\", default_baseline.settings['target_column']) # beta users from before March 15th use target_col\n",
    "print(\"Scorer:\", default_baseline.metrics()['scorer'])\n",
    "print(\"Task:\", default_baseline.settings['task'])\n",
    "print(\"Status:\", default_baseline.status(verbose=2))\n",
    "print(\"Web Page: \", end='')\n",
    "default_baseline.gui()"
   ]
  },
  {
   "cell_type": "markdown",
   "metadata": {},
   "source": [
    "### Monitor and Finish the Model Early\n",
    "Example of how you may want to monitor a running experiment, this will print the currently logs and accuracy metrics. You can also finish a model early if it reaches a certain accuracy metric or run time."
   ]
  },
  {
   "cell_type": "code",
   "execution_count": 37,
   "metadata": {},
   "outputs": [
    {
     "name": "stdout",
     "output_type": "stream",
     "text": [
      "Complete 100.00% - Status: Complete - Validation F1: 0.8424 +/- 0.0147\n",
      "\n",
      "2020-05-20 22:37:14,696 C:  D:110.8GB M:6.5GB 65351 INFO   : Archiving experiment summary to ./tmp/h2oai_experiment_37d94664-9aea-11ea-bf49-0242ac110002/h2oai_experiment_summary_37d94664-9aea-11ea-bf49-0242ac110002.zip\n",
      "2020-05-20 22:37:15,203 C:  D:110.8GB M:6.5GB 65351 INFO   : Archiving logs to ./tmp/h2oai_experiment_37d94664-9aea-11ea-bf49-0242ac110002/h2oai_experiment_logs_37d94664-9aea-11ea-bf49-0242ac110002.zip\n",
      "2020-05-20 22:37:15,347 C:  D:110.8GB M:6.5GB 65351 INFO   : Deleting temporary files\n",
      "\n",
      "Test F1: 0.8068\n",
      "time: 1min 43s\n"
     ]
    }
   ],
   "source": [
    "# Monitor the experiment and stop at a nice model\n",
    "import time\n",
    "from IPython.display import clear_output\n",
    "\n",
    "while default_baseline.is_running():\n",
    "    time.sleep(1)\n",
    "    \n",
    "    # grab experiment status\n",
    "    status = default_baseline.status(verbose=2)\n",
    "    \n",
    "    # grab current metrics\n",
    "    metrics = default_baseline.metrics()   \n",
    "    \n",
    "    # pretty print info\n",
    "    clear_output(wait=True)\n",
    "    print(status, \" - Validation \", metrics['scorer'], \": \", sep='', end='')\n",
    "    \n",
    "    if metrics['val_score'] is not None:\n",
    "        print(round(metrics['val_score'], 4), '+/-', round(metrics['val_score_sd'], 4))\n",
    "        if metrics['val_score'] > 0.9:\n",
    "            default_baseline.finish()\n",
    "    else:\n",
    "        print()\n",
    "    \n",
    "    print()\n",
    "    default_baseline.log.tail(3)\n",
    "    time.sleep(1)\n",
    "    \n",
    "print(\"\\nTest \", default_baseline.metrics()['scorer'], \": \", \n",
    "      round(default_baseline.metrics()['test_score'], 4), sep='')"
   ]
  },
  {
   "cell_type": "markdown",
   "metadata": {},
   "source": [
    "### View the Experiment Summary"
   ]
  },
  {
   "cell_type": "code",
   "execution_count": 38,
   "metadata": {},
   "outputs": [
    {
     "name": "stdout",
     "output_type": "stream",
     "text": [
      "Status: Complete\n",
      "Experiment: Fastest Settings (37d94664-9aea-11ea-bf49-0242ac110002)\n",
      "  Version: 1.8.6, 2020-05-20 22:37\n",
      "  Settings: 1/1/6, seed=798080144, GPUs disabled\n",
      "  Train data: telco_churn_train (2666, 21)\n",
      "  Validation data: N/A\n",
      "  Test data: telco_churn_test (667, 20)\n",
      "  Target column: Churn? (binary, 14.479% target class)\n",
      "System specs: Docker/Darwin, 10 GB, 6 CPU cores, 0/0 GPU\n",
      "  Max memory usage: 0.615 GB, 0 GB GPU\n",
      "Recipe: AutoDL (5 iterations, 2 individuals)\n",
      "  Validation scheme: stratified, 1 internal holdout\n",
      "  Feature engineering: 23 features scored (19 selected)\n",
      "Timing:\n",
      "  Data preparation: 10.13 secs\n",
      "  Shift/Leakage detection: 0.03 secs\n",
      "  Model and feature tuning: 27.32 secs (6 models trained)\n",
      "  Feature evolution: 1.64 secs (0 of 3 model trained)\n",
      "  Final pipeline training: 52.94 secs (9 models trained)\n",
      "  Python / MOJO scorer building: 0.01 secs / 2.75 secs\n",
      "Validation score: F1 = 0.2529489 (constant preds of 0.1448)\n",
      "Validation score: F1 = 0.8508287 +/- 0.02840067 (baseline)\n",
      "Validation score: F1 = 0.8423989 +/- 0.01474228 (final pipeline)\n",
      "Test score:       F1 = 0.8068182 +/- 0.02800807 (final pipeline)\n",
      "Variable Importance:\n",
      "  1.00 | 4_Day Charge | Day Charge (Orig)\n",
      "  0.53 | 2_CustServ Calls | CustServ Calls (Orig)\n",
      "  0.43 | 16_CVTE:Int'l Plan.0 | Out-of-fold mean of the response grouped by: [\"Int'l Plan\"] using 5 folds\n",
      "  0.38 | 7_Eve Charge | Eve Charge (Orig)\n",
      "  0.23 | 10_Intl Charge | Intl Charge (Orig)\n",
      "  0.22 | 15_VMail Message | VMail Message (Orig)\n",
      "  0.20 | 9_Intl Calls | Intl Calls (Orig)\n",
      "  0.15 | 5_Day Mins | Day Mins (Orig)\n",
      "  0.11 | 13_Night Charge | Night Charge (Orig)\n",
      "  0.08 | 17_CVTE:State.0 | Out-of-fold mean of the response grouped by: ['State'] using 5 folds\n",
      "  0.08 | 0_Account Length | Account Length (Orig)\n",
      "  0.08 | 18_CVTE:VMail Plan.0 | Out-of-fold mean of the response grouped by: ['VMail Plan'] using 5 folds\n",
      "  0.07 | 8_Eve Mins | Eve Mins (Orig)\n",
      "  0.07 | 3_Day Calls | Day Calls (Orig)\n",
      "  0.07 | 12_Night Calls | Night Calls (Orig)\n",
      "time: 64.6 ms\n"
     ]
    }
   ],
   "source": [
    "default_baseline.summary()"
   ]
  },
  {
   "cell_type": "markdown",
   "metadata": {},
   "source": [
    "### Interact with Model Artifacts\n",
    "* See which are available\n",
    "* Create the AutoReport\n",
    "* Download the AutoReport\n",
    "* Open the AutoReport"
   ]
  },
  {
   "cell_type": "code",
   "execution_count": 39,
   "metadata": {},
   "outputs": [
    {
     "name": "stdout",
     "output_type": "stream",
     "text": [
      "Available artifacts: ['logs', 'summary', 'test_predictions', 'train_predictions']\n",
      "time: 29.4 ms\n"
     ]
    }
   ],
   "source": [
    "print(\"Available artifacts:\", default_baseline.artifacts.list())"
   ]
  },
  {
   "cell_type": "code",
   "execution_count": 40,
   "metadata": {},
   "outputs": [
    {
     "name": "stdout",
     "output_type": "stream",
     "text": [
      "Generating autoreport...\n",
      "time: 45.7 s\n"
     ]
    }
   ],
   "source": [
    "default_baseline.artifacts.create('autoreport')"
   ]
  },
  {
   "cell_type": "code",
   "execution_count": 41,
   "metadata": {},
   "outputs": [
    {
     "name": "stdout",
     "output_type": "stream",
     "text": [
      "Downloaded '/Users/jgranados/Downloads/report.docx'\n",
      "time: 208 ms\n"
     ]
    }
   ],
   "source": [
    "artifacts = default_baseline.artifacts.download(['autoreport'], download_location, overwrite=True)"
   ]
  },
  {
   "cell_type": "code",
   "execution_count": 42,
   "metadata": {},
   "outputs": [
    {
     "name": "stdout",
     "output_type": "stream",
     "text": [
      "time: 1.43 s\n"
     ]
    }
   ],
   "source": [
    "# OSX\n",
    "!open -a \"Microsoft Word\" {artifacts[\"autoreport\"]}\n",
    "\n",
    "# Windows - not tested\n",
    "# !start {artifacts[\"autoreport\"]}"
   ]
  },
  {
   "cell_type": "markdown",
   "metadata": {},
   "source": [
    "### View Final Model Performance"
   ]
  },
  {
   "cell_type": "code",
   "execution_count": 43,
   "metadata": {},
   "outputs": [
    {
     "data": {
      "text/plain": [
       "{'scorer': 'F1',\n",
       " 'val_score': 0.8423988842398884,\n",
       " 'val_score_sd': 0.014742282664534735,\n",
       " 'val_roc_auc': 0.9207140259976367,\n",
       " 'val_pr_auc': 0.8764918911202518,\n",
       " 'test_score': 0.8068181818181818,\n",
       " 'test_score_sd': 0.028008074818484247,\n",
       " 'test_roc_auc': 0.8968710435883523,\n",
       " 'test_pr_auc': 0.8315012057147855}"
      ]
     },
     "execution_count": 43,
     "metadata": {},
     "output_type": "execute_result"
    },
    {
     "name": "stdout",
     "output_type": "stream",
     "text": [
      "time: 18.8 ms\n"
     ]
    }
   ],
   "source": [
    "default_baseline.metrics()"
   ]
  },
  {
   "cell_type": "code",
   "execution_count": 44,
   "metadata": {},
   "outputs": [
    {
     "name": "stdout",
     "output_type": "stream",
     "text": [
      "Validation F1 :\t 0.842\n",
      "Test F1 :\t 0.807\n",
      "time: 54.7 ms\n"
     ]
    }
   ],
   "source": [
    "print(\"Validation\", default_baseline.metrics()[\"scorer\"], \":\\t\",round(default_baseline.metrics()['val_score'], 3))\n",
    "print(\"Test\", default_baseline.metrics()[\"scorer\"], \":\\t\",round(default_baseline.metrics()['test_score'], 3))"
   ]
  },
  {
   "cell_type": "markdown",
   "metadata": {},
   "source": [
    "### Download the Test Set Predictions"
   ]
  },
  {
   "cell_type": "code",
   "execution_count": 45,
   "metadata": {
    "scrolled": false
   },
   "outputs": [
    {
     "name": "stdout",
     "output_type": "stream",
     "text": [
      "Downloaded '/Users/jgranados/Downloads/test_preds.csv'\n"
     ]
    },
    {
     "data": {
      "text/html": [
       "<div>\n",
       "<style scoped>\n",
       "    .dataframe tbody tr th:only-of-type {\n",
       "        vertical-align: middle;\n",
       "    }\n",
       "\n",
       "    .dataframe tbody tr th {\n",
       "        vertical-align: top;\n",
       "    }\n",
       "\n",
       "    .dataframe thead th {\n",
       "        text-align: right;\n",
       "    }\n",
       "</style>\n",
       "<table border=\"1\" class=\"dataframe\">\n",
       "  <thead>\n",
       "    <tr style=\"text-align: right;\">\n",
       "      <th></th>\n",
       "      <th>Churn?.False.</th>\n",
       "      <th>Churn?.True.</th>\n",
       "    </tr>\n",
       "  </thead>\n",
       "  <tbody>\n",
       "    <tr>\n",
       "      <th>0</th>\n",
       "      <td>0.959689</td>\n",
       "      <td>0.040311</td>\n",
       "    </tr>\n",
       "    <tr>\n",
       "      <th>1</th>\n",
       "      <td>0.983509</td>\n",
       "      <td>0.016491</td>\n",
       "    </tr>\n",
       "    <tr>\n",
       "      <th>2</th>\n",
       "      <td>0.974934</td>\n",
       "      <td>0.025066</td>\n",
       "    </tr>\n",
       "    <tr>\n",
       "      <th>3</th>\n",
       "      <td>0.967958</td>\n",
       "      <td>0.032042</td>\n",
       "    </tr>\n",
       "    <tr>\n",
       "      <th>4</th>\n",
       "      <td>0.940191</td>\n",
       "      <td>0.059809</td>\n",
       "    </tr>\n",
       "  </tbody>\n",
       "</table>\n",
       "</div>"
      ],
      "text/plain": [
       "   Churn?.False.  Churn?.True.\n",
       "0       0.959689      0.040311\n",
       "1       0.983509      0.016491\n",
       "2       0.974934      0.025066\n",
       "3       0.967958      0.032042\n",
       "4       0.940191      0.059809"
      ]
     },
     "execution_count": 45,
     "metadata": {},
     "output_type": "execute_result"
    },
    {
     "name": "stdout",
     "output_type": "stream",
     "text": [
      "time: 69.9 ms\n"
     ]
    }
   ],
   "source": [
    "# Download predictions from test dataset\n",
    "artifacts = default_baseline.artifacts.download(['test_predictions'], download_location, overwrite=True)\n",
    "local_predictions = pd.read_csv(artifacts['test_predictions'])\n",
    "\n",
    "local_predictions.head()"
   ]
  },
  {
   "cell_type": "markdown",
   "metadata": {},
   "source": [
    "### Plot ROC curve\n",
    "* Download the predictions with the Actual column\n",
    "* Use sklearn to calculate ROC curve\n",
    "* Plot AUC & ROC Curve by a categorical column"
   ]
  },
  {
   "cell_type": "code",
   "execution_count": 46,
   "metadata": {},
   "outputs": [
    {
     "name": "stdout",
     "output_type": "stream",
     "text": [
      "Complete\n",
      "Downloaded '/Users/jgranados/Downloads/37d94664-9aea-11ea-bf49-0242ac110002_preds_c6aa1fbd.csv'\n"
     ]
    },
    {
     "data": {
      "text/html": [
       "<div>\n",
       "<style scoped>\n",
       "    .dataframe tbody tr th:only-of-type {\n",
       "        vertical-align: middle;\n",
       "    }\n",
       "\n",
       "    .dataframe tbody tr th {\n",
       "        vertical-align: top;\n",
       "    }\n",
       "\n",
       "    .dataframe thead th {\n",
       "        text-align: right;\n",
       "    }\n",
       "</style>\n",
       "<table border=\"1\" class=\"dataframe\">\n",
       "  <thead>\n",
       "    <tr style=\"text-align: right;\">\n",
       "      <th></th>\n",
       "      <th>Area Code</th>\n",
       "      <th>Churn?</th>\n",
       "      <th>Churn?.False.</th>\n",
       "      <th>Churn?.True.</th>\n",
       "    </tr>\n",
       "  </thead>\n",
       "  <tbody>\n",
       "    <tr>\n",
       "      <th>0</th>\n",
       "      <td>415</td>\n",
       "      <td>False.</td>\n",
       "      <td>0.959689</td>\n",
       "      <td>0.040311</td>\n",
       "    </tr>\n",
       "    <tr>\n",
       "      <th>1</th>\n",
       "      <td>408</td>\n",
       "      <td>False.</td>\n",
       "      <td>0.983509</td>\n",
       "      <td>0.016491</td>\n",
       "    </tr>\n",
       "    <tr>\n",
       "      <th>2</th>\n",
       "      <td>415</td>\n",
       "      <td>False.</td>\n",
       "      <td>0.974934</td>\n",
       "      <td>0.025066</td>\n",
       "    </tr>\n",
       "    <tr>\n",
       "      <th>3</th>\n",
       "      <td>415</td>\n",
       "      <td>False.</td>\n",
       "      <td>0.967958</td>\n",
       "      <td>0.032042</td>\n",
       "    </tr>\n",
       "    <tr>\n",
       "      <th>4</th>\n",
       "      <td>408</td>\n",
       "      <td>False.</td>\n",
       "      <td>0.940191</td>\n",
       "      <td>0.059809</td>\n",
       "    </tr>\n",
       "  </tbody>\n",
       "</table>\n",
       "</div>"
      ],
      "text/plain": [
       "   Area Code  Churn?  Churn?.False.  Churn?.True.\n",
       "0        415  False.       0.959689      0.040311\n",
       "1        408  False.       0.983509      0.016491\n",
       "2        415  False.       0.974934      0.025066\n",
       "3        415  False.       0.967958      0.032042\n",
       "4        408  False.       0.940191      0.059809"
      ]
     },
     "execution_count": 46,
     "metadata": {},
     "output_type": "execute_result"
    },
    {
     "name": "stdout",
     "output_type": "stream",
     "text": [
      "time: 4.24 s\n"
     ]
    }
   ],
   "source": [
    "preds = default_baseline.predict(telco_churn_split['test_dataset'], \n",
    "                         include_columns=[\"Churn?\", \"Area Code\"])\n",
    "\n",
    "test_predictions = pd.read_csv(preds.download(download_location))\n",
    "\n",
    "test_predictions.head()"
   ]
  },
  {
   "cell_type": "code",
   "execution_count": 47,
   "metadata": {},
   "outputs": [
    {
     "data": {
      "image/png": "[encoded data removed]",
      "text/plain": [
       "<Figure size 432x288 with 1 Axes>"
      ]
     },
     "metadata": {
      "needs_background": "light"
     },
     "output_type": "display_data"
    },
    {
     "name": "stdout",
     "output_type": "stream",
     "text": [
      "time: 1.62 s\n"
     ]
    }
   ],
   "source": [
    "from sklearn.metrics import roc_curve\n",
    "from sklearn.metrics import auc\n",
    "from matplotlib import pyplot\n",
    "%matplotlib inline\n",
    "\n",
    "test_predictions[\"Actual\"] = np.where(test_predictions[\"Churn?\"] == \"True.\", 1, 0)\n",
    "\n",
    "# calculate roc curves\n",
    "ns_fpr, ns_tpr, _ = roc_curve(test_predictions[\"Actual\"], [0 for _ in range(len(test_predictions[\"Churn?\"]))])\n",
    "lr_fpr, lr_tpr, _ = roc_curve(test_predictions[\"Actual\"], test_predictions[\"Churn?.True.\"])\n",
    "\n",
    "# plot the roc curve for the model\n",
    "pyplot.plot(ns_fpr, ns_tpr, linestyle='--', label='No Skill')\n",
    "pyplot.plot(lr_fpr, lr_tpr, marker='.', label='Logistic')\n",
    "\n",
    "# axis labels\n",
    "pyplot.xlabel('False Positive Rate')\n",
    "pyplot.ylabel('True Positive Rate')\n",
    "# show the legend\n",
    "pyplot.legend()\n",
    "# show the plot\n",
    "pyplot.show()"
   ]
  },
  {
   "cell_type": "code",
   "execution_count": 48,
   "metadata": {},
   "outputs": [
    {
     "data": {
      "image/png": "[encoded data removed]",
      "text/plain": [
       "<Figure size 432x288 with 1 Axes>"
      ]
     },
     "metadata": {
      "needs_background": "light"
     },
     "output_type": "display_data"
    },
    {
     "data": {
      "image/png": "[encoded data removed]",
      "text/plain": [
       "<Figure size 432x288 with 1 Axes>"
      ]
     },
     "metadata": {
      "needs_background": "light"
     },
     "output_type": "display_data"
    },
    {
     "data": {
      "image/png": "[encoded data removed]",
      "text/plain": [
       "<Figure size 432x288 with 1 Axes>"
      ]
     },
     "metadata": {
      "needs_background": "light"
     },
     "output_type": "display_data"
    },
    {
     "name": "stdout",
     "output_type": "stream",
     "text": [
      "time: 437 ms\n"
     ]
    }
   ],
   "source": [
    "for ac in test_predictions[\"Area Code\"].unique():\n",
    "    grp = test_predictions[test_predictions[\"Area Code\"] == ac]\n",
    "\n",
    "    # calculate roc curves\n",
    "    ns_fpr, ns_tpr, _ = roc_curve(grp[\"Actual\"], [0 for _ in range(len(grp[\"Churn?\"]))])\n",
    "    lr_fpr, lr_tpr, _ = roc_curve(grp[\"Actual\"], grp[\"Churn?.True.\"])\n",
    "\n",
    "    # plot the roc curve for the model\n",
    "    pyplot.plot(ns_fpr, ns_tpr, linestyle='--', label='No Skill')\n",
    "    pyplot.plot(lr_fpr, lr_tpr, marker='.', label='Logistic')\n",
    "\n",
    "    pyplot.title('AUC of Area Code ' + str(ac) + ': ' + str(round(auc(lr_fpr, lr_tpr), 3)))\n",
    "    # axis labels\n",
    "    pyplot.xlabel('False Positive Rate')\n",
    "    pyplot.ylabel('True Positive Rate')\n",
    "    # show the legend\n",
    "    pyplot.legend()\n",
    "    # show the plot\n",
    "    pyplot.show()"
   ]
  },
  {
   "cell_type": "markdown",
   "metadata": {},
   "source": [
    "### Variable Importance"
   ]
  },
  {
   "cell_type": "code",
   "execution_count": 49,
   "metadata": {},
   "outputs": [
    {
     "data": {
      "text/html": [
       "<table>\n",
       "<thead>\n",
       "<tr><th style=\"text-align: right;\">     gain</th><th>interaction         </th><th>description                                                                                     </th></tr>\n",
       "</thead>\n",
       "<tbody>\n",
       "<tr><td style=\"text-align: right;\">1        </td><td>4_Day Charge        </td><td>Day Charge (Orig)                                                                               </td></tr>\n",
       "<tr><td style=\"text-align: right;\">0.534729 </td><td>2_CustServ Calls    </td><td>CustServ Calls (Orig)                                                                           </td></tr>\n",
       "<tr><td style=\"text-align: right;\">0.425334 </td><td>16_CVTE:Int&#x27;l Plan.0</td><td>Out-of-fold mean of the response grouped by: [&quot;Int&#x27;l Plan&quot;] using 5 folds [internal:(10, 3, 10)]</td></tr>\n",
       "<tr><td style=\"text-align: right;\">0.380117 </td><td>7_Eve Charge        </td><td>Eve Charge (Orig)                                                                               </td></tr>\n",
       "<tr><td style=\"text-align: right;\">0.232326 </td><td>10_Intl Charge      </td><td>Intl Charge (Orig)                                                                              </td></tr>\n",
       "<tr><td style=\"text-align: right;\">0.224061 </td><td>15_VMail Message    </td><td>VMail Message (Orig)                                                                            </td></tr>\n",
       "<tr><td style=\"text-align: right;\">0.203645 </td><td>9_Intl Calls        </td><td>Intl Calls (Orig)                                                                               </td></tr>\n",
       "<tr><td style=\"text-align: right;\">0.147963 </td><td>5_Day Mins          </td><td>Day Mins (Orig)                                                                                 </td></tr>\n",
       "<tr><td style=\"text-align: right;\">0.107674 </td><td>13_Night Charge     </td><td>Night Charge (Orig)                                                                             </td></tr>\n",
       "<tr><td style=\"text-align: right;\">0.0813435</td><td>17_CVTE:State.0     </td><td>Out-of-fold mean of the response grouped by: [&#x27;State&#x27;] using 5 folds [internal:(10, 3, 10)]     </td></tr>\n",
       "<tr><td style=\"text-align: right;\">0.0806253</td><td>0_Account Length    </td><td>Account Length (Orig)                                                                           </td></tr>\n",
       "<tr><td style=\"text-align: right;\">0.0773784</td><td>18_CVTE:VMail Plan.0</td><td>Out-of-fold mean of the response grouped by: [&#x27;VMail Plan&#x27;] using 5 folds [internal:(10, 3, 10)]</td></tr>\n",
       "<tr><td style=\"text-align: right;\">0.0742871</td><td>8_Eve Mins          </td><td>Eve Mins (Orig)                                                                                 </td></tr>\n",
       "<tr><td style=\"text-align: right;\">0.0737237</td><td>3_Day Calls         </td><td>Day Calls (Orig)                                                                                </td></tr>\n",
       "<tr><td style=\"text-align: right;\">0.0661037</td><td>12_Night Calls      </td><td>Night Calls (Orig)                                                                              </td></tr>\n",
       "</tbody>\n",
       "</table>"
      ],
      "text/plain": [
       "<driverlessai._utils.Table at 0x119f8a0b8>"
      ]
     },
     "execution_count": 49,
     "metadata": {},
     "output_type": "execute_result"
    },
    {
     "name": "stdout",
     "output_type": "stream",
     "text": [
      "time: 18.9 ms\n"
     ]
    }
   ],
   "source": [
    "default_baseline.variable_importance()"
   ]
  },
  {
   "cell_type": "markdown",
   "metadata": {},
   "source": [
    "### Retrain a Model for Production\n",
    "* Retrain the final model with the full dataset\n",
    "* Print the model metrics\n",
    "* Create and Download the MOJO"
   ]
  },
  {
   "cell_type": "code",
   "execution_count": 50,
   "metadata": {},
   "outputs": [
    {
     "name": "stdout",
     "output_type": "stream",
     "text": [
      "make_mojo_scoring_pipeline | default_value: auto\n",
      "reduce_mojo_size | default_value: False\n",
      "benchmark_mojo_latency | default_value: auto\n",
      "benchmark_mojo_latency_auto_size_limit | default_value: 100\n",
      "mojo_building_timeout | default_value: 1800.0\n",
      "mojo_building_parallelism | default_value: -1\n",
      "tensorflow_nlp_have_gpus_in_production | default_value: False\n",
      "enable_ftrl | default_value: auto\n",
      "enable_rulefit | default_value: auto\n",
      "time: 19.7 ms\n"
     ]
    }
   ],
   "source": [
    "dai.experiments.search_expert_settings(\"mojo\")"
   ]
  },
  {
   "cell_type": "code",
   "execution_count": 51,
   "metadata": {},
   "outputs": [
    {
     "name": "stdout",
     "output_type": "stream",
     "text": [
      "Experiment launched at: http://localhost:12345/#experiment?key=95cb2206-9aea-11ea-bf49-0242ac110002\n",
      "Complete 100.00% - Status: Complete                                         \n",
      "time: 1min 11s\n"
     ]
    }
   ],
   "source": [
    "# Retrain on all data for productionalizing\n",
    "full_model = default_baseline.retrain(final_pipeline_only=True, \n",
    "                                      train_dataset=telco_churn,\n",
    "                                      test_dataset=\"\",\n",
    "                                      make_mojo_scoring_pipeline=\"on\")\n",
    "\n",
    "full_model = dai.experiments.get(full_model.key)"
   ]
  },
  {
   "cell_type": "code",
   "execution_count": 52,
   "metadata": {},
   "outputs": [
    {
     "data": {
      "text/plain": [
       "{'scorer': 'F1',\n",
       " 'val_score': 0.840958605664488,\n",
       " 'val_score_sd': 0.011243197222687941,\n",
       " 'val_roc_auc': 0.9193265773128473,\n",
       " 'val_pr_auc': 0.8691229353512981,\n",
       " 'test_score': None,\n",
       " 'test_score_sd': None,\n",
       " 'test_roc_auc': None,\n",
       " 'test_pr_auc': None}"
      ]
     },
     "execution_count": 52,
     "metadata": {},
     "output_type": "execute_result"
    },
    {
     "name": "stdout",
     "output_type": "stream",
     "text": [
      "time: 13.3 ms\n"
     ]
    }
   ],
   "source": [
    "full_model.metrics()"
   ]
  },
  {
   "cell_type": "code",
   "execution_count": 53,
   "metadata": {},
   "outputs": [
    {
     "name": "stdout",
     "output_type": "stream",
     "text": [
      "Downloaded '/Users/jgranados/Downloads/mojo.zip'\n",
      "time: 739 ms\n"
     ]
    }
   ],
   "source": [
    "artifacts = full_model.artifacts.download(\"mojo_pipeline\", download_location, overwrite=True)"
   ]
  },
  {
   "cell_type": "markdown",
   "metadata": {},
   "source": [
    "### View the Pipeline"
   ]
  },
  {
   "cell_type": "code",
   "execution_count": 54,
   "metadata": {},
   "outputs": [
    {
     "name": "stdout",
     "output_type": "stream",
     "text": [
      "Archive:  /Users/jgranados/Downloads/mojo.zip\n",
      "   creating: /Users/jgranados/Downloads/mojo-pipeline/\n",
      "  inflating: /Users/jgranados/Downloads/mojo-pipeline/run_example.sh  \n",
      "  inflating: /Users/jgranados/Downloads/mojo-pipeline/mojo2-runtime.jar  \n",
      "  inflating: /Users/jgranados/Downloads/mojo-pipeline/example.csv  \n",
      "  inflating: /Users/jgranados/Downloads/mojo-pipeline/mojo2-runtime-javadoc.jar  \n",
      "  inflating: /Users/jgranados/Downloads/mojo-pipeline/example.jay  \n",
      "  inflating: /Users/jgranados/Downloads/mojo-pipeline/run_example.bat  \n",
      "  inflating: /Users/jgranados/Downloads/mojo-pipeline/pipeline.png  \n",
      "  inflating: /Users/jgranados/Downloads/mojo-pipeline/pipeline.mojo  \n",
      "  inflating: /Users/jgranados/Downloads/mojo-pipeline/README.txt  \n",
      "  inflating: /Users/jgranados/Downloads/mojo-pipeline/pipeline.dot  \n",
      "time: 262 ms\n"
     ]
    }
   ],
   "source": [
    "# this is for a mac with unzip installed\n",
    "!unzip {artifacts[\"mojo_pipeline\"]} -d {download_location}"
   ]
  },
  {
   "cell_type": "code",
   "execution_count": 55,
   "metadata": {},
   "outputs": [
    {
     "data": {
      "image/png": "[encoded data removed]",
      "text/plain": [
       "<IPython.core.display.Image object>"
      ]
     },
     "execution_count": 55,
     "metadata": {},
     "output_type": "execute_result"
    },
    {
     "name": "stdout",
     "output_type": "stream",
     "text": [
      "time: 9.51 ms\n"
     ]
    }
   ],
   "source": [
    "from IPython.display import Image\n",
    "Image(filename=download_location + 'mojo-pipeline/pipeline.png') "
   ]
  },
  {
   "cell_type": "markdown",
   "metadata": {},
   "source": [
    "## Launching Machine Learning Interpretability\n",
    "MLI is not currently available in the Beta Client but we can use the backend Python Client for this which comes with the beta client "
   ]
  },
  {
   "cell_type": "code",
   "execution_count": 56,
   "metadata": {},
   "outputs": [
    {
     "name": "stdout",
     "output_type": "stream",
     "text": [
      "time: 3min 39s\n"
     ]
    }
   ],
   "source": [
    "mli = dai._backend.run_interpretation_sync(dai_model_key=full_model.key, \n",
    "                                           dataset_key=telco_churn.key, \n",
    "                                           nfolds=3,\n",
    "                                           target_col=\"Churn?\")"
   ]
  },
  {
   "cell_type": "code",
   "execution_count": 57,
   "metadata": {},
   "outputs": [
    {
     "data": {
      "text/html": [
       "<pre><a href='http://localhost:12345/#experiment?key=95cb2206-9aea-11ea-bf49-0242ac110002' rel='noopener noreferrer' target='_blank'>http://localhost:12345/#experiment?key=95cb2206-9aea-11ea-bf49-0242ac110002</a></pre>"
      ],
      "text/plain": [
       "'http://localhost:12345/#experiment?key=95cb2206-9aea-11ea-bf49-0242ac110002'"
      ]
     },
     "execution_count": 57,
     "metadata": {},
     "output_type": "execute_result"
    },
    {
     "name": "stdout",
     "output_type": "stream",
     "text": [
      "time: 3.69 ms\n"
     ]
    }
   ],
   "source": [
    "# go to experiment, click \"interpret this model\" to go to completed mli\n",
    "full_model.gui()"
   ]
  }
 ],
 "metadata": {
  "kernelspec": {
   "display_name": "Python 3",
   "language": "python",
   "name": "python3"
  },
  "language_info": {
   "codemirror_mode": {
    "name": "ipython",
    "version": 3
   },
   "file_extension": ".py",
   "mimetype": "text/x-python",
   "name": "python",
   "nbconvert_exporter": "python",
   "pygments_lexer": "ipython3",
   "version": "3.6.10"
  },
  "toc": {
   "base_numbering": 1,
   "nav_menu": {},
   "number_sections": true,
   "sideBar": true,
   "skip_h1_title": true,
   "title_cell": "Table of Contents",
   "title_sidebar": "Contents",
   "toc_cell": true,
   "toc_position": {
    "height": "681px",
    "left": "37px",
    "top": "629px",
    "width": "336px"
   },
   "toc_section_display": true,
   "toc_window_display": true
  }
 },
 "nbformat": 4,
 "nbformat_minor": 2
}
