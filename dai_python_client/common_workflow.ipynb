{
 "cells": [
  {
   "cell_type": "markdown",
   "metadata": {},
   "source": [
    "# Beta Python Client for Driverless AI 1.8.4.1\n",
    "\n",
    "_This python client for Driverless AI will allow users to interact more intuitively with the product and will also allow scripts to run successfully after upgrades. In the beta process some API calls or functionality may change. We appreciate any feedback._\n",
    "\n",
    "**Note:** Use `Shift+Tab` to see the signature and doc string of any function while in Jupyter <br/>\n",
    "**Note:** Some items, like MLI, are still being developed. These will be at the end of the notebook in the old python client\n"
   ]
  },
  {
   "cell_type": "markdown",
   "metadata": {
    "toc": true
   },
   "source": [
    "<h1>Table of Contents<span class=\"tocSkip\"></span></h1>\n",
    "<div class=\"toc\"><ul class=\"toc-item\"><li><span><a href=\"#Connect-to-Driverless-AI\" data-toc-modified-id=\"Connect-to-Driverless-AI-1\"><span class=\"toc-item-num\">1&nbsp;&nbsp;</span>Connect to Driverless AI</a></span></li><li><span><a href=\"#Documentation\" data-toc-modified-id=\"Documentation-2\"><span class=\"toc-item-num\">2&nbsp;&nbsp;</span>Documentation</a></span></li><li><span><a href=\"#Data\" data-toc-modified-id=\"Data-3\"><span class=\"toc-item-num\">3&nbsp;&nbsp;</span>Data</a></span><ul class=\"toc-item\"><li><span><a href=\"#List-Available-Connectors\" data-toc-modified-id=\"List-Available-Connectors-3.1\"><span class=\"toc-item-num\">3.1&nbsp;&nbsp;</span>List Available Connectors</a></span></li><li><span><a href=\"#List-Existing-Datasets\" data-toc-modified-id=\"List-Existing-Datasets-3.2\"><span class=\"toc-item-num\">3.2&nbsp;&nbsp;</span>List Existing Datasets</a></span></li><li><span><a href=\"#Upload-and-Download-Data\" data-toc-modified-id=\"Upload-and-Download-Data-3.3\"><span class=\"toc-item-num\">3.3&nbsp;&nbsp;</span>Upload and Download Data</a></span></li><li><span><a href=\"#Explore-a-Dataset\" data-toc-modified-id=\"Explore-a-Dataset-3.4\"><span class=\"toc-item-num\">3.4&nbsp;&nbsp;</span>Explore a Dataset</a></span></li><li><span><a href=\"#Explore-the-Columns\" data-toc-modified-id=\"Explore-the-Columns-3.5\"><span class=\"toc-item-num\">3.5&nbsp;&nbsp;</span>Explore the Columns</a></span></li><li><span><a href=\"#Split-a-Dataset\" data-toc-modified-id=\"Split-a-Dataset-3.6\"><span class=\"toc-item-num\">3.6&nbsp;&nbsp;</span>Split a Dataset</a></span></li></ul></li><li><span><a href=\"#Recipes\" data-toc-modified-id=\"Recipes-4\"><span class=\"toc-item-num\">4&nbsp;&nbsp;</span>Recipes</a></span></li><li><span><a href=\"#Modeling\" data-toc-modified-id=\"Modeling-5\"><span class=\"toc-item-num\">5&nbsp;&nbsp;</span>Modeling</a></span><ul class=\"toc-item\"><li><span><a href=\"#List-Existing-Experiments\" data-toc-modified-id=\"List-Existing-Experiments-5.1\"><span class=\"toc-item-num\">5.1&nbsp;&nbsp;</span>List Existing Experiments</a></span></li><li><span><a href=\"#Dictionary-for-a-Use-Case\" data-toc-modified-id=\"Dictionary-for-a-Use-Case-5.2\"><span class=\"toc-item-num\">5.2&nbsp;&nbsp;</span>Dictionary for a Use Case</a></span></li><li><span><a href=\"#Dictionary-for-Fast-Experiments\" data-toc-modified-id=\"Dictionary-for-Fast-Experiments-5.3\"><span class=\"toc-item-num\">5.3&nbsp;&nbsp;</span>Dictionary for Fast Experiments</a></span></li><li><span><a href=\"#Search-for-Settings\" data-toc-modified-id=\"Search-for-Settings-5.4\"><span class=\"toc-item-num\">5.4&nbsp;&nbsp;</span>Search for Settings</a></span></li><li><span><a href=\"#Get-Reccomended-Dial-Settings\" data-toc-modified-id=\"Get-Reccomended-Dial-Settings-5.5\"><span class=\"toc-item-num\">5.5&nbsp;&nbsp;</span>Get Reccomended Dial Settings</a></span></li><li><span><a href=\"#Preview-Using-Our-Custom-Recipe\" data-toc-modified-id=\"Preview-Using-Our-Custom-Recipe-5.6\"><span class=\"toc-item-num\">5.6&nbsp;&nbsp;</span>Preview Using Our Custom Recipe</a></span></li><li><span><a href=\"#Launch-an-Experiment\" data-toc-modified-id=\"Launch-an-Experiment-5.7\"><span class=\"toc-item-num\">5.7&nbsp;&nbsp;</span>Launch an Experiment</a></span></li><li><span><a href=\"#Information-on-an-Experiment\" data-toc-modified-id=\"Information-on-an-Experiment-5.8\"><span class=\"toc-item-num\">5.8&nbsp;&nbsp;</span>Information on an Experiment</a></span></li><li><span><a href=\"#Monitor-and-Finish-the-Model-Early\" data-toc-modified-id=\"Monitor-and-Finish-the-Model-Early-5.9\"><span class=\"toc-item-num\">5.9&nbsp;&nbsp;</span>Monitor and Finish the Model Early</a></span></li><li><span><a href=\"#View-the-Experiment-Summary\" data-toc-modified-id=\"View-the-Experiment-Summary-5.10\"><span class=\"toc-item-num\">5.10&nbsp;&nbsp;</span>View the Experiment Summary</a></span></li><li><span><a href=\"#Interact-with-Model-Artifacts\" data-toc-modified-id=\"Interact-with-Model-Artifacts-5.11\"><span class=\"toc-item-num\">5.11&nbsp;&nbsp;</span>Interact with Model Artifacts</a></span></li><li><span><a href=\"#View-Final-Model-Performance\" data-toc-modified-id=\"View-Final-Model-Performance-5.12\"><span class=\"toc-item-num\">5.12&nbsp;&nbsp;</span>View Final Model Performance</a></span></li><li><span><a href=\"#Download-the-Test-Set-Predictions\" data-toc-modified-id=\"Download-the-Test-Set-Predictions-5.13\"><span class=\"toc-item-num\">5.13&nbsp;&nbsp;</span>Download the Test Set Predictions</a></span></li><li><span><a href=\"#Plot-ROC-curve\" data-toc-modified-id=\"Plot-ROC-curve-5.14\"><span class=\"toc-item-num\">5.14&nbsp;&nbsp;</span>Plot ROC curve</a></span></li><li><span><a href=\"#Retrain-a-Model-for-Production\" data-toc-modified-id=\"Retrain-a-Model-for-Production-5.15\"><span class=\"toc-item-num\">5.15&nbsp;&nbsp;</span>Retrain a Model for Production</a></span></li><li><span><a href=\"#View-the-Pipeline\" data-toc-modified-id=\"View-the-Pipeline-5.16\"><span class=\"toc-item-num\">5.16&nbsp;&nbsp;</span>View the Pipeline</a></span></li></ul></li><li><span><a href=\"#Launching-Machine-Learning-Interpretability\" data-toc-modified-id=\"Launching-Machine-Learning-Interpretability-6\"><span class=\"toc-item-num\">6&nbsp;&nbsp;</span>Launching Machine Learning Interpretability</a></span></li><li><span><a href=\"#Disconnect\" data-toc-modified-id=\"Disconnect-7\"><span class=\"toc-item-num\">7&nbsp;&nbsp;</span>Disconnect</a></span></li></ul></div>"
   ]
  },
  {
   "cell_type": "code",
   "execution_count": 1,
   "metadata": {},
   "outputs": [],
   "source": [
    "download_location = '/Users/mtanco/Downloads/'"
   ]
  },
  {
   "cell_type": "code",
   "execution_count": 2,
   "metadata": {},
   "outputs": [],
   "source": [
    "import pandas as pd # local data manipulation\n",
    "import numpy as np\n",
    "import getpass # securely login\n",
    "from driverlessai import Client # connect to DAI\n",
    "\n",
    "# time each cell\n",
    "%load_ext autotime"
   ]
  },
  {
   "cell_type": "markdown",
   "metadata": {},
   "source": [
    "## Connect to Driverless AI\n",
    "We'll create a connection object called `dai` that we will use to interact with the platform. Throughout the client you can use the `.gui()` function to get a link which will take you to the user interface of that specific page.<br/><br/>\n",
    "**Note:** Currently when you go to any DAI link before logging in it will re-direct you to the home page - so I reccomend logging in the UI now as you have the password copied - use the link below\n"
   ]
  },
  {
   "cell_type": "code",
   "execution_count": 3,
   "metadata": {},
   "outputs": [
    {
     "name": "stdout",
     "output_type": "stream",
     "text": [
      "Enter your Driverless AI password: ········\n",
      "http://54.172.110.253:12345\n",
      "time: 4.39 s\n"
     ]
    }
   ],
   "source": [
    "dai = Client()\n",
    "dai.connect(address=\"http://54.172.110.253:12345\", username=\"h2oai\", \n",
    "            password=getpass.getpass(\"Enter your Driverless AI password: \"))\n",
    "dai.gui()"
   ]
  },
  {
   "cell_type": "code",
   "execution_count": 4,
   "metadata": {},
   "outputs": [
    {
     "data": {
      "text/plain": [
       "'1.8.4.1'"
      ]
     },
     "execution_count": 4,
     "metadata": {},
     "output_type": "execute_result"
    },
    {
     "name": "stdout",
     "output_type": "stream",
     "text": [
      "time: 9.89 ms\n"
     ]
    }
   ],
   "source": [
    "dai.server_version"
   ]
  },
  {
   "cell_type": "markdown",
   "metadata": {},
   "source": [
    "## Documentation\n",
    "You can get links to the home page and search the documentation from the pythnon client any time you want to know more about a specific DAI functionality"
   ]
  },
  {
   "cell_type": "code",
   "execution_count": 5,
   "metadata": {},
   "outputs": [
    {
     "name": "stdout",
     "output_type": "stream",
     "text": [
      "http://54.172.110.253:12345/docs/userguide/search.html?q=autoviz\n",
      "time: 842 µs\n"
     ]
    }
   ],
   "source": [
    "dai.docs(\"autoviz\")"
   ]
  },
  {
   "cell_type": "markdown",
   "metadata": {},
   "source": [
    "## Data\n",
    "Various methods for loading, interacting with, and modifiying data wihthin Driverless AI."
   ]
  },
  {
   "cell_type": "markdown",
   "metadata": {},
   "source": [
    "### List Available Connectors\n",
    "View all ways you are allowed to add data to DAI on this instace - to enable more connectors update the `config.toml` file <br/><br/>\n",
    "**Note:** Interactions with Data Recipes is not available so these connectors are not currently shown"
   ]
  },
  {
   "cell_type": "code",
   "execution_count": 6,
   "metadata": {},
   "outputs": [
    {
     "data": {
      "text/plain": [
       "['upload', 'file', 'hdfs', 's3', 'jdbc']"
      ]
     },
     "execution_count": 6,
     "metadata": {},
     "output_type": "execute_result"
    },
    {
     "name": "stdout",
     "output_type": "stream",
     "text": [
      "time: 115 ms\n"
     ]
    }
   ],
   "source": [
    "dai.connectors.list()"
   ]
  },
  {
   "cell_type": "markdown",
   "metadata": {},
   "source": [
    "### List Existing Datasets"
   ]
  },
  {
   "cell_type": "code",
   "execution_count": 7,
   "metadata": {},
   "outputs": [
    {
     "name": "stdout",
     "output_type": "stream",
     "text": [
      "http://54.172.110.253:12345/#datasets\n",
      "\n",
      "[<class 'driverlessai.datasets.Dataset'> churn.csv_test (7cb8a142-5fcd-11ea-900c-129353b3dc81), <class 'driverlessai.datasets.Dataset'> churn.csv_train (7cb70a6c-5fcd-11ea-900c-129353b3dc81), <class 'driverlessai.datasets.Dataset'> churn.csv (1e26dd1a-5fcd-11ea-900c-129353b3dc81)]\n",
      "\n",
      "<class 'driverlessai.datasets.Dataset'> 7cb8a142-5fcd-11ea-900c-129353b3dc81 churn.csv_test\n",
      "<class 'driverlessai.datasets.Dataset'> 7cb70a6c-5fcd-11ea-900c-129353b3dc81 churn.csv_train\n",
      "<class 'driverlessai.datasets.Dataset'> 1e26dd1a-5fcd-11ea-900c-129353b3dc81 churn.csv\n",
      "time: 1.49 s\n"
     ]
    }
   ],
   "source": [
    "# Get a link to view all datasets in the UI\n",
    "dai.datasets.gui()\n",
    "\n",
    "print()\n",
    "\n",
    "# List all datasets    \n",
    "print(dai.datasets.list(start_index=0, count=4))\n",
    "\n",
    "print()\n",
    "\n",
    "# Print dataset names and keys nicely\n",
    "for d in dai.datasets.list(start_index=0, count=4):\n",
    "    print(type(d), d.key, d.name)"
   ]
  },
  {
   "cell_type": "markdown",
   "metadata": {},
   "source": [
    "### Upload and Download Data\n",
    "You can upload data using any method that is enabled on your system. Here we will show:\n",
    "* Adding data from s3\n",
    "* Downloading a dataset\n",
    "* Upload data from your local machine\n",
    "* Rename a dataset\n",
    "* How to upload using the JDBC connector"
   ]
  },
  {
   "cell_type": "code",
   "execution_count": 8,
   "metadata": {},
   "outputs": [
    {
     "name": "stdout",
     "output_type": "stream",
     "text": [
      "Complete 100% - [4/4] Computing column statisticstime: 3.46 s\n"
     ]
    }
   ],
   "source": [
    "telco_churn = dai.datasets.create(data=\"https://h2o-internal-release.s3-us-west-2.amazonaws.com/data/Splunk/churn.csv\", \n",
    "                                  data_source=\"s3\", \n",
    "                                  name=\"Telco_Churn\")"
   ]
  },
  {
   "cell_type": "code",
   "execution_count": 9,
   "metadata": {},
   "outputs": [
    {
     "name": "stdout",
     "output_type": "stream",
     "text": [
      "Downloaded '/Users/mtanco/Downloads/churn.csv.1583515301.2614868.csv'\n",
      "time: 890 ms\n"
     ]
    }
   ],
   "source": [
    "local_file_path = telco_churn.download(download_location, overwrite=True)"
   ]
  },
  {
   "cell_type": "code",
   "execution_count": 10,
   "metadata": {
    "scrolled": true
   },
   "outputs": [
    {
     "name": "stdout",
     "output_type": "stream",
     "text": [
      "Complete 100% - [4/4] Computing column statisticstime: 2.45 s\n"
     ]
    }
   ],
   "source": [
    "telco_churn2 = dai.datasets.create(local_file_path, name=\"Telco_Churn_Duplicate\")"
   ]
  },
  {
   "cell_type": "code",
   "execution_count": 11,
   "metadata": {},
   "outputs": [
    {
     "name": "stdout",
     "output_type": "stream",
     "text": [
      "Telco_Churn_Duplicate\n",
      "Fancy New Name\n",
      "time: 195 ms\n"
     ]
    }
   ],
   "source": [
    "print(telco_churn2.name)\n",
    "\n",
    "telco_churn2.rename(\"Fancy New Name\")\n",
    "\n",
    "print(telco_churn2.name)"
   ]
  },
  {
   "cell_type": "code",
   "execution_count": 12,
   "metadata": {},
   "outputs": [
    {
     "name": "stdout",
     "output_type": "stream",
     "text": [
      "time: 611 µs\n"
     ]
    }
   ],
   "source": [
    "# Upload using the JDBC connector\n",
    "# Note 1: You must have JDBC in the list of available connectors\n",
    "# Note 2: Appropriate JARS must be on the DAI server\n",
    "\n",
    "jdbc_config = {\n",
    "    'jdbc_jar': '/data/postgresql-42.2.9.jar',\n",
    "    'jdbc_driver': 'org.postgresql.Driver',\n",
    "    'jdbc_url': 'jdbc:postgresql://mr-dl2:5432/h2oaidev',\n",
    "    'jdbc_username': 'h2oaitester',\n",
    "    'jdbc_password': 'h2oaitesterreadonly'\n",
    "}\n",
    "\n",
    "# jdbc_ds = dai.datasets.create(   \n",
    "#     data='SELECT * FROM creditcardtrain',\n",
    "#     data_source='jdbc',\n",
    "#     data_source_config=jdbc_config,\n",
    "#     name='beta_jdbc_test'\n",
    "# )"
   ]
  },
  {
   "cell_type": "markdown",
   "metadata": {},
   "source": [
    "### Explore a Dataset\n",
    "* View the column names\n",
    "* View the data shape\n",
    "* View the first and last rows"
   ]
  },
  {
   "cell_type": "code",
   "execution_count": 13,
   "metadata": {},
   "outputs": [
    {
     "name": "stdout",
     "output_type": "stream",
     "text": [
      "f0c4305a-5fce-11ea-900c-129353b3dc81 | Telco_Churn\n",
      "\n",
      "Columns: ['State', 'Account Length', 'Area Code', 'Phone', \"Int'l Plan\", 'VMail Plan', 'VMail Message', 'Day Mins', 'Day Calls', 'Day Charge', 'Eve Mins', 'Eve Calls', 'Eve Charge', 'Night Mins', 'Night Calls', 'Night Charge', 'Intl Mins', 'Intl Calls', 'Intl Charge', 'CustServ Calls', 'Churn?']\n",
      "\n",
      "Shape: (3333, 21)\n",
      "time: 1.38 ms\n"
     ]
    }
   ],
   "source": [
    "print(telco_churn.key, \"|\", telco_churn.name)\n",
    "print(\"\\nColumns:\", telco_churn.columns)\n",
    "print('\\nShape:', telco_churn.shape)"
   ]
  },
  {
   "cell_type": "code",
   "execution_count": 14,
   "metadata": {},
   "outputs": [
    {
     "data": {
      "text/html": [
       "<div>\n",
       "<style scoped>\n",
       "    .dataframe tbody tr th:only-of-type {\n",
       "        vertical-align: middle;\n",
       "    }\n",
       "\n",
       "    .dataframe tbody tr th {\n",
       "        vertical-align: top;\n",
       "    }\n",
       "\n",
       "    .dataframe thead th {\n",
       "        text-align: right;\n",
       "    }\n",
       "</style>\n",
       "<table border=\"1\" class=\"dataframe\">\n",
       "  <thead>\n",
       "    <tr style=\"text-align: right;\">\n",
       "      <th></th>\n",
       "      <th>State</th>\n",
       "      <th>Account Length</th>\n",
       "      <th>Area Code</th>\n",
       "      <th>Phone</th>\n",
       "      <th>Int'l Plan</th>\n",
       "      <th>VMail Plan</th>\n",
       "      <th>VMail Message</th>\n",
       "      <th>Day Mins</th>\n",
       "      <th>Day Calls</th>\n",
       "      <th>Day Charge</th>\n",
       "      <th>...</th>\n",
       "      <th>Eve Calls</th>\n",
       "      <th>Eve Charge</th>\n",
       "      <th>Night Mins</th>\n",
       "      <th>Night Calls</th>\n",
       "      <th>Night Charge</th>\n",
       "      <th>Intl Mins</th>\n",
       "      <th>Intl Calls</th>\n",
       "      <th>Intl Charge</th>\n",
       "      <th>CustServ Calls</th>\n",
       "      <th>Churn?</th>\n",
       "    </tr>\n",
       "  </thead>\n",
       "  <tbody>\n",
       "    <tr>\n",
       "      <th>0</th>\n",
       "      <td>KS</td>\n",
       "      <td>128</td>\n",
       "      <td>415</td>\n",
       "      <td>382-4657</td>\n",
       "      <td>no</td>\n",
       "      <td>yes</td>\n",
       "      <td>25</td>\n",
       "      <td>265.1</td>\n",
       "      <td>110</td>\n",
       "      <td>45.07</td>\n",
       "      <td>...</td>\n",
       "      <td>99</td>\n",
       "      <td>16.78</td>\n",
       "      <td>244.7</td>\n",
       "      <td>91</td>\n",
       "      <td>11.01</td>\n",
       "      <td>10.0</td>\n",
       "      <td>3</td>\n",
       "      <td>2.7</td>\n",
       "      <td>1</td>\n",
       "      <td>False.</td>\n",
       "    </tr>\n",
       "    <tr>\n",
       "      <th>1</th>\n",
       "      <td>OH</td>\n",
       "      <td>107</td>\n",
       "      <td>415</td>\n",
       "      <td>371-7191</td>\n",
       "      <td>no</td>\n",
       "      <td>yes</td>\n",
       "      <td>26</td>\n",
       "      <td>161.6</td>\n",
       "      <td>123</td>\n",
       "      <td>27.47</td>\n",
       "      <td>...</td>\n",
       "      <td>103</td>\n",
       "      <td>16.62</td>\n",
       "      <td>254.4</td>\n",
       "      <td>103</td>\n",
       "      <td>11.45</td>\n",
       "      <td>13.7</td>\n",
       "      <td>3</td>\n",
       "      <td>3.7</td>\n",
       "      <td>1</td>\n",
       "      <td>False.</td>\n",
       "    </tr>\n",
       "    <tr>\n",
       "      <th>2</th>\n",
       "      <td>NJ</td>\n",
       "      <td>137</td>\n",
       "      <td>415</td>\n",
       "      <td>358-1921</td>\n",
       "      <td>no</td>\n",
       "      <td>no</td>\n",
       "      <td>0</td>\n",
       "      <td>243.4</td>\n",
       "      <td>114</td>\n",
       "      <td>41.38</td>\n",
       "      <td>...</td>\n",
       "      <td>110</td>\n",
       "      <td>10.3</td>\n",
       "      <td>162.6</td>\n",
       "      <td>104</td>\n",
       "      <td>7.32</td>\n",
       "      <td>12.2</td>\n",
       "      <td>5</td>\n",
       "      <td>3.29</td>\n",
       "      <td>0</td>\n",
       "      <td>False.</td>\n",
       "    </tr>\n",
       "    <tr>\n",
       "      <th>3</th>\n",
       "      <td>OH</td>\n",
       "      <td>84</td>\n",
       "      <td>408</td>\n",
       "      <td>375-9999</td>\n",
       "      <td>yes</td>\n",
       "      <td>no</td>\n",
       "      <td>0</td>\n",
       "      <td>299.4</td>\n",
       "      <td>71</td>\n",
       "      <td>50.9</td>\n",
       "      <td>...</td>\n",
       "      <td>88</td>\n",
       "      <td>5.26</td>\n",
       "      <td>196.9</td>\n",
       "      <td>89</td>\n",
       "      <td>8.86</td>\n",
       "      <td>6.6</td>\n",
       "      <td>7</td>\n",
       "      <td>1.78</td>\n",
       "      <td>2</td>\n",
       "      <td>False.</td>\n",
       "    </tr>\n",
       "    <tr>\n",
       "      <th>4</th>\n",
       "      <td>OK</td>\n",
       "      <td>75</td>\n",
       "      <td>415</td>\n",
       "      <td>330-6626</td>\n",
       "      <td>yes</td>\n",
       "      <td>no</td>\n",
       "      <td>0</td>\n",
       "      <td>166.7</td>\n",
       "      <td>113</td>\n",
       "      <td>28.34</td>\n",
       "      <td>...</td>\n",
       "      <td>122</td>\n",
       "      <td>12.61</td>\n",
       "      <td>186.9</td>\n",
       "      <td>121</td>\n",
       "      <td>8.41</td>\n",
       "      <td>10.1</td>\n",
       "      <td>3</td>\n",
       "      <td>2.73</td>\n",
       "      <td>3</td>\n",
       "      <td>False.</td>\n",
       "    </tr>\n",
       "  </tbody>\n",
       "</table>\n",
       "<p>5 rows × 21 columns</p>\n",
       "</div>"
      ],
      "text/plain": [
       "  State Account Length Area Code     Phone Int'l Plan VMail Plan  \\\n",
       "0    KS            128       415  382-4657         no        yes   \n",
       "1    OH            107       415  371-7191         no        yes   \n",
       "2    NJ            137       415  358-1921         no         no   \n",
       "3    OH             84       408  375-9999        yes         no   \n",
       "4    OK             75       415  330-6626        yes         no   \n",
       "\n",
       "  VMail Message Day Mins Day Calls Day Charge  ... Eve Calls Eve Charge  \\\n",
       "0            25    265.1       110      45.07  ...        99      16.78   \n",
       "1            26    161.6       123      27.47  ...       103      16.62   \n",
       "2             0    243.4       114      41.38  ...       110       10.3   \n",
       "3             0    299.4        71       50.9  ...        88       5.26   \n",
       "4             0    166.7       113      28.34  ...       122      12.61   \n",
       "\n",
       "  Night Mins Night Calls Night Charge Intl Mins Intl Calls Intl Charge  \\\n",
       "0      244.7          91        11.01      10.0          3         2.7   \n",
       "1      254.4         103        11.45      13.7          3         3.7   \n",
       "2      162.6         104         7.32      12.2          5        3.29   \n",
       "3      196.9          89         8.86       6.6          7        1.78   \n",
       "4      186.9         121         8.41      10.1          3        2.73   \n",
       "\n",
       "  CustServ Calls  Churn?  \n",
       "0              1  False.  \n",
       "1              1  False.  \n",
       "2              0  False.  \n",
       "3              2  False.  \n",
       "4              3  False.  \n",
       "\n",
       "[5 rows x 21 columns]"
      ]
     },
     "execution_count": 14,
     "metadata": {},
     "output_type": "execute_result"
    },
    {
     "name": "stdout",
     "output_type": "stream",
     "text": [
      "time: 148 ms\n"
     ]
    }
   ],
   "source": [
    "hd = np.array(telco_churn.head())\n",
    "pd.DataFrame(hd[1:,:], columns=telco_churn.columns)"
   ]
  },
  {
   "cell_type": "code",
   "execution_count": 15,
   "metadata": {},
   "outputs": [
    {
     "data": {
      "text/html": [
       "<div>\n",
       "<style scoped>\n",
       "    .dataframe tbody tr th:only-of-type {\n",
       "        vertical-align: middle;\n",
       "    }\n",
       "\n",
       "    .dataframe tbody tr th {\n",
       "        vertical-align: top;\n",
       "    }\n",
       "\n",
       "    .dataframe thead th {\n",
       "        text-align: right;\n",
       "    }\n",
       "</style>\n",
       "<table border=\"1\" class=\"dataframe\">\n",
       "  <thead>\n",
       "    <tr style=\"text-align: right;\">\n",
       "      <th></th>\n",
       "      <th>State</th>\n",
       "      <th>Account Length</th>\n",
       "      <th>Area Code</th>\n",
       "      <th>Phone</th>\n",
       "      <th>Int'l Plan</th>\n",
       "      <th>VMail Plan</th>\n",
       "      <th>VMail Message</th>\n",
       "      <th>Day Mins</th>\n",
       "      <th>Day Calls</th>\n",
       "      <th>Day Charge</th>\n",
       "      <th>...</th>\n",
       "      <th>Eve Calls</th>\n",
       "      <th>Eve Charge</th>\n",
       "      <th>Night Mins</th>\n",
       "      <th>Night Calls</th>\n",
       "      <th>Night Charge</th>\n",
       "      <th>Intl Mins</th>\n",
       "      <th>Intl Calls</th>\n",
       "      <th>Intl Charge</th>\n",
       "      <th>CustServ Calls</th>\n",
       "      <th>Churn?</th>\n",
       "    </tr>\n",
       "  </thead>\n",
       "  <tbody>\n",
       "    <tr>\n",
       "      <th>0</th>\n",
       "      <td>AZ</td>\n",
       "      <td>192</td>\n",
       "      <td>415</td>\n",
       "      <td>414-4276</td>\n",
       "      <td>no</td>\n",
       "      <td>yes</td>\n",
       "      <td>36</td>\n",
       "      <td>156.2</td>\n",
       "      <td>77</td>\n",
       "      <td>26.55</td>\n",
       "      <td>...</td>\n",
       "      <td>126</td>\n",
       "      <td>18.32</td>\n",
       "      <td>279.1</td>\n",
       "      <td>83</td>\n",
       "      <td>12.56</td>\n",
       "      <td>9.9</td>\n",
       "      <td>6</td>\n",
       "      <td>2.67</td>\n",
       "      <td>2</td>\n",
       "      <td>False.</td>\n",
       "    </tr>\n",
       "    <tr>\n",
       "      <th>1</th>\n",
       "      <td>WV</td>\n",
       "      <td>68</td>\n",
       "      <td>415</td>\n",
       "      <td>370-3271</td>\n",
       "      <td>no</td>\n",
       "      <td>no</td>\n",
       "      <td>0</td>\n",
       "      <td>231.1</td>\n",
       "      <td>57</td>\n",
       "      <td>39.29</td>\n",
       "      <td>...</td>\n",
       "      <td>55</td>\n",
       "      <td>13.04</td>\n",
       "      <td>191.3</td>\n",
       "      <td>123</td>\n",
       "      <td>8.61</td>\n",
       "      <td>9.6</td>\n",
       "      <td>4</td>\n",
       "      <td>2.59</td>\n",
       "      <td>3</td>\n",
       "      <td>False.</td>\n",
       "    </tr>\n",
       "    <tr>\n",
       "      <th>2</th>\n",
       "      <td>RI</td>\n",
       "      <td>28</td>\n",
       "      <td>510</td>\n",
       "      <td>328-8230</td>\n",
       "      <td>no</td>\n",
       "      <td>no</td>\n",
       "      <td>0</td>\n",
       "      <td>180.8</td>\n",
       "      <td>109</td>\n",
       "      <td>30.74</td>\n",
       "      <td>...</td>\n",
       "      <td>58</td>\n",
       "      <td>24.55</td>\n",
       "      <td>191.9</td>\n",
       "      <td>91</td>\n",
       "      <td>8.64</td>\n",
       "      <td>14.1</td>\n",
       "      <td>6</td>\n",
       "      <td>3.81</td>\n",
       "      <td>2</td>\n",
       "      <td>False.</td>\n",
       "    </tr>\n",
       "    <tr>\n",
       "      <th>3</th>\n",
       "      <td>CT</td>\n",
       "      <td>184</td>\n",
       "      <td>510</td>\n",
       "      <td>364-6381</td>\n",
       "      <td>yes</td>\n",
       "      <td>no</td>\n",
       "      <td>0</td>\n",
       "      <td>213.8</td>\n",
       "      <td>105</td>\n",
       "      <td>36.35</td>\n",
       "      <td>...</td>\n",
       "      <td>84</td>\n",
       "      <td>13.57</td>\n",
       "      <td>139.2</td>\n",
       "      <td>137</td>\n",
       "      <td>6.26</td>\n",
       "      <td>5.0</td>\n",
       "      <td>10</td>\n",
       "      <td>1.35</td>\n",
       "      <td>2</td>\n",
       "      <td>False.</td>\n",
       "    </tr>\n",
       "    <tr>\n",
       "      <th>4</th>\n",
       "      <td>TN</td>\n",
       "      <td>74</td>\n",
       "      <td>415</td>\n",
       "      <td>400-4344</td>\n",
       "      <td>no</td>\n",
       "      <td>yes</td>\n",
       "      <td>25</td>\n",
       "      <td>234.4</td>\n",
       "      <td>113</td>\n",
       "      <td>39.85</td>\n",
       "      <td>...</td>\n",
       "      <td>82</td>\n",
       "      <td>22.6</td>\n",
       "      <td>241.4</td>\n",
       "      <td>77</td>\n",
       "      <td>10.86</td>\n",
       "      <td>13.7</td>\n",
       "      <td>4</td>\n",
       "      <td>3.7</td>\n",
       "      <td>0</td>\n",
       "      <td>False.</td>\n",
       "    </tr>\n",
       "  </tbody>\n",
       "</table>\n",
       "<p>5 rows × 21 columns</p>\n",
       "</div>"
      ],
      "text/plain": [
       "  State Account Length Area Code     Phone Int'l Plan VMail Plan  \\\n",
       "0    AZ            192       415  414-4276         no        yes   \n",
       "1    WV             68       415  370-3271         no         no   \n",
       "2    RI             28       510  328-8230         no         no   \n",
       "3    CT            184       510  364-6381        yes         no   \n",
       "4    TN             74       415  400-4344         no        yes   \n",
       "\n",
       "  VMail Message Day Mins Day Calls Day Charge  ... Eve Calls Eve Charge  \\\n",
       "0            36    156.2        77      26.55  ...       126      18.32   \n",
       "1             0    231.1        57      39.29  ...        55      13.04   \n",
       "2             0    180.8       109      30.74  ...        58      24.55   \n",
       "3             0    213.8       105      36.35  ...        84      13.57   \n",
       "4            25    234.4       113      39.85  ...        82       22.6   \n",
       "\n",
       "  Night Mins Night Calls Night Charge Intl Mins Intl Calls Intl Charge  \\\n",
       "0      279.1          83        12.56       9.9          6        2.67   \n",
       "1      191.3         123         8.61       9.6          4        2.59   \n",
       "2      191.9          91         8.64      14.1          6        3.81   \n",
       "3      139.2         137         6.26       5.0         10        1.35   \n",
       "4      241.4          77        10.86      13.7          4         3.7   \n",
       "\n",
       "  CustServ Calls  Churn?  \n",
       "0              2  False.  \n",
       "1              3  False.  \n",
       "2              2  False.  \n",
       "3              2  False.  \n",
       "4              0  False.  \n",
       "\n",
       "[5 rows x 21 columns]"
      ]
     },
     "execution_count": 15,
     "metadata": {},
     "output_type": "execute_result"
    },
    {
     "name": "stdout",
     "output_type": "stream",
     "text": [
      "time: 112 ms\n"
     ]
    }
   ],
   "source": [
    "tl = np.array(telco_churn.tail())\n",
    "pd.DataFrame(tl[1:,:], columns=telco_churn.columns)"
   ]
  },
  {
   "cell_type": "markdown",
   "metadata": {},
   "source": [
    "### Explore the Columns\n",
    "* View column summaries\n",
    "* Update the datatype to be used in modeling"
   ]
  },
  {
   "cell_type": "code",
   "execution_count": 16,
   "metadata": {},
   "outputs": [
    {
     "name": "stdout",
     "output_type": "stream",
     "text": [
      "--- State ---\n",
      "\n",
      "    WV|█\n",
      "    MN|█\n",
      " Other|████████████████████\n",
      "\n",
      "Data Type: str\n",
      "Logical Types: []\n",
      "Datetime Format: \n",
      "Count: 3333\n",
      "Missing: 0\n",
      "Unique: 51\n",
      "Freq: 106\n",
      "\n",
      "--- Account Length ---\n",
      "\n",
      "   1|███\n",
      "    |██████\n",
      "    |█████████████\n",
      "    |███████████████████\n",
      "    |████████████████████\n",
      "    |███████████████\n",
      "    |███████\n",
      "    |███\n",
      "    |█\n",
      " 243|\n",
      "\n",
      "Data Type: int\n",
      "Logical Types: []\n",
      "Datetime Format: \n",
      "Count: 3333\n",
      "Missing: 0\n",
      "Mean: 101\n",
      "SD: 39.8\n",
      "Min: 1\n",
      "Max: 243\n",
      "Unique: 212\n",
      "Freq: 43\n",
      "\n",
      "--- Area Code ---\n",
      "\n",
      " 408|██████████\n",
      "    |████████████████████\n",
      " 510|██████████\n",
      "\n",
      "Data Type: int\n",
      "Logical Types: []\n",
      "Datetime Format: \n",
      "Count: 3333\n",
      "Missing: 0\n",
      "Mean: 437\n",
      "SD: 42.4\n",
      "Min: 408\n",
      "Max: 510\n",
      "Unique: 3\n",
      "Freq: 1655\n",
      "\n",
      "--- Phone ---\n",
      "\n",
      " 327-1058|\n",
      " 327-1319|\n",
      "    Other|████████████████████\n",
      "\n",
      "Data Type: str\n",
      "Logical Types: []\n",
      "Datetime Format: \n",
      "Count: 3333\n",
      "Missing: 0\n",
      "Unique: 3333\n",
      "Freq: 1\n",
      "\n",
      "--- Int'l Plan ---\n",
      "\n",
      "  no|████████████████████\n",
      " yes|██\n",
      "\n",
      "Data Type: str\n",
      "Logical Types: []\n",
      "Datetime Format: \n",
      "Count: 3333\n",
      "Missing: 0\n",
      "Unique: 2\n",
      "Freq: 323\n",
      "\n",
      "--- VMail Plan ---\n",
      "\n",
      "  no|████████████████████\n",
      " yes|████████\n",
      "\n",
      "Data Type: str\n",
      "Logical Types: []\n",
      "Datetime Format: \n",
      "Count: 3333\n",
      "Missing: 0\n",
      "Unique: 2\n",
      "Freq: 922\n",
      "\n",
      "--- VMail Message ---\n",
      "\n",
      "  0|████████████████████\n",
      "   |\n",
      "   |\n",
      "   |█\n",
      "   |█\n",
      "   |██\n",
      "   |██\n",
      "   |█\n",
      "   |\n",
      " 51|\n",
      "\n",
      "Data Type: int\n",
      "Logical Types: []\n",
      "Datetime Format: \n",
      "Count: 3333\n",
      "Missing: 0\n",
      "Mean: 8.1\n",
      "SD: 13.7\n",
      "Min: 0\n",
      "Max: 51\n",
      "Unique: 46\n",
      "Freq: 2411\n",
      "\n",
      "--- Day Mins ---\n",
      "\n",
      "   0|\n",
      "    |██\n",
      "    |█████\n",
      "    |████████████\n",
      "    |████████████████████\n",
      "    |████████████████████\n",
      "    |███████████████\n",
      "    |███████\n",
      "    |██\n",
      " 351|\n",
      "\n",
      "Data Type: real\n",
      "Logical Types: []\n",
      "Datetime Format: \n",
      "Count: 3333\n",
      "Missing: 0\n",
      "Mean: 180\n",
      "SD: 54.5\n",
      "Min: 0\n",
      "Max: 351\n",
      "Unique: 1667\n",
      "Freq: 8\n",
      "\n",
      "--- Day Calls ---\n",
      "\n",
      "   0|\n",
      "    |\n",
      "    |\n",
      "    |██\n",
      "    |█████████\n",
      "    |█████████████████\n",
      "    |████████████████████\n",
      "    |███████████\n",
      "    |███\n",
      " 165|\n",
      "\n",
      "Data Type: int\n",
      "Logical Types: []\n",
      "Datetime Format: \n",
      "Count: 3333\n",
      "Missing: 0\n",
      "Mean: 100\n",
      "SD: 20.1\n",
      "Min: 0\n",
      "Max: 165\n",
      "Unique: 119\n",
      "Freq: 78\n",
      "\n",
      "--- Day Charge ---\n",
      "\n",
      "    0|\n",
      "     |██\n",
      "     |█████\n",
      "     |████████████\n",
      "     |████████████████████\n",
      "     |████████████████████\n",
      "     |███████████████\n",
      "     |███████\n",
      "     |██\n",
      " 59.6|\n",
      "\n",
      "Data Type: real\n",
      "Logical Types: []\n",
      "Datetime Format: \n",
      "Count: 3333\n",
      "Missing: 0\n",
      "Mean: 30.6\n",
      "SD: 9.26\n",
      "Min: 0\n",
      "Max: 59.6\n",
      "Unique: 1667\n",
      "Freq: 8\n",
      "\n",
      "--- Eve Mins ---\n",
      "\n",
      "   0|\n",
      "    |\n",
      "    |██\n",
      "    |███████\n",
      "    |████████████████\n",
      "    |████████████████████\n",
      "    |███████████████\n",
      "    |████████\n",
      "    |██\n",
      " 364|\n",
      "\n",
      "Data Type: real\n",
      "Logical Types: []\n",
      "Datetime Format: \n",
      "Count: 3333\n",
      "Missing: 0\n",
      "Mean: 201\n",
      "SD: 50.7\n",
      "Min: 0\n",
      "Max: 364\n",
      "Unique: 1611\n",
      "Freq: 9\n",
      "\n",
      "--- Eve Calls ---\n",
      "\n",
      "   0|\n",
      "    |\n",
      "    |\n",
      "    |███\n",
      "    |██████████\n",
      "    |████████████████████\n",
      "    |████████████████████\n",
      "    |████████\n",
      "    |██\n",
      " 170|\n",
      "\n",
      "Data Type: int\n",
      "Logical Types: []\n",
      "Datetime Format: \n",
      "Count: 3333\n",
      "Missing: 0\n",
      "Mean: 100\n",
      "SD: 19.9\n",
      "Min: 0\n",
      "Max: 170\n",
      "Unique: 123\n",
      "Freq: 80\n",
      "\n",
      "--- Eve Charge ---\n",
      "\n",
      "    0|\n",
      "     |\n",
      "     |██\n",
      "     |███████\n",
      "     |████████████████\n",
      "     |████████████████████\n",
      "     |███████████████\n",
      "     |████████\n",
      "     |██\n",
      " 30.9|\n",
      "\n",
      "Data Type: real\n",
      "Logical Types: []\n",
      "Datetime Format: \n",
      "Count: 3333\n",
      "Missing: 0\n",
      "Mean: 17.1\n",
      "SD: 4.31\n",
      "Min: 0\n",
      "Max: 30.9\n",
      "Unique: 1440\n",
      "Freq: 11\n",
      "\n",
      "--- Night Mins ---\n",
      "\n",
      " 23.2|\n",
      "     |█\n",
      "     |█████\n",
      "     |██████████████\n",
      "     |████████████████████\n",
      "     |███████████████████\n",
      "     |██████████\n",
      "     |███\n",
      "     |█\n",
      "  395|\n",
      "\n",
      "Data Type: real\n",
      "Logical Types: []\n",
      "Datetime Format: \n",
      "Count: 3333\n",
      "Missing: 0\n",
      "Mean: 201\n",
      "SD: 50.6\n",
      "Min: 23.2\n",
      "Max: 395\n",
      "Unique: 1591\n",
      "Freq: 8\n",
      "\n",
      "--- Night Calls ---\n",
      "\n",
      "  33|\n",
      "    |██\n",
      "    |██████\n",
      "    |██████████████\n",
      "    |████████████████████\n",
      "    |████████████████████\n",
      "    |██████████\n",
      "    |███\n",
      "    |█\n",
      " 175|\n",
      "\n",
      "Data Type: int\n",
      "Logical Types: []\n",
      "Datetime Format: \n",
      "Count: 3333\n",
      "Missing: 0\n",
      "Mean: 100\n",
      "SD: 19.6\n",
      "Min: 33\n",
      "Max: 175\n",
      "Unique: 120\n",
      "Freq: 84\n",
      "\n",
      "--- Night Charge ---\n",
      "\n",
      " 1.04|\n",
      "     |█\n",
      "     |█████\n",
      "     |██████████████\n",
      "     |████████████████████\n",
      "     |███████████████████\n",
      "     |██████████\n",
      "     |███\n",
      "     |█\n",
      " 17.8|\n",
      "\n",
      "Data Type: real\n",
      "Logical Types: []\n",
      "Datetime Format: \n",
      "Count: 3333\n",
      "Missing: 0\n",
      "Mean: 9.04\n",
      "SD: 2.28\n",
      "Min: 1.04\n",
      "Max: 17.8\n",
      "Unique: 933\n",
      "Freq: 15\n",
      "\n",
      "--- Intl Mins ---\n",
      "\n",
      "  0|\n",
      "   |█\n",
      "   |███\n",
      "   |█████████\n",
      "   |█████████████████\n",
      "   |████████████████████\n",
      "   |█████████████\n",
      "   |█████\n",
      "   |█\n",
      " 20|\n",
      "\n",
      "Data Type: real\n",
      "Logical Types: []\n",
      "Datetime Format: \n",
      "Count: 3333\n",
      "Missing: 0\n",
      "Mean: 10.2\n",
      "SD: 2.79\n",
      "Min: 0\n",
      "Max: 20\n",
      "Unique: 162\n",
      "Freq: 62\n",
      "\n",
      "--- Intl Calls ---\n",
      "\n",
      "  0|███\n",
      "   |████████████████████\n",
      "   |███████████████████\n",
      "   |██████████\n",
      "   |████\n",
      "   |█\n",
      "   |█\n",
      "   |\n",
      "   |\n",
      " 20|\n",
      "\n",
      "Data Type: int\n",
      "Logical Types: []\n",
      "Datetime Format: \n",
      "Count: 3333\n",
      "Missing: 0\n",
      "Mean: 4.48\n",
      "SD: 2.46\n",
      "Min: 0\n",
      "Max: 20\n",
      "Unique: 21\n",
      "Freq: 668\n",
      "\n",
      "--- Intl Charge ---\n",
      "\n",
      "   0|\n",
      "    |█\n",
      "    |███\n",
      "    |█████████\n",
      "    |█████████████████\n",
      "    |████████████████████\n",
      "    |█████████████\n",
      "    |████\n",
      "    |█\n",
      " 5.4|\n",
      "\n",
      "Data Type: real\n",
      "Logical Types: []\n",
      "Datetime Format: \n",
      "Count: 3333\n",
      "Missing: 0\n",
      "Mean: 2.76\n",
      "SD: 0.754\n",
      "Min: 0\n",
      "Max: 5.4\n",
      "Unique: 162\n",
      "Freq: 62\n",
      "\n",
      "--- CustServ Calls ---\n",
      "\n",
      " 0|████████████\n",
      "  |████████████████████\n",
      "  |█████████████\n",
      "  |███████\n",
      "  |███\n",
      "  |█\n",
      "  |\n",
      "  |\n",
      "  |\n",
      " 9|\n",
      "\n",
      "Data Type: int\n",
      "Logical Types: []\n",
      "Datetime Format: \n",
      "Count: 3333\n",
      "Missing: 0\n",
      "Mean: 1.56\n",
      "SD: 1.32\n",
      "Min: 0\n",
      "Max: 9\n",
      "Unique: 10\n",
      "Freq: 1181\n",
      "\n",
      "--- Churn? ---\n",
      "\n",
      " False.|████████████████████\n",
      "  True.|███\n",
      "\n",
      "Data Type: str\n",
      "Logical Types: []\n",
      "Datetime Format: \n",
      "Count: 3333\n",
      "Missing: 0\n",
      "Unique: 2\n",
      "Freq: 483\n",
      "\n",
      "\n",
      "time: 98.1 ms\n"
     ]
    }
   ],
   "source": [
    "print(telco_churn.column_summaries())"
   ]
  },
  {
   "cell_type": "code",
   "execution_count": 17,
   "metadata": {},
   "outputs": [
    {
     "name": "stdout",
     "output_type": "stream",
     "text": [
      "--- Area Code ---\n",
      "\n",
      " 408|██████████\n",
      "    |████████████████████\n",
      " 510|██████████\n",
      "\n",
      "Data Type: int\n",
      "Logical Types: []\n",
      "Datetime Format: \n",
      "Count: 3333\n",
      "Missing: 0\n",
      "Mean: 437\n",
      "SD: 42.4\n",
      "Min: 408\n",
      "Max: 510\n",
      "Unique: 3\n",
      "Freq: 1655\n",
      "\n",
      "\n",
      "time: 110 ms\n"
     ]
    }
   ],
   "source": [
    "print(telco_churn.column_summaries([\"Area Code\"]))"
   ]
  },
  {
   "cell_type": "code",
   "execution_count": 18,
   "metadata": {},
   "outputs": [
    {
     "name": "stdout",
     "output_type": "stream",
     "text": [
      "--- Area Code ---\n",
      "\n",
      " 408|██████████\n",
      "    |████████████████████\n",
      " 510|██████████\n",
      "\n",
      "Data Type: int\n",
      "Logical Types: ['categorical']\n",
      "Datetime Format: \n",
      "Count: 3333\n",
      "Missing: 0\n",
      "Mean: 437\n",
      "SD: 42.4\n",
      "Min: 408\n",
      "Max: 510\n",
      "Unique: 3\n",
      "Freq: 1655\n",
      "\n",
      "time: 414 ms\n"
     ]
    }
   ],
   "source": [
    "# Force a numeric column to only be used as a category\n",
    "telco_churn.set_logical_types({'Area Code': ['categorical']})\n",
    "print(telco_churn.column_summaries()[\"Area Code\"])"
   ]
  },
  {
   "cell_type": "markdown",
   "metadata": {},
   "source": [
    "### Split a Dataset\n",
    "The split function returns a dictionary of two datasets so you can easily pass them to the experiments"
   ]
  },
  {
   "cell_type": "code",
   "execution_count": 19,
   "metadata": {},
   "outputs": [
    {
     "name": "stdout",
     "output_type": "stream",
     "text": [
      "time: 3.37 s\n"
     ]
    }
   ],
   "source": [
    "telco_churn_split = telco_churn.split_to_train_test(\n",
    "    train_size=0.8, \n",
    "    train_name='telco_churn_train', \n",
    "    test_name='telco_churn_test', \n",
    "    target_col= \"Churn?\", # telco_churn.columns[-1],\n",
    "    seed=42\n",
    ")"
   ]
  },
  {
   "cell_type": "code",
   "execution_count": 20,
   "metadata": {},
   "outputs": [
    {
     "data": {
      "text/plain": [
       "{'train_dataset': <class 'driverlessai.datasets.Dataset'> telco_churn_train (f57a2a1e-5fce-11ea-900c-129353b3dc81),\n",
       " 'test_dataset': <class 'driverlessai.datasets.Dataset'> telco_churn_test (f57bd13e-5fce-11ea-900c-129353b3dc81)}"
      ]
     },
     "execution_count": 20,
     "metadata": {},
     "output_type": "execute_result"
    },
    {
     "name": "stdout",
     "output_type": "stream",
     "text": [
      "time: 2.93 ms\n"
     ]
    }
   ],
   "source": [
    "telco_churn_split"
   ]
  },
  {
   "cell_type": "code",
   "execution_count": 21,
   "metadata": {},
   "outputs": [
    {
     "name": "stdout",
     "output_type": "stream",
     "text": [
      "train_dataset \t f57a2a1e-5fce-11ea-900c-129353b3dc81 telco_churn_train\n",
      "test_dataset \t f57bd13e-5fce-11ea-900c-129353b3dc81 telco_churn_test\n",
      "time: 1.18 ms\n"
     ]
    }
   ],
   "source": [
    "for k, v in telco_churn_split.items():\n",
    "    print(k, \"\\t\" ,v.key, v.name)"
   ]
  },
  {
   "cell_type": "markdown",
   "metadata": {},
   "source": [
    "## Recipes\n",
    "Recipes are components of the ML pipeline such as algorithms, feature transformers, and scores. You can view all availabe recipes and upload new ones to your instance of DAI.\n",
    "\n",
    "* List all available models\n",
    "* List any custom transformers\n",
    "* List all scorers that can be used for binomial classification\n",
    "* Upload a custom recipe and save it to be tested later"
   ]
  },
  {
   "cell_type": "code",
   "execution_count": 22,
   "metadata": {},
   "outputs": [
    {
     "data": {
      "text/plain": [
       "['CONSTANT',\n",
       " 'DECISIONTREE',\n",
       " 'FTRL',\n",
       " 'GLM',\n",
       " 'IMBALANCEDLIGHTGBM',\n",
       " 'IMBALANCEDXGBOOSTGBM',\n",
       " 'LIGHTGBM',\n",
       " 'RULEFIT',\n",
       " 'TENSORFLOW',\n",
       " 'XGBOOSTDART',\n",
       " 'XGBOOSTGBM']"
      ]
     },
     "execution_count": 22,
     "metadata": {},
     "output_type": "execute_result"
    },
    {
     "name": "stdout",
     "output_type": "stream",
     "text": [
      "time: 157 ms\n"
     ]
    }
   ],
   "source": [
    "[m.name for m in dai.recipes.models.list()]"
   ]
  },
  {
   "cell_type": "code",
   "execution_count": 23,
   "metadata": {},
   "outputs": [
    {
     "data": {
      "text/plain": [
       "[]"
      ]
     },
     "execution_count": 23,
     "metadata": {},
     "output_type": "execute_result"
    },
    {
     "name": "stdout",
     "output_type": "stream",
     "text": [
      "time: 152 ms\n"
     ]
    }
   ],
   "source": [
    "[t.name for t in dai.recipes.transformers.list() if t.is_custom ]"
   ]
  },
  {
   "cell_type": "code",
   "execution_count": 24,
   "metadata": {},
   "outputs": [
    {
     "data": {
      "text/plain": [
       "['ACCURACY',\n",
       " 'AUC',\n",
       " 'AUCPR',\n",
       " 'F05',\n",
       " 'F1',\n",
       " 'F2',\n",
       " 'GINI',\n",
       " 'LOGLOSS',\n",
       " 'MACROAUC',\n",
       " 'MCC']"
      ]
     },
     "execution_count": 24,
     "metadata": {},
     "output_type": "execute_result"
    },
    {
     "name": "stdout",
     "output_type": "stream",
     "text": [
      "time: 140 ms\n"
     ]
    }
   ],
   "source": [
    "[s.name for s in dai.recipes.scorers.list() if s.for_binomial]"
   ]
  },
  {
   "cell_type": "code",
   "execution_count": 25,
   "metadata": {},
   "outputs": [
    {
     "name": "stdout",
     "output_type": "stream",
     "text": [
      "Running 2.0% time: 6.04 s\n"
     ]
    }
   ],
   "source": [
    "dai.recipes.create(\"https://github.com/h2oai/driverlessai-recipes/blob/rel-1.8.4/transformers/numeric/sum.py\")"
   ]
  },
  {
   "cell_type": "code",
   "execution_count": 26,
   "metadata": {},
   "outputs": [
    {
     "data": {
      "text/plain": [
       "['SumTransformer']"
      ]
     },
     "execution_count": 26,
     "metadata": {},
     "output_type": "execute_result"
    },
    {
     "name": "stdout",
     "output_type": "stream",
     "text": [
      "time: 154 ms\n"
     ]
    }
   ],
   "source": [
    "[t.name for t in dai.recipes.transformers.list() if t.is_custom ]"
   ]
  },
  {
   "cell_type": "code",
   "execution_count": 27,
   "metadata": {},
   "outputs": [
    {
     "name": "stdout",
     "output_type": "stream",
     "text": [
      "time: 161 ms\n"
     ]
    }
   ],
   "source": [
    "transformers_to_use = [t for t in dai.recipes.transformers.list() if not t.is_custom or 'Sum' in t.name]"
   ]
  },
  {
   "cell_type": "markdown",
   "metadata": {},
   "source": [
    "## Modeling\n",
    "**Notes:** Dictionaries allow you to easily use common settings in your experiments <br/>\n",
    "**Notes:** Experiments will be `sync` by default meaning they will lock the notebook until they are complete. You can also use `async` versions of the fucntions. With the `async` functions you can use included code below to monthior and experiment as it runs, see logs in real time, and stop it when it is \"good enough\"."
   ]
  },
  {
   "cell_type": "markdown",
   "metadata": {},
   "source": [
    "### List Existing Experiments"
   ]
  },
  {
   "cell_type": "code",
   "execution_count": 28,
   "metadata": {},
   "outputs": [
    {
     "data": {
      "text/plain": [
       "['Neural Net', 'Boosting Trees', 'Decision Tree', 'Regression', 'Constant']"
      ]
     },
     "execution_count": 28,
     "metadata": {},
     "output_type": "execute_result"
    },
    {
     "name": "stdout",
     "output_type": "stream",
     "text": [
      "time: 3.69 s\n"
     ]
    }
   ],
   "source": [
    "[e.name for e in dai.experiments.list()]"
   ]
  },
  {
   "cell_type": "markdown",
   "metadata": {},
   "source": [
    "### Dictionary for a Use Case\n",
    "We might want to run several experiments with different dial and expert settings. All of these will likely have some things in common, namely details about this specific dataset. We will create a dictionary to use in many experiments."
   ]
  },
  {
   "cell_type": "code",
   "execution_count": 29,
   "metadata": {},
   "outputs": [
    {
     "name": "stdout",
     "output_type": "stream",
     "text": [
      "time: 942 µs\n"
     ]
    }
   ],
   "source": [
    "telco_settings = {\n",
    "    **telco_churn_split,\n",
    "    'task': 'classification',\n",
    "    'target_col': \"Churn?\",\n",
    "    'scorer': 'F1'\n",
    "}"
   ]
  },
  {
   "cell_type": "markdown",
   "metadata": {},
   "source": [
    "### Dictionary for Fast Experiments\n",
    "\n",
    "There may be several common types of experiments you want to run, and H2O.ai will be creating common experiment settings in dictionaries for easy use. The one below turns off all extra settings such as building pipelines or checking for leakage. It also uses the fastest experiment settings."
   ]
  },
  {
   "cell_type": "code",
   "execution_count": 30,
   "metadata": {},
   "outputs": [
    {
     "name": "stdout",
     "output_type": "stream",
     "text": [
      "time: 1.7 ms\n"
     ]
    }
   ],
   "source": [
    "fast_settings = {\n",
    "    'accuracy': 1,\n",
    "    'time': 1,\n",
    "    'interpretability': 6,\n",
    "    'make_python_scoring_pipeline': 'off',\n",
    "    'make_mojo_scoring_pipeline': 'off',\n",
    "    'benchmark_mojo_latency': 'off',\n",
    "    'make_autoreport': False,\n",
    "    'check_leakage': 'off',\n",
    "    'check_distribution_shift': 'off'\n",
    "}"
   ]
  },
  {
   "cell_type": "markdown",
   "metadata": {},
   "source": [
    "### Search for Settings\n",
    "There are many expert settings available, you can use the serach functionality to look for names or keywords for settings you may want to use."
   ]
  },
  {
   "cell_type": "code",
   "execution_count": 31,
   "metadata": {},
   "outputs": [
    {
     "name": "stdout",
     "output_type": "stream",
     "text": [
      "force_stratified_splits_for_imbalanced_threshold_binary | default_value: 0.01\n",
      "imbalance_sampling_method | default_value: off\n",
      "imbalance_ratio_sampling_threshold | default_value: 5\n",
      "heavy_imbalance_ratio_sampling_threshold | default_value: 25\n",
      "imbalance_sampling_number_of_bags | default_value: -1\n",
      "imbalance_sampling_max_number_of_bags | default_value: 10\n",
      "imbalance_sampling_max_number_of_bags_feature_evolution | default_value: 3\n",
      "imbalance_sampling_max_multiple_data_size | default_value: 1.0\n",
      "imbalance_sampling_target_minority_fraction | default_value: -1.0\n",
      "imbalance_ratio_notification_threshold | default_value: 2.0\n",
      "time: 500 ms\n"
     ]
    }
   ],
   "source": [
    "dai.experiments.search_expert_settings('imbalanced')"
   ]
  },
  {
   "cell_type": "code",
   "execution_count": 32,
   "metadata": {},
   "outputs": [
    {
     "name": "stdout",
     "output_type": "stream",
     "text": [
      "http://54.172.110.253:12345/docs/userguide/search.html?q=force_stratified_splits_for_imbalanced_threshold_binary\n",
      "time: 590 µs\n"
     ]
    }
   ],
   "source": [
    "dai.docs('force_stratified_splits_for_imbalanced_threshold_binary')"
   ]
  },
  {
   "cell_type": "markdown",
   "metadata": {},
   "source": [
    "### Get Reccomended Dial Settings"
   ]
  },
  {
   "cell_type": "code",
   "execution_count": 33,
   "metadata": {},
   "outputs": [
    {
     "name": "stdout",
     "output_type": "stream",
     "text": [
      "ACCURACY [7/10]:\n",
      "- Training data size: *2,666 rows, 21 cols*\n",
      "- Feature evolution: *[Constant, DecisionTree, LightGBM, XGBoostGBM]*, *3-fold CV**, 2 reps*\n",
      "- Final pipeline: *Ensemble (6 models), 3-fold CV*\n",
      "\n",
      "TIME [2/10]:\n",
      "- Feature evolution: *8 individuals*, up to *42 iterations*\n",
      "- Early stopping: After *5* iterations of no improvement\n",
      "\n",
      "INTERPRETABILITY [8/10]:\n",
      "- Feature pre-pruning strategy: Permutation Importance FS\n",
      "- Monotonicity constraints: enabled\n",
      "- Feature engineering search space: [CVCatNumEncode, CVTargetEncode, CatOriginal, Cat, Frequent, Interactions, NumCatTE, NumToCatWoEMonotonic, NumToCatWoE, Original, Text, WeightOfEvidence]\n",
      "\n",
      "[Constant, DecisionTree, LightGBM, XGBoostGBM] models to train:\n",
      "- Model and feature tuning: *192*\n",
      "- Feature evolution: *288*\n",
      "- Final pipeline: *6*\n",
      "\n",
      "Estimated runtime: *minutes*\n",
      "Auto-click Finish/Abort if not done in: *1 day*/*7 days*\n",
      "time: 2.9 s\n"
     ]
    }
   ],
   "source": [
    "# Get experiment preview with our settings\n",
    "dai.experiments.preview(\n",
    "    **telco_settings\n",
    ")"
   ]
  },
  {
   "cell_type": "markdown",
   "metadata": {},
   "source": [
    "### Preview Using Our Custom Recipe"
   ]
  },
  {
   "cell_type": "code",
   "execution_count": 34,
   "metadata": {},
   "outputs": [
    {
     "name": "stdout",
     "output_type": "stream",
     "text": [
      "ACCURACY [7/10]:\n",
      "- Training data size: *2,666 rows, 21 cols*\n",
      "- Feature evolution: *[Constant, DecisionTree, LightGBM, XGBoostGBM]*, *3-fold CV**, 2 reps*\n",
      "- Final pipeline: *Ensemble (6 models), 3-fold CV*\n",
      "\n",
      "TIME [2/10]:\n",
      "- Feature evolution: *8 individuals*, up to *42 iterations*\n",
      "- Early stopping: After *5* iterations of no improvement\n",
      "\n",
      "INTERPRETABILITY [8/10]:\n",
      "- Feature pre-pruning strategy: Permutation Importance FS\n",
      "- Monotonicity constraints: enabled\n",
      "- Feature engineering search space: [CVCatNumEncode, CVTargetEncode, CatOriginal, Cat, Frequent, Interactions, NumCatTE, NumToCatWoEMonotonic, NumToCatWoE, Original, Sum, Text, WeightOfEvidence]\n",
      "\n",
      "[Constant, DecisionTree, LightGBM, XGBoostGBM] models to train:\n",
      "- Model and feature tuning: *192*\n",
      "- Feature evolution: *288*\n",
      "- Final pipeline: *6*\n",
      "\n",
      "Estimated runtime: *minutes*\n",
      "Auto-click Finish/Abort if not done in: *1 day*/*7 days*\n",
      "time: 2.75 s\n"
     ]
    }
   ],
   "source": [
    "# Get experiment preview with our settings\n",
    "dai.experiments.preview(\n",
    "    **telco_settings\n",
    "    ,transformers=transformers_to_use\n",
    ")"
   ]
  },
  {
   "cell_type": "markdown",
   "metadata": {},
   "source": [
    "### Launch an Experiment\n",
    "We will start by running an async experiment which will immeadiatly free our notebook to run additional commands"
   ]
  },
  {
   "cell_type": "code",
   "execution_count": 35,
   "metadata": {},
   "outputs": [
    {
     "name": "stdout",
     "output_type": "stream",
     "text": [
      "Experiment launched at: http://54.172.110.253:12345/#experiment?key=019d7526-5fcf-11ea-900c-129353b3dc81\n",
      "time: 995 ms\n"
     ]
    }
   ],
   "source": [
    "default_baseline = dai.experiments.create_async(\n",
    "    **telco_settings, \n",
    "    name='Fastest Settings', **fast_settings,\n",
    "    # name='Default Baseline', accuracy=7, time=2, interpretability=8\n",
    ")"
   ]
  },
  {
   "cell_type": "markdown",
   "metadata": {},
   "source": [
    "### Information on an Experiment"
   ]
  },
  {
   "cell_type": "code",
   "execution_count": 36,
   "metadata": {},
   "outputs": [
    {
     "data": {
      "text/plain": [
       "driverlessai.experiments.Experiment"
      ]
     },
     "execution_count": 36,
     "metadata": {},
     "output_type": "execute_result"
    },
    {
     "name": "stdout",
     "output_type": "stream",
     "text": [
      "time: 2.55 ms\n"
     ]
    }
   ],
   "source": [
    "type(default_baseline)"
   ]
  },
  {
   "cell_type": "code",
   "execution_count": 37,
   "metadata": {},
   "outputs": [
    {
     "name": "stdout",
     "output_type": "stream",
     "text": [
      "Name: Fastest Settings\n",
      "Datasets: {'train_dataset': <class 'driverlessai.datasets.Dataset'> telco_churn_train (f57a2a1e-5fce-11ea-900c-129353b3dc81), 'validation_dataset': None, 'test_dataset': <class 'driverlessai.datasets.Dataset'> telco_churn_test (f57bd13e-5fce-11ea-900c-129353b3dc81)}\n",
      "Target: Churn?\n",
      "Scorer: F1\n",
      "Task: classification\n",
      "Status: Running 0% - Running Experiment...\n",
      "Web Page: http://54.172.110.253:12345/#experiment?key=019d7526-5fcf-11ea-900c-129353b3dc81\n",
      "time: 194 ms\n"
     ]
    }
   ],
   "source": [
    "print(\"Name:\", default_baseline.name)\n",
    "print(\"Datasets:\", default_baseline.datasets)\n",
    "print(\"Target:\", default_baseline.settings['target_col'])\n",
    "print(\"Scorer:\", default_baseline.metrics()['scorer'])\n",
    "print(\"Task:\", default_baseline.settings['task'])\n",
    "print(\"Status:\", default_baseline.status(verbose=2))\n",
    "print(\"Web Page: \", end='')\n",
    "default_baseline.gui()"
   ]
  },
  {
   "cell_type": "markdown",
   "metadata": {},
   "source": [
    "### Monitor and Finish the Model Early\n",
    "Example of how you may want to monitor a running experiment, this will print the currently logs and accuracy metrics. You can also finish a model early if it reaches a certain accuracy metric or run time."
   ]
  },
  {
   "cell_type": "code",
   "execution_count": 38,
   "metadata": {},
   "outputs": [
    {
     "name": "stdout",
     "output_type": "stream",
     "text": [
      "Running 26.1% - Building pipeline visualization... - Validation F1: 0.8415 +/- 0.0135\n",
      "\n",
      "2020-03-06 17:22:51,952 C:▂ D:198.5GB M:28.0GB 10418 INFO   : Done generating .dot pipeline visualization file(s).\n",
      "2020-03-06 17:22:51,962 C:▂ D:198.5GB M:28.0GB 10418 INFO   : MOJO pipeline created.\n",
      "2020-03-06 17:22:51,976 C:▂ D:198.5GB M:28.0GB 9204  INFO   : Assembling MOJO pipeline...\n",
      "\n",
      "Test F1: 0.8022\n",
      "time: 46 s\n"
     ]
    }
   ],
   "source": [
    "# Monitor the experiment and stop at a nice model\n",
    "import time\n",
    "from IPython.display import clear_output\n",
    "\n",
    "while default_baseline.is_running():\n",
    "    time.sleep(1)\n",
    "    \n",
    "    # grab experiment status\n",
    "    status = default_baseline.status(verbose=2)\n",
    "    \n",
    "    # grab current metrics\n",
    "    metrics = default_baseline.metrics()   \n",
    "    \n",
    "    # pretty print info\n",
    "    clear_output(wait=True)\n",
    "    print(status, \" - Validation \", metrics['scorer'], \": \", sep='', end='')\n",
    "    \n",
    "    if metrics['val_score'] is not None:\n",
    "        print(round(metrics['val_score'], 4), '+/-', round(metrics['val_score_sd'], 4))\n",
    "        if metrics['val_score'] > 0.9:\n",
    "            default_baseline.finish()\n",
    "    else:\n",
    "        print()\n",
    "    \n",
    "    print()\n",
    "    default_baseline.log.tail(3)\n",
    "    time.sleep(1)\n",
    "    \n",
    "print(\"\\nTest \", default_baseline.metrics()['scorer'], \": \", \n",
    "      round(default_baseline.metrics()['test_score'], 4), sep='')"
   ]
  },
  {
   "cell_type": "markdown",
   "metadata": {},
   "source": [
    "### View the Experiment Summary"
   ]
  },
  {
   "cell_type": "code",
   "execution_count": 39,
   "metadata": {},
   "outputs": [
    {
     "name": "stdout",
     "output_type": "stream",
     "text": [
      "Status: Complete\n",
      "Experiment: Fastest Settings (019d7526-5fcf-11ea-900c-129353b3dc81)\n",
      "  Version: 1.8.4.1, 2020-03-06 17:22\n",
      "  Settings: 1/1/6, seed=904164462, GPUs disabled\n",
      "  Train data: telco_churn_train (2666, 21)\n",
      "  Validation data: N/A\n",
      "  Test data: telco_churn_test (667, 20)\n",
      "  Target column: Churn? (binary, 14.479% target class)\n",
      "System specs: Docker/Linux, 31 GB, 8 CPU cores, 0/0 GPU\n",
      "  Max memory usage: 0.855 GB, 0 GB GPU\n",
      "Recipe: AutoDL (7 iterations, 2 individuals)\n",
      "  Validation scheme: stratified, 1 internal holdout\n",
      "  Feature engineering: 22 features scored (19 selected)\n",
      "Timing:\n",
      "  Data preparation: 4.84 secs\n",
      "  Shift/Leakage detection: 0.00 secs\n",
      "  Model and feature tuning: 14.16 secs (7 models trained)\n",
      "  Feature evolution: 3.06 secs (1 of 3 model trained)\n",
      "  Final pipeline training: 19.70 secs (9 models trained)\n",
      "  Python / MOJO scorer building: 0.00 secs / 1.48 secs\n",
      "Validation score: F1 = 0.2529489 (constant preds of 0.1448)\n",
      "Validation score: F1 = 0.8641975 +/- 0.02560599 (baseline)\n",
      "Validation score: F1 = 0.8415301 +/- 0.01349918 (final pipeline)\n",
      "Test score:       F1 = 0.8021978 +/- 0.02361367 (final pipeline)\n",
      "Variable Importance:\n",
      "  1.00 | 4_Day Charge | Day Charge (Orig)\n",
      "  0.83 | 2_CustServ Calls | CustServ Calls (Orig)\n",
      "  0.62 | 16_CVTE:Int'l Plan.0 | Out-of-fold mean of the response grouped by: [\"Int'l Plan\"] using 5 folds\n",
      "  0.53 | 5_Day Mins | Day Mins (Orig)\n",
      "  0.50 | 7_Eve Charge | Eve Charge (Orig)\n",
      "  0.41 | 10_Intl Charge | Intl Charge (Orig)\n",
      "  0.28 | 9_Intl Calls | Intl Calls (Orig)\n",
      "  0.26 | 18_CVTE:VMail Plan.0 | Out-of-fold mean of the response grouped by: ['VMail Plan'] using 5 folds\n",
      "  0.20 | 15_VMail Message | VMail Message (Orig)\n",
      "  0.17 | 8_Eve Mins | Eve Mins (Orig)\n",
      "  0.16 | 13_Night Charge | Night Charge (Orig)\n",
      "  0.14 | 3_Day Calls | Day Calls (Orig)\n",
      "  0.11 | 17_CVTE:State.0 | Out-of-fold mean of the response grouped by: ['State'] using 5 folds\n",
      "  0.11 | 12_Night Calls | Night Calls (Orig)\n",
      "  0.11 | 0_Account Length | Account Length (Orig)\n",
      "time: 322 ms\n"
     ]
    }
   ],
   "source": [
    "default_baseline.summary()"
   ]
  },
  {
   "cell_type": "markdown",
   "metadata": {},
   "source": [
    "### Interact with Model Artifacts\n",
    "* See which are available\n",
    "* Create the AutoReport\n",
    "* Download the AutoReport\n",
    "* Open the AutoReport"
   ]
  },
  {
   "cell_type": "code",
   "execution_count": 40,
   "metadata": {},
   "outputs": [
    {
     "name": "stdout",
     "output_type": "stream",
     "text": [
      "Available artifacts: ['logs', 'summary', 'test_predictions', 'train_predictions']\n",
      "time: 444 ms\n"
     ]
    }
   ],
   "source": [
    "print(\"Available artifacts:\", default_baseline.artifacts.list())"
   ]
  },
  {
   "cell_type": "code",
   "execution_count": 41,
   "metadata": {},
   "outputs": [
    {
     "name": "stdout",
     "output_type": "stream",
     "text": [
      "Generating autoreport...\n",
      "time: 47.7 s\n"
     ]
    }
   ],
   "source": [
    "default_baseline.artifacts.create('autoreport')"
   ]
  },
  {
   "cell_type": "code",
   "execution_count": 42,
   "metadata": {},
   "outputs": [
    {
     "name": "stdout",
     "output_type": "stream",
     "text": [
      "Downloaded '/Users/mtanco/Downloads/report.docx'\n",
      "time: 1.72 s\n"
     ]
    }
   ],
   "source": [
    "artifacts = default_baseline.artifacts.download(['autoreport'], download_location, overwrite=True)"
   ]
  },
  {
   "cell_type": "code",
   "execution_count": 62,
   "metadata": {},
   "outputs": [
    {
     "name": "stdout",
     "output_type": "stream",
     "text": [
      "The file /Users/mtanco/Documents/GitProjects/driverlessai-tutorials/dai_python_client/{artifacts[autoreport]} does not exist.\n",
      "time: 131 ms\n"
     ]
    }
   ],
   "source": [
    "# OSX\n",
    "!open -a \"Microsoft Word\" {artifacts[\"autoreport\"]}\n",
    "\n",
    "# Windows - not tested\n",
    "# !start {artifacts[\"autoreport\"]}"
   ]
  },
  {
   "cell_type": "markdown",
   "metadata": {},
   "source": [
    "### View Final Model Performance"
   ]
  },
  {
   "cell_type": "code",
   "execution_count": 44,
   "metadata": {},
   "outputs": [
    {
     "data": {
      "text/plain": [
       "{'scorer': 'F1',\n",
       " 'val_score': 0.8415300546448088,\n",
       " 'val_score_sd': 0.01349917545361306,\n",
       " 'val_roc_auc': 0.9166905281338061,\n",
       " 'val_pr_auc': 0.8666527888700952,\n",
       " 'test_score': 0.8021978021978022,\n",
       " 'test_score_sd': 0.023613674163704492,\n",
       " 'test_roc_auc': 0.8964007958039428,\n",
       " 'test_pr_auc': 0.8221925117905962}"
      ]
     },
     "execution_count": 44,
     "metadata": {},
     "output_type": "execute_result"
    },
    {
     "name": "stdout",
     "output_type": "stream",
     "text": [
      "time: 328 ms\n"
     ]
    }
   ],
   "source": [
    "default_baseline.metrics()"
   ]
  },
  {
   "cell_type": "code",
   "execution_count": 45,
   "metadata": {},
   "outputs": [
    {
     "name": "stdout",
     "output_type": "stream",
     "text": [
      "Validation F1 :\t 0.842\n",
      "Test F1 :\t 0.802\n",
      "time: 1.52 s\n"
     ]
    }
   ],
   "source": [
    "print(\"Validation\", default_baseline.metrics()[\"scorer\"], \":\\t\",round(default_baseline.metrics()['val_score'], 3))\n",
    "print(\"Test\", default_baseline.metrics()[\"scorer\"], \":\\t\",round(default_baseline.metrics()['test_score'], 3))"
   ]
  },
  {
   "cell_type": "markdown",
   "metadata": {},
   "source": [
    "### Download the Test Set Predictions"
   ]
  },
  {
   "cell_type": "code",
   "execution_count": 46,
   "metadata": {
    "scrolled": false
   },
   "outputs": [
    {
     "name": "stdout",
     "output_type": "stream",
     "text": [
      "Downloaded '/Users/mtanco/Downloads/test_preds.csv'\n"
     ]
    },
    {
     "data": {
      "text/html": [
       "<div>\n",
       "<style scoped>\n",
       "    .dataframe tbody tr th:only-of-type {\n",
       "        vertical-align: middle;\n",
       "    }\n",
       "\n",
       "    .dataframe tbody tr th {\n",
       "        vertical-align: top;\n",
       "    }\n",
       "\n",
       "    .dataframe thead th {\n",
       "        text-align: right;\n",
       "    }\n",
       "</style>\n",
       "<table border=\"1\" class=\"dataframe\">\n",
       "  <thead>\n",
       "    <tr style=\"text-align: right;\">\n",
       "      <th></th>\n",
       "      <th>Churn?.False.</th>\n",
       "      <th>Churn?.True.</th>\n",
       "    </tr>\n",
       "  </thead>\n",
       "  <tbody>\n",
       "    <tr>\n",
       "      <th>0</th>\n",
       "      <td>0.065575</td>\n",
       "      <td>0.934425</td>\n",
       "    </tr>\n",
       "    <tr>\n",
       "      <th>1</th>\n",
       "      <td>0.987307</td>\n",
       "      <td>0.012693</td>\n",
       "    </tr>\n",
       "    <tr>\n",
       "      <th>2</th>\n",
       "      <td>0.936274</td>\n",
       "      <td>0.063726</td>\n",
       "    </tr>\n",
       "    <tr>\n",
       "      <th>3</th>\n",
       "      <td>0.954870</td>\n",
       "      <td>0.045130</td>\n",
       "    </tr>\n",
       "    <tr>\n",
       "      <th>4</th>\n",
       "      <td>0.956928</td>\n",
       "      <td>0.043072</td>\n",
       "    </tr>\n",
       "  </tbody>\n",
       "</table>\n",
       "</div>"
      ],
      "text/plain": [
       "   Churn?.False.  Churn?.True.\n",
       "0       0.065575      0.934425\n",
       "1       0.987307      0.012693\n",
       "2       0.936274      0.063726\n",
       "3       0.954870      0.045130\n",
       "4       0.956928      0.043072"
      ]
     },
     "execution_count": 46,
     "metadata": {},
     "output_type": "execute_result"
    },
    {
     "name": "stdout",
     "output_type": "stream",
     "text": [
      "time: 840 ms\n"
     ]
    }
   ],
   "source": [
    "# Download predictions from test dataset\n",
    "artifacts = default_baseline.artifacts.download(['test_predictions'], download_location, overwrite=True)\n",
    "local_predictions = pd.read_csv(artifacts['test_predictions'])\n",
    "\n",
    "local_predictions.head()"
   ]
  },
  {
   "cell_type": "markdown",
   "metadata": {},
   "source": [
    "### Plot ROC curve\n",
    "* Download the predictions with the Actual column\n",
    "* Use sklearn to calculate ROC curve"
   ]
  },
  {
   "cell_type": "code",
   "execution_count": 47,
   "metadata": {},
   "outputs": [
    {
     "name": "stdout",
     "output_type": "stream",
     "text": [
      "CompleteDownloaded '/Users/mtanco/Downloads/019d7526-5fcf-11ea-900c-129353b3dc81_preds_b506addd.csv'\n"
     ]
    },
    {
     "data": {
      "text/html": [
       "<div>\n",
       "<style scoped>\n",
       "    .dataframe tbody tr th:only-of-type {\n",
       "        vertical-align: middle;\n",
       "    }\n",
       "\n",
       "    .dataframe tbody tr th {\n",
       "        vertical-align: top;\n",
       "    }\n",
       "\n",
       "    .dataframe thead th {\n",
       "        text-align: right;\n",
       "    }\n",
       "</style>\n",
       "<table border=\"1\" class=\"dataframe\">\n",
       "  <thead>\n",
       "    <tr style=\"text-align: right;\">\n",
       "      <th></th>\n",
       "      <th>Area Code</th>\n",
       "      <th>Churn?</th>\n",
       "      <th>Churn?.False.</th>\n",
       "      <th>Churn?.True.</th>\n",
       "    </tr>\n",
       "  </thead>\n",
       "  <tbody>\n",
       "    <tr>\n",
       "      <th>0</th>\n",
       "      <td>415</td>\n",
       "      <td>True.</td>\n",
       "      <td>0.065575</td>\n",
       "      <td>0.934425</td>\n",
       "    </tr>\n",
       "    <tr>\n",
       "      <th>1</th>\n",
       "      <td>408</td>\n",
       "      <td>False.</td>\n",
       "      <td>0.987307</td>\n",
       "      <td>0.012693</td>\n",
       "    </tr>\n",
       "    <tr>\n",
       "      <th>2</th>\n",
       "      <td>510</td>\n",
       "      <td>False.</td>\n",
       "      <td>0.936274</td>\n",
       "      <td>0.063726</td>\n",
       "    </tr>\n",
       "    <tr>\n",
       "      <th>3</th>\n",
       "      <td>408</td>\n",
       "      <td>False.</td>\n",
       "      <td>0.954870</td>\n",
       "      <td>0.045130</td>\n",
       "    </tr>\n",
       "    <tr>\n",
       "      <th>4</th>\n",
       "      <td>415</td>\n",
       "      <td>False.</td>\n",
       "      <td>0.956928</td>\n",
       "      <td>0.043072</td>\n",
       "    </tr>\n",
       "  </tbody>\n",
       "</table>\n",
       "</div>"
      ],
      "text/plain": [
       "   Area Code  Churn?  Churn?.False.  Churn?.True.\n",
       "0        415   True.       0.065575      0.934425\n",
       "1        408  False.       0.987307      0.012693\n",
       "2        510  False.       0.936274      0.063726\n",
       "3        408  False.       0.954870      0.045130\n",
       "4        415  False.       0.956928      0.043072"
      ]
     },
     "execution_count": 47,
     "metadata": {},
     "output_type": "execute_result"
    },
    {
     "name": "stdout",
     "output_type": "stream",
     "text": [
      "time: 3.77 s\n"
     ]
    }
   ],
   "source": [
    "preds = default_baseline.predict(telco_churn_split['test_dataset'], \n",
    "                         include_cols=[\"Churn?\", \"Area Code\"])\n",
    "\n",
    "test_predictions = pd.read_csv(preds.download(download_location))\n",
    "\n",
    "test_predictions.head()"
   ]
  },
  {
   "cell_type": "code",
   "execution_count": 48,
   "metadata": {},
   "outputs": [
    {
     "data": {
      "image/png": "[encoded data removed]",
      "text/plain": [
       "<Figure size 432x288 with 1 Axes>"
      ]
     },
     "metadata": {
      "needs_background": "light"
     },
     "output_type": "display_data"
    },
    {
     "name": "stdout",
     "output_type": "stream",
     "text": [
      "time: 4.78 s\n"
     ]
    }
   ],
   "source": [
    "from sklearn.metrics import roc_curve\n",
    "from sklearn.metrics import auc\n",
    "from matplotlib import pyplot\n",
    "%matplotlib inline\n",
    "\n",
    "test_predictions[\"Actual\"] = np.where(test_predictions[\"Churn?\"] == \"True.\", 1, 0)\n",
    "\n",
    "# calculate roc curves\n",
    "ns_fpr, ns_tpr, _ = roc_curve(test_predictions[\"Actual\"], [0 for _ in range(len(test_predictions[\"Churn?\"]))])\n",
    "lr_fpr, lr_tpr, _ = roc_curve(test_predictions[\"Actual\"], test_predictions[\"Churn?.True.\"])\n",
    "\n",
    "# plot the roc curve for the model\n",
    "pyplot.plot(ns_fpr, ns_tpr, linestyle='--', label='No Skill')\n",
    "pyplot.plot(lr_fpr, lr_tpr, marker='.', label='Logistic')\n",
    "\n",
    "# axis labels\n",
    "pyplot.xlabel('False Positive Rate')\n",
    "pyplot.ylabel('True Positive Rate')\n",
    "# show the legend\n",
    "pyplot.legend()\n",
    "# show the plot\n",
    "pyplot.show()"
   ]
  },
  {
   "cell_type": "code",
   "execution_count": 49,
   "metadata": {},
   "outputs": [
    {
     "data": {
      "image/png": "[encoded data removed]",
      "text/plain": [
       "<Figure size 432x288 with 1 Axes>"
      ]
     },
     "metadata": {
      "needs_background": "light"
     },
     "output_type": "display_data"
    },
    {
     "data": {
      "image/png": "[encoded data removed]",
      "text/plain": [
       "<Figure size 432x288 with 1 Axes>"
      ]
     },
     "metadata": {
      "needs_background": "light"
     },
     "output_type": "display_data"
    },
    {
     "data": {
      "image/png": "[encoded data removed]",
      "text/plain": [
       "<Figure size 432x288 with 1 Axes>"
      ]
     },
     "metadata": {
      "needs_background": "light"
     },
     "output_type": "display_data"
    },
    {
     "name": "stdout",
     "output_type": "stream",
     "text": [
      "time: 623 ms\n"
     ]
    }
   ],
   "source": [
    "for ac in test_predictions[\"Area Code\"].unique():\n",
    "    grp = test_predictions[test_predictions[\"Area Code\"] == ac]\n",
    "\n",
    "    # calculate roc curves\n",
    "    ns_fpr, ns_tpr, _ = roc_curve(grp[\"Actual\"], [0 for _ in range(len(grp[\"Churn?\"]))])\n",
    "    lr_fpr, lr_tpr, _ = roc_curve(grp[\"Actual\"], grp[\"Churn?.True.\"])\n",
    "\n",
    "    # plot the roc curve for the model\n",
    "    pyplot.plot(ns_fpr, ns_tpr, linestyle='--', label='No Skill')\n",
    "    pyplot.plot(lr_fpr, lr_tpr, marker='.', label='Logistic')\n",
    "\n",
    "    pyplot.title('AUC of Area Code ' + str(ac) + ': ' + str(round(auc(lr_fpr, lr_tpr), 3)))\n",
    "    # axis labels\n",
    "    pyplot.xlabel('False Positive Rate')\n",
    "    pyplot.ylabel('True Positive Rate')\n",
    "    # show the legend\n",
    "    pyplot.legend()\n",
    "    # show the plot\n",
    "    pyplot.show()"
   ]
  },
  {
   "cell_type": "markdown",
   "metadata": {},
   "source": [
    "### Retrain a Model for Production\n",
    "* Retrain the final model with the full dataset\n",
    "* Print the model metrics\n",
    "* Create and Download the MOJO"
   ]
  },
  {
   "cell_type": "code",
   "execution_count": 50,
   "metadata": {},
   "outputs": [
    {
     "name": "stdout",
     "output_type": "stream",
     "text": [
      "make_mojo_scoring_pipeline | default_value: auto\n",
      "benchmark_mojo_latency | default_value: auto\n",
      "benchmark_mojo_latency_auto_size_limit | default_value: 100\n",
      "mojo_building_timeout | default_value: 1800.0\n",
      "mojo_building_parallelism | default_value: -1\n",
      "tensorflow_nlp_have_gpus_in_production | default_value: False\n",
      "enable_ftrl | default_value: auto\n",
      "enable_rulefit | default_value: auto\n",
      "time: 500 ms\n"
     ]
    }
   ],
   "source": [
    "dai.experiments.search_expert_settings(\"mojo\")"
   ]
  },
  {
   "cell_type": "code",
   "execution_count": 51,
   "metadata": {},
   "outputs": [
    {
     "name": "stdout",
     "output_type": "stream",
     "text": [
      "Experiment launched at: http://54.172.110.253:12345/#experiment?key=4626f5be-5fcf-11ea-900c-129353b3dc81\n",
      "Running 16.18% - Building MOJO pipeline...                         time: 29.7 s\n"
     ]
    }
   ],
   "source": [
    "# Retrain on all data for productionalizing\n",
    "full_model = default_baseline.retrain(final_pipeline_only=True, \n",
    "                                      train_dataset=telco_churn,\n",
    "                                      test_dataset=\"\",\n",
    "                                      make_mojo_scoring_pipeline=\"on\")\n",
    "\n",
    "full_model = dai.experiments.get(full_model.key)"
   ]
  },
  {
   "cell_type": "code",
   "execution_count": 52,
   "metadata": {},
   "outputs": [
    {
     "data": {
      "text/plain": [
       "{'scorer': 'F1',\n",
       " 'val_score': 0.8431372549019608,\n",
       " 'val_score_sd': 0.012202398220969562,\n",
       " 'val_roc_auc': 0.9174465148378191,\n",
       " 'val_pr_auc': 0.8722423431305169,\n",
       " 'test_score': None,\n",
       " 'test_score_sd': None,\n",
       " 'test_roc_auc': None,\n",
       " 'test_pr_auc': None}"
      ]
     },
     "execution_count": 52,
     "metadata": {},
     "output_type": "execute_result"
    },
    {
     "name": "stdout",
     "output_type": "stream",
     "text": [
      "time: 212 ms\n"
     ]
    }
   ],
   "source": [
    "full_model.metrics()"
   ]
  },
  {
   "cell_type": "code",
   "execution_count": 53,
   "metadata": {},
   "outputs": [
    {
     "name": "stdout",
     "output_type": "stream",
     "text": [
      "Downloaded '/Users/mtanco/Downloads/mojo.zip'\n",
      "time: 15.2 s\n"
     ]
    }
   ],
   "source": [
    "artifacts = full_model.artifacts.download(\"mojo_pipeline\", download_location, overwrite=True)"
   ]
  },
  {
   "cell_type": "markdown",
   "metadata": {},
   "source": [
    "### View the Pipeline"
   ]
  },
  {
   "cell_type": "code",
   "execution_count": 54,
   "metadata": {},
   "outputs": [
    {
     "name": "stdout",
     "output_type": "stream",
     "text": [
      "Archive:  /Users/mtanco/Downloads/mojo.zip\n",
      "   creating: /Users/mtanco/Downloads/mojo-pipeline/\n",
      "   creating: /Users/mtanco/Downloads/mojo-pipeline/tmp/\n",
      "  inflating: /Users/mtanco/Downloads/mojo-pipeline/mojo2-runtime.jar  \n",
      "  inflating: /Users/mtanco/Downloads/mojo-pipeline/README.txt  \n",
      "  inflating: /Users/mtanco/Downloads/mojo-pipeline/pipeline.png  \n",
      "  inflating: /Users/mtanco/Downloads/mojo-pipeline/mojo2-runtime-javadoc.jar  \n",
      "  inflating: /Users/mtanco/Downloads/mojo-pipeline/pipeline.dot  \n",
      "  inflating: /Users/mtanco/Downloads/mojo-pipeline/example.jay  \n",
      "  inflating: /Users/mtanco/Downloads/mojo-pipeline/run_example.sh  \n",
      "  inflating: /Users/mtanco/Downloads/mojo-pipeline/example.csv  \n",
      "  inflating: /Users/mtanco/Downloads/mojo-pipeline/pipeline.mojo  \n",
      "   creating: /Users/mtanco/Downloads/mojo-pipeline/tmp/matplotlib_cachedir_0/\n",
      "   creating: /Users/mtanco/Downloads/mojo-pipeline/tmp/matplotlib_cachedir_0/fontconfig/\n",
      "  inflating: /Users/mtanco/Downloads/mojo-pipeline/tmp/matplotlib_cachedir_0/fontconfig/c4ae508b-5795-40a3-afcb-0881ed2d0a27-le64.cache-7  \n",
      "  inflating: /Users/mtanco/Downloads/mojo-pipeline/tmp/matplotlib_cachedir_0/fontconfig/ff15eb4f-efca-4ab7-ae44-fda35abb238e-le64.cache-7  \n",
      "  inflating: /Users/mtanco/Downloads/mojo-pipeline/tmp/matplotlib_cachedir_0/fontconfig/224b92e5-b811-4b62-9402-8532abffeab8-le64.cache-7  \n",
      "  inflating: /Users/mtanco/Downloads/mojo-pipeline/tmp/matplotlib_cachedir_0/fontconfig/CACHEDIR.TAG  \n",
      "time: 277 ms\n"
     ]
    }
   ],
   "source": [
    "# this is for a mac with unzip installed\n",
    "!unzip {artifacts[\"mojo_pipeline\"]} -d {download_location}"
   ]
  },
  {
   "cell_type": "code",
   "execution_count": 55,
   "metadata": {},
   "outputs": [
    {
     "data": {
      "image/png": "[encoded data removed]",
      "text/plain": [
       "<IPython.core.display.Image object>"
      ]
     },
     "execution_count": 55,
     "metadata": {},
     "output_type": "execute_result"
    },
    {
     "name": "stdout",
     "output_type": "stream",
     "text": [
      "time: 8.39 ms\n"
     ]
    }
   ],
   "source": [
    "from IPython.display import Image\n",
    "Image(filename=download_location + 'mojo-pipeline/pipeline.png') "
   ]
  },
  {
   "cell_type": "markdown",
   "metadata": {},
   "source": [
    "## Launching Machine Learning Interpretability\n",
    "MLI is not currently available in the Beta Client but we can use the backend Python Client for this. <br /><br />\n",
    "**Note:** This client can be downloaded from the DAI UI under Resources"
   ]
  },
  {
   "cell_type": "code",
   "execution_count": 56,
   "metadata": {},
   "outputs": [
    {
     "name": "stdout",
     "output_type": "stream",
     "text": [
      "Client and Server Versions Match\n",
      "time: 94 ms\n"
     ]
    }
   ],
   "source": [
    "import h2oai_client\n",
    "if(dai.server_version != h2oai_client.__version__):\n",
    "    print(\"Client Version:\", h2oai_client.__version__)\n",
    "    print(\"Server Version:\", dai.server_version)\n",
    "else:\n",
    "    print(\"Client and Server Versions Match\")\n",
    "del h2oai_client"
   ]
  },
  {
   "cell_type": "code",
   "execution_count": 57,
   "metadata": {},
   "outputs": [
    {
     "name": "stdout",
     "output_type": "stream",
     "text": [
      "time: 614 µs\n"
     ]
    }
   ],
   "source": [
    "from h2oai_client import Client"
   ]
  },
  {
   "cell_type": "code",
   "execution_count": 58,
   "metadata": {},
   "outputs": [
    {
     "name": "stdout",
     "output_type": "stream",
     "text": [
      "Enter your Driverless AI password: ········\n",
      "time: 22 s\n"
     ]
    }
   ],
   "source": [
    "h2oai = Client(address=dai.address, username=dai.username, \n",
    "               password=getpass.getpass(\"Enter your Driverless AI password: \"))"
   ]
  },
  {
   "cell_type": "code",
   "execution_count": 59,
   "metadata": {},
   "outputs": [
    {
     "name": "stdout",
     "output_type": "stream",
     "text": [
      "time: 52.1 s\n"
     ]
    }
   ],
   "source": [
    "mli = h2oai.run_interpretation_sync(dai_model_key=full_model.key, \n",
    "                                    dataset_key=telco_churn.key, \n",
    "                                    nfolds=3,\n",
    "                                    target_col=\"Churn?\")"
   ]
  },
  {
   "cell_type": "code",
   "execution_count": 60,
   "metadata": {},
   "outputs": [
    {
     "name": "stdout",
     "output_type": "stream",
     "text": [
      "http://54.172.110.253:12345/#experiment?key=4626f5be-5fcf-11ea-900c-129353b3dc81\n",
      "time: 903 µs\n"
     ]
    }
   ],
   "source": [
    "# go to experiment, click \"interpret this model\" to go to completed mli\n",
    "full_model.gui()"
   ]
  },
  {
   "cell_type": "markdown",
   "metadata": {},
   "source": [
    "## Disconnect"
   ]
  },
  {
   "cell_type": "code",
   "execution_count": 61,
   "metadata": {},
   "outputs": [
    {
     "name": "stdout",
     "output_type": "stream",
     "text": [
      "time: 1.97 ms\n"
     ]
    }
   ],
   "source": [
    "dai.disconnect()"
   ]
  },
  {
   "cell_type": "code",
   "execution_count": null,
   "metadata": {},
   "outputs": [],
   "source": []
  }
 ],
 "metadata": {
  "kernelspec": {
   "display_name": "Python 3",
   "language": "python",
   "name": "python3"
  },
  "language_info": {
   "codemirror_mode": {
    "name": "ipython",
    "version": 3
   },
   "file_extension": ".py",
   "mimetype": "text/x-python",
   "name": "python",
   "nbconvert_exporter": "python",
   "pygments_lexer": "ipython3",
   "version": "3.6.5"
  },
  "toc": {
   "base_numbering": 1,
   "nav_menu": {},
   "number_sections": true,
   "sideBar": true,
   "skip_h1_title": true,
   "title_cell": "Table of Contents",
   "title_sidebar": "Contents",
   "toc_cell": true,
   "toc_position": {
    "height": "681px",
    "left": "37px",
    "top": "629px",
    "width": "336px"
   },
   "toc_section_display": true,
   "toc_window_display": true
  }
 },
 "nbformat": 4,
 "nbformat_minor": 2
}
