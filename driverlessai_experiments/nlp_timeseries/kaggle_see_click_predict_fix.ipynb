{
 "cells": [
  {
   "cell_type": "markdown",
   "metadata": {},
   "source": [
    "# Driverless AI Timeseries & NLP Demo\n",
    "## See Click Predict Fix Kaggle Competition\n",
    "\n",
    "In this notebook, we will see how to use Driverless AI python client to submit baseline model to the See Click Predict Fix kaggle competition.\n",
    "\n",
    "Our very first model should score in the silver zone. With some additional tweaks you could reach the gold zone."
   ]
  },
  {
   "cell_type": "code",
   "execution_count": 1,
   "metadata": {},
   "outputs": [
    {
     "data": {
      "text/html": [
       "        <script type=\"text/javascript\">\n",
       "        window.PlotlyConfig = {MathJaxConfig: 'local'};\n",
       "        if (window.MathJax) {MathJax.Hub.Config({SVG: {font: \"STIX-Web\"}});}\n",
       "        if (typeof require !== 'undefined') {\n",
       "        require.undef(\"plotly\");\n",
       "        requirejs.config({\n",
       "            paths: {\n",
       "                'plotly': ['https://cdn.plot.ly/plotly-latest.min']\n",
       "            }\n",
       "        });\n",
       "        require(['plotly'], function(Plotly) {\n",
       "            window._Plotly = Plotly;\n",
       "        });\n",
       "        }\n",
       "        </script>\n",
       "        "
      ]
     },
     "metadata": {},
     "output_type": "display_data"
    }
   ],
   "source": [
    "%matplotlib inline\n",
    "import os\n",
    "import pandas as pd\n",
    "from IPython.core.interactiveshell import InteractiveShell\n",
    "InteractiveShell.ast_node_interactivity = \"all\"\n",
    "from plotly.offline import init_notebook_mode\n",
    "init_notebook_mode(connected=True)\n",
    "import datetime\n",
    "import numpy as np\n",
    "import plotly.graph_objects as go\n",
    "import plotly.express as px\n",
    "import getpass"
   ]
  },
  {
   "cell_type": "code",
   "execution_count": 2,
   "metadata": {},
   "outputs": [],
   "source": [
    "# !pip install driverlessai==1.9.0.2\n",
    "import driverlessai"
   ]
  },
  {
   "cell_type": "markdown",
   "metadata": {},
   "source": [
    "## Download the Data from Kaggle\n",
    "https://www.kaggle.com/c/see-click-predict-fix"
   ]
  },
  {
   "cell_type": "markdown",
   "metadata": {},
   "source": [
    "## Quick Overview\n",
    "The purpose of the competition was to quantify and predict how people will react to a specific 311 issue. What makes an issue urgent? What do citizens really care about? How much does location matter? Being able to predict the most pressing topics will allow governments to focus their efforts on fixing the most important problems.\n",
    "\n",
    "The competition dataset contains several hundred thousand issues from four US cities.\n",
    "\n",
    "![](imgs/mapbox.png)"
   ]
  },
  {
   "cell_type": "code",
   "execution_count": 3,
   "metadata": {},
   "outputs": [
    {
     "data": {
      "text/plain": [
       "((223129, 11), (149575, 8), (149575, 4))"
      ]
     },
     "execution_count": 3,
     "metadata": {},
     "output_type": "execute_result"
    }
   ],
   "source": [
    "start = datetime.datetime.now()\n",
    "train = pd.read_csv('train.csv')\n",
    "test = pd.read_csv('test.csv')\n",
    "sample_submission = pd.read_csv('sampleSubmission.csv')\n",
    "train.shape, test.shape, sample_submission.shape\n",
    "targets = ['num_views', 'num_votes', 'num_comments']"
   ]
  },
  {
   "cell_type": "code",
   "execution_count": 4,
   "metadata": {},
   "outputs": [
    {
     "data": {
      "text/plain": [
       "'-------- TRAIN ----------'"
      ]
     },
     "execution_count": 4,
     "metadata": {},
     "output_type": "execute_result"
    },
    {
     "data": {
      "text/html": [
       "<div>\n",
       "<style scoped>\n",
       "    .dataframe tbody tr th:only-of-type {\n",
       "        vertical-align: middle;\n",
       "    }\n",
       "\n",
       "    .dataframe tbody tr th {\n",
       "        vertical-align: top;\n",
       "    }\n",
       "\n",
       "    .dataframe thead th {\n",
       "        text-align: right;\n",
       "    }\n",
       "</style>\n",
       "<table border=\"1\" class=\"dataframe\">\n",
       "  <thead>\n",
       "    <tr style=\"text-align: right;\">\n",
       "      <th></th>\n",
       "      <th>id</th>\n",
       "      <th>latitude</th>\n",
       "      <th>longitude</th>\n",
       "      <th>summary</th>\n",
       "      <th>description</th>\n",
       "      <th>num_votes</th>\n",
       "      <th>num_comments</th>\n",
       "      <th>num_views</th>\n",
       "      <th>source</th>\n",
       "      <th>created_time</th>\n",
       "      <th>tag_type</th>\n",
       "    </tr>\n",
       "  </thead>\n",
       "  <tbody>\n",
       "    <tr>\n",
       "      <th>0</th>\n",
       "      <td>368683</td>\n",
       "      <td>37.590139</td>\n",
       "      <td>-77.456841</td>\n",
       "      <td>Alleyway light out.</td>\n",
       "      <td>There is a streetlight lamp out in the alleywa...</td>\n",
       "      <td>4</td>\n",
       "      <td>0</td>\n",
       "      <td>62</td>\n",
       "      <td>New Map Widget</td>\n",
       "      <td>2012-01-01 01:20:08</td>\n",
       "      <td>street_light</td>\n",
       "    </tr>\n",
       "    <tr>\n",
       "      <th>1</th>\n",
       "      <td>77642</td>\n",
       "      <td>37.541534</td>\n",
       "      <td>-77.451985</td>\n",
       "      <td>brick side walk has sink hole</td>\n",
       "      <td>bricks are falling into deep hole.  please rep...</td>\n",
       "      <td>2</td>\n",
       "      <td>2</td>\n",
       "      <td>28</td>\n",
       "      <td>NaN</td>\n",
       "      <td>2012-01-01 03:18:40</td>\n",
       "      <td>pothole</td>\n",
       "    </tr>\n",
       "  </tbody>\n",
       "</table>\n",
       "</div>"
      ],
      "text/plain": [
       "       id   latitude  longitude                        summary  \\\n",
       "0  368683  37.590139 -77.456841            Alleyway light out.   \n",
       "1   77642  37.541534 -77.451985  brick side walk has sink hole   \n",
       "\n",
       "                                         description  num_votes  num_comments  \\\n",
       "0  There is a streetlight lamp out in the alleywa...          4             0   \n",
       "1  bricks are falling into deep hole.  please rep...          2             2   \n",
       "\n",
       "   num_views          source         created_time      tag_type  \n",
       "0         62  New Map Widget  2012-01-01 01:20:08  street_light  \n",
       "1         28             NaN  2012-01-01 03:18:40       pothole  "
      ]
     },
     "execution_count": 4,
     "metadata": {},
     "output_type": "execute_result"
    },
    {
     "data": {
      "text/plain": [
       "'-------- TEST ----------'"
      ]
     },
     "execution_count": 4,
     "metadata": {},
     "output_type": "execute_result"
    },
    {
     "data": {
      "text/html": [
       "<div>\n",
       "<style scoped>\n",
       "    .dataframe tbody tr th:only-of-type {\n",
       "        vertical-align: middle;\n",
       "    }\n",
       "\n",
       "    .dataframe tbody tr th {\n",
       "        vertical-align: top;\n",
       "    }\n",
       "\n",
       "    .dataframe thead th {\n",
       "        text-align: right;\n",
       "    }\n",
       "</style>\n",
       "<table border=\"1\" class=\"dataframe\">\n",
       "  <thead>\n",
       "    <tr style=\"text-align: right;\">\n",
       "      <th></th>\n",
       "      <th>id</th>\n",
       "      <th>latitude</th>\n",
       "      <th>longitude</th>\n",
       "      <th>summary</th>\n",
       "      <th>description</th>\n",
       "      <th>source</th>\n",
       "      <th>created_time</th>\n",
       "      <th>tag_type</th>\n",
       "    </tr>\n",
       "  </thead>\n",
       "  <tbody>\n",
       "    <tr>\n",
       "      <th>0</th>\n",
       "      <td>21523</td>\n",
       "      <td>41.913652</td>\n",
       "      <td>-87.706050</td>\n",
       "      <td>Graffiti Removal</td>\n",
       "      <td>NaN</td>\n",
       "      <td>remote_api_created</td>\n",
       "      <td>2013-05-01 00:13:47</td>\n",
       "      <td>NaN</td>\n",
       "    </tr>\n",
       "    <tr>\n",
       "      <th>1</th>\n",
       "      <td>87152</td>\n",
       "      <td>41.913646</td>\n",
       "      <td>-87.706479</td>\n",
       "      <td>Graffiti Removal</td>\n",
       "      <td>NaN</td>\n",
       "      <td>remote_api_created</td>\n",
       "      <td>2013-05-01 00:14:57</td>\n",
       "      <td>NaN</td>\n",
       "    </tr>\n",
       "  </tbody>\n",
       "</table>\n",
       "</div>"
      ],
      "text/plain": [
       "      id   latitude  longitude           summary description  \\\n",
       "0  21523  41.913652 -87.706050  Graffiti Removal         NaN   \n",
       "1  87152  41.913646 -87.706479  Graffiti Removal         NaN   \n",
       "\n",
       "               source         created_time tag_type  \n",
       "0  remote_api_created  2013-05-01 00:13:47      NaN  \n",
       "1  remote_api_created  2013-05-01 00:14:57      NaN  "
      ]
     },
     "execution_count": 4,
     "metadata": {},
     "output_type": "execute_result"
    },
    {
     "data": {
      "text/plain": [
       "'-------- SAMPLE SUBMISSION ----------'"
      ]
     },
     "execution_count": 4,
     "metadata": {},
     "output_type": "execute_result"
    },
    {
     "data": {
      "text/html": [
       "<div>\n",
       "<style scoped>\n",
       "    .dataframe tbody tr th:only-of-type {\n",
       "        vertical-align: middle;\n",
       "    }\n",
       "\n",
       "    .dataframe tbody tr th {\n",
       "        vertical-align: top;\n",
       "    }\n",
       "\n",
       "    .dataframe thead th {\n",
       "        text-align: right;\n",
       "    }\n",
       "</style>\n",
       "<table border=\"1\" class=\"dataframe\">\n",
       "  <thead>\n",
       "    <tr style=\"text-align: right;\">\n",
       "      <th></th>\n",
       "      <th>id</th>\n",
       "      <th>num_views</th>\n",
       "      <th>num_votes</th>\n",
       "      <th>num_comments</th>\n",
       "    </tr>\n",
       "  </thead>\n",
       "  <tbody>\n",
       "    <tr>\n",
       "      <th>0</th>\n",
       "      <td>21523</td>\n",
       "      <td>0</td>\n",
       "      <td>0</td>\n",
       "      <td>0</td>\n",
       "    </tr>\n",
       "    <tr>\n",
       "      <th>1</th>\n",
       "      <td>87152</td>\n",
       "      <td>0</td>\n",
       "      <td>0</td>\n",
       "      <td>0</td>\n",
       "    </tr>\n",
       "  </tbody>\n",
       "</table>\n",
       "</div>"
      ],
      "text/plain": [
       "      id  num_views  num_votes  num_comments\n",
       "0  21523          0          0             0\n",
       "1  87152          0          0             0"
      ]
     },
     "execution_count": 4,
     "metadata": {},
     "output_type": "execute_result"
    }
   ],
   "source": [
    "'-------- TRAIN ----------'\n",
    "train.head(2)\n",
    "'-------- TEST ----------'\n",
    "test.head(2)\n",
    "'-------- SAMPLE SUBMISSION ----------'\n",
    "sample_submission.head(2)"
   ]
  },
  {
   "cell_type": "code",
   "execution_count": 5,
   "metadata": {},
   "outputs": [],
   "source": [
    "# To reproduce the scatter maps you may need a Mapbox account and a public Mapbox Access Token.\n",
    "# See more at https://plotly.com/python/scattermapbox/\n",
    "if os.path.exists('.mapbox_token'):\n",
    "    px.set_mapbox_access_token(open('.mapbox_token').read())\n",
    "    geo = train.round(2).groupby(['latitude', 'longitude']).count().reset_index()\n",
    "    fig = px.scatter_mapbox(\n",
    "        geo, lat=\"latitude\", lon=\"longitude\",\n",
    "        color_continuous_scale=px.colors.cyclical.IceFire, zoom=3,\n",
    "        title='Four US Cities'\n",
    "    )\n",
    "    fig.show()\n",
    "    fig = px.scatter_mapbox(\n",
    "        geo, lat=\"latitude\", lon=\"longitude\", color=\"id\", opacity=0.7,\n",
    "        center=go.layout.mapbox.Center(lat=41.81, lon=-87.6),\n",
    "        color_continuous_scale=px.colors.cyclical.IceFire, zoom=8,\n",
    "        title='Issues in Chicago'\n",
    "    )\n",
    "    fig.show()"
   ]
  },
  {
   "cell_type": "markdown",
   "metadata": {},
   "source": [
    "This compact dataset is actually quite complex. We have\n",
    "* **numeric** features (*latitude*, *longitude*) for the location of the issue,\n",
    "* raw **text** *description* and *summary*,\n",
    "* an important **time** (*created_time*) dimension,\n",
    "* **categorical** (*source*, *tag_type*) features as well.\n",
    "\n",
    "Beside the complex data types, the records could have missing values.\n",
    "\n",
    "#### Evaluation\n",
    "\n",
    "We should predict for each issue in the test set, the **number of views, votes, and comments**.\n",
    "\n",
    "The competition used Root Mean Squared Logarithmic Error (**RMSLE**) to measure the accuracy."
   ]
  },
  {
   "cell_type": "markdown",
   "metadata": {},
   "source": [
    "### Logtransform target variables\n",
    "\n",
    "For **RMSLE** objective usually it is a good trick to log-transform the target variables. That way we could optimize for **RMSE**."
   ]
  },
  {
   "cell_type": "code",
   "execution_count": 6,
   "metadata": {},
   "outputs": [],
   "source": [
    "log_train = train.copy()\n",
    "for t in targets:\n",
    "    log_train[t] = np.log(train[t] + 1)\n",
    "log_train.to_csv('log_train.csv', index=False)"
   ]
  },
  {
   "cell_type": "markdown",
   "metadata": {},
   "source": [
    "## Connect to Driverless AI\n",
    "\n",
    "Make sure to use the correct `address` and `username`."
   ]
  },
  {
   "cell_type": "code",
   "execution_count": 7,
   "metadata": {},
   "outputs": [],
   "source": [
    "address = 'http://52.87.241.250:12345'\n",
    "username = 'h2oai'"
   ]
  },
  {
   "cell_type": "code",
   "execution_count": 8,
   "metadata": {},
   "outputs": [
    {
     "name": "stdout",
     "output_type": "stream",
     "text": [
      "Enter Driverless AI password: ········\n"
     ]
    }
   ],
   "source": [
    "dai = driverlessai.Client(\n",
    "    address=address,\n",
    "    username=username,\n",
    "    password=getpass.getpass(\"Enter Driverless AI password: \"))"
   ]
  },
  {
   "cell_type": "markdown",
   "metadata": {},
   "source": [
    "## Create the Datasets in DAI"
   ]
  },
  {
   "cell_type": "code",
   "execution_count": 9,
   "metadata": {},
   "outputs": [],
   "source": [
    "datasets = dai.datasets.list()\n",
    "dataset_names = [d.name for d in datasets]"
   ]
  },
  {
   "cell_type": "code",
   "execution_count": 10,
   "metadata": {},
   "outputs": [],
   "source": [
    "if not 'scpf_train_log' in dataset_names:\n",
    "    _ = dai.datasets.create('log_train.csv', name='scpf_train_log')\n",
    "if not 'scpf_test' in dataset_names:\n",
    "    _ = dai.datasets.create('test.csv', name='scpf_test')\n",
    "\n",
    "datasets = dai.datasets.list()\n",
    "train_dataset = [d for d in datasets if d.name =='scpf_train_log'][0]\n",
    "test_dataset = [d for d in datasets if d.name =='scpf_test'][0]"
   ]
  },
  {
   "cell_type": "code",
   "execution_count": 11,
   "metadata": {},
   "outputs": [
    {
     "data": {
      "text/plain": [
       "((223129, 11), (149575, 8))"
      ]
     },
     "execution_count": 11,
     "metadata": {},
     "output_type": "execute_result"
    }
   ],
   "source": [
    "train_dataset.shape, test_dataset.shape"
   ]
  },
  {
   "cell_type": "markdown",
   "metadata": {},
   "source": [
    "## Create Experiments with GUI\n",
    "\n",
    "We could use the UI and select\n",
    "* the previously uploaded 'scpf_train_log' and 'scpf_test' dataset\n",
    "* `RMSE` as the main loss function to optimize for\n",
    "* `created_time` as time column\n",
    "* `num_views` as target\n",
    "* and give a name to the experiment \n",
    "\n",
    "![](imgs/create_experiment.png)\n",
    "\n",
    "\n",
    "## Create Experiments with Python Client\n",
    "\n",
    "Since we need to train 3 models for the targets, we could use the python client to create the experiments. It will be easier to collect the predictions as well.\n"
   ]
  },
  {
   "cell_type": "code",
   "execution_count": 12,
   "metadata": {},
   "outputs": [],
   "source": [
    "settings = {\n",
    "    'task': 'regression',\n",
    "    'scorer': 'RMSE',\n",
    "    'time_column': 'created_time',\n",
    "    'train_dataset': train_dataset,\n",
    "    'test_dataset': test_dataset,\n",
    "}"
   ]
  },
  {
   "cell_type": "code",
   "execution_count": 13,
   "metadata": {},
   "outputs": [
    {
     "name": "stdout",
     "output_type": "stream",
     "text": [
      "ACCURACY [7/10]:\n",
      "- Training data size: *223,129 rows, 11 cols*\n",
      "- Feature evolution: *[Constant, LightGBM, XGBoostGBM, ZeroInflatedLightGBM, ZeroInflatedXGBoost]*, *up to 4 time-based validation split(s)*\n",
      "- Final pipeline: *One of [Constant, LightGBM, XGBoostGBM, ZeroInflatedLightGBM, ZeroInflatedXGBoost], single final model, validated during feature evolution with up to 4 time-based back-testing windows*\n",
      "\n",
      "TIME [7/10]:\n",
      "- Feature evolution: *8 individuals*, up to *192 iterations*\n",
      "- Early stopping: After *15* iterations of no improvement\n",
      "\n",
      "INTERPRETABILITY [5/10]:\n",
      "- Feature pre-pruning strategy: None\n",
      "- Monotonicity constraints: disabled\n",
      "- Feature engineering search space: [CVCatNumEncode, CatOriginal, Cat, DateOriginal, DateTimeOriginal, Dates, EwmaLags, Frequent, Interactions, IsHoliday, LagsAggregates, LagsInteraction, Lags, OneHotEncoding, Original, TextLinModel, TextOriginal, Text]\n",
      "\n",
      "[Constant, LightGBM, XGBoostGBM, ZeroInflatedLightGBM, ZeroInflatedXGBoost] models to train:\n",
      "- Target transform tuning: *40*\n",
      "- Model and feature tuning: *128*\n",
      "- Feature evolution: *2432*\n",
      "- Final pipeline: *1*\n",
      "\n",
      "Estimated runtime: *hours*\n",
      "Auto-click Finish/Abort if not done in: *1 day*/*7 days*\n"
     ]
    }
   ],
   "source": [
    "dai.experiments.preview(target_column='num_views', **settings)"
   ]
  },
  {
   "cell_type": "code",
   "execution_count": 14,
   "metadata": {},
   "outputs": [],
   "source": [
    "launch_experiments = False\n",
    "if launch_experiments:\n",
    "    for t in targets:\n",
    "        _ = dai.experiments.create_async(\n",
    "            target_column=t,\n",
    "            name=f'log_{t}',\n",
    "            force=True,\n",
    "            **settings\n",
    "        )"
   ]
  },
  {
   "cell_type": "code",
   "execution_count": 15,
   "metadata": {},
   "outputs": [
    {
     "data": {
      "text/plain": [
       "[<class 'driverlessai._experiments.Experiment'> 53aa2dd4-fd89-11ea-9704-0242ac110002 log_num_comments,\n",
       " <class 'driverlessai._experiments.Experiment'> 51e113c8-fd89-11ea-9704-0242ac110002 log_num_votes,\n",
       " <class 'driverlessai._experiments.Experiment'> 50863abc-fd89-11ea-9704-0242ac110002 log_num_views]"
      ]
     },
     "execution_count": 15,
     "metadata": {},
     "output_type": "execute_result"
    }
   ],
   "source": [
    "all_experiments = dai.experiments.list()\n",
    "all_experiments[:3]"
   ]
  },
  {
   "cell_type": "markdown",
   "metadata": {},
   "source": [
    "## Let's wait for the experiments\n",
    "\n",
    "\n",
    "![](imgs/coffee.gif)"
   ]
  },
  {
   "cell_type": "markdown",
   "metadata": {},
   "source": [
    "## Download Predictions\n",
    "Training the models took me 1-2 hours. For quick results we could reduce the `time` parameter in `settings`."
   ]
  },
  {
   "cell_type": "code",
   "execution_count": 16,
   "metadata": {},
   "outputs": [
    {
     "data": {
      "text/plain": [
       "'num_views completed succesfully: True'"
      ]
     },
     "execution_count": 16,
     "metadata": {},
     "output_type": "execute_result"
    },
    {
     "data": {
      "text/plain": [
       "'num_votes completed succesfully: True'"
      ]
     },
     "execution_count": 16,
     "metadata": {},
     "output_type": "execute_result"
    },
    {
     "data": {
      "text/plain": [
       "'num_comments completed succesfully: True'"
      ]
     },
     "execution_count": 16,
     "metadata": {},
     "output_type": "execute_result"
    }
   ],
   "source": [
    "experiments = {}\n",
    "for t in targets:\n",
    "    experiments[t] = [ex for ex in all_experiments if ex.name == f'log_{t}'][0]\n",
    "    f'{t} completed succesfully: {experiments[t].is_complete()}'\n"
   ]
  },
  {
   "cell_type": "code",
   "execution_count": 17,
   "metadata": {},
   "outputs": [
    {
     "name": "stdout",
     "output_type": "stream",
     "text": [
      "Complete\n",
      "Downloaded 'predictions/50863abc-fd89-11ea-9704-0242ac110002_preds_a1b2976e.csv'\n",
      "Complete\n",
      "Downloaded 'predictions/51e113c8-fd89-11ea-9704-0242ac110002_preds_33f09b77.csv'\n",
      "Complete\n",
      "Downloaded 'predictions/53aa2dd4-fd89-11ea-9704-0242ac110002_preds_6826f0e2.csv'\n"
     ]
    }
   ],
   "source": [
    "test_prediction_paths = []\n",
    "for t in targets:\n",
    "    prediction = experiments[t].predict(test_dataset, include_columns=['id'])\n",
    "    path = prediction.download(dst_dir='predictions')\n",
    "    test_prediction_paths.append(path)"
   ]
  },
  {
   "cell_type": "code",
   "execution_count": 18,
   "metadata": {},
   "outputs": [
    {
     "data": {
      "text/html": [
       "<div>\n",
       "<style scoped>\n",
       "    .dataframe tbody tr th:only-of-type {\n",
       "        vertical-align: middle;\n",
       "    }\n",
       "\n",
       "    .dataframe tbody tr th {\n",
       "        vertical-align: top;\n",
       "    }\n",
       "\n",
       "    .dataframe thead th {\n",
       "        text-align: right;\n",
       "    }\n",
       "</style>\n",
       "<table border=\"1\" class=\"dataframe\">\n",
       "  <thead>\n",
       "    <tr style=\"text-align: right;\">\n",
       "      <th></th>\n",
       "      <th>num_views</th>\n",
       "      <th>num_votes</th>\n",
       "      <th>num_comments</th>\n",
       "    </tr>\n",
       "    <tr>\n",
       "      <th>id</th>\n",
       "      <th></th>\n",
       "      <th></th>\n",
       "      <th></th>\n",
       "    </tr>\n",
       "  </thead>\n",
       "  <tbody>\n",
       "    <tr>\n",
       "      <th>21523</th>\n",
       "      <td>0.000011</td>\n",
       "      <td>0.697567</td>\n",
       "      <td>0.000925</td>\n",
       "    </tr>\n",
       "    <tr>\n",
       "      <th>87152</th>\n",
       "      <td>0.000071</td>\n",
       "      <td>0.694944</td>\n",
       "      <td>0.000925</td>\n",
       "    </tr>\n",
       "    <tr>\n",
       "      <th>182789</th>\n",
       "      <td>0.000095</td>\n",
       "      <td>0.697885</td>\n",
       "      <td>0.000925</td>\n",
       "    </tr>\n",
       "    <tr>\n",
       "      <th>312571</th>\n",
       "      <td>0.000004</td>\n",
       "      <td>0.692584</td>\n",
       "      <td>0.008114</td>\n",
       "    </tr>\n",
       "    <tr>\n",
       "      <th>246776</th>\n",
       "      <td>0.000004</td>\n",
       "      <td>0.695687</td>\n",
       "      <td>0.000925</td>\n",
       "    </tr>\n",
       "  </tbody>\n",
       "</table>\n",
       "</div>"
      ],
      "text/plain": [
       "        num_views  num_votes  num_comments\n",
       "id                                        \n",
       "21523    0.000011   0.697567      0.000925\n",
       "87152    0.000071   0.694944      0.000925\n",
       "182789   0.000095   0.697885      0.000925\n",
       "312571   0.000004   0.692584      0.008114\n",
       "246776   0.000004   0.695687      0.000925"
      ]
     },
     "execution_count": 18,
     "metadata": {},
     "output_type": "execute_result"
    }
   ],
   "source": [
    "predictions = pd.concat([\n",
    "    pd.read_csv(path).set_index('id') for path in test_prediction_paths\n",
    "], axis=1)[targets]\n",
    "predictions.head()"
   ]
  },
  {
   "cell_type": "markdown",
   "metadata": {},
   "source": [
    "## Create Submission\n",
    "\n",
    "Since we used log transform for the targets we need to transform back them to the original space."
   ]
  },
  {
   "cell_type": "code",
   "execution_count": 19,
   "metadata": {},
   "outputs": [],
   "source": [
    "for t in targets:\n",
    "    predictions[t] = np.exp(predictions[t]) - 1"
   ]
  },
  {
   "cell_type": "markdown",
   "metadata": {},
   "source": [
    "Our `predictions` DataFrame is ready for submission."
   ]
  },
  {
   "cell_type": "code",
   "execution_count": 20,
   "metadata": {},
   "outputs": [
    {
     "data": {
      "text/html": [
       "<div>\n",
       "<style scoped>\n",
       "    .dataframe tbody tr th:only-of-type {\n",
       "        vertical-align: middle;\n",
       "    }\n",
       "\n",
       "    .dataframe tbody tr th {\n",
       "        vertical-align: top;\n",
       "    }\n",
       "\n",
       "    .dataframe thead th {\n",
       "        text-align: right;\n",
       "    }\n",
       "</style>\n",
       "<table border=\"1\" class=\"dataframe\">\n",
       "  <thead>\n",
       "    <tr style=\"text-align: right;\">\n",
       "      <th></th>\n",
       "      <th>id</th>\n",
       "      <th>num_views</th>\n",
       "      <th>num_votes</th>\n",
       "      <th>num_comments</th>\n",
       "    </tr>\n",
       "  </thead>\n",
       "  <tbody>\n",
       "    <tr>\n",
       "      <th>0</th>\n",
       "      <td>21523</td>\n",
       "      <td>0</td>\n",
       "      <td>0</td>\n",
       "      <td>0</td>\n",
       "    </tr>\n",
       "    <tr>\n",
       "      <th>1</th>\n",
       "      <td>87152</td>\n",
       "      <td>0</td>\n",
       "      <td>0</td>\n",
       "      <td>0</td>\n",
       "    </tr>\n",
       "  </tbody>\n",
       "</table>\n",
       "</div>"
      ],
      "text/plain": [
       "      id  num_views  num_votes  num_comments\n",
       "0  21523          0          0             0\n",
       "1  87152          0          0             0"
      ]
     },
     "execution_count": 20,
     "metadata": {},
     "output_type": "execute_result"
    },
    {
     "data": {
      "text/html": [
       "<div>\n",
       "<style scoped>\n",
       "    .dataframe tbody tr th:only-of-type {\n",
       "        vertical-align: middle;\n",
       "    }\n",
       "\n",
       "    .dataframe tbody tr th {\n",
       "        vertical-align: top;\n",
       "    }\n",
       "\n",
       "    .dataframe thead th {\n",
       "        text-align: right;\n",
       "    }\n",
       "</style>\n",
       "<table border=\"1\" class=\"dataframe\">\n",
       "  <thead>\n",
       "    <tr style=\"text-align: right;\">\n",
       "      <th></th>\n",
       "      <th>num_views</th>\n",
       "      <th>num_votes</th>\n",
       "      <th>num_comments</th>\n",
       "    </tr>\n",
       "    <tr>\n",
       "      <th>id</th>\n",
       "      <th></th>\n",
       "      <th></th>\n",
       "      <th></th>\n",
       "    </tr>\n",
       "  </thead>\n",
       "  <tbody>\n",
       "    <tr>\n",
       "      <th>21523</th>\n",
       "      <td>0.000011</td>\n",
       "      <td>1.008859</td>\n",
       "      <td>0.000925</td>\n",
       "    </tr>\n",
       "    <tr>\n",
       "      <th>87152</th>\n",
       "      <td>0.000071</td>\n",
       "      <td>1.003596</td>\n",
       "      <td>0.000925</td>\n",
       "    </tr>\n",
       "  </tbody>\n",
       "</table>\n",
       "</div>"
      ],
      "text/plain": [
       "       num_views  num_votes  num_comments\n",
       "id                                       \n",
       "21523   0.000011   1.008859      0.000925\n",
       "87152   0.000071   1.003596      0.000925"
      ]
     },
     "execution_count": 20,
     "metadata": {},
     "output_type": "execute_result"
    }
   ],
   "source": [
    "sample_submission.head(2)\n",
    "predictions.head(2)"
   ]
  },
  {
   "cell_type": "code",
   "execution_count": 21,
   "metadata": {},
   "outputs": [],
   "source": [
    "predictions.to_csv('first_submission.csv')"
   ]
  },
  {
   "cell_type": "markdown",
   "metadata": {},
   "source": [
    "## Submit to Kaggle\n",
    "\n",
    "My very first submission scored 0.30897 on the private LB it would be in the silver zone. Actually it beat my original submission!\n",
    "\n",
    "![](imgs/scpf_lb_progress.png)\n",
    "\n",
    "Of course I could not stop here and wanted to boost the model further. Within a day (90% computation time 10% tweaking the expert settings) I was able to reach the gold zone.\n",
    "\n",
    "## Hints for Further Experiments\n",
    "* With proper GPU we could try advanced transformers or NLP models (e.g. BERT) in the expert settings\n",
    "* Increasing `Time` and `Accuracy` could lead to better final models\n",
    "* The top teams reported better results when they trained only on the most recent 3-4 months\n",
    "* Blending different experiments usually helps"
   ]
  },
  {
   "cell_type": "code",
   "execution_count": 22,
   "metadata": {},
   "outputs": [
    {
     "name": "stdout",
     "output_type": "stream",
     "text": [
      "2020-09-23 17:28:26.516391\n",
      "Finished in 831 seconds\n"
     ]
    }
   ],
   "source": [
    "end = datetime.datetime.now()\n",
    "print(f'{end}\\nFinished in {(end - start).seconds} seconds')"
   ]
  }
 ],
 "metadata": {
  "kernelspec": {
   "display_name": "Python 3",
   "language": "python",
   "name": "python3"
  },
  "language_info": {
   "codemirror_mode": {
    "name": "ipython",
    "version": 3
   },
   "file_extension": ".py",
   "mimetype": "text/x-python",
   "name": "python",
   "nbconvert_exporter": "python",
   "pygments_lexer": "ipython3",
   "version": "3.8.5"
  }
 },
 "nbformat": 4,
 "nbformat_minor": 4
}
