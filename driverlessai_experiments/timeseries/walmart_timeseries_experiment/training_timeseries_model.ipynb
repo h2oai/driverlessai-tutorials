{
 "cells": [
  {
   "cell_type": "markdown",
   "metadata": {},
   "source": [
    "# Driverless AI - Training Time Series Model\n",
    "\n",
    "The purpose of this notebook is to show an example of using Driverless AI to train a time series model.  Our goal will be to forecast the Weekly Sales for a particular Store and Department for the next week. The data used in this notebook is from the: [Walmart Kaggle Competition](https://www.kaggle.com/c/walmart-recruiting-store-sales-forecasting). \n",
    "\n",
    "## Workflow\n",
    "\n",
    "1. Import data into Python\n",
    "2. Format data for Time Series\n",
    "3. Upload data to Driverless AI\n",
    "4. Launch Driverless AI Experiment\n",
    "5. Evaluate model performance\n",
    "\n",
    "## Step 1: Import Data\n",
    "\n",
    "We will begin by importing our data using pandas. We are going to first work with the data in Python to correctly format it for a Driverless AI time series use case."
   ]
  },
  {
   "cell_type": "code",
   "execution_count": 4,
   "metadata": {},
   "outputs": [
    {
     "data": {
      "text/html": [
       "<div>\n",
       "<style scoped>\n",
       "    .dataframe tbody tr th:only-of-type {\n",
       "        vertical-align: middle;\n",
       "    }\n",
       "\n",
       "    .dataframe tbody tr th {\n",
       "        vertical-align: top;\n",
       "    }\n",
       "\n",
       "    .dataframe thead th {\n",
       "        text-align: right;\n",
       "    }\n",
       "</style>\n",
       "<table border=\"1\" class=\"dataframe\">\n",
       "  <thead>\n",
       "    <tr style=\"text-align: right;\">\n",
       "      <th></th>\n",
       "      <th>Store</th>\n",
       "      <th>Dept</th>\n",
       "      <th>Date</th>\n",
       "      <th>Weekly_Sales</th>\n",
       "      <th>Temperature</th>\n",
       "      <th>Fuel_Price</th>\n",
       "      <th>MarkDown1</th>\n",
       "      <th>MarkDown2</th>\n",
       "      <th>MarkDown3</th>\n",
       "      <th>MarkDown4</th>\n",
       "      <th>MarkDown5</th>\n",
       "      <th>CPI</th>\n",
       "      <th>Unemployment</th>\n",
       "      <th>IsHoliday</th>\n",
       "      <th>sample_weight</th>\n",
       "    </tr>\n",
       "  </thead>\n",
       "  <tbody>\n",
       "    <tr>\n",
       "      <th>0</th>\n",
       "      <td>1</td>\n",
       "      <td>1</td>\n",
       "      <td>2010-02-05</td>\n",
       "      <td>24924.50</td>\n",
       "      <td>42.31</td>\n",
       "      <td>2.572</td>\n",
       "      <td>-1.0</td>\n",
       "      <td>-1.0</td>\n",
       "      <td>-1.0</td>\n",
       "      <td>-1.0</td>\n",
       "      <td>-1.0</td>\n",
       "      <td>211.096358</td>\n",
       "      <td>8.106</td>\n",
       "      <td>False</td>\n",
       "      <td>1</td>\n",
       "    </tr>\n",
       "    <tr>\n",
       "      <th>1</th>\n",
       "      <td>1</td>\n",
       "      <td>2</td>\n",
       "      <td>2010-02-05</td>\n",
       "      <td>50605.27</td>\n",
       "      <td>42.31</td>\n",
       "      <td>2.572</td>\n",
       "      <td>-1.0</td>\n",
       "      <td>-1.0</td>\n",
       "      <td>-1.0</td>\n",
       "      <td>-1.0</td>\n",
       "      <td>-1.0</td>\n",
       "      <td>211.096358</td>\n",
       "      <td>8.106</td>\n",
       "      <td>False</td>\n",
       "      <td>1</td>\n",
       "    </tr>\n",
       "    <tr>\n",
       "      <th>2</th>\n",
       "      <td>1</td>\n",
       "      <td>3</td>\n",
       "      <td>2010-02-05</td>\n",
       "      <td>13740.12</td>\n",
       "      <td>42.31</td>\n",
       "      <td>2.572</td>\n",
       "      <td>-1.0</td>\n",
       "      <td>-1.0</td>\n",
       "      <td>-1.0</td>\n",
       "      <td>-1.0</td>\n",
       "      <td>-1.0</td>\n",
       "      <td>211.096358</td>\n",
       "      <td>8.106</td>\n",
       "      <td>False</td>\n",
       "      <td>1</td>\n",
       "    </tr>\n",
       "    <tr>\n",
       "      <th>3</th>\n",
       "      <td>1</td>\n",
       "      <td>4</td>\n",
       "      <td>2010-02-05</td>\n",
       "      <td>39954.04</td>\n",
       "      <td>42.31</td>\n",
       "      <td>2.572</td>\n",
       "      <td>-1.0</td>\n",
       "      <td>-1.0</td>\n",
       "      <td>-1.0</td>\n",
       "      <td>-1.0</td>\n",
       "      <td>-1.0</td>\n",
       "      <td>211.096358</td>\n",
       "      <td>8.106</td>\n",
       "      <td>False</td>\n",
       "      <td>1</td>\n",
       "    </tr>\n",
       "    <tr>\n",
       "      <th>4</th>\n",
       "      <td>1</td>\n",
       "      <td>5</td>\n",
       "      <td>2010-02-05</td>\n",
       "      <td>32229.38</td>\n",
       "      <td>42.31</td>\n",
       "      <td>2.572</td>\n",
       "      <td>-1.0</td>\n",
       "      <td>-1.0</td>\n",
       "      <td>-1.0</td>\n",
       "      <td>-1.0</td>\n",
       "      <td>-1.0</td>\n",
       "      <td>211.096358</td>\n",
       "      <td>8.106</td>\n",
       "      <td>False</td>\n",
       "      <td>1</td>\n",
       "    </tr>\n",
       "  </tbody>\n",
       "</table>\n",
       "</div>"
      ],
      "text/plain": [
       "   Store  Dept        Date  Weekly_Sales  Temperature  Fuel_Price  MarkDown1  \\\n",
       "0      1     1  2010-02-05      24924.50        42.31       2.572       -1.0   \n",
       "1      1     2  2010-02-05      50605.27        42.31       2.572       -1.0   \n",
       "2      1     3  2010-02-05      13740.12        42.31       2.572       -1.0   \n",
       "3      1     4  2010-02-05      39954.04        42.31       2.572       -1.0   \n",
       "4      1     5  2010-02-05      32229.38        42.31       2.572       -1.0   \n",
       "\n",
       "   MarkDown2  MarkDown3  MarkDown4  MarkDown5         CPI  Unemployment  \\\n",
       "0       -1.0       -1.0       -1.0       -1.0  211.096358         8.106   \n",
       "1       -1.0       -1.0       -1.0       -1.0  211.096358         8.106   \n",
       "2       -1.0       -1.0       -1.0       -1.0  211.096358         8.106   \n",
       "3       -1.0       -1.0       -1.0       -1.0  211.096358         8.106   \n",
       "4       -1.0       -1.0       -1.0       -1.0  211.096358         8.106   \n",
       "\n",
       "   IsHoliday  sample_weight  \n",
       "0      False              1  \n",
       "1      False              1  \n",
       "2      False              1  \n",
       "3      False              1  \n",
       "4      False              1  "
      ]
     },
     "execution_count": 4,
     "metadata": {},
     "output_type": "execute_result"
    }
   ],
   "source": [
    "import pandas as pd\n",
    "\n",
    "sales_data = pd.read_csv(\"./walmart_train.csv\")\n",
    "sales_data.head()"
   ]
  },
  {
   "cell_type": "code",
   "execution_count": 5,
   "metadata": {},
   "outputs": [],
   "source": [
    "# Convert Date column to datetime\n",
    "sales_data[\"Date\"] = pd.to_datetime(sales_data[\"Date\"], format=\"%Y-%m-%d\")"
   ]
  },
  {
   "cell_type": "markdown",
   "metadata": {},
   "source": [
    "## Step 2: Format Data for Time Series\n",
    "\n",
    "The data has one record per Store, Department, and Week.  Our goal for this use case will be to forecast the total sales for the next week.\n",
    "\n",
    "The only features we should use as predictors are ones that we will have available at the time of scoring.  Features like the Temperature, Fuel Price, and Unemployment will not be known in advance.  Therefore, before we start our Driverless AI experiments, we will choose to use the previous week's Temperature, Fuel Price, Unemployment, and CPI attributes.  This information we will know at time of scoring."
   ]
  },
  {
   "cell_type": "code",
   "execution_count": 6,
   "metadata": {},
   "outputs": [],
   "source": [
    "lag_variables = [\"Temperature\", \"Fuel_Price\", \"CPI\", \"Unemployment\"]\n",
    "dai_data = sales_data.set_index([\"Date\", \"Store\", \"Dept\"])\n",
    "lagged_data = dai_data.loc[:, lag_variables].groupby(level=[\"Store\", \"Dept\"]).shift(1)"
   ]
  },
  {
   "cell_type": "code",
   "execution_count": 8,
   "metadata": {},
   "outputs": [],
   "source": [
    "# Join lagged predictor variables to training data\n",
    "dai_data = dai_data.join(lagged_data.rename(columns=lambda x: x +\"_lag\"))"
   ]
  },
  {
   "cell_type": "code",
   "execution_count": 9,
   "metadata": {},
   "outputs": [],
   "source": [
    "# Drop original predictor variables - we do not want to use these in the model \n",
    "dai_data = dai_data.drop(lagged_data, axis=1)\n",
    "dai_data = dai_data.reset_index()"
   ]
  },
  {
   "cell_type": "code",
   "execution_count": 10,
   "metadata": {},
   "outputs": [
    {
     "data": {
      "text/html": [
       "<div>\n",
       "<style scoped>\n",
       "    .dataframe tbody tr th:only-of-type {\n",
       "        vertical-align: middle;\n",
       "    }\n",
       "\n",
       "    .dataframe tbody tr th {\n",
       "        vertical-align: top;\n",
       "    }\n",
       "\n",
       "    .dataframe thead th {\n",
       "        text-align: right;\n",
       "    }\n",
       "</style>\n",
       "<table border=\"1\" class=\"dataframe\">\n",
       "  <thead>\n",
       "    <tr style=\"text-align: right;\">\n",
       "      <th></th>\n",
       "      <th>Date</th>\n",
       "      <th>Store</th>\n",
       "      <th>Dept</th>\n",
       "      <th>Weekly_Sales</th>\n",
       "      <th>MarkDown1</th>\n",
       "      <th>MarkDown2</th>\n",
       "      <th>MarkDown3</th>\n",
       "      <th>MarkDown4</th>\n",
       "      <th>MarkDown5</th>\n",
       "      <th>IsHoliday</th>\n",
       "      <th>sample_weight</th>\n",
       "      <th>Temperature_lag</th>\n",
       "      <th>Fuel_Price_lag</th>\n",
       "      <th>CPI_lag</th>\n",
       "      <th>Unemployment_lag</th>\n",
       "    </tr>\n",
       "  </thead>\n",
       "  <tbody>\n",
       "    <tr>\n",
       "      <th>0</th>\n",
       "      <td>2010-02-05</td>\n",
       "      <td>1</td>\n",
       "      <td>1</td>\n",
       "      <td>24924.50</td>\n",
       "      <td>-1.0</td>\n",
       "      <td>-1.0</td>\n",
       "      <td>-1.0</td>\n",
       "      <td>-1.0</td>\n",
       "      <td>-1.0</td>\n",
       "      <td>False</td>\n",
       "      <td>1</td>\n",
       "      <td>NaN</td>\n",
       "      <td>NaN</td>\n",
       "      <td>NaN</td>\n",
       "      <td>NaN</td>\n",
       "    </tr>\n",
       "    <tr>\n",
       "      <th>1</th>\n",
       "      <td>2010-02-05</td>\n",
       "      <td>1</td>\n",
       "      <td>2</td>\n",
       "      <td>50605.27</td>\n",
       "      <td>-1.0</td>\n",
       "      <td>-1.0</td>\n",
       "      <td>-1.0</td>\n",
       "      <td>-1.0</td>\n",
       "      <td>-1.0</td>\n",
       "      <td>False</td>\n",
       "      <td>1</td>\n",
       "      <td>NaN</td>\n",
       "      <td>NaN</td>\n",
       "      <td>NaN</td>\n",
       "      <td>NaN</td>\n",
       "    </tr>\n",
       "    <tr>\n",
       "      <th>2</th>\n",
       "      <td>2010-02-05</td>\n",
       "      <td>1</td>\n",
       "      <td>3</td>\n",
       "      <td>13740.12</td>\n",
       "      <td>-1.0</td>\n",
       "      <td>-1.0</td>\n",
       "      <td>-1.0</td>\n",
       "      <td>-1.0</td>\n",
       "      <td>-1.0</td>\n",
       "      <td>False</td>\n",
       "      <td>1</td>\n",
       "      <td>NaN</td>\n",
       "      <td>NaN</td>\n",
       "      <td>NaN</td>\n",
       "      <td>NaN</td>\n",
       "    </tr>\n",
       "    <tr>\n",
       "      <th>3</th>\n",
       "      <td>2010-02-05</td>\n",
       "      <td>1</td>\n",
       "      <td>4</td>\n",
       "      <td>39954.04</td>\n",
       "      <td>-1.0</td>\n",
       "      <td>-1.0</td>\n",
       "      <td>-1.0</td>\n",
       "      <td>-1.0</td>\n",
       "      <td>-1.0</td>\n",
       "      <td>False</td>\n",
       "      <td>1</td>\n",
       "      <td>NaN</td>\n",
       "      <td>NaN</td>\n",
       "      <td>NaN</td>\n",
       "      <td>NaN</td>\n",
       "    </tr>\n",
       "    <tr>\n",
       "      <th>4</th>\n",
       "      <td>2010-02-05</td>\n",
       "      <td>1</td>\n",
       "      <td>5</td>\n",
       "      <td>32229.38</td>\n",
       "      <td>-1.0</td>\n",
       "      <td>-1.0</td>\n",
       "      <td>-1.0</td>\n",
       "      <td>-1.0</td>\n",
       "      <td>-1.0</td>\n",
       "      <td>False</td>\n",
       "      <td>1</td>\n",
       "      <td>NaN</td>\n",
       "      <td>NaN</td>\n",
       "      <td>NaN</td>\n",
       "      <td>NaN</td>\n",
       "    </tr>\n",
       "  </tbody>\n",
       "</table>\n",
       "</div>"
      ],
      "text/plain": [
       "        Date  Store  Dept  Weekly_Sales  MarkDown1  MarkDown2  MarkDown3  \\\n",
       "0 2010-02-05      1     1      24924.50       -1.0       -1.0       -1.0   \n",
       "1 2010-02-05      1     2      50605.27       -1.0       -1.0       -1.0   \n",
       "2 2010-02-05      1     3      13740.12       -1.0       -1.0       -1.0   \n",
       "3 2010-02-05      1     4      39954.04       -1.0       -1.0       -1.0   \n",
       "4 2010-02-05      1     5      32229.38       -1.0       -1.0       -1.0   \n",
       "\n",
       "   MarkDown4  MarkDown5  IsHoliday  sample_weight  Temperature_lag  \\\n",
       "0       -1.0       -1.0      False              1              NaN   \n",
       "1       -1.0       -1.0      False              1              NaN   \n",
       "2       -1.0       -1.0      False              1              NaN   \n",
       "3       -1.0       -1.0      False              1              NaN   \n",
       "4       -1.0       -1.0      False              1              NaN   \n",
       "\n",
       "   Fuel_Price_lag  CPI_lag  Unemployment_lag  \n",
       "0             NaN      NaN               NaN  \n",
       "1             NaN      NaN               NaN  \n",
       "2             NaN      NaN               NaN  \n",
       "3             NaN      NaN               NaN  \n",
       "4             NaN      NaN               NaN  "
      ]
     },
     "execution_count": 10,
     "metadata": {},
     "output_type": "execute_result"
    }
   ],
   "source": [
    "dai_data.head()"
   ]
  },
  {
   "cell_type": "markdown",
   "metadata": {},
   "source": [
    "Now that our training data is correctly formatted, we can run a Driverless AI experiment to forecast the next week's sales."
   ]
  },
  {
   "cell_type": "code",
   "execution_count": null,
   "metadata": {},
   "outputs": [],
   "source": [
    "def dai_moving_window(dataset, train_len, test_len, target, predictors, day_number_col, \n",
    "                      time_group_cols, accuracy, time, interpretability):\n",
    "    \n",
    "    \n",
    "    windows = get_moving_windows(dataset, train_len, test_len, day_number_col)    \n",
    "    \n",
    "    # Split the data by the window\n",
    "    forecast_predictions = pd.DataFrame([])\n",
    "    model_descriptions = []\n",
    "    model_features = []\n",
    "    \n",
    "    for window in windows:\n",
    "        train_data = dataset[(dataset[day_number_col] >= window.get(\"train_start_index\")) & \n",
    "                             (dataset[day_number_col] <= window.get(\"train_end_index\"))]\n",
    "        \n",
    "        test_data = dataset[(dataset[day_number_col] >= window.get(\"test_start_index\")) & \n",
    "                            (dataset[day_number_col] <= window.get(\"test_end_index\"))]\n",
    "        \n",
    "        # Get the Driverless AI forecast predictions\n",
    "        preds, desc, features = dai_get_forecast(train_data, test_data, predictors, target, \n",
    "                                                 day_number_col, time_group_cols, accuracy, time, interpretability)\n",
    "        forecast_predictions = forecast_predictions.append(preds)\n",
    "        model_descriptions = model_descriptions + [desc]\n",
    "        model_features = model_features + [features]\n",
    "    \n",
    "    return forecast_predictions, model_descriptions, model_features"
   ]
  },
  {
   "cell_type": "markdown",
   "metadata": {},
   "source": [
    "## Step 3: Upload Data to Driverless AI\n",
    "\n",
    "We will split out data into two pieces: training and test (which consists of the last week of data)."
   ]
  },
  {
   "cell_type": "code",
   "execution_count": 11,
   "metadata": {},
   "outputs": [],
   "source": [
    "train_data = dai_data.loc[dai_data[\"Date\"] < \"2012-10-26\"]\n",
    "test_data = dai_data.loc[dai_data[\"Date\"] == \"2012-10-26\"]"
   ]
  },
  {
   "cell_type": "markdown",
   "metadata": {},
   "source": [
    "To upload the datasets, we will sign into Driverless AI."
   ]
  },
  {
   "cell_type": "code",
   "execution_count": 13,
   "metadata": {},
   "outputs": [],
   "source": [
    "from h2oai_client import Client, ModelParameters"
   ]
  },
  {
   "cell_type": "code",
   "execution_count": null,
   "metadata": {},
   "outputs": [],
   "source": [
    "address = 'http://ip_where_driverless_is_running:12345'\n",
    "username = 'username'\n",
    "password = 'password'\n",
    "h2oai = Client(address = address, username = username, password = password)\n",
    "# make sure to use the same user name and password when signing in through the GUI"
   ]
  },
  {
   "cell_type": "code",
   "execution_count": 12,
   "metadata": {},
   "outputs": [],
   "source": [
    "train_path = \"./train_data.csv\"\n",
    "test_path = \"./test_data.csv\"\n",
    "\n",
    "train_data.to_csv(train_path, index = False)\n",
    "test_data.to_csv(test_path, index = False)"
   ]
  },
  {
   "cell_type": "code",
   "execution_count": 13,
   "metadata": {},
   "outputs": [],
   "source": [
    "# Add datasets to Driverless AI\n",
    "train_dai = h2oai.upload_dataset_sync(train_path)\n",
    "test_dai = h2oai.upload_dataset_sync(test_path)"
   ]
  },
  {
   "cell_type": "markdown",
   "metadata": {},
   "source": [
    "#### Equivalent Steps in Driverless: Uploading Train & Test CSV Files\n",
    "![Equivalent Steps in Driverless: Upload Train & Test CSV Files](images/import_data_sets_stock.png)"
   ]
  },
  {
   "cell_type": "markdown",
   "metadata": {},
   "source": [
    "## Step 4: Launch Driverless AI Experiment\n",
    "\n",
    "We will now launch the Driverless AI experiment.  To do that we will need to specify the parameters for our experiment.  Some of the parameters include:\n",
    "\n",
    "* Target Column: The column we are trying to predict.\n",
    "* Dropped Columns: The columns we do not want to use as predictors such as ID columns, columns with data leakage, etc.\n",
    "* Is Time Series: Whether or not the experiment is a time-series use case.\n",
    "* Time Column: The column that contains the date/date-time information.\n",
    "* Time Group Columns: The categorical columns that indicate how to group the data so that there is one time series per group. In our example, our Time Groups Columns are `Store` and `Dept`.  Each `Store` and `Dept`, corresponds to a single time series.\n",
    "* Number of Prediction Periods: How far in the future do we want to predict?\n",
    "* Number of Gap Periods: After how many periods can we start predicting?  If we assume that we can start forecasting right after the training data ends, then the Number of Gap Periods will be 0.\n",
    "\n",
    "For this experiment, we want to forecast next week's sales for each `Store` and `Dept`.  Therefore, we will use the following time series parameters: \n",
    "\n",
    "* Time Group Columns: `[Store, Dept]`\n",
    "* Number of Prediction Periods: 1\n",
    "* Number of Gap Periods: 0"
   ]
  },
  {
   "cell_type": "code",
   "execution_count": 14,
   "metadata": {},
   "outputs": [],
   "source": [
    "experiment = h2oai.start_experiment_sync(dataset_key=train_dai.key,\n",
    "                                         testset_key = test_dai.key,\n",
    "                                         target_col=\"Weekly_Sales\",\n",
    "                                         is_classification=False,\n",
    "                                         cols_to_drop = [\"sample_weight\"],\n",
    "                                         accuracy=5,\n",
    "                                         time=3,\n",
    "                                         interpretability=1,\n",
    "                                         scorer=\"RMSE\",\n",
    "                                         enable_gpus=True,\n",
    "                                         seed=1234,\n",
    "                                         time_col = \"Date\",\n",
    "                                         time_groups_columns = [\"Store\", \"Dept\"],\n",
    "                                         num_prediction_periods = 1,\n",
    "                                         num_gap_periods = 0)"
   ]
  },
  {
   "cell_type": "markdown",
   "metadata": {},
   "source": [
    "#### Equivalent Steps in Driverless: Launching Driverless AI Experiment\n",
    "![Equivalent Steps in Driverless: Launching Driverless AI Experiment](images/launching_experiment.png)"
   ]
  },
  {
   "cell_type": "markdown",
   "metadata": {},
   "source": [
    "## Step 5. Evaluate Model Performance\n",
    "\n",
    "Now that our experiment is complete, we can view the model performance metrics within the experiment object."
   ]
  },
  {
   "cell_type": "code",
   "execution_count": 15,
   "metadata": {},
   "outputs": [
    {
     "name": "stdout",
     "output_type": "stream",
     "text": [
      "Validation RMSE: $2,199\n",
      "Test RMSE: $2,433\n"
     ]
    }
   ],
   "source": [
    "print(\"Validation RMSE: ${:,.0f}\".format(experiment.valid_score))\n",
    "print(\"Test RMSE: ${:,.0f}\".format(experiment.test_score))"
   ]
  },
  {
   "cell_type": "markdown",
   "metadata": {},
   "source": [
    "We can also plot the actual versus predicted values from the test data."
   ]
  },
  {
   "cell_type": "code",
   "execution_count": 16,
   "metadata": {},
   "outputs": [
    {
     "data": {
      "image/png": "[encoded data removed]",
      "text/plain": [
       "<Figure size 432x288 with 1 Axes>"
      ]
     },
     "metadata": {
      "needs_background": "light"
     },
     "output_type": "display_data"
    }
   ],
   "source": [
    "%matplotlib inline\n",
    "import matplotlib.pyplot as plt\n",
    "\n",
    "plt.scatter(experiment.test_act_vs_pred.predicted, experiment.test_act_vs_pred.actual)\n",
    "plt.plot([0, max(experiment.test_act_vs_pred.predicted)],[0, max(experiment.test_act_vs_pred.actual)], 'b--',)\n",
    "plt.xlabel(\"Predicted\")\n",
    "plt.ylabel(\"Actual\")\n",
    "plt.show()"
   ]
  },
  {
   "cell_type": "markdown",
   "metadata": {},
   "source": [
    "Lastly, we can download the test predictions from Driverless AI and examine the forecasted sales vs actual for a selected store and department."
   ]
  },
  {
   "cell_type": "code",
   "execution_count": 17,
   "metadata": {},
   "outputs": [
    {
     "data": {
      "text/html": [
       "<div>\n",
       "<style scoped>\n",
       "    .dataframe tbody tr th:only-of-type {\n",
       "        vertical-align: middle;\n",
       "    }\n",
       "\n",
       "    .dataframe tbody tr th {\n",
       "        vertical-align: top;\n",
       "    }\n",
       "\n",
       "    .dataframe thead th {\n",
       "        text-align: right;\n",
       "    }\n",
       "</style>\n",
       "<table border=\"1\" class=\"dataframe\">\n",
       "  <thead>\n",
       "    <tr style=\"text-align: right;\">\n",
       "      <th></th>\n",
       "      <th>Date</th>\n",
       "      <th>Store</th>\n",
       "      <th>Dept</th>\n",
       "      <th>Weekly_Sales</th>\n",
       "      <th>predicted_Weekly_Sales</th>\n",
       "    </tr>\n",
       "  </thead>\n",
       "  <tbody>\n",
       "    <tr>\n",
       "      <th>0</th>\n",
       "      <td>2012-10-26</td>\n",
       "      <td>1</td>\n",
       "      <td>1</td>\n",
       "      <td>27390.81</td>\n",
       "      <td>29016.900</td>\n",
       "    </tr>\n",
       "    <tr>\n",
       "      <th>1</th>\n",
       "      <td>2012-10-26</td>\n",
       "      <td>1</td>\n",
       "      <td>2</td>\n",
       "      <td>43134.88</td>\n",
       "      <td>42700.937</td>\n",
       "    </tr>\n",
       "    <tr>\n",
       "      <th>2</th>\n",
       "      <td>2012-10-26</td>\n",
       "      <td>1</td>\n",
       "      <td>3</td>\n",
       "      <td>9350.90</td>\n",
       "      <td>9351.535</td>\n",
       "    </tr>\n",
       "    <tr>\n",
       "      <th>3</th>\n",
       "      <td>2012-10-26</td>\n",
       "      <td>1</td>\n",
       "      <td>4</td>\n",
       "      <td>36292.60</td>\n",
       "      <td>34871.164</td>\n",
       "    </tr>\n",
       "    <tr>\n",
       "      <th>4</th>\n",
       "      <td>2012-10-26</td>\n",
       "      <td>1</td>\n",
       "      <td>5</td>\n",
       "      <td>25846.94</td>\n",
       "      <td>23360.783</td>\n",
       "    </tr>\n",
       "  </tbody>\n",
       "</table>\n",
       "</div>"
      ],
      "text/plain": [
       "        Date  Store  Dept  Weekly_Sales  predicted_Weekly_Sales\n",
       "0 2012-10-26      1     1      27390.81               29016.900\n",
       "1 2012-10-26      1     2      43134.88               42700.937\n",
       "2 2012-10-26      1     3       9350.90                9351.535\n",
       "3 2012-10-26      1     4      36292.60               34871.164\n",
       "4 2012-10-26      1     5      25846.94               23360.783"
      ]
     },
     "execution_count": 17,
     "metadata": {},
     "output_type": "execute_result"
    }
   ],
   "source": [
    "preds_path = h2oai.download(src_path=experiment.test_predictions_path, dest_dir=\".\")\n",
    "forecast_predictions = pd.read_csv(preds_path)\n",
    "forecast_predictions.columns = [\"predicted_Weekly_Sales\"]\n",
    "\n",
    "actual = test_data[[\"Date\", \"Store\", \"Dept\", \"Weekly_Sales\"]].reset_index(drop = True)\n",
    "forecast_predictions = pd.concat([actual, forecast_predictions], axis = 1)\n",
    "forecast_predictions.head()"
   ]
  },
  {
   "cell_type": "code",
   "execution_count": 26,
   "metadata": {},
   "outputs": [],
   "source": [
    "selected_ts = sales_data.loc[(sales_data[\"Store\"] == 1) & (sales_data[\"Dept\"] == 1)].tail(n = 51)\n",
    "\n",
    "selected_ts_forecast = forecast_predictions.loc[(forecast_predictions[\"Store\"] == 1) & \n",
    "                                                (forecast_predictions[\"Dept\"] == 1)]"
   ]
  },
  {
   "cell_type": "code",
   "execution_count": 27,
   "metadata": {},
   "outputs": [
    {
     "data": {
      "image/png": "[encoded data removed]",
      "text/plain": [
       "<Figure size 432x288 with 1 Axes>"
      ]
     },
     "metadata": {
      "needs_background": "light"
     },
     "output_type": "display_data"
    }
   ],
   "source": [
    "# Plot the forecast of a select store and department\n",
    "\n",
    "import matplotlib.dates as mdates\n",
    "\n",
    "years = mdates.MonthLocator() \n",
    "yearsFmt = mdates.DateFormatter('%b')\n",
    "\n",
    "fig, ax = plt.subplots()\n",
    "ax.plot(selected_ts[\"Date\"], selected_ts[\"Weekly_Sales\"], label = \"Actual\")\n",
    "ax.plot(selected_ts_forecast[\"Date\"], selected_ts_forecast[\"predicted_Weekly_Sales\"], marker='o', label = \"Predicted\")\n",
    "ax.xaxis.set_major_locator(years)\n",
    "ax.xaxis.set_major_formatter(yearsFmt)\n",
    "plt.legend(loc='upper left')\n",
    "plt.show()"
   ]
  },
  {
   "cell_type": "code",
   "execution_count": null,
   "metadata": {},
   "outputs": [],
   "source": []
  }
 ],
 "metadata": {
  "kernelspec": {
   "display_name": "Python 3",
   "language": "python",
   "name": "python3"
  },
  "language_info": {
   "codemirror_mode": {
    "name": "ipython",
    "version": 3
   },
   "file_extension": ".py",
   "mimetype": "text/x-python",
   "name": "python",
   "nbconvert_exporter": "python",
   "pygments_lexer": "ipython3",
   "version": "3.6.0"
  }
 },
 "nbformat": 4,
 "nbformat_minor": 2
}
