{
 "cells": [
  {
   "cell_type": "markdown",
   "metadata": {},
   "source": [
    "# Driverless AI - Time Series Recipes with Rolling Window\n",
    "\n",
    "The purpose of this notebook is to show an example of using Driverless AI to train experiments on different subsets of data.  This would result in a collection of forecasted values that can be evaluated.  The data used in this notebook is a public dataset: [S+P 500 Stock Data](https://www.kaggle.com/camnugent/sandp500). In this example, we are using the **all_stocks_5yr.csv** dataset.\n",
    "\n",
    "## Workflow\n",
    "\n",
    "1. Import data into Python\n",
    "2. Create function that slices data by index\n",
    "3. For each slice of data:\n",
    "    * import data into Driverless AI\n",
    "    * train an experiment\n",
    "    * combine test predictions\n",
    "\n",
    "## Import Data\n",
    "\n",
    "We will begin by importing our data using pandas. "
   ]
  },
  {
   "cell_type": "code",
   "execution_count": 1,
   "metadata": {
    "collapsed": false
   },
   "outputs": [
    {
     "data": {
      "text/html": [
       "<div>\n",
       "<table border=\"1\" class=\"dataframe\">\n",
       "  <thead>\n",
       "    <tr style=\"text-align: right;\">\n",
       "      <th></th>\n",
       "      <th>date</th>\n",
       "      <th>open</th>\n",
       "      <th>high</th>\n",
       "      <th>low</th>\n",
       "      <th>close</th>\n",
       "      <th>volume</th>\n",
       "      <th>Name</th>\n",
       "    </tr>\n",
       "  </thead>\n",
       "  <tbody>\n",
       "    <tr>\n",
       "      <th>0</th>\n",
       "      <td>2013-02-08</td>\n",
       "      <td>15.07</td>\n",
       "      <td>15.12</td>\n",
       "      <td>14.63</td>\n",
       "      <td>14.75</td>\n",
       "      <td>8407500</td>\n",
       "      <td>AAL</td>\n",
       "    </tr>\n",
       "    <tr>\n",
       "      <th>1</th>\n",
       "      <td>2013-02-11</td>\n",
       "      <td>14.89</td>\n",
       "      <td>15.01</td>\n",
       "      <td>14.26</td>\n",
       "      <td>14.46</td>\n",
       "      <td>8882000</td>\n",
       "      <td>AAL</td>\n",
       "    </tr>\n",
       "    <tr>\n",
       "      <th>2</th>\n",
       "      <td>2013-02-12</td>\n",
       "      <td>14.45</td>\n",
       "      <td>14.51</td>\n",
       "      <td>14.10</td>\n",
       "      <td>14.27</td>\n",
       "      <td>8126000</td>\n",
       "      <td>AAL</td>\n",
       "    </tr>\n",
       "    <tr>\n",
       "      <th>3</th>\n",
       "      <td>2013-02-13</td>\n",
       "      <td>14.30</td>\n",
       "      <td>14.94</td>\n",
       "      <td>14.25</td>\n",
       "      <td>14.66</td>\n",
       "      <td>10259500</td>\n",
       "      <td>AAL</td>\n",
       "    </tr>\n",
       "    <tr>\n",
       "      <th>4</th>\n",
       "      <td>2013-02-14</td>\n",
       "      <td>14.94</td>\n",
       "      <td>14.96</td>\n",
       "      <td>13.16</td>\n",
       "      <td>13.99</td>\n",
       "      <td>31879900</td>\n",
       "      <td>AAL</td>\n",
       "    </tr>\n",
       "  </tbody>\n",
       "</table>\n",
       "</div>"
      ],
      "text/plain": [
       "         date   open   high    low  close    volume Name\n",
       "0  2013-02-08  15.07  15.12  14.63  14.75   8407500  AAL\n",
       "1  2013-02-11  14.89  15.01  14.26  14.46   8882000  AAL\n",
       "2  2013-02-12  14.45  14.51  14.10  14.27   8126000  AAL\n",
       "3  2013-02-13  14.30  14.94  14.25  14.66  10259500  AAL\n",
       "4  2013-02-14  14.94  14.96  13.16  13.99  31879900  AAL"
      ]
     },
     "execution_count": 1,
     "metadata": {},
     "output_type": "execute_result"
    }
   ],
   "source": [
    "import pandas as pd\n",
    "\n",
    "stock_data = pd.read_csv(\"./all_stocks_5yr.csv\")\n",
    "stock_data.head()"
   ]
  },
  {
   "cell_type": "code",
   "execution_count": 2,
   "metadata": {
    "collapsed": false
   },
   "outputs": [],
   "source": [
    "# Convert Date column to datetime\n",
    "stock_data[\"date\"] = pd.to_datetime(stock_data[\"date\"], format=\"%Y-%m-%d\")"
   ]
  },
  {
   "cell_type": "markdown",
   "metadata": {},
   "source": [
    "We will add a new column which is the index.  We will use this later on to do a rolling window of training and testing.  We will use this index instead of the actual date because this data only occurs on weekdays (when the stock market is opened).  When you use Driverless AI to perform a forecast, it will forecast the next *n* days.  In this particular case, we never want to forecast Saturday's and Sunday's.  We will instead treat our time column as the index of the record."
   ]
  },
  {
   "cell_type": "code",
   "execution_count": 3,
   "metadata": {
    "collapsed": false
   },
   "outputs": [
    {
     "data": {
      "text/html": [
       "<div>\n",
       "<table border=\"1\" class=\"dataframe\">\n",
       "  <thead>\n",
       "    <tr style=\"text-align: right;\">\n",
       "      <th></th>\n",
       "      <th>date</th>\n",
       "      <th>open</th>\n",
       "      <th>high</th>\n",
       "      <th>low</th>\n",
       "      <th>close</th>\n",
       "      <th>volume</th>\n",
       "      <th>Name</th>\n",
       "      <th>index</th>\n",
       "    </tr>\n",
       "  </thead>\n",
       "  <tbody>\n",
       "    <tr>\n",
       "      <th>0</th>\n",
       "      <td>2013-02-08</td>\n",
       "      <td>15.0700</td>\n",
       "      <td>15.1200</td>\n",
       "      <td>14.6300</td>\n",
       "      <td>14.7500</td>\n",
       "      <td>8407500</td>\n",
       "      <td>AAL</td>\n",
       "      <td>0</td>\n",
       "    </tr>\n",
       "    <tr>\n",
       "      <th>1</th>\n",
       "      <td>2013-02-08</td>\n",
       "      <td>67.7142</td>\n",
       "      <td>68.4014</td>\n",
       "      <td>66.8928</td>\n",
       "      <td>67.8542</td>\n",
       "      <td>158168416</td>\n",
       "      <td>AAPL</td>\n",
       "      <td>0</td>\n",
       "    </tr>\n",
       "    <tr>\n",
       "      <th>2</th>\n",
       "      <td>2013-02-08</td>\n",
       "      <td>78.3400</td>\n",
       "      <td>79.7200</td>\n",
       "      <td>78.0100</td>\n",
       "      <td>78.9000</td>\n",
       "      <td>1298137</td>\n",
       "      <td>AAP</td>\n",
       "      <td>0</td>\n",
       "    </tr>\n",
       "    <tr>\n",
       "      <th>3</th>\n",
       "      <td>2013-02-08</td>\n",
       "      <td>36.3700</td>\n",
       "      <td>36.4200</td>\n",
       "      <td>35.8250</td>\n",
       "      <td>36.2500</td>\n",
       "      <td>13858795</td>\n",
       "      <td>ABBV</td>\n",
       "      <td>0</td>\n",
       "    </tr>\n",
       "    <tr>\n",
       "      <th>4</th>\n",
       "      <td>2013-02-08</td>\n",
       "      <td>46.5200</td>\n",
       "      <td>46.8950</td>\n",
       "      <td>46.4600</td>\n",
       "      <td>46.8900</td>\n",
       "      <td>1232802</td>\n",
       "      <td>ABC</td>\n",
       "      <td>0</td>\n",
       "    </tr>\n",
       "  </tbody>\n",
       "</table>\n",
       "</div>"
      ],
      "text/plain": [
       "        date     open     high      low    close     volume  Name  index\n",
       "0 2013-02-08  15.0700  15.1200  14.6300  14.7500    8407500   AAL      0\n",
       "1 2013-02-08  67.7142  68.4014  66.8928  67.8542  158168416  AAPL      0\n",
       "2 2013-02-08  78.3400  79.7200  78.0100  78.9000    1298137   AAP      0\n",
       "3 2013-02-08  36.3700  36.4200  35.8250  36.2500   13858795  ABBV      0\n",
       "4 2013-02-08  46.5200  46.8950  46.4600  46.8900    1232802   ABC      0"
      ]
     },
     "execution_count": 3,
     "metadata": {},
     "output_type": "execute_result"
    }
   ],
   "source": [
    "dates_index = pd.DataFrame(sorted(stock_data[\"date\"].unique()), columns = [\"date\"])\n",
    "dates_index[\"index\"] = range(len(dates_index))\n",
    "stock_data = pd.merge(stock_data, dates_index, on = \"date\")\n",
    "\n",
    "stock_data.head()"
   ]
  },
  {
   "cell_type": "markdown",
   "metadata": {},
   "source": [
    "## Create Moving Window Function\n",
    "\n",
    "Now we will create a function that can split our data by time to create multiple experiments.\n",
    "\n",
    "We will start by first logging into Driverless AI."
   ]
  },
  {
   "cell_type": "code",
   "execution_count": 4,
   "metadata": {
    "collapsed": true
   },
   "outputs": [],
   "source": [
    "import h2oai_client\n",
    "import numpy as np\n",
    "import pandas as pd\n",
    "# import h2o\n",
    "import requests\n",
    "import math\n",
    "from h2oai_client import Client, ModelParameters"
   ]
  },
  {
   "cell_type": "code",
   "execution_count": 10,
   "metadata": {
    "collapsed": false
   },
   "outputs": [],
   "source": [
    "address = 'http://ip_where_driverless_is_running:12345'\n",
    "username = 'username'\n",
    "password = 'password'\n",
    "h2oai = Client(address = address, username = username, password = password)\n",
    "# make sure to use the same user name and password when signing in through the GUI"
   ]
  },
  {
   "cell_type": "markdown",
   "metadata": {},
   "source": [
    "Our function will split the data into training and testing based on the training length and testing length specified by the user.  It will then run an experiment in Driverless AI and download the test predictions."
   ]
  },
  {
   "cell_type": "code",
   "execution_count": 11,
   "metadata": {
    "collapsed": false
   },
   "outputs": [],
   "source": [
    "def dai_moving_window(dataset, train_len, test_len, target, predictors, index_col, time_group_cols,\n",
    "                      accuracy, time, interpretability):\n",
    "    \n",
    "    # Calculate windows for the training and testing data based on the train_len and test_len arguments\n",
    "    num_dates = max(dataset[index_col])\n",
    "    num_windows = (num_dates - train_len) // test_len\n",
    "    \n",
    "    windows = []\n",
    "    for i in range(num_windows):\n",
    "        train_start_id = i*test_len\n",
    "        train_end_id = train_start_id + (train_len - 1)\n",
    "        test_start_id = train_end_id + 1\n",
    "        test_end_id = test_start_id + (test_len - 1)\n",
    "        \n",
    "        window = {'train_start_index': train_start_id, \n",
    "                  'train_end_index': train_end_id, \n",
    "                  'test_start_index': test_start_id,\n",
    "                  'test_end_index': test_end_id}\n",
    "        windows.append(window)\n",
    "        \n",
    "    \n",
    "    # Split the data by the window\n",
    "    forecast_predictions = pd.DataFrame([])\n",
    "    for window in windows:\n",
    "        train_data = dataset[(dataset[index_col] >= window.get(\"train_start_index\")) & \n",
    "                             (dataset[index_col] <= window.get(\"train_end_index\"))]\n",
    "        \n",
    "        test_data = dataset[(dataset[index_col] >= window.get(\"test_start_index\")) & \n",
    "                            (dataset[index_col] <= window.get(\"test_end_index\"))]\n",
    "        \n",
    "        # Get the Driverless AI forecast predictions\n",
    "        window_preds = dai_get_forecast(train_data, test_data, predictors, target, index_col, time_group_cols,\n",
    "                                        accuracy, time, interpretability)\n",
    "        forecast_predictions = forecast_predictions.append(window_preds)\n",
    "    \n",
    "    return forecast_predictions"
   ]
  },
  {
   "cell_type": "code",
   "execution_count": 12,
   "metadata": {
    "collapsed": false
   },
   "outputs": [],
   "source": [
    "def dai_get_forecast(train_data, test_data, predictors, target, index_col, time_group_cols, \n",
    "                     accuracy, time, interpretability):\n",
    "    \n",
    "    # Save dataset\n",
    "    train_path = \"./train_data.csv\"\n",
    "    test_path = \"./test_data.csv\"\n",
    "    keep_cols = predictors + [target, index_col] + time_group_cols\n",
    "    train_data[keep_cols].to_csv(train_path)\n",
    "    test_data[keep_cols].to_csv(test_path)\n",
    "    \n",
    "    # Add datasets to Driverless AI\n",
    "    train_dai = h2oai.upload_dataset_sync(train_path)\n",
    "    test_dai = h2oai.upload_dataset_sync(test_path)\n",
    "    \n",
    "    # Run Driverless AI Experiment\n",
    "    experiment = h2oai.start_experiment_sync(dataset_key = train_dai.key,\n",
    "                                             testset_key = test_dai.key,\n",
    "                                             target_col = target,\n",
    "                                             cols_to_drop = [],\n",
    "                                             is_classification = False,\n",
    "                                             accuracy = accuracy,\n",
    "                                             time = time,\n",
    "                                             interpretability = interpretability,\n",
    "                                             scorer = \"RMSE\",\n",
    "                                             seed = 1234,\n",
    "                                             time_col = index_col,\n",
    "                                             time_groups_columns = time_group_cols,\n",
    "                                             num_prediction_periods = test_data[index_col].nunique(),\n",
    "                                             num_gap_periods = 0)\n",
    "    \n",
    "    # Download the predictions on the test dataset\n",
    "    test_predictions_path = h2oai.download(experiment.test_predictions_path, \"./\")\n",
    "    test_predictions = pd.read_csv(test_predictions_path)\n",
    "    test_predictions.columns = [\"Prediction\"]\n",
    "    \n",
    "    # Add predictions to original test data\n",
    "    keep_cols = [target, index_col] + time_group_cols\n",
    "    test_predictions = pd.concat([test_data[keep_cols].reset_index(drop=True), test_predictions], axis = 1)\n",
    "    \n",
    "    return test_predictions"
   ]
  },
  {
   "cell_type": "code",
   "execution_count": 13,
   "metadata": {
    "collapsed": true
   },
   "outputs": [],
   "source": [
    "predictors = [\"Name\", \"index\"]\n",
    "target = \"close\"\n",
    "index_col = \"index\"\n",
    "time_group_cols = [\"Name\"]"
   ]
  },
  {
   "cell_type": "code",
   "execution_count": null,
   "metadata": {
    "collapsed": false,
    "scrolled": false
   },
   "outputs": [],
   "source": [
    "# We will filter the dataset to the first 1030 dates for demo purposes\n",
    "filtered_stock_data = stock_data[stock_data[\"index\"] <= 1029]\n",
    "forecast_predictions = dai_moving_window(filtered_stock_data, 1000, 3, target, predictors, index_col, time_group_cols,\n",
    "                                         accuracy = 1, time = 1, interpretability = 1)"
   ]
  },
  {
   "cell_type": "code",
   "execution_count": 25,
   "metadata": {
    "collapsed": false
   },
   "outputs": [
    {
     "data": {
      "text/html": [
       "<div>\n",
       "<table border=\"1\" class=\"dataframe\">\n",
       "  <thead>\n",
       "    <tr style=\"text-align: right;\">\n",
       "      <th></th>\n",
       "      <th>close</th>\n",
       "      <th>index</th>\n",
       "      <th>Name</th>\n",
       "      <th>Prediction</th>\n",
       "    </tr>\n",
       "  </thead>\n",
       "  <tbody>\n",
       "    <tr>\n",
       "      <th>0</th>\n",
       "      <td>44.90</td>\n",
       "      <td>1000</td>\n",
       "      <td>AAL</td>\n",
       "      <td>48.050527</td>\n",
       "    </tr>\n",
       "    <tr>\n",
       "      <th>1</th>\n",
       "      <td>121.63</td>\n",
       "      <td>1000</td>\n",
       "      <td>AAPL</td>\n",
       "      <td>119.485352</td>\n",
       "    </tr>\n",
       "    <tr>\n",
       "      <th>2</th>\n",
       "      <td>164.63</td>\n",
       "      <td>1000</td>\n",
       "      <td>AAP</td>\n",
       "      <td>167.960700</td>\n",
       "    </tr>\n",
       "    <tr>\n",
       "      <th>3</th>\n",
       "      <td>60.43</td>\n",
       "      <td>1000</td>\n",
       "      <td>ABBV</td>\n",
       "      <td>60.784213</td>\n",
       "    </tr>\n",
       "    <tr>\n",
       "      <th>4</th>\n",
       "      <td>83.62</td>\n",
       "      <td>1000</td>\n",
       "      <td>ABC</td>\n",
       "      <td>86.939174</td>\n",
       "    </tr>\n",
       "  </tbody>\n",
       "</table>\n",
       "</div>"
      ],
      "text/plain": [
       "    close  index  Name  Prediction\n",
       "0   44.90   1000   AAL   48.050527\n",
       "1  121.63   1000  AAPL  119.485352\n",
       "2  164.63   1000   AAP  167.960700\n",
       "3   60.43   1000  ABBV   60.784213\n",
       "4   83.62   1000   ABC   86.939174"
      ]
     },
     "execution_count": 25,
     "metadata": {},
     "output_type": "execute_result"
    }
   ],
   "source": [
    "forecast_predictions.head()"
   ]
  },
  {
   "cell_type": "code",
   "execution_count": 26,
   "metadata": {
    "collapsed": false
   },
   "outputs": [
    {
     "name": "stdout",
     "output_type": "stream",
     "text": [
      "Mean Absolute Error: $6.79\n"
     ]
    }
   ],
   "source": [
    "# Calculate some error metric\n",
    "mae = (forecast_predictions[target] - forecast_predictions[\"Prediction\"]).abs().mean()\n",
    "print(\"Mean Absolute Error: ${:,.2f}\".format(mae))"
   ]
  },
  {
   "cell_type": "code",
   "execution_count": null,
   "metadata": {
    "collapsed": true
   },
   "outputs": [],
   "source": []
  }
 ],
 "metadata": {
  "kernelspec": {
   "display_name": "Python 3",
   "language": "python",
   "name": "python3"
  },
  "language_info": {
   "codemirror_mode": {
    "name": "ipython",
    "version": 3
   },
   "file_extension": ".py",
   "mimetype": "text/x-python",
   "name": "python",
   "nbconvert_exporter": "python",
   "pygments_lexer": "ipython3",
   "version": "3.6.0"
  }
 },
 "nbformat": 4,
 "nbformat_minor": 2
}
