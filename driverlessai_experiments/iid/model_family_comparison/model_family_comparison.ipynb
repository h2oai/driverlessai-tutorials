{
 "cells": [
  {
   "cell_type": "markdown",
   "metadata": {},
   "source": [
    "# Driverless AI: Comparing Model Families\n",
    "\n",
    "This notebook walks through how to build experiments using only certain families of algorithms and then comparing them. This would allow for understanding the trade off of algorithm complexity vs. the accuracy of the final model."
   ]
  },
  {
   "cell_type": "markdown",
   "metadata": {},
   "source": [
    "## Before We Begin:\n",
    "\n",
    "* This notebook uses the backend python client which you can download from the `RESOURCES` section of the UI menu\n",
    "* This notebook has been written and tested in 1.8.2, other versions of DAI may need modifications to the function parameters\n",
    "* Python 3.6 is required\n",
    "* You can use `Shift+Tab` to the see the signature and docstring of any function while using Jupyter"
   ]
  },
  {
   "cell_type": "code",
   "execution_count": 1,
   "metadata": {},
   "outputs": [],
   "source": [
    "import pandas as pd # local data manipulation\n",
    "import matplotlib.pyplot as plt # plot results\n",
    "import getpass # keep password out of the notebook\n",
    "from h2oai_client import Client # connect to DAI\n",
    "\n",
    "%matplotlib inline"
   ]
  },
  {
   "cell_type": "markdown",
   "metadata": {},
   "source": [
    "## Connect to Driverless AI\n",
    "* Create a connection object for interacting with DAI \n",
    "* Print and login to the GUI\n",
    "\n",
    "<br/> **Note:** Click the DAI URL and log in now as you have the password saved to save time later in this notebook"
   ]
  },
  {
   "cell_type": "code",
   "execution_count": 2,
   "metadata": {},
   "outputs": [
    {
     "name": "stdout",
     "output_type": "stream",
     "text": [
      "Enter your Driverless AI password: ········\n"
     ]
    }
   ],
   "source": [
    "address = 'http://18.212.25.119:12345'\n",
    "username = 'h2oai'\n",
    "\n",
    "dai = Client(address = address, \n",
    "             username = username, \n",
    "             password = getpass.getpass(\"Enter your Driverless AI password: \"))"
   ]
  },
  {
   "cell_type": "code",
   "execution_count": 3,
   "metadata": {},
   "outputs": [
    {
     "name": "stdout",
     "output_type": "stream",
     "text": [
      "http://18.212.25.119:12345\n"
     ]
    }
   ],
   "source": [
    "print(dai.address)"
   ]
  },
  {
   "cell_type": "markdown",
   "metadata": {},
   "source": [
    "## Create a Project\n",
    "* Create a project for visually comparing the algorithm family performances"
   ]
  },
  {
   "cell_type": "code",
   "execution_count": 4,
   "metadata": {},
   "outputs": [],
   "source": [
    "project_key = dai.create_project(\"Telco Churn\", \"Understand accuracy by model family\")"
   ]
  },
  {
   "cell_type": "markdown",
   "metadata": {},
   "source": [
    "## Load a Dataset\n",
    "Most DAI instances come with some sample data in the `data` folder on the server. We will load in a dataset about customers who may churn from a telco.\n",
    "\n",
    "* Load a dataset from the DAI server\n",
    "* Print columns in the dataset\n",
    "* Create a variables to use in modeling\n",
    "* Look at the distribution of the target column\n",
    "* Add the dataset to the project"
   ]
  },
  {
   "cell_type": "code",
   "execution_count": 5,
   "metadata": {},
   "outputs": [],
   "source": [
    "telco_data = dai.create_dataset_sync('/data/Splunk/churn.csv')"
   ]
  },
  {
   "cell_type": "code",
   "execution_count": 6,
   "metadata": {},
   "outputs": [
    {
     "data": {
      "text/plain": [
       "['State',\n",
       " 'Account Length',\n",
       " 'Area Code',\n",
       " 'Phone',\n",
       " \"Int'l Plan\",\n",
       " 'VMail Plan',\n",
       " 'VMail Message',\n",
       " 'Day Mins',\n",
       " 'Day Calls',\n",
       " 'Day Charge',\n",
       " 'Eve Mins',\n",
       " 'Eve Calls',\n",
       " 'Eve Charge',\n",
       " 'Night Mins',\n",
       " 'Night Calls',\n",
       " 'Night Charge',\n",
       " 'Intl Mins',\n",
       " 'Intl Calls',\n",
       " 'Intl Charge',\n",
       " 'CustServ Calls',\n",
       " 'Churn?']"
      ]
     },
     "execution_count": 6,
     "metadata": {},
     "output_type": "execute_result"
    }
   ],
   "source": [
    "[c.name for c in telco_data.columns]"
   ]
  },
  {
   "cell_type": "code",
   "execution_count": 7,
   "metadata": {},
   "outputs": [],
   "source": [
    "# Informatin to use in modeling\n",
    "col_y = \"Churn?\"\n",
    "scoring_metric = \"AUC\""
   ]
  },
  {
   "cell_type": "code",
   "execution_count": 8,
   "metadata": {},
   "outputs": [
    {
     "name": "stdout",
     "output_type": "stream",
     "text": [
      "['False.', 'True.']\n",
      "[2850, 483]\n"
     ]
    }
   ],
   "source": [
    "for c in telco_data.columns:\n",
    "    if c.name == col_y:\n",
    "        print(c.stats.non_numeric.hist_ticks)\n",
    "        print(c.stats.non_numeric.hist_counts)"
   ]
  },
  {
   "cell_type": "code",
   "execution_count": 9,
   "metadata": {},
   "outputs": [],
   "source": [
    "dai.link_dataset_to_project(project_key = project_key, \n",
    "                            dataset_key = telco_data.key, \n",
    "                            dataset_type = \"Training\")"
   ]
  },
  {
   "cell_type": "markdown",
   "metadata": {},
   "source": [
    "## Run Experiments\n",
    "* List all algorithms available on the system\n",
    "* Create a dictionary of model families\n",
    "* Run an experiment for each model family"
   ]
  },
  {
   "cell_type": "code",
   "execution_count": 10,
   "metadata": {},
   "outputs": [
    {
     "data": {
      "text/plain": [
       "['DECISIONTREE',\n",
       " 'FTRL',\n",
       " 'GLM',\n",
       " 'IMBALANCEDLIGHTGBM',\n",
       " 'IMBALANCEDXGBOOSTGBM',\n",
       " 'LIGHTGBM',\n",
       " 'RULEFIT',\n",
       " 'TENSORFLOW',\n",
       " 'XGBOOSTDART',\n",
       " 'XGBOOSTGBM']"
      ]
     },
     "execution_count": 10,
     "metadata": {},
     "output_type": "execute_result"
    }
   ],
   "source": [
    "[m.name for m in dai.list_model_estimators()]"
   ]
  },
  {
   "cell_type": "code",
   "execution_count": 11,
   "metadata": {},
   "outputs": [],
   "source": [
    "model_families = [{\"name\": \"Regression\", \"models\": ['GLM'], \"complexity\": 0},\n",
    "                  {\"name\": \"Decision Tree\", \"models\": ['DECISIONTREE'], \"complexity\": 1},\n",
    "                  {\"name\": \"Boosting Trees\", \"models\": ['LIGHTGBM', 'XGBOOSTDART', 'XGBOOSTGBM'], \"complexity\": 2},\n",
    "                  {\"name\": \"Neural Net\", \"models\": ['TENSORFLOW'], \"complexity\": 3}\n",
    "                 ]"
   ]
  },
  {
   "cell_type": "code",
   "execution_count": 12,
   "metadata": {},
   "outputs": [],
   "source": [
    "results = pd.DataFrame()\n",
    "\n",
    "for m in model_families:\n",
    "    # Run the experiment\n",
    "    experiment = dai.start_experiment_sync(experiment_name=m[\"name\"],\n",
    "                                           dataset_key=telco_data.key,\n",
    "                                           testset_key = '',\n",
    "                                           target_col=col_y,\n",
    "                                           is_classification=True,\n",
    "                                           accuracy=1, time=1, interpretability=6,\n",
    "                                           scorer=\"AUC\",\n",
    "                                           config_overrides=\"included_models=\" + str(m[\"models\"]) \n",
    "                                          )\n",
    "\n",
    "    # add to our project\n",
    "    dai.link_experiment_to_project(project_key = project_key, \n",
    "                                   experiment_key = experiment.key)\n",
    "\n",
    "    # add validation results to our dataframee\n",
    "    exp_results = pd.DataFrame([{'name': m[\"name\"],\n",
    "                                 'complexity': m[\"complexity\"], \n",
    "                                 'validation_score': experiment.valid_score,\n",
    "                                 'test_score': experiment.test_score,\n",
    "                                 'experiment_id': experiment.key}])\n",
    "\n",
    "    results = pd.concat([results, exp_results], axis = 0)"
   ]
  },
  {
   "cell_type": "markdown",
   "metadata": {},
   "source": [
    "## View Results\n",
    "* View resulting table\n",
    "* View plot of accuracy by model family\n",
    "* Link to UI for Project comparison"
   ]
  },
  {
   "cell_type": "code",
   "execution_count": 13,
   "metadata": {},
   "outputs": [
    {
     "data": {
      "text/html": [
       "<div>\n",
       "<style scoped>\n",
       "    .dataframe tbody tr th:only-of-type {\n",
       "        vertical-align: middle;\n",
       "    }\n",
       "\n",
       "    .dataframe tbody tr th {\n",
       "        vertical-align: top;\n",
       "    }\n",
       "\n",
       "    .dataframe thead th {\n",
       "        text-align: right;\n",
       "    }\n",
       "</style>\n",
       "<table border=\"1\" class=\"dataframe\">\n",
       "  <thead>\n",
       "    <tr style=\"text-align: right;\">\n",
       "      <th></th>\n",
       "      <th>complexity</th>\n",
       "      <th>experiment_id</th>\n",
       "      <th>name</th>\n",
       "      <th>test_score</th>\n",
       "      <th>validation_score</th>\n",
       "    </tr>\n",
       "  </thead>\n",
       "  <tbody>\n",
       "    <tr>\n",
       "      <th>0</th>\n",
       "      <td>0</td>\n",
       "      <td>d732a2c6-5d89-11ea-82fd-0242ac110002</td>\n",
       "      <td>Regression</td>\n",
       "      <td>None</td>\n",
       "      <td>0.850078</td>\n",
       "    </tr>\n",
       "    <tr>\n",
       "      <th>0</th>\n",
       "      <td>1</td>\n",
       "      <td>feef1e3e-5d89-11ea-82fd-0242ac110002</td>\n",
       "      <td>Decision Tree</td>\n",
       "      <td>None</td>\n",
       "      <td>0.875228</td>\n",
       "    </tr>\n",
       "    <tr>\n",
       "      <th>0</th>\n",
       "      <td>2</td>\n",
       "      <td>22d2bab8-5d8a-11ea-82fd-0242ac110002</td>\n",
       "      <td>Boosting Trees</td>\n",
       "      <td>None</td>\n",
       "      <td>0.918603</td>\n",
       "    </tr>\n",
       "    <tr>\n",
       "      <th>0</th>\n",
       "      <td>3</td>\n",
       "      <td>4cde3094-5d8a-11ea-82fd-0242ac110002</td>\n",
       "      <td>Neural Net</td>\n",
       "      <td>None</td>\n",
       "      <td>0.835971</td>\n",
       "    </tr>\n",
       "  </tbody>\n",
       "</table>\n",
       "</div>"
      ],
      "text/plain": [
       "   complexity                         experiment_id            name  \\\n",
       "0           0  d732a2c6-5d89-11ea-82fd-0242ac110002      Regression   \n",
       "0           1  feef1e3e-5d89-11ea-82fd-0242ac110002   Decision Tree   \n",
       "0           2  22d2bab8-5d8a-11ea-82fd-0242ac110002  Boosting Trees   \n",
       "0           3  4cde3094-5d8a-11ea-82fd-0242ac110002      Neural Net   \n",
       "\n",
       "  test_score  validation_score  \n",
       "0       None          0.850078  \n",
       "0       None          0.875228  \n",
       "0       None          0.918603  \n",
       "0       None          0.835971  "
      ]
     },
     "execution_count": 13,
     "metadata": {},
     "output_type": "execute_result"
    }
   ],
   "source": [
    "results"
   ]
  },
  {
   "cell_type": "code",
   "execution_count": 14,
   "metadata": {},
   "outputs": [
    {
     "data": {
      "image/png": "[encoded data removed]",
      "text/plain": [
       "<Figure size 432x288 with 1 Axes>"
      ]
     },
     "metadata": {
      "needs_background": "light"
     },
     "output_type": "display_data"
    }
   ],
   "source": [
    "results.plot(x=\"name\", \n",
    "             y=\"validation_score\", \n",
    "             kind=\"bar\",\n",
    "             title=\"Validation AUC by Model Family\",\n",
    "             legend=False,\n",
    "             colormap='jet',\n",
    "             ylim=(0,1))\n",
    "\n",
    "plt.xticks(rotation=45 )\n",
    "plt.ylabel('AUC')\n",
    "plt.show()"
   ]
  },
  {
   "cell_type": "code",
   "execution_count": 15,
   "metadata": {},
   "outputs": [
    {
     "name": "stdout",
     "output_type": "stream",
     "text": [
      "http://18.212.25.119:12345/#project?key=d58a5414-5d89-11ea-82fd-0242ac110002\n"
     ]
    }
   ],
   "source": [
    "print(dai.address + \"/#project?key=\" + project_key)"
   ]
  },
  {
   "cell_type": "code",
   "execution_count": null,
   "metadata": {},
   "outputs": [],
   "source": []
  }
 ],
 "metadata": {
  "kernelspec": {
   "display_name": "Python 3",
   "language": "python",
   "name": "python3"
  },
  "language_info": {
   "codemirror_mode": {
    "name": "ipython",
    "version": 3
   },
   "file_extension": ".py",
   "mimetype": "text/x-python",
   "name": "python",
   "nbconvert_exporter": "python",
   "pygments_lexer": "ipython3",
   "version": "3.6.5"
  },
  "toc": {
   "base_numbering": 1,
   "nav_menu": {},
   "number_sections": true,
   "sideBar": true,
   "skip_h1_title": true,
   "title_cell": "Table of Contents",
   "title_sidebar": "Contents",
   "toc_cell": false,
   "toc_position": {
    "height": "calc(100% - 180px)",
    "left": "10px",
    "top": "150px",
    "width": "287.796875px"
   },
   "toc_section_display": true,
   "toc_window_display": true
  }
 },
 "nbformat": 4,
 "nbformat_minor": 2
}
