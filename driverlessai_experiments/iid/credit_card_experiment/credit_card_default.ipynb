{
 "cells": [
  {
   "cell_type": "markdown",
   "metadata": {},
   "source": [
    "# Driverless AI: Using the Python API\n",
    "This notebook provides an H2OAI Client workflow, of model building and scoring, that parallels the Driverless AI workflow. \n",
    "\n",
    "## Notes:\n",
    "\n",
    "* This is an early release of the Driverless AI Python client.\n",
    "* This notebook works specifically for Driverless AI version 1.7.1.\n",
    "* Python 3.6 is the only supported version.\n",
    "* You must install the `h2oai_client` wheel to your local Python. This is available from the RESOURCES link in the top menu of the UI.\n",
    "\n",
    "![py-client](images/py_client_link.png)"
   ]
  },
  {
   "cell_type": "markdown",
   "metadata": {},
   "source": [
    "## Workflow Steps\n",
    "\n",
    "**Build an Experiment with Python API:**\n",
    "\n",
    "1. Sign in\n",
    "2. Import train & test set/new data\n",
    "3. Specify experiment parameters\n",
    "4. Launch Experiement\n",
    "5. Examine Experiment\n",
    "6. Download Predictions\n",
    "    \n",
    "**Build an Experiment in Web UI and Access Through Python:**\n",
    "\n",
    "1. Get pointer to experiment\n",
    "    \n",
    "**Score on New Data:**\n",
    "\n",
    "1. Score on new data with H2OAI model\n",
    "\n",
    "**Model Diagnostics on New Data:**\n",
    "\n",
    "1. Run model diagnostincs on new data with H2OAI model\n",
    "\n",
    "**Run Model Interpretation**\n",
    "\n",
    "1. Run model interpretation on the raw features\n",
    "2. Run Model Interpretation on External Model Predictions\n",
    "\n",
    "**Build Scoring Pipelines**\n",
    "\n",
    "1. Build Python Scoring Pipeline\n",
    "2. Build MOJO Scoring Pipeline"
   ]
  },
  {
   "cell_type": "markdown",
   "metadata": {},
   "source": [
    "## Build an Experiment with Python API\n",
    "\n",
    "### 1. Sign In\n",
    "\n",
    "Import the required modules and log in.\n",
    "\n",
    "Pass in your credentials through the Client class which creates an authentication token to send to the Driverless AI Server. In plain English: to sign into the Driverless AI web page (which then sends requests to the Driverless Server), instantiate the Client class with your Driverless AI address and login credentials."
   ]
  },
  {
   "cell_type": "code",
   "execution_count": 20,
   "metadata": {},
   "outputs": [],
   "source": [
    "from h2oai_client import Client\n",
    "import matplotlib.pyplot as plt\n",
    "import pandas as pd"
   ]
  },
  {
   "cell_type": "code",
   "execution_count": 4,
   "metadata": {},
   "outputs": [],
   "source": [
    "address = 'http://ip_where_driverless_is_running:12345'\n",
    "username = 'username'\n",
    "password = 'password'\n",
    "h2oai = Client(address = address, username = username, password = password)\n",
    "# make sure to use the same user name and password when signing in through the GUI"
   ]
  },
  {
   "cell_type": "markdown",
   "metadata": {
    "collapsed": true
   },
   "source": [
    "#### Equivalent Steps in Driverless: Signing In\n",
    "![Equivalent Steps in Driverless: Signing In](images/sign_in_home_page_0.png)\n",
    "\n",
    "![Equivalent Steps in Driverless: Signing In](images/skip_sign_in_home_page_1.png)"
   ]
  },
  {
   "cell_type": "markdown",
   "metadata": {},
   "source": [
    "### 2. Upload Datasets\n",
    "\n",
    "Upload training and testing datasets from the Driverless AI **/data** folder.\n",
    "\n",
    "You can provide a training, validation, and testing dataset for an experiment.  The validation and testing dataset are optional.  In this example, we will provide only training and testing."
   ]
  },
  {
   "cell_type": "code",
   "execution_count": 5,
   "metadata": {},
   "outputs": [],
   "source": [
    "train_path = '/data/Kaggle/CreditCard/CreditCard-train.csv'\n",
    "test_path = '/data/Kaggle/CreditCard/CreditCard-test.csv'\n",
    "\n",
    "train = h2oai.create_dataset_sync(train_path)\n",
    "test = h2oai.create_dataset_sync(test_path)"
   ]
  },
  {
   "cell_type": "markdown",
   "metadata": {},
   "source": [
    "#### Equivalent Steps in Driverless: Uploading Train & Test CSV Files\n",
    "![Equivalent Steps in Driverless: Upload Train & Test CSV Files](images/import_data_sets_creditcard.png)"
   ]
  },
  {
   "cell_type": "markdown",
   "metadata": {
    "collapsed": true
   },
   "source": [
    "### 3. Set Experiment Parameters\n",
    "\n",
    "We will now set the parameters of our experiment.  Some of the parameters include:\n",
    "\n",
    "* Target Column: The column we are trying to predict.\n",
    "* Dropped Columns: The columns we do not want to use as predictors such as ID columns, columns with data leakage, etc.\n",
    "* Weight Column: The column that indicates the per row observation weights. If `None`, each row will have an observation weight of 1.\n",
    "* Fold Column: The column that indicates the fold. If `None`, the folds will be determined by Driverless AI.\n",
    "* Is Time Series: Whether or not the experiment is a time-series use case.\n",
    "\n",
    "For information on the experiment settings, refer to the [Experiment Settings](http://docs.h2o.ai/driverless-ai/latest-stable/docs/userguide/running-experiment.html#experiment-settings).\n",
    "\n",
    "For this example, we will be predicting **`default payment next month`**.  The parameters that control the experiment process are: `accuracy`, `time`, and `interpretability`.  We can use the `get_experiment_preview_sync` function to get a sense of what will happen during the experiment.  \n",
    "\n",
    "We will start out by seeing what the experiment will look like with `accuracy`, `time`, and `interpretability` all set to 5."
   ]
  },
  {
   "cell_type": "code",
   "execution_count": 10,
   "metadata": {
    "scrolled": true
   },
   "outputs": [
    {
     "data": {
      "text/plain": [
       "['ACCURACY [5/10]:',\n",
       " '- Training data size: *23,999 rows, 25 cols*',\n",
       " '- Feature evolution: *[LightGBM, XGBoostGBM]*, *1/3 validation split*',\n",
       " '- Final pipeline: *Ensemble (4 models), 4-fold CV*',\n",
       " '',\n",
       " 'TIME [5/10]:',\n",
       " '- Feature evolution: *4 individuals*, up to *58 iterations*',\n",
       " '- Early stopping: After *10* iterations of no improvement',\n",
       " '',\n",
       " 'INTERPRETABILITY [5/10]:',\n",
       " '- Feature pre-pruning strategy: None',\n",
       " '- XGBoost Monotonicity constraints: disabled',\n",
       " '- Feature engineering search space (where applicable): [CVCatNumEncode, CVTargetEncode, ClusterTE, Dates, Frequent, Interactions, IsHoliday, NumCatTE, NumToCatTE, NumToCatWoE, Original, TextLinModel, Text, WeightOfEvidence]',\n",
       " '',\n",
       " '[LightGBM, XGBoostGBM] models to train:',\n",
       " '- Model and feature tuning: *16*',\n",
       " '- Feature evolution: *104*',\n",
       " '- Final pipeline: *4*',\n",
       " '',\n",
       " 'Estimated runtime: *minutes*']"
      ]
     },
     "execution_count": 10,
     "metadata": {},
     "output_type": "execute_result"
    }
   ],
   "source": [
    "target=\"default payment next month\"\n",
    "exp_preview = h2oai.get_experiment_preview_sync(dataset_key= train.key\n",
    "                                                , validset_key=''\n",
    "                                                , classification=True\n",
    "                                                , dropped_cols=[]\n",
    "                                                , target_col=target\n",
    "                                                , is_time_series=False\n",
    "                                                , enable_gpus=False\n",
    "                                                , accuracy=5, time=5, interpretability=5\n",
    "                                                , reproducible=True\n",
    "                                                , resumed_experiment_id=''\n",
    "                                                , config_overrides=None)\n",
    "exp_preview"
   ]
  },
  {
   "cell_type": "markdown",
   "metadata": {},
   "source": [
    "With these settings, the Driverless AI experiment will train about 124 models: \n",
    "* 16 for model and feature tuning\n",
    "* 104 for feature evolution\n",
    "* 4 for the final pipeline\n",
    "\n",
    "When we start the experiment, we can either: \n",
    "\n",
    "* specify parameters\n",
    "* use Driverless AI to suggest parameters\n",
    "\n",
    "Driverless AI can suggest the parameters based on the dataset and target column.  Below we will use the **`get_experiment_tuning_suggestion`** to see what settings Driverless AI suggests."
   ]
  },
  {
   "cell_type": "code",
   "execution_count": 12,
   "metadata": {},
   "outputs": [
    {
     "data": {
      "text/plain": [
       "{'dataset': {'key': 'ee30bf26-c45f-11e9-b1a0-0242ac110002',\n",
       "  'display_name': ''},\n",
       " 'resumed_model': {'key': '', 'display_name': ''},\n",
       " 'target_col': 'default payment next month',\n",
       " 'weight_col': '',\n",
       " 'fold_col': '',\n",
       " 'orig_time_col': '',\n",
       " 'time_col': '',\n",
       " 'is_classification': True,\n",
       " 'cols_to_drop': [],\n",
       " 'validset': {'key': '', 'display_name': ''},\n",
       " 'testset': {'key': '', 'display_name': ''},\n",
       " 'enable_gpus': True,\n",
       " 'seed': False,\n",
       " 'accuracy': 5,\n",
       " 'time': 4,\n",
       " 'interpretability': 6,\n",
       " 'score_f_name': 'AUC',\n",
       " 'time_groups_columns': [],\n",
       " 'time_period_in_seconds': None,\n",
       " 'num_prediction_periods': None,\n",
       " 'num_gap_periods': None,\n",
       " 'is_timeseries': False,\n",
       " 'config_overrides': None}"
      ]
     },
     "execution_count": 12,
     "metadata": {},
     "output_type": "execute_result"
    }
   ],
   "source": [
    "# let Driverless suggest parameters for experiment\n",
    "params = h2oai.get_experiment_tuning_suggestion(dataset_key = train.key, target_col = target, \n",
    "                                                is_classification = True, is_time_series = False,\n",
    "                                                config_overrides = None)\n",
    "\n",
    "params.dump()"
   ]
  },
  {
   "cell_type": "markdown",
   "metadata": {},
   "source": [
    "Driverless AI has found that the best parameters are to set **`accuracy = 5`**, **`time = 4`**, **`interpretability = 6`**. It has selected **`AUC`** as the scorer (this is the default scorer for binomial problems).  "
   ]
  },
  {
   "cell_type": "markdown",
   "metadata": {},
   "source": [
    "#### Equivalent Steps in Driverless: Set the Knobs, Configuration & Launch\n",
    "![Equivalent Steps in Driverless: Set the Knobs](images/set_parameters_creditcard.png)"
   ]
  },
  {
   "cell_type": "markdown",
   "metadata": {},
   "source": [
    "### 4. Launch Experiment: Feature Engineering + Final Model Training\n",
    "\n",
    "Launch the experiment using the parameters that Driverless AI suggested along with the testset, scorer, and seed that were added. We can launch the experiment with the suggested parameters or create our own."
   ]
  },
  {
   "cell_type": "code",
   "execution_count": 13,
   "metadata": {},
   "outputs": [],
   "source": [
    "experiment = h2oai.start_experiment_sync(dataset_key=train.key,\n",
    "                                         testset_key = test.key,\n",
    "                                         target_col=target,\n",
    "                                         is_classification=True,\n",
    "                                         accuracy=5,\n",
    "                                         time=4,\n",
    "                                         interpretability=6,\n",
    "                                         scorer=\"AUC\",\n",
    "                                         enable_gpus=True,\n",
    "                                         seed=1234,\n",
    "                                         cols_to_drop=['ID'])"
   ]
  },
  {
   "cell_type": "markdown",
   "metadata": {},
   "source": [
    "#### Equivalent Steps in Driverless: Launch Experiment\n",
    "\n",
    "![Equivalent Steps in Driverless: Launch Your Experiment](images/exp_running_creditcard.png)\n",
    "\n",
    "![Equivalent Steps in Driverless: Launch Your Experiment](images/experiment_list_running.png)"
   ]
  },
  {
   "cell_type": "markdown",
   "metadata": {},
   "source": [
    "### 5. Examine Experiment\n",
    "\n",
    "View the final model score for the validation and test datasets. When feature engineering is complete, an ensemble model can be built depending on the accuracy setting. The experiment object also contains the score on the validation and test data for this ensemble model.  In this case, the validation score is the score on the training cross-validation predictions."
   ]
  },
  {
   "cell_type": "code",
   "execution_count": 14,
   "metadata": {},
   "outputs": [
    {
     "name": "stdout",
     "output_type": "stream",
     "text": [
      "Final Model Score on Validation Data: 0.778\n",
      "Final Model Score on Test Data: 0.8\n"
     ]
    }
   ],
   "source": [
    "print(\"Final Model Score on Validation Data: \" + str(round(experiment.valid_score, 3)))\n",
    "print(\"Final Model Score on Test Data: \" + str(round(experiment.test_score, 3)))"
   ]
  },
  {
   "cell_type": "markdown",
   "metadata": {},
   "source": [
    "The experiment object also contains the scores calculated for each iteration on bootstrapped samples on the validation data.  In the iteration graph in the UI, we can see the mean performance for the best model (yellow dot) and +/- 1 standard deviation of the best model performance (yellow bar).\n",
    "\n",
    "This information is saved in the experiment object."
   ]
  },
  {
   "cell_type": "code",
   "execution_count": 17,
   "metadata": {},
   "outputs": [
    {
     "data": {
      "image/png": "[encoded data removed]",
      "text/plain": [
       "<Figure size 432x288 with 1 Axes>"
      ]
     },
     "metadata": {
      "needs_background": "light"
     },
     "output_type": "display_data"
    }
   ],
   "source": [
    "# Add scores from experiment iterations\n",
    "iteration_data = h2oai.list_model_iteration_data(experiment.key, 0, len(experiment.iteration_data))\n",
    "iterations = list(map(lambda iteration: iteration.iteration, iteration_data))\n",
    "scores_mean = list(map(lambda iteration: iteration.score_mean, iteration_data))\n",
    "scores_sd = list(map(lambda iteration: iteration.score_sd, iteration_data))\n",
    "\n",
    "# Add score from final ensemble\n",
    "iterations = iterations + [max(iterations) + 1]\n",
    "scores_mean = scores_mean + [experiment.valid_score]\n",
    "scores_sd = scores_sd + [experiment.valid_score_sd]\n",
    "\n",
    "plt.figure()\n",
    "plt.errorbar(iterations, scores_mean, yerr=scores_sd, color = \"y\", \n",
    "             ecolor='yellow', fmt = '--o', elinewidth = 4, alpha = 0.5)\n",
    "plt.xlabel(\"Iteration\")\n",
    "plt.ylabel(\"AUC\")\n",
    "plt.ylim([0.65, 0.82])\n",
    "plt.show();"
   ]
  },
  {
   "cell_type": "markdown",
   "metadata": {},
   "source": [
    "#### Equivalent Steps in Driverless: View Results\n",
    "![Equivalent Steps in Driverless: View Results](images/experiment_complete_creditcard.png)"
   ]
  },
  {
   "cell_type": "markdown",
   "metadata": {},
   "source": [
    "### 6. Download Results\n",
    "\n",
    "Once an experiment is complete, we can see that the UI presents us options of downloading the: \n",
    "\n",
    "* predictions \n",
    "    * on the (holdout) train data\n",
    "    * on the test data\n",
    "* experiment summary - summary of the experiment including feature importance\n",
    "\n",
    "We will show an example of downloading the test predictions below.  Note that equivalent commands can also be run for downloading the train (holdout) predictions. "
   ]
  },
  {
   "cell_type": "code",
   "execution_count": 18,
   "metadata": {},
   "outputs": [
    {
     "data": {
      "text/plain": [
       "'./test_preds.csv'"
      ]
     },
     "execution_count": 18,
     "metadata": {},
     "output_type": "execute_result"
    }
   ],
   "source": [
    "h2oai.download(src_path=experiment.test_predictions_path, dest_dir=\".\")"
   ]
  },
  {
   "cell_type": "code",
   "execution_count": 21,
   "metadata": {},
   "outputs": [
    {
     "data": {
      "text/html": [
       "<div>\n",
       "<style scoped>\n",
       "    .dataframe tbody tr th:only-of-type {\n",
       "        vertical-align: middle;\n",
       "    }\n",
       "\n",
       "    .dataframe tbody tr th {\n",
       "        vertical-align: top;\n",
       "    }\n",
       "\n",
       "    .dataframe thead th {\n",
       "        text-align: right;\n",
       "    }\n",
       "</style>\n",
       "<table border=\"1\" class=\"dataframe\">\n",
       "  <thead>\n",
       "    <tr style=\"text-align: right;\">\n",
       "      <th></th>\n",
       "      <th>default payment next month.0</th>\n",
       "      <th>default payment next month.1</th>\n",
       "    </tr>\n",
       "  </thead>\n",
       "  <tbody>\n",
       "    <tr>\n",
       "      <th>0</th>\n",
       "      <td>0.368318</td>\n",
       "      <td>0.631682</td>\n",
       "    </tr>\n",
       "    <tr>\n",
       "      <th>1</th>\n",
       "      <td>0.858671</td>\n",
       "      <td>0.141329</td>\n",
       "    </tr>\n",
       "    <tr>\n",
       "      <th>2</th>\n",
       "      <td>0.940129</td>\n",
       "      <td>0.059871</td>\n",
       "    </tr>\n",
       "    <tr>\n",
       "      <th>3</th>\n",
       "      <td>0.635986</td>\n",
       "      <td>0.364014</td>\n",
       "    </tr>\n",
       "    <tr>\n",
       "      <th>4</th>\n",
       "      <td>0.858660</td>\n",
       "      <td>0.141340</td>\n",
       "    </tr>\n",
       "  </tbody>\n",
       "</table>\n",
       "</div>"
      ],
      "text/plain": [
       "   default payment next month.0  default payment next month.1\n",
       "0                      0.368318                      0.631682\n",
       "1                      0.858671                      0.141329\n",
       "2                      0.940129                      0.059871\n",
       "3                      0.635986                      0.364014\n",
       "4                      0.858660                      0.141340"
      ]
     },
     "execution_count": 21,
     "metadata": {},
     "output_type": "execute_result"
    }
   ],
   "source": [
    "test_preds = pd.read_csv(\"./test_preds.csv\")\n",
    "test_preds.head()"
   ]
  },
  {
   "cell_type": "markdown",
   "metadata": {},
   "source": [
    "## Build an Experiment in Web UI and Access Through Python\n",
    "\n",
    "It is also possible to use the Python API to examine an experiment that was started through the Web UI using the experiment key.\n",
    "\n",
    "![Experiments List](images/experiment_list_complete.png)\n",
    "\n",
    "### 1. Get pointer to experiment\n",
    "\n",
    "You can get a pointer to the experiment by referencing the experiment key in the Web UI."
   ]
  },
  {
   "cell_type": "code",
   "execution_count": 24,
   "metadata": {},
   "outputs": [
    {
     "data": {
      "text/plain": [
       "['adbb4dca-c460-11e9-b1a0-0242ac110002']"
      ]
     },
     "execution_count": 24,
     "metadata": {},
     "output_type": "execute_result"
    }
   ],
   "source": [
    "# Get list of experiments\n",
    "experiment_list = list(map(lambda x: x.key, h2oai.list_models(offset=0, limit=100).models))\n",
    "experiment_list"
   ]
  },
  {
   "cell_type": "code",
   "execution_count": 25,
   "metadata": {},
   "outputs": [],
   "source": [
    "# Get pointer to experiment\n",
    "experiment = h2oai.get_model_job(experiment_list[0]).entity"
   ]
  },
  {
   "cell_type": "markdown",
   "metadata": {},
   "source": [
    "## Score on New Data\n",
    "\n",
    "You can use the Python API to score on new data. This is equivalent to the **SCORE ON ANOTHER DATASET** button in the Web UI. The example below scores on the test data and then downloads the predictions.\n",
    "\n",
    "Pass in any dataset that has the same columns as the original training set. If you passed a test set during the H2OAI model building step, the predictions already exist.\n",
    "\n",
    "### 1. Score Using the H2OAI Model\n",
    "\n",
    "The following shows the predicted probability of default for each record in the test.  "
   ]
  },
  {
   "cell_type": "code",
   "execution_count": 27,
   "metadata": {},
   "outputs": [
    {
     "data": {
      "text/html": [
       "<div>\n",
       "<style scoped>\n",
       "    .dataframe tbody tr th:only-of-type {\n",
       "        vertical-align: middle;\n",
       "    }\n",
       "\n",
       "    .dataframe tbody tr th {\n",
       "        vertical-align: top;\n",
       "    }\n",
       "\n",
       "    .dataframe thead th {\n",
       "        text-align: right;\n",
       "    }\n",
       "</style>\n",
       "<table border=\"1\" class=\"dataframe\">\n",
       "  <thead>\n",
       "    <tr style=\"text-align: right;\">\n",
       "      <th></th>\n",
       "      <th>default payment next month.0</th>\n",
       "      <th>default payment next month.1</th>\n",
       "    </tr>\n",
       "  </thead>\n",
       "  <tbody>\n",
       "    <tr>\n",
       "      <th>0</th>\n",
       "      <td>0.368318</td>\n",
       "      <td>0.631682</td>\n",
       "    </tr>\n",
       "    <tr>\n",
       "      <th>1</th>\n",
       "      <td>0.858671</td>\n",
       "      <td>0.141329</td>\n",
       "    </tr>\n",
       "    <tr>\n",
       "      <th>2</th>\n",
       "      <td>0.940129</td>\n",
       "      <td>0.059871</td>\n",
       "    </tr>\n",
       "    <tr>\n",
       "      <th>3</th>\n",
       "      <td>0.635986</td>\n",
       "      <td>0.364014</td>\n",
       "    </tr>\n",
       "    <tr>\n",
       "      <th>4</th>\n",
       "      <td>0.858660</td>\n",
       "      <td>0.141340</td>\n",
       "    </tr>\n",
       "  </tbody>\n",
       "</table>\n",
       "</div>"
      ],
      "text/plain": [
       "   default payment next month.0  default payment next month.1\n",
       "0                      0.368318                      0.631682\n",
       "1                      0.858671                      0.141329\n",
       "2                      0.940129                      0.059871\n",
       "3                      0.635986                      0.364014\n",
       "4                      0.858660                      0.141340"
      ]
     },
     "execution_count": 27,
     "metadata": {},
     "output_type": "execute_result"
    }
   ],
   "source": [
    "prediction = h2oai.make_prediction_sync(experiment.key, test.key, output_margin = False, pred_contribs = False)\n",
    "pred_path = h2oai.download(prediction.predictions_csv_path, '.')\n",
    "pred_table = pd.read_csv(pred_path)\n",
    "pred_table.head()"
   ]
  },
  {
   "cell_type": "markdown",
   "metadata": {},
   "source": [
    "We can also get the contribution each feature had to the final prediction by setting `pred_contribs = True`.  This will give us an idea of how each feature effects the predictions. "
   ]
  },
  {
   "cell_type": "code",
   "execution_count": 28,
   "metadata": {
    "scrolled": true
   },
   "outputs": [
    {
     "data": {
      "text/html": [
       "<div>\n",
       "<style scoped>\n",
       "    .dataframe tbody tr th:only-of-type {\n",
       "        vertical-align: middle;\n",
       "    }\n",
       "\n",
       "    .dataframe tbody tr th {\n",
       "        vertical-align: top;\n",
       "    }\n",
       "\n",
       "    .dataframe thead th {\n",
       "        text-align: right;\n",
       "    }\n",
       "</style>\n",
       "<table border=\"1\" class=\"dataframe\">\n",
       "  <thead>\n",
       "    <tr style=\"text-align: right;\">\n",
       "      <th></th>\n",
       "      <th>contrib_0_AGE</th>\n",
       "      <th>contrib_1_BILL_AMT1</th>\n",
       "      <th>contrib_10_PAY_0</th>\n",
       "      <th>contrib_11_PAY_2</th>\n",
       "      <th>contrib_12_PAY_3</th>\n",
       "      <th>contrib_13_PAY_4</th>\n",
       "      <th>contrib_14_PAY_5</th>\n",
       "      <th>contrib_15_PAY_6</th>\n",
       "      <th>contrib_16_PAY_AMT1</th>\n",
       "      <th>contrib_17_PAY_AMT2</th>\n",
       "      <th>...</th>\n",
       "      <th>contrib_3_BILL_AMT3</th>\n",
       "      <th>contrib_39_InteractionSub:LIMIT_BAL:PAY_0</th>\n",
       "      <th>contrib_4_BILL_AMT4</th>\n",
       "      <th>contrib_40_NumToCatWoE:PAY_0.0</th>\n",
       "      <th>contrib_5_BILL_AMT5</th>\n",
       "      <th>contrib_6_BILL_AMT6</th>\n",
       "      <th>contrib_7_EDUCATION</th>\n",
       "      <th>contrib_8_LIMIT_BAL</th>\n",
       "      <th>contrib_9_MARRIAGE</th>\n",
       "      <th>contrib_bias</th>\n",
       "    </tr>\n",
       "  </thead>\n",
       "  <tbody>\n",
       "    <tr>\n",
       "      <th>0</th>\n",
       "      <td>0.009296</td>\n",
       "      <td>-0.055307</td>\n",
       "      <td>1.368045</td>\n",
       "      <td>0.238572</td>\n",
       "      <td>0.020656</td>\n",
       "      <td>-0.007015</td>\n",
       "      <td>-0.046915</td>\n",
       "      <td>-0.026357</td>\n",
       "      <td>0.096119</td>\n",
       "      <td>-0.016113</td>\n",
       "      <td>...</td>\n",
       "      <td>-0.012319</td>\n",
       "      <td>0.126335</td>\n",
       "      <td>-0.017504</td>\n",
       "      <td>0.343802</td>\n",
       "      <td>-0.017515</td>\n",
       "      <td>-0.001448</td>\n",
       "      <td>0.014333</td>\n",
       "      <td>0.010686</td>\n",
       "      <td>-0.041454</td>\n",
       "      <td>-1.489829</td>\n",
       "    </tr>\n",
       "    <tr>\n",
       "      <th>1</th>\n",
       "      <td>-0.004120</td>\n",
       "      <td>-0.098633</td>\n",
       "      <td>-0.269811</td>\n",
       "      <td>-0.038769</td>\n",
       "      <td>-0.021753</td>\n",
       "      <td>-0.015876</td>\n",
       "      <td>-0.021438</td>\n",
       "      <td>-0.011253</td>\n",
       "      <td>0.062662</td>\n",
       "      <td>-0.048671</td>\n",
       "      <td>...</td>\n",
       "      <td>0.023171</td>\n",
       "      <td>0.273089</td>\n",
       "      <td>0.019757</td>\n",
       "      <td>-0.080516</td>\n",
       "      <td>-0.016358</td>\n",
       "      <td>0.008521</td>\n",
       "      <td>0.013007</td>\n",
       "      <td>0.023966</td>\n",
       "      <td>-0.053266</td>\n",
       "      <td>-1.489829</td>\n",
       "    </tr>\n",
       "    <tr>\n",
       "      <th>2</th>\n",
       "      <td>-0.002795</td>\n",
       "      <td>-0.108271</td>\n",
       "      <td>-0.323838</td>\n",
       "      <td>-0.032620</td>\n",
       "      <td>-0.025398</td>\n",
       "      <td>-0.015163</td>\n",
       "      <td>-0.019359</td>\n",
       "      <td>-0.012695</td>\n",
       "      <td>0.024350</td>\n",
       "      <td>-0.170997</td>\n",
       "      <td>...</td>\n",
       "      <td>0.000570</td>\n",
       "      <td>-0.319296</td>\n",
       "      <td>-0.007444</td>\n",
       "      <td>-0.119950</td>\n",
       "      <td>-0.004766</td>\n",
       "      <td>-0.018997</td>\n",
       "      <td>0.007173</td>\n",
       "      <td>-0.026954</td>\n",
       "      <td>-0.034049</td>\n",
       "      <td>-1.489829</td>\n",
       "    </tr>\n",
       "    <tr>\n",
       "      <th>3</th>\n",
       "      <td>-0.042259</td>\n",
       "      <td>-0.081696</td>\n",
       "      <td>0.638557</td>\n",
       "      <td>0.155759</td>\n",
       "      <td>0.151033</td>\n",
       "      <td>0.117435</td>\n",
       "      <td>0.160161</td>\n",
       "      <td>0.094963</td>\n",
       "      <td>0.066598</td>\n",
       "      <td>0.080150</td>\n",
       "      <td>...</td>\n",
       "      <td>0.010372</td>\n",
       "      <td>0.128501</td>\n",
       "      <td>-0.035895</td>\n",
       "      <td>-0.023183</td>\n",
       "      <td>-0.014918</td>\n",
       "      <td>0.029675</td>\n",
       "      <td>-0.700617</td>\n",
       "      <td>0.020276</td>\n",
       "      <td>-0.019478</td>\n",
       "      <td>-1.489829</td>\n",
       "    </tr>\n",
       "    <tr>\n",
       "      <th>4</th>\n",
       "      <td>-0.014048</td>\n",
       "      <td>-0.180291</td>\n",
       "      <td>-0.236108</td>\n",
       "      <td>-0.039736</td>\n",
       "      <td>-0.089428</td>\n",
       "      <td>-0.040507</td>\n",
       "      <td>-0.019461</td>\n",
       "      <td>-0.002908</td>\n",
       "      <td>0.117064</td>\n",
       "      <td>0.114865</td>\n",
       "      <td>...</td>\n",
       "      <td>-0.038161</td>\n",
       "      <td>0.128762</td>\n",
       "      <td>-0.044302</td>\n",
       "      <td>-0.103092</td>\n",
       "      <td>-0.004483</td>\n",
       "      <td>-0.026630</td>\n",
       "      <td>0.006783</td>\n",
       "      <td>0.007000</td>\n",
       "      <td>-0.039973</td>\n",
       "      <td>-1.489829</td>\n",
       "    </tr>\n",
       "  </tbody>\n",
       "</table>\n",
       "<p>5 rows × 26 columns</p>\n",
       "</div>"
      ],
      "text/plain": [
       "   contrib_0_AGE  contrib_1_BILL_AMT1  contrib_10_PAY_0  contrib_11_PAY_2  \\\n",
       "0       0.009296            -0.055307          1.368045          0.238572   \n",
       "1      -0.004120            -0.098633         -0.269811         -0.038769   \n",
       "2      -0.002795            -0.108271         -0.323838         -0.032620   \n",
       "3      -0.042259            -0.081696          0.638557          0.155759   \n",
       "4      -0.014048            -0.180291         -0.236108         -0.039736   \n",
       "\n",
       "   contrib_12_PAY_3  contrib_13_PAY_4  contrib_14_PAY_5  contrib_15_PAY_6  \\\n",
       "0          0.020656         -0.007015         -0.046915         -0.026357   \n",
       "1         -0.021753         -0.015876         -0.021438         -0.011253   \n",
       "2         -0.025398         -0.015163         -0.019359         -0.012695   \n",
       "3          0.151033          0.117435          0.160161          0.094963   \n",
       "4         -0.089428         -0.040507         -0.019461         -0.002908   \n",
       "\n",
       "   contrib_16_PAY_AMT1  contrib_17_PAY_AMT2  ...  contrib_3_BILL_AMT3  \\\n",
       "0             0.096119            -0.016113  ...            -0.012319   \n",
       "1             0.062662            -0.048671  ...             0.023171   \n",
       "2             0.024350            -0.170997  ...             0.000570   \n",
       "3             0.066598             0.080150  ...             0.010372   \n",
       "4             0.117064             0.114865  ...            -0.038161   \n",
       "\n",
       "   contrib_39_InteractionSub:LIMIT_BAL:PAY_0  contrib_4_BILL_AMT4  \\\n",
       "0                                   0.126335            -0.017504   \n",
       "1                                   0.273089             0.019757   \n",
       "2                                  -0.319296            -0.007444   \n",
       "3                                   0.128501            -0.035895   \n",
       "4                                   0.128762            -0.044302   \n",
       "\n",
       "   contrib_40_NumToCatWoE:PAY_0.0  contrib_5_BILL_AMT5  contrib_6_BILL_AMT6  \\\n",
       "0                        0.343802            -0.017515            -0.001448   \n",
       "1                       -0.080516            -0.016358             0.008521   \n",
       "2                       -0.119950            -0.004766            -0.018997   \n",
       "3                       -0.023183            -0.014918             0.029675   \n",
       "4                       -0.103092            -0.004483            -0.026630   \n",
       "\n",
       "   contrib_7_EDUCATION  contrib_8_LIMIT_BAL  contrib_9_MARRIAGE  contrib_bias  \n",
       "0             0.014333             0.010686           -0.041454     -1.489829  \n",
       "1             0.013007             0.023966           -0.053266     -1.489829  \n",
       "2             0.007173            -0.026954           -0.034049     -1.489829  \n",
       "3            -0.700617             0.020276           -0.019478     -1.489829  \n",
       "4             0.006783             0.007000           -0.039973     -1.489829  \n",
       "\n",
       "[5 rows x 26 columns]"
      ]
     },
     "execution_count": 28,
     "metadata": {},
     "output_type": "execute_result"
    }
   ],
   "source": [
    "prediction_contributions = h2oai.make_prediction_sync(experiment.key, test.key, \n",
    "                                                      output_margin = False, pred_contribs = True)\n",
    "pred_contributions_path = h2oai.download(prediction_contributions.predictions_csv_path, '.')\n",
    "pred_contributions_table = pd.read_csv(pred_contributions_path)\n",
    "pred_contributions_table.head()"
   ]
  },
  {
   "cell_type": "markdown",
   "metadata": {},
   "source": [
    "We will examine the contributions for our first record more closely."
   ]
  },
  {
   "cell_type": "code",
   "execution_count": 31,
   "metadata": {},
   "outputs": [
    {
     "data": {
      "text/html": [
       "<div>\n",
       "<style scoped>\n",
       "    .dataframe tbody tr th:only-of-type {\n",
       "        vertical-align: middle;\n",
       "    }\n",
       "\n",
       "    .dataframe tbody tr th {\n",
       "        vertical-align: top;\n",
       "    }\n",
       "\n",
       "    .dataframe thead th {\n",
       "        text-align: right;\n",
       "    }\n",
       "</style>\n",
       "<table border=\"1\" class=\"dataframe\">\n",
       "  <thead>\n",
       "    <tr style=\"text-align: right;\">\n",
       "      <th></th>\n",
       "      <th>contribution</th>\n",
       "    </tr>\n",
       "  </thead>\n",
       "  <tbody>\n",
       "    <tr>\n",
       "      <th>contrib_bias</th>\n",
       "      <td>-1.489829</td>\n",
       "    </tr>\n",
       "    <tr>\n",
       "      <th>contrib_10_PAY_0</th>\n",
       "      <td>1.368045</td>\n",
       "    </tr>\n",
       "    <tr>\n",
       "      <th>contrib_40_NumToCatWoE:PAY_0.0</th>\n",
       "      <td>0.343802</td>\n",
       "    </tr>\n",
       "    <tr>\n",
       "      <th>contrib_11_PAY_2</th>\n",
       "      <td>0.238572</td>\n",
       "    </tr>\n",
       "    <tr>\n",
       "      <th>contrib_39_InteractionSub:LIMIT_BAL:PAY_0</th>\n",
       "      <td>0.126335</td>\n",
       "    </tr>\n",
       "  </tbody>\n",
       "</table>\n",
       "</div>"
      ],
      "text/plain": [
       "                                           contribution\n",
       "contrib_bias                                  -1.489829\n",
       "contrib_10_PAY_0                               1.368045\n",
       "contrib_40_NumToCatWoE:PAY_0.0                 0.343802\n",
       "contrib_11_PAY_2                               0.238572\n",
       "contrib_39_InteractionSub:LIMIT_BAL:PAY_0      0.126335"
      ]
     },
     "execution_count": 31,
     "metadata": {},
     "output_type": "execute_result"
    }
   ],
   "source": [
    "contrib = pd.DataFrame(pred_contributions_table.iloc[0][1:])\n",
    "contrib.columns = [\"contribution\"]\n",
    "contrib[\"abs_contribution\"] = contrib.contribution.abs()\n",
    "contrib.sort_values(by=\"abs_contribution\", ascending=False)[[\"contribution\"]].head()"
   ]
  },
  {
   "cell_type": "markdown",
   "metadata": {},
   "source": [
    "The clusters from this customer's: `PAY_0`, `PAY_2`, and `LIMIT_BAL` had the greatest impact on their prediction.  Since the contribution is positive, we know that it increases the probability that they will default."
   ]
  },
  {
   "cell_type": "markdown",
   "metadata": {},
   "source": [
    "## Model Diagnostics on New Data\n",
    "\n",
    "You can use the Python API to also perform model diagnostics on new data. This is equivalent to the **Model Diagnostics** tab in the Web UI. \n",
    "\n",
    "![Model Diagnostics Setup](images/model_diagnostics_setup.png)\n",
    "\n",
    "\n",
    "### 1. Run model diagnostincs on new data with H2OAI model\n",
    "\n",
    "The example below performs model diagnostics on the test dataset but any data with the same columns can be selected. "
   ]
  },
  {
   "cell_type": "code",
   "execution_count": 32,
   "metadata": {},
   "outputs": [],
   "source": [
    "test_diagnostics = h2oai.make_model_diagnostic_sync(experiment.key, test.key)"
   ]
  },
  {
   "cell_type": "code",
   "execution_count": 38,
   "metadata": {},
   "outputs": [
    {
     "data": {
      "text/plain": [
       "[{'scorer': 'ACCURACY', 'score': 0.8328333333333333},\n",
       " {'scorer': 'AUC', 'score': 0.800410595664051},\n",
       " {'scorer': 'AUCPR', 'score': 0.5788506955072626},\n",
       " {'scorer': 'F05', 'score': 0.5922633349351274},\n",
       " {'scorer': 'F1', 'score': 0.5527800161160354},\n",
       " {'scorer': 'F2', 'score': 0.644311377245509},\n",
       " {'scorer': 'GINI', 'score': 0.6008211913281021},\n",
       " {'scorer': 'LOGLOSS', 'score': 0.40630696670835215},\n",
       " {'scorer': 'MACROAUC', 'score': 0.800410595664051},\n",
       " {'scorer': 'MCC', 'score': 0.43858869603719774}]"
      ]
     },
     "execution_count": 38,
     "metadata": {},
     "output_type": "execute_result"
    }
   ],
   "source": [
    "[{'scorer': x.score_f_name, 'score': x.score} for x in test_diagnostics.scores]"
   ]
  },
  {
   "cell_type": "markdown",
   "metadata": {},
   "source": [
    "Here is the same model diagnostics displayed in the UI: \n",
    "\n",
    "![Model Diagnostics Setup](images/model_diagnostics_complete.png)\n"
   ]
  },
  {
   "cell_type": "markdown",
   "metadata": {
    "collapsed": true
   },
   "source": [
    "## Run Model Interpretation\n",
    "\n",
    "Once we have completed an experiment, we can interpret our H2OAI model.  Model Interpretability is used to provide model transparency and explanations.  More information on Model Interpretability can be found here: http://docs.h2o.ai/driverless-ai/latest-stable/docs/userguide/interpreting.html.\n",
    "\n",
    "\n",
    "### 1. Run Model Interpretation on the Raw Data\n",
    "\n",
    "We can run the model interpretation in the Python client as shown below.  By setting the parameter, `use_raw_features` to True, we are interpreting the model using only the raw features in the data.  This will not use the engineered features we saw in our final model's features to explain the data.  "
   ]
  },
  {
   "cell_type": "code",
   "execution_count": 39,
   "metadata": {},
   "outputs": [],
   "source": [
    "mli_experiment = h2oai.run_interpretation_sync(dai_model_key = experiment.key,\n",
    "                                               dataset_key = train.key,\n",
    "                                               target_col = target,\n",
    "                                               use_raw_feature = True)"
   ]
  },
  {
   "cell_type": "markdown",
   "metadata": {},
   "source": [
    "This is equivalent to clicking **Interpet this Model on Original Features** in the UI once the experiment has completed.\n",
    "\n",
    "![Equivalent Steps in Driverless: View Results](images/experiment_complete_creditcard.png)"
   ]
  },
  {
   "cell_type": "markdown",
   "metadata": {},
   "source": [
    "Once our interpretation is finished, we can navigate to the MLI tab in the UI to see our interpreted model. \n",
    "\n",
    "![Equivalent Steps in Driverless: MLI List](images/mli_list.png)\n",
    "\n",
    "We can also see the list of interpretations using the Python Client:"
   ]
  },
  {
   "cell_type": "code",
   "execution_count": 40,
   "metadata": {},
   "outputs": [
    {
     "data": {
      "text/plain": [
       "['69b8281c-c462-11e9-b1a0-0242ac110002']"
      ]
     },
     "execution_count": 40,
     "metadata": {},
     "output_type": "execute_result"
    }
   ],
   "source": [
    "# Get list of interpretations\n",
    "mli_list = list(map(lambda x: x.key, h2oai.list_interpretations(offset=0, limit=100)))\n",
    "mli_list"
   ]
  },
  {
   "cell_type": "markdown",
   "metadata": {
    "collapsed": true
   },
   "source": [
    "### 2. Run Model Interpretation on External Model Predictions\n",
    "\n",
    "Model Interpretation does not need to be run on a Driverless AI experiment.  We can also train an external model and run Model Interpretability on the predictions. In this next section, we will walk through the steps to interpret an external model.\n",
    "\n",
    "#### Train External Model\n",
    "\n",
    "We will begin by training a model with scikit-learn.  Our end goal is to use Driverless AI to interpret the predictions made by our scikit-learn model."
   ]
  },
  {
   "cell_type": "code",
   "execution_count": 50,
   "metadata": {},
   "outputs": [],
   "source": [
    "# Dataset must be located where Python client is running - you may need to download it locally\n",
    "train_pd = pd.read_csv(train_path)"
   ]
  },
  {
   "cell_type": "code",
   "execution_count": 51,
   "metadata": {},
   "outputs": [
    {
     "data": {
      "text/plain": [
       "GradientBoostingClassifier(criterion='friedman_mse', init=None,\n",
       "                           learning_rate=0.1, loss='deviance', max_depth=3,\n",
       "                           max_features=None, max_leaf_nodes=None,\n",
       "                           min_impurity_decrease=0.0, min_impurity_split=None,\n",
       "                           min_samples_leaf=1, min_samples_split=2,\n",
       "                           min_weight_fraction_leaf=0.0, n_estimators=100,\n",
       "                           n_iter_no_change=None, presort='auto',\n",
       "                           random_state=10, subsample=1.0, tol=0.0001,\n",
       "                           validation_fraction=0.1, verbose=0,\n",
       "                           warm_start=False)"
      ]
     },
     "execution_count": 51,
     "metadata": {},
     "output_type": "execute_result"
    }
   ],
   "source": [
    "from sklearn.ensemble import GradientBoostingClassifier\n",
    "\n",
    "predictors = list(set(train_pd.columns) - set([target]))\n",
    "\n",
    "gbm_model = GradientBoostingClassifier(random_state=10)\n",
    "gbm_model.fit(train_pd[predictors], train_pd[target])"
   ]
  },
  {
   "cell_type": "code",
   "execution_count": 52,
   "metadata": {},
   "outputs": [
    {
     "data": {
      "text/plain": [
       "array([[0.20060823, 0.79939177],\n",
       "       [0.57311744, 0.42688256],\n",
       "       [0.88034896, 0.11965104],\n",
       "       [0.86483594, 0.13516406],\n",
       "       [0.87349721, 0.12650279]])"
      ]
     },
     "execution_count": 52,
     "metadata": {},
     "output_type": "execute_result"
    }
   ],
   "source": [
    "predictions = gbm_model.predict_proba(train_pd[predictors])\n",
    "predictions[0:5]"
   ]
  },
  {
   "cell_type": "markdown",
   "metadata": {},
   "source": [
    "#### Interpret on External Predictions\n",
    "\n",
    "Now that we have the predictions from our scikit-learn GBM model, we can call Driverless AI's **`h2o_ai.run_interpretation_sync`** to create the interpretation screen."
   ]
  },
  {
   "cell_type": "code",
   "execution_count": 53,
   "metadata": {},
   "outputs": [],
   "source": [
    "train_gbm_path = \"./CreditCard-train-gbm_pred.csv\"\n",
    "predictions = pd.concat([train_pd, pd.DataFrame(predictions[:, 1], columns = [\"p1\"])], axis = 1)\n",
    "predictions.to_csv(path_or_buf=train_gbm_path, index = False)"
   ]
  },
  {
   "cell_type": "code",
   "execution_count": 54,
   "metadata": {},
   "outputs": [],
   "source": [
    "train_gbm_pred = h2oai.upload_dataset_sync(train_gbm_path)"
   ]
  },
  {
   "cell_type": "code",
   "execution_count": 55,
   "metadata": {},
   "outputs": [],
   "source": [
    "mli_external = h2oai.run_interpretation_sync(dai_model_key = \"\", # no experiment key\n",
    "                                             dataset_key = train_gbm_pred.key,\n",
    "                                             target_col = target,\n",
    "                                             prediction_col = \"p1\")"
   ]
  },
  {
   "cell_type": "markdown",
   "metadata": {},
   "source": [
    "We can also run Model Interpretability on an external model in the UI as shown below:\n",
    "\n",
    "![Equivalent Steps in Driverless: MLI External Model](images/mli_external.png)"
   ]
  },
  {
   "cell_type": "code",
   "execution_count": 56,
   "metadata": {},
   "outputs": [
    {
     "data": {
      "text/plain": [
       "['7a210df8-c463-11e9-b1a0-0242ac110002',\n",
       " '69b8281c-c462-11e9-b1a0-0242ac110002']"
      ]
     },
     "execution_count": 56,
     "metadata": {},
     "output_type": "execute_result"
    }
   ],
   "source": [
    "# Get list of interpretations\n",
    "mli_list = list(map(lambda x: x.key, h2oai.list_interpretations(offset=0, limit=100)))\n",
    "mli_list"
   ]
  },
  {
   "cell_type": "markdown",
   "metadata": {},
   "source": [
    "## Build Scoring Pipelines\n",
    "\n",
    "In our last section, we will build the scoring pipelines from our experiment.  There are two scoring pipeline options: \n",
    "\n",
    "* Python Scoring Pipeline: requires Python runtime\n",
    "* MOJO Scoring Pipeline: requires Java runtime\n",
    "\n",
    "Documentation on the scoring pipelines is provided here: http://docs.h2o.ai/driverless-ai/latest-stable/docs/userguide/python-mojo-pipelines.html.\n",
    "\n",
    "![Equivalent Steps in Driverless: View Results](images/experiment_complete_creditcard.png)\n",
    "\n",
    "The experiment screen shows two scoring pipeline buttons: **Download Python Scoring Pipeline** or **Build MOJO Scoring Pipeline**.  Driverless AI determines if any scoring pipeline should be automatically built based on the config.toml file.  In this example, we have run Driverless AI with the settings: \n",
    "\n",
    "```\n",
    "# Whether to create the Python scoring pipeline at the end of each experiment\n",
    "make_python_scoring_pipeline = true\n",
    "\n",
    "# Whether to create the MOJO scoring pipeline at the end of each experiment\n",
    "# Note: Not all transformers or main models are available for MOJO (e.g. no gblinear main model)\n",
    "make_mojo_scoring_pipeline = false\n",
    "```\n",
    "\n",
    "Therefore, only the Python Scoring Pipeline will be built by default.\n",
    "\n",
    "### 1. Build Python Scoring Pipeline\n",
    "\n",
    "The Python Scoring Pipeline has been built by default based on our config.toml settings.  We can get the path to the Python Scoring Pipeline in our experiment object."
   ]
  },
  {
   "cell_type": "code",
   "execution_count": 57,
   "metadata": {},
   "outputs": [
    {
     "data": {
      "text/plain": [
       "'h2oai_experiment_adbb4dca-c460-11e9-b1a0-0242ac110002/scoring_pipeline/scorer.zip'"
      ]
     },
     "execution_count": 57,
     "metadata": {},
     "output_type": "execute_result"
    }
   ],
   "source": [
    "experiment.scoring_pipeline_path"
   ]
  },
  {
   "cell_type": "markdown",
   "metadata": {},
   "source": [
    "We can also build the Python Scoring Pipeline - this is useful if the **`make_python_scoring_pipeline`** option was set to false."
   ]
  },
  {
   "cell_type": "code",
   "execution_count": 58,
   "metadata": {},
   "outputs": [],
   "source": [
    "python_scoring_pipeline = h2oai.build_scoring_pipeline_sync(experiment.key)"
   ]
  },
  {
   "cell_type": "code",
   "execution_count": 59,
   "metadata": {},
   "outputs": [
    {
     "data": {
      "text/plain": [
       "'h2oai_experiment_adbb4dca-c460-11e9-b1a0-0242ac110002/scoring_pipeline/scorer.zip'"
      ]
     },
     "execution_count": 59,
     "metadata": {},
     "output_type": "execute_result"
    }
   ],
   "source": [
    "python_scoring_pipeline.file_path"
   ]
  },
  {
   "cell_type": "markdown",
   "metadata": {},
   "source": [
    "Now we will download the scoring pipeline zip file."
   ]
  },
  {
   "cell_type": "code",
   "execution_count": 60,
   "metadata": {},
   "outputs": [
    {
     "data": {
      "text/plain": [
       "'./scorer.zip'"
      ]
     },
     "execution_count": 60,
     "metadata": {},
     "output_type": "execute_result"
    }
   ],
   "source": [
    "h2oai.download(python_scoring_pipeline.file_path, dest_dir=\".\")"
   ]
  },
  {
   "cell_type": "markdown",
   "metadata": {},
   "source": [
    "### 2. Build MOJO Scoring Pipeline\n",
    "\n",
    "The MOJO Scoring Pipeline has not been built by default because of our config.toml settings.  We can build the MOJO Scoring Pipeline using the Python client.  This is equivalent to selecting the **Build MOJO Scoring Pipeline** on the experiment screen."
   ]
  },
  {
   "cell_type": "code",
   "execution_count": 61,
   "metadata": {},
   "outputs": [],
   "source": [
    "mojo_scoring_pipeline = h2oai.build_mojo_pipeline_sync(experiment.key)"
   ]
  },
  {
   "cell_type": "code",
   "execution_count": 62,
   "metadata": {},
   "outputs": [
    {
     "data": {
      "text/plain": [
       "'h2oai_experiment_adbb4dca-c460-11e9-b1a0-0242ac110002/mojo_pipeline/mojo.zip'"
      ]
     },
     "execution_count": 62,
     "metadata": {},
     "output_type": "execute_result"
    }
   ],
   "source": [
    "mojo_scoring_pipeline.file_path"
   ]
  },
  {
   "cell_type": "markdown",
   "metadata": {},
   "source": [
    "Now we can download the scoring pipeline zip file."
   ]
  },
  {
   "cell_type": "code",
   "execution_count": 63,
   "metadata": {},
   "outputs": [
    {
     "data": {
      "text/plain": [
       "'./mojo.zip'"
      ]
     },
     "execution_count": 63,
     "metadata": {},
     "output_type": "execute_result"
    }
   ],
   "source": [
    "h2oai.download(mojo_scoring_pipeline.file_path, dest_dir=\".\")"
   ]
  },
  {
   "cell_type": "markdown",
   "metadata": {
    "collapsed": true
   },
   "source": [
    "Once the MOJO Scoring Pipeline is built, the **Build MOJO Scoring Pipeline** changes to **Download MOJO Scoring Pipeline**.\n",
    "\n",
    "\n",
    "\n",
    "![Equivalent Steps in Driverless: Download MOJO](images/download_mojo.png)"
   ]
  },
  {
   "cell_type": "code",
   "execution_count": null,
   "metadata": {
    "collapsed": true
   },
   "outputs": [],
   "source": []
  }
 ],
 "metadata": {
  "kernelspec": {
   "display_name": "Python 3",
   "language": "python",
   "name": "python3"
  },
  "language_info": {
   "codemirror_mode": {
    "name": "ipython",
    "version": 3
   },
   "file_extension": ".py",
   "mimetype": "text/x-python",
   "name": "python",
   "nbconvert_exporter": "python",
   "pygments_lexer": "ipython3",
   "version": "3.6.5"
  }
 },
 "nbformat": 4,
 "nbformat_minor": 2
}
