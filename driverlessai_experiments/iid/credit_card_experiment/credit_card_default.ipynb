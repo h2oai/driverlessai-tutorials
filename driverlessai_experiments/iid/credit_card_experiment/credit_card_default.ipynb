{
 "cells": [
  {
   "cell_type": "markdown",
   "metadata": {},
   "source": [
    "# Driverless AI: Using the Python API\n",
    "This notebook provides an H2OAI Client workflow, of model building and scoring, that parallels the Driverless AI workflow.\n",
    "\n",
    "**Notes**:\n",
    "\n",
    "* This is an early release of the Driverless AI Python client.\n",
    "* Python 3.6 is the only supported version.\n",
    "* You must install the `h2oai_client` wheel to your local Python. This is available from the PY_CLIENT link in the top menu of the UI.\n",
    "\n",
    "![py-client](images/py_client_link.png)"
   ]
  },
  {
   "cell_type": "markdown",
   "metadata": {},
   "source": [
    "## Workflow Steps\n",
    "\n",
    "**Build an Experiment with Python API:**\n",
    "\n",
    "1. Sign in\n",
    "2. Import train & test set/new data\n",
    "3. Specify experiment parameters\n",
    "4. Launch Experiement\n",
    "5. Examine Experiment\n",
    "6. Download Predictions\n",
    "    \n",
    "**Build an Experiment in Web UI and Access Through Python:**\n",
    "\n",
    "1. Get pointer to experiment\n",
    "    \n",
    "**Score on New Data:**\n",
    "\n",
    "1. Score on new data with H2OAI model\n",
    "\n",
    "**Run Model Interpretation**\n",
    "\n",
    "1. Run model interpretation on the raw features\n",
    "2. Run Model Interpretation on External Model Predictions\n",
    "\n",
    "**Build Scoring Pipelines**\n",
    "\n",
    "1. Build Python Scoring Pipeline\n",
    "2. Build MOJO Scoring Pipeline"
   ]
  },
  {
   "cell_type": "markdown",
   "metadata": {},
   "source": [
    "## Build an Experiment with Python API\n",
    "\n",
    "### 1. Sign In\n",
    "\n",
    "Import the required modules and log in.\n",
    "\n",
    "Pass in your credentials through the Client class which creates an authentication token to send to the Driverless AI Server. In plain english: to sign into the Driverless AI webage (which then sends requests to the Driverless Server) instantiate the Client class with your Driverless AI address and login credentials."
   ]
  },
  {
   "cell_type": "code",
   "execution_count": 2,
   "metadata": {
    "collapsed": true
   },
   "outputs": [],
   "source": [
    "import h2oai_client\n",
    "import numpy as np\n",
    "import pandas as pd\n",
    "# import h2o\n",
    "import requests\n",
    "import math\n",
    "from h2oai_client import Client, ModelParameters, InterpretParameters"
   ]
  },
  {
   "cell_type": "code",
   "execution_count": 3,
   "metadata": {
    "collapsed": true
   },
   "outputs": [],
   "source": [
    "address = 'http://ip_where_driverless_is_running:12345'\n",
    "username = 'username'\n",
    "password = 'password'\n",
    "h2oai = Client(address = address, username = username, password = password)\n",
    "# make sure to use the same user name and password when signing in through the GUI"
   ]
  },
  {
   "cell_type": "markdown",
   "metadata": {
    "collapsed": true
   },
   "source": [
    "#### Equivalent Steps in Driverless: Signing In\n",
    "![Equivalent Steps in Driverless: Signing In](images/sign_in_home_page_0.png)\n",
    "\n",
    "![Equivalent Steps in Driverless: Signing In](images/skip_sign_in_home_page_1.png)"
   ]
  },
  {
   "cell_type": "markdown",
   "metadata": {},
   "source": [
    "### 2. Upload Datasets\n",
    "\n",
    "Upload training and testing datasets from the Driverless AI **/data** folder.\n",
    "\n",
    "You can provide a training, validation, and testing dataset for an experiment.  The validation and testing dataset are optional.  In this example, we will provide only training and testing."
   ]
  },
  {
   "cell_type": "code",
   "execution_count": 4,
   "metadata": {
    "collapsed": true
   },
   "outputs": [],
   "source": [
    "train_path = '/data/Kaggle/CreditCard/CreditCard-train.csv'\n",
    "test_path = '/data/Kaggle/CreditCard/CreditCard-test.csv'\n",
    "\n",
    "train = h2oai.create_dataset_sync(train_path)\n",
    "test = h2oai.create_dataset_sync(test_path)"
   ]
  },
  {
   "cell_type": "markdown",
   "metadata": {},
   "source": [
    "#### Equivalent Steps in Driverless: Uploading Train & Test CSV Files\n",
    "![Equivalent Steps in Driverless: Upload Train & Test CSV Files](images/import_data_sets_creditcard.png)"
   ]
  },
  {
   "cell_type": "markdown",
   "metadata": {
    "collapsed": true
   },
   "source": [
    "### 3. Set Experiment Parameters\n",
    "\n",
    "We will now set the parameters of our experiment.  Some of the parameters include:\n",
    "\n",
    "* Target Column: The column we are trying to predict.\n",
    "* Dropped Columns: The columns we do not want to use as predictors such as ID columns, columns with data leakage, etc.\n",
    "* Weight Column: The column that indicates the per row observation weights. If `None`, each row will have an observation weight of 1.\n",
    "* Fold Column: The column that indicates the fold. If `None`, the folds will be determined by Driverless AI.\n",
    "* Time Column: The column that provides a time order, if applicable.\n",
    "    * if `[AUTO]`, Driverless AI will auto-detect a potential time order\n",
    "    * if `[OFF]`, auto-detection is disabled\n",
    "\n",
    "For information on the experiment settings, refer to the [Experiment Settings](http://docs.h2o.ai/driverless-ai/latest-stable/docs/userguide/launching.html#experimentsettings).\n",
    "\n",
    "For this example, we will be predicting **`default payment next month`**.  The parameters that control the experiment process are: `accuracy`, `time`, and `interpretability`.  We can use the `get_experiment_preview_sync` function to get a sense of what will happen during the experiment.  \n",
    "\n",
    "We will start out by seeing what the experiment will look like with `accuracy`, `time`, and `interpretability` all set to 5."
   ]
  },
  {
   "cell_type": "code",
   "execution_count": 8,
   "metadata": {
    "scrolled": true
   },
   "outputs": [
    {
     "data": {
      "text/plain": [
       "['ACCURACY [5/10]:',\n",
       " '- Training data size: *23,999 rows, 25 cols*',\n",
       " '- Feature evolution: *XGBoost*, *time-based validation*',\n",
       " '- Final pipeline: *XGBoost*',\n",
       " '',\n",
       " 'TIME [5/10]:',\n",
       " '- Feature evolution: *4 individuals*, up to *54 iterations*',\n",
       " '- Early stopping: After *10* iterations of no improvement',\n",
       " '',\n",
       " 'INTERPRETABILITY [5/10]:',\n",
       " '- Feature pre-pruning strategy: None',\n",
       " '- Monotonicity constraints: disabled',\n",
       " \"- Feature engineering search space (where applicable): ['Clustering', 'Date', 'FrequencyEncoding', 'Identity', 'Interactions', 'Lags', 'TargetEncoding', 'Text', 'TruncatedSVD', 'WeightOfEvidence']\",\n",
       " '',\n",
       " 'XGBoost models to train:',\n",
       " '- Model and feature tuning: *8*',\n",
       " '- Feature evolution: *102*',\n",
       " '- Final pipeline: *1*',\n",
       " '',\n",
       " 'Estimated max. total memory usage:',\n",
       " '- Feature engineering: *56.0MB*',\n",
       " '- GPU XGBoost: *360.0MB*',\n",
       " '',\n",
       " 'Estimated runtime: *6 minutes*']"
      ]
     },
     "execution_count": 8,
     "metadata": {},
     "output_type": "execute_result"
    }
   ],
   "source": [
    "target=\"default payment next month\"\n",
    "exp_preview = h2oai.get_experiment_preview_sync(dataset_key= train.key, validset_key='', classification=True, \n",
    "                                                dropped_cols = [], target_col=target, time_col = '', enable_gpus = True, \n",
    "                                                accuracy = 5, time = 5, interpretability = 5)\n",
    "exp_preview"
   ]
  },
  {
   "cell_type": "markdown",
   "metadata": {},
   "source": [
    "With these settings, the Driverless AI experiment should take around 6 minutes to run and will train about 111 models: \n",
    "* 8 for parameter tuning\n",
    "* 102 for feature engineering\n",
    "* 1 for the final model\n",
    "\n",
    "Driverless AI can suggest the parameters based on the dataset and target column.  Below we will use the `get_experiment_tuning_suggestion` to see what settings Driverless AI suggests."
   ]
  },
  {
   "cell_type": "code",
   "execution_count": 9,
   "metadata": {
    "collapsed": true
   },
   "outputs": [],
   "source": [
    "# let Driverless suggest parameters for experiment\n",
    "params = h2oai.get_experiment_tuning_suggestion(dataset_key = train.key, target_col = target, \n",
    "                                                is_classification = True, is_time_series = False)"
   ]
  },
  {
   "cell_type": "code",
   "execution_count": 10,
   "metadata": {},
   "outputs": [
    {
     "data": {
      "text/plain": [
       "{'dataset_key': 'bucifidu',\n",
       " 'target_col': 'default payment next month',\n",
       " 'weight_col': '',\n",
       " 'fold_col': '',\n",
       " 'orig_time_col': '',\n",
       " 'time_col': '',\n",
       " 'is_classification': True,\n",
       " 'cols_to_drop': [],\n",
       " 'validset_key': '',\n",
       " 'testset_key': '',\n",
       " 'enable_gpus': True,\n",
       " 'seed': False,\n",
       " 'accuracy': 6,\n",
       " 'time': 3,\n",
       " 'interpretability': 6,\n",
       " 'scorer': 'AUC',\n",
       " 'time_groups_columns': [],\n",
       " 'time_period_in_seconds': None,\n",
       " 'num_prediction_periods': None,\n",
       " 'num_gap_periods': None,\n",
       " 'is_timeseries': False}"
      ]
     },
     "execution_count": 10,
     "metadata": {},
     "output_type": "execute_result"
    }
   ],
   "source": [
    "params.dump()"
   ]
  },
  {
   "cell_type": "markdown",
   "metadata": {},
   "source": [
    "Driverless AI has found that the best parameters are to set `accuracy = 6`, `time = 3`, `interpretability = 6`. It has selected `AUC` as the scorer (this is the default scorer for binomial problems).  \n",
    "\n",
    "We will add our test data to the parameters and add a seed to make the experiment reproducible.  "
   ]
  },
  {
   "cell_type": "code",
   "execution_count": 11,
   "metadata": {
    "collapsed": true
   },
   "outputs": [],
   "source": [
    "params.testset_key = test.key\n",
    "params.seed = 1234"
   ]
  },
  {
   "cell_type": "markdown",
   "metadata": {},
   "source": [
    "We can see our experiment preview with the suggested settings below.  "
   ]
  },
  {
   "cell_type": "code",
   "execution_count": 13,
   "metadata": {},
   "outputs": [
    {
     "data": {
      "text/plain": [
       "['ACCURACY [6/10]:',\n",
       " '- Training data size: *23,999 rows, 25 cols*',\n",
       " '- Feature evolution: *XGBoost*, *time-based validation*',\n",
       " '- Final pipeline: *XGBoost*',\n",
       " '',\n",
       " 'TIME [3/10]:',\n",
       " '- Feature evolution: *4 individuals*, up to *38 iterations*',\n",
       " '- Early stopping: After *5* iterations of no improvement',\n",
       " '',\n",
       " 'INTERPRETABILITY [6/10]:',\n",
       " '- Feature pre-pruning strategy: FS',\n",
       " '- Monotonicity constraints: disabled',\n",
       " \"- Feature engineering search space (where applicable): ['Date', 'FrequencyEncoding', 'Identity', 'Interactions', 'Lags', 'TargetEncoding', 'Text', 'WeightOfEvidence']\",\n",
       " '',\n",
       " 'XGBoost models to train:',\n",
       " '- Model and feature tuning: *16*',\n",
       " '- Feature evolution: *62*',\n",
       " '- Final pipeline: *1*',\n",
       " '',\n",
       " 'Estimated max. total memory usage:',\n",
       " '- Feature engineering: *56.0MB*',\n",
       " '- GPU XGBoost: *360.0MB*',\n",
       " '',\n",
       " 'Estimated runtime: *3 minutes*']"
      ]
     },
     "execution_count": 13,
     "metadata": {},
     "output_type": "execute_result"
    }
   ],
   "source": [
    "exp_preview = h2oai.get_experiment_preview_sync(dataset_key= train.key, validset_key='', classification=True, \n",
    "                                                dropped_cols = [], target_col=target, time_col = '', enable_gpus = True, \n",
    "                                                accuracy = params.accuracy, time = params.time, \n",
    "                                                interpretability = params.interpretability)\n",
    "exp_preview"
   ]
  },
  {
   "cell_type": "markdown",
   "metadata": {},
   "source": [
    "#### Equivalent Steps in Driverless: Set the Knobs, Configuration & Launch\n",
    "![Equivalent Steps in Driverless: Set the Knobs](images/set_parameters_creditcard.png)"
   ]
  },
  {
   "cell_type": "markdown",
   "metadata": {},
   "source": [
    "### 4. Launch Experiment: Feature Engineering + Final Model Training\n",
    "\n",
    "Launch the experiment using the parameters that Driverless AI suggested along with the testset, scorer, and seed that were added."
   ]
  },
  {
   "cell_type": "code",
   "execution_count": 14,
   "metadata": {
    "collapsed": true
   },
   "outputs": [],
   "source": [
    "experiment = h2oai.start_experiment_sync(params)"
   ]
  },
  {
   "cell_type": "markdown",
   "metadata": {},
   "source": [
    "#### Equivalent Steps in Driverless: Launch Experiment\n",
    "\n",
    "![Equivalent Steps in Driverless: Launch Your Experiment](images/exp_running_creditcard.png)\n",
    "\n",
    "![Equivalent Steps in Driverless: Launch Your Experiment](images/experiment_list_running.png)"
   ]
  },
  {
   "cell_type": "markdown",
   "metadata": {},
   "source": [
    "### 5. Examine Experiment\n",
    "\n",
    "View the final model score for the validation and test datasets. When feature engineering is complete, an ensemble model can be built depending on the accuracy setting. The experiment object also contains the score on the validation and test data for this ensemble model.  In this case, the validation score is the score on the training cross-validation predictions."
   ]
  },
  {
   "cell_type": "code",
   "execution_count": 15,
   "metadata": {},
   "outputs": [
    {
     "name": "stdout",
     "output_type": "stream",
     "text": [
      "Final Model Score on Validation Data: 0.78\n",
      "Final Model Score on Test Data: 0.802\n"
     ]
    }
   ],
   "source": [
    "print(\"Final Model Score on Validation Data: \" + str(round(experiment.valid_score, 3)))\n",
    "print(\"Final Model Score on Test Data: \" + str(round(experiment.test_score, 3)))"
   ]
  },
  {
   "cell_type": "markdown",
   "metadata": {},
   "source": [
    "The experiment object also contains the scores calculated for each iteration on bootstrapped samples on the validation data.  In the iteration graph in the UI, we can see the mean performance for the best model (yellow dot) and +/- 1 standard deviation of the best model performance (yellow bar).\n",
    "\n",
    "This information is saved in the experiment object."
   ]
  },
  {
   "cell_type": "code",
   "execution_count": 16,
   "metadata": {},
   "outputs": [
    {
     "data": {
      "image/png": "[encoded data removed]",
      "text/plain": [
       "<matplotlib.figure.Figure at 0x10de5b908>"
      ]
     },
     "metadata": {},
     "output_type": "display_data"
    }
   ],
   "source": [
    "import matplotlib.pyplot as plt\n",
    "\n",
    "iterations = list(map(lambda iteration: iteration.iteration, experiment.iteration_data))\n",
    "scores_mean = list(map(lambda iteration: iteration.score_mean, experiment.iteration_data))\n",
    "scores_sd = list(map(lambda iteration: iteration.score_sd, experiment.iteration_data))\n",
    "\n",
    "plt.figure()\n",
    "plt.errorbar(iterations, scores_mean, yerr=scores_sd, color = \"y\", \n",
    "             ecolor='yellow', fmt = '--o', elinewidth = 4, alpha = 0.5)\n",
    "plt.xlabel(\"Iteration\")\n",
    "plt.ylabel(\"AUC\")\n",
    "plt.show();"
   ]
  },
  {
   "cell_type": "markdown",
   "metadata": {},
   "source": [
    "#### Equivalent Steps in Driverless: View Results\n",
    "![Equivalent Steps in Driverless: View Results](images/experiment_complete_creditcard.png)"
   ]
  },
  {
   "cell_type": "markdown",
   "metadata": {},
   "source": [
    "### 6. Download Results\n",
    "\n",
    "Once an experiment is complete, we can see that the UI presents us options of downloading the: \n",
    "\n",
    "* predictions on the (holdout) train data\n",
    "* predictions on the test data\n",
    "* experiment summary - summary of the experiment including feature importance\n",
    "\n",
    "We will show an example of downloading the test predictions below.  Note that equivalent commands can also be run for downloading the train (holdout) predictions. "
   ]
  },
  {
   "cell_type": "code",
   "execution_count": 17,
   "metadata": {},
   "outputs": [
    {
     "data": {
      "text/plain": [
       "'./test_preds.csv'"
      ]
     },
     "execution_count": 17,
     "metadata": {},
     "output_type": "execute_result"
    }
   ],
   "source": [
    "h2oai.download(src_path=experiment.test_predictions_path, dest_dir=\".\")"
   ]
  },
  {
   "cell_type": "code",
   "execution_count": 18,
   "metadata": {},
   "outputs": [
    {
     "data": {
      "text/html": [
       "<div>\n",
       "<table border=\"1\" class=\"dataframe\">\n",
       "  <thead>\n",
       "    <tr style=\"text-align: right;\">\n",
       "      <th></th>\n",
       "      <th>ID</th>\n",
       "      <th>default payment next month.1</th>\n",
       "    </tr>\n",
       "  </thead>\n",
       "  <tbody>\n",
       "    <tr>\n",
       "      <th>0</th>\n",
       "      <td>24001.0</td>\n",
       "      <td>0.580622</td>\n",
       "    </tr>\n",
       "    <tr>\n",
       "      <th>1</th>\n",
       "      <td>24002.0</td>\n",
       "      <td>0.138495</td>\n",
       "    </tr>\n",
       "    <tr>\n",
       "      <th>2</th>\n",
       "      <td>24003.0</td>\n",
       "      <td>0.071177</td>\n",
       "    </tr>\n",
       "    <tr>\n",
       "      <th>3</th>\n",
       "      <td>24004.0</td>\n",
       "      <td>0.513181</td>\n",
       "    </tr>\n",
       "    <tr>\n",
       "      <th>4</th>\n",
       "      <td>24005.0</td>\n",
       "      <td>0.151257</td>\n",
       "    </tr>\n",
       "  </tbody>\n",
       "</table>\n",
       "</div>"
      ],
      "text/plain": [
       "        ID  default payment next month.1\n",
       "0  24001.0                      0.580622\n",
       "1  24002.0                      0.138495\n",
       "2  24003.0                      0.071177\n",
       "3  24004.0                      0.513181\n",
       "4  24005.0                      0.151257"
      ]
     },
     "execution_count": 18,
     "metadata": {},
     "output_type": "execute_result"
    }
   ],
   "source": [
    "test_preds = pd.read_csv(\"./test_preds.csv\")\n",
    "test_preds.head()"
   ]
  },
  {
   "cell_type": "markdown",
   "metadata": {},
   "source": [
    "We can also download and examine the summary of the experiment and feature importance for the final model."
   ]
  },
  {
   "cell_type": "code",
   "execution_count": 19,
   "metadata": {},
   "outputs": [
    {
     "data": {
      "text/plain": [
       "0"
      ]
     },
     "execution_count": 19,
     "metadata": {},
     "output_type": "execute_result"
    }
   ],
   "source": [
    "# Download Summary\n",
    "import subprocess\n",
    "summary_path = h2oai.download(src_path=experiment.summary_path, dest_dir=\".\")\n",
    "dir_path = \"./h2oai_experiment_summary_\" + experiment.key\n",
    "subprocess.call(['unzip', '-o', summary_path, '-d', dir_path], shell=False)"
   ]
  },
  {
   "cell_type": "markdown",
   "metadata": {},
   "source": [
    "The table below shows the feature name, its relative importance, and a description.  Some features will be engineered by Driverless AI and some can be the original feature."
   ]
  },
  {
   "cell_type": "code",
   "execution_count": 20,
   "metadata": {},
   "outputs": [
    {
     "data": {
      "text/html": [
       "<div>\n",
       "<table border=\"1\" class=\"dataframe\">\n",
       "  <thead>\n",
       "    <tr style=\"text-align: right;\">\n",
       "      <th></th>\n",
       "      <th>Relative Importance</th>\n",
       "      <th>Feature</th>\n",
       "      <th>Description</th>\n",
       "    </tr>\n",
       "  </thead>\n",
       "  <tbody>\n",
       "    <tr>\n",
       "      <th>0</th>\n",
       "      <td>1.000000</td>\n",
       "      <td>21_PAY_0</td>\n",
       "      <td>PAY_0 (original)</td>\n",
       "    </tr>\n",
       "    <tr>\n",
       "      <th>1</th>\n",
       "      <td>0.359350</td>\n",
       "      <td>4_CVTE:PAY_0.0</td>\n",
       "      <td>Out-of-fold mean of the response grouped by: [...</td>\n",
       "    </tr>\n",
       "    <tr>\n",
       "      <th>2</th>\n",
       "      <td>0.267380</td>\n",
       "      <td>5_CVTE:PAY_2.0</td>\n",
       "      <td>Out-of-fold mean of the response grouped by: [...</td>\n",
       "    </tr>\n",
       "    <tr>\n",
       "      <th>3</th>\n",
       "      <td>0.144710</td>\n",
       "      <td>12_BILL_AMT1</td>\n",
       "      <td>BILL_AMT1 (original)</td>\n",
       "    </tr>\n",
       "    <tr>\n",
       "      <th>4</th>\n",
       "      <td>0.113330</td>\n",
       "      <td>8_CVTE:PAY_5.0</td>\n",
       "      <td>Out-of-fold mean of the response grouped by: [...</td>\n",
       "    </tr>\n",
       "    <tr>\n",
       "      <th>5</th>\n",
       "      <td>0.110690</td>\n",
       "      <td>2_CVTE:LIMIT_BAL.0</td>\n",
       "      <td>Out-of-fold mean of the response grouped by: [...</td>\n",
       "    </tr>\n",
       "    <tr>\n",
       "      <th>6</th>\n",
       "      <td>0.104330</td>\n",
       "      <td>30_PAY_AMT4</td>\n",
       "      <td>PAY_AMT4 (original)</td>\n",
       "    </tr>\n",
       "    <tr>\n",
       "      <th>7</th>\n",
       "      <td>0.103460</td>\n",
       "      <td>0_CVTE:AGE.0</td>\n",
       "      <td>Out-of-fold mean of the response grouped by: [...</td>\n",
       "    </tr>\n",
       "    <tr>\n",
       "      <th>8</th>\n",
       "      <td>0.095507</td>\n",
       "      <td>19_LIMIT_BAL</td>\n",
       "      <td>LIMIT_BAL (original)</td>\n",
       "    </tr>\n",
       "    <tr>\n",
       "      <th>9</th>\n",
       "      <td>0.093192</td>\n",
       "      <td>28_PAY_AMT2</td>\n",
       "      <td>PAY_AMT2 (original)</td>\n",
       "    </tr>\n",
       "  </tbody>\n",
       "</table>\n",
       "</div>"
      ],
      "text/plain": [
       "   Relative Importance             Feature  \\\n",
       "0             1.000000            21_PAY_0   \n",
       "1             0.359350      4_CVTE:PAY_0.0   \n",
       "2             0.267380      5_CVTE:PAY_2.0   \n",
       "3             0.144710        12_BILL_AMT1   \n",
       "4             0.113330      8_CVTE:PAY_5.0   \n",
       "5             0.110690  2_CVTE:LIMIT_BAL.0   \n",
       "6             0.104330         30_PAY_AMT4   \n",
       "7             0.103460        0_CVTE:AGE.0   \n",
       "8             0.095507        19_LIMIT_BAL   \n",
       "9             0.093192         28_PAY_AMT2   \n",
       "\n",
       "                                         Description  \n",
       "0                                   PAY_0 (original)  \n",
       "1  Out-of-fold mean of the response grouped by: [...  \n",
       "2  Out-of-fold mean of the response grouped by: [...  \n",
       "3                               BILL_AMT1 (original)  \n",
       "4  Out-of-fold mean of the response grouped by: [...  \n",
       "5  Out-of-fold mean of the response grouped by: [...  \n",
       "6                                PAY_AMT4 (original)  \n",
       "7  Out-of-fold mean of the response grouped by: [...  \n",
       "8                               LIMIT_BAL (original)  \n",
       "9                                PAY_AMT2 (original)  "
      ]
     },
     "execution_count": 20,
     "metadata": {},
     "output_type": "execute_result"
    }
   ],
   "source": [
    "# View Features\n",
    "features = pd.read_table(dir_path + \"/features.txt\", sep=',', skipinitialspace=True)\n",
    "features.head(n = 10)"
   ]
  },
  {
   "cell_type": "markdown",
   "metadata": {},
   "source": [
    "## Build an Experiment in Web UI and Access Through Python\n",
    "\n",
    "It is also possible to use the Python API to examine an experiment that was started through the Web UI using the experiment key.\n",
    "\n",
    "![Experiments List](images/experiment_list_complete.png)\n",
    "\n",
    "### 1. Get pointer to experiment\n",
    "\n",
    "You can get a pointer to the experiment by referencing the experiment key in the Web UI."
   ]
  },
  {
   "cell_type": "code",
   "execution_count": 21,
   "metadata": {},
   "outputs": [
    {
     "data": {
      "text/plain": [
       "['kesufuda']"
      ]
     },
     "execution_count": 21,
     "metadata": {},
     "output_type": "execute_result"
    }
   ],
   "source": [
    "# Get list of experiments\n",
    "experiment_list = list(map(lambda x: x.key, h2oai.list_models(offset=0, limit=100)))\n",
    "experiment_list"
   ]
  },
  {
   "cell_type": "code",
   "execution_count": 22,
   "metadata": {
    "collapsed": true
   },
   "outputs": [],
   "source": [
    "# Get pointer to experiment\n",
    "experiment = h2oai.get_model_job(experiment_list[0]).entity"
   ]
  },
  {
   "cell_type": "markdown",
   "metadata": {},
   "source": [
    "## Score on New Data\n",
    "\n",
    "You can use the python API to score on new data. This is equivalent to the `SCORE ON ANOTHER DATASET` button in the Web UI. The example below scores on the test data and then downloads the predictions.\n",
    "\n",
    "Pass in any dataset that has the same columns as the original training set. If you passed a test set during the H2OAI model building step, the predictions already exist. Its path can be found with `experiment.test_predictions_path`.\n",
    "\n",
    "### 1. Score Using the H2OAI Model\n",
    "\n",
    "The following shows the predicted probability of default for each record in the test.  "
   ]
  },
  {
   "cell_type": "code",
   "execution_count": 23,
   "metadata": {},
   "outputs": [
    {
     "data": {
      "text/html": [
       "<div>\n",
       "<table border=\"1\" class=\"dataframe\">\n",
       "  <thead>\n",
       "    <tr style=\"text-align: right;\">\n",
       "      <th></th>\n",
       "      <th>ID</th>\n",
       "      <th>default payment next month.1</th>\n",
       "    </tr>\n",
       "  </thead>\n",
       "  <tbody>\n",
       "    <tr>\n",
       "      <th>0</th>\n",
       "      <td>24001</td>\n",
       "      <td>0.590326</td>\n",
       "    </tr>\n",
       "    <tr>\n",
       "      <th>1</th>\n",
       "      <td>24002</td>\n",
       "      <td>0.131464</td>\n",
       "    </tr>\n",
       "    <tr>\n",
       "      <th>2</th>\n",
       "      <td>24003</td>\n",
       "      <td>0.069201</td>\n",
       "    </tr>\n",
       "    <tr>\n",
       "      <th>3</th>\n",
       "      <td>24004</td>\n",
       "      <td>0.523229</td>\n",
       "    </tr>\n",
       "    <tr>\n",
       "      <th>4</th>\n",
       "      <td>24005</td>\n",
       "      <td>0.156824</td>\n",
       "    </tr>\n",
       "  </tbody>\n",
       "</table>\n",
       "</div>"
      ],
      "text/plain": [
       "      ID  default payment next month.1\n",
       "0  24001                      0.590326\n",
       "1  24002                      0.131464\n",
       "2  24003                      0.069201\n",
       "3  24004                      0.523229\n",
       "4  24005                      0.156824"
      ]
     },
     "execution_count": 23,
     "metadata": {},
     "output_type": "execute_result"
    }
   ],
   "source": [
    "prediction = h2oai.make_prediction_sync(experiment.key, test_path, output_margin = False, pred_contribs = False)\n",
    "pred_path = h2oai.download(prediction.predictions_csv_path, '.')\n",
    "pred_table = pd.read_csv(pred_path)\n",
    "pred_table.head()"
   ]
  },
  {
   "cell_type": "markdown",
   "metadata": {},
   "source": [
    "We can also get the contribution each feature had to the final prediction by setting `pred_contribs = True`.  This will give us an idea of how each feature effects the predictions. "
   ]
  },
  {
   "cell_type": "code",
   "execution_count": 24,
   "metadata": {
    "scrolled": true
   },
   "outputs": [
    {
     "data": {
      "text/html": [
       "<div>\n",
       "<table border=\"1\" class=\"dataframe\">\n",
       "  <thead>\n",
       "    <tr style=\"text-align: right;\">\n",
       "      <th></th>\n",
       "      <th>ID</th>\n",
       "      <th>contrib_0_CVTE:AGE.0</th>\n",
       "      <th>contrib_1_CVTE:EDUCATION.0</th>\n",
       "      <th>contrib_2_CVTE:LIMIT_BAL.0</th>\n",
       "      <th>contrib_3_CVTE:MARRIAGE.0</th>\n",
       "      <th>contrib_4_CVTE:PAY_0.0</th>\n",
       "      <th>contrib_5_CVTE:PAY_2.0</th>\n",
       "      <th>contrib_6_CVTE:PAY_3.0</th>\n",
       "      <th>contrib_7_CVTE:PAY_4.0</th>\n",
       "      <th>contrib_8_CVTE:PAY_5.0</th>\n",
       "      <th>...</th>\n",
       "      <th>contrib_24_PAY_AMT2</th>\n",
       "      <th>contrib_25_PAY_AMT3</th>\n",
       "      <th>contrib_26_PAY_AMT4</th>\n",
       "      <th>contrib_27_PAY_AMT5</th>\n",
       "      <th>contrib_28_PAY_AMT6</th>\n",
       "      <th>contrib_29_NumToCatWoE:BILL_AMT5.0</th>\n",
       "      <th>contrib_30_Freq:LIMIT_BAL</th>\n",
       "      <th>contrib_31_NumToCatWoE:PAY_5.0</th>\n",
       "      <th>contrib_32_NumToCatTE:BILL_AMT5:PAY_AMT3.0</th>\n",
       "      <th>contrib_bias</th>\n",
       "    </tr>\n",
       "  </thead>\n",
       "  <tbody>\n",
       "    <tr>\n",
       "      <th>0</th>\n",
       "      <td>24001</td>\n",
       "      <td>0.011125</td>\n",
       "      <td>0.023285</td>\n",
       "      <td>0.027892</td>\n",
       "      <td>-0.032955</td>\n",
       "      <td>0.680225</td>\n",
       "      <td>0.209166</td>\n",
       "      <td>0.009781</td>\n",
       "      <td>-0.002243</td>\n",
       "      <td>-0.022902</td>\n",
       "      <td>...</td>\n",
       "      <td>-0.016981</td>\n",
       "      <td>-0.003467</td>\n",
       "      <td>-0.007381</td>\n",
       "      <td>0.023113</td>\n",
       "      <td>0.030002</td>\n",
       "      <td>-0.011735</td>\n",
       "      <td>-0.014812</td>\n",
       "      <td>-0.016101</td>\n",
       "      <td>0.012515</td>\n",
       "      <td>-1.314773</td>\n",
       "    </tr>\n",
       "    <tr>\n",
       "      <th>1</th>\n",
       "      <td>24002</td>\n",
       "      <td>-0.048051</td>\n",
       "      <td>0.021069</td>\n",
       "      <td>0.103886</td>\n",
       "      <td>-0.047053</td>\n",
       "      <td>-0.169030</td>\n",
       "      <td>-0.032187</td>\n",
       "      <td>-0.016759</td>\n",
       "      <td>-0.018702</td>\n",
       "      <td>-0.020989</td>\n",
       "      <td>...</td>\n",
       "      <td>-0.031151</td>\n",
       "      <td>-0.025753</td>\n",
       "      <td>-0.024552</td>\n",
       "      <td>-0.013769</td>\n",
       "      <td>-0.008316</td>\n",
       "      <td>-0.015570</td>\n",
       "      <td>-0.052556</td>\n",
       "      <td>-0.015396</td>\n",
       "      <td>-0.030725</td>\n",
       "      <td>-1.314773</td>\n",
       "    </tr>\n",
       "    <tr>\n",
       "      <th>2</th>\n",
       "      <td>24003</td>\n",
       "      <td>-0.013649</td>\n",
       "      <td>0.013668</td>\n",
       "      <td>-0.083301</td>\n",
       "      <td>-0.035346</td>\n",
       "      <td>-0.193081</td>\n",
       "      <td>-0.047645</td>\n",
       "      <td>-0.025682</td>\n",
       "      <td>-0.019033</td>\n",
       "      <td>-0.021517</td>\n",
       "      <td>...</td>\n",
       "      <td>-0.126038</td>\n",
       "      <td>-0.046658</td>\n",
       "      <td>-0.026235</td>\n",
       "      <td>0.039928</td>\n",
       "      <td>-0.011408</td>\n",
       "      <td>0.002724</td>\n",
       "      <td>-0.065585</td>\n",
       "      <td>-0.014735</td>\n",
       "      <td>0.012307</td>\n",
       "      <td>-1.314773</td>\n",
       "    </tr>\n",
       "    <tr>\n",
       "      <th>3</th>\n",
       "      <td>24004</td>\n",
       "      <td>-0.022034</td>\n",
       "      <td>-0.271575</td>\n",
       "      <td>0.066143</td>\n",
       "      <td>-0.044987</td>\n",
       "      <td>0.272315</td>\n",
       "      <td>0.152282</td>\n",
       "      <td>0.060244</td>\n",
       "      <td>0.130927</td>\n",
       "      <td>0.168818</td>\n",
       "      <td>...</td>\n",
       "      <td>0.038604</td>\n",
       "      <td>0.044121</td>\n",
       "      <td>0.009744</td>\n",
       "      <td>0.037309</td>\n",
       "      <td>0.025741</td>\n",
       "      <td>0.021676</td>\n",
       "      <td>-0.011991</td>\n",
       "      <td>0.125375</td>\n",
       "      <td>-0.031880</td>\n",
       "      <td>-1.314773</td>\n",
       "    </tr>\n",
       "    <tr>\n",
       "      <th>4</th>\n",
       "      <td>24005</td>\n",
       "      <td>-0.024565</td>\n",
       "      <td>0.011814</td>\n",
       "      <td>0.007143</td>\n",
       "      <td>-0.035887</td>\n",
       "      <td>-0.177835</td>\n",
       "      <td>-0.031054</td>\n",
       "      <td>-0.043696</td>\n",
       "      <td>-0.037261</td>\n",
       "      <td>0.003007</td>\n",
       "      <td>...</td>\n",
       "      <td>0.063820</td>\n",
       "      <td>0.090742</td>\n",
       "      <td>0.036829</td>\n",
       "      <td>0.047521</td>\n",
       "      <td>0.028429</td>\n",
       "      <td>0.004863</td>\n",
       "      <td>-0.005218</td>\n",
       "      <td>-0.016371</td>\n",
       "      <td>0.019274</td>\n",
       "      <td>-1.314773</td>\n",
       "    </tr>\n",
       "  </tbody>\n",
       "</table>\n",
       "<p>5 rows × 35 columns</p>\n",
       "</div>"
      ],
      "text/plain": [
       "      ID  contrib_0_CVTE:AGE.0  contrib_1_CVTE:EDUCATION.0  \\\n",
       "0  24001              0.011125                    0.023285   \n",
       "1  24002             -0.048051                    0.021069   \n",
       "2  24003             -0.013649                    0.013668   \n",
       "3  24004             -0.022034                   -0.271575   \n",
       "4  24005             -0.024565                    0.011814   \n",
       "\n",
       "   contrib_2_CVTE:LIMIT_BAL.0  contrib_3_CVTE:MARRIAGE.0  \\\n",
       "0                    0.027892                  -0.032955   \n",
       "1                    0.103886                  -0.047053   \n",
       "2                   -0.083301                  -0.035346   \n",
       "3                    0.066143                  -0.044987   \n",
       "4                    0.007143                  -0.035887   \n",
       "\n",
       "   contrib_4_CVTE:PAY_0.0  contrib_5_CVTE:PAY_2.0  contrib_6_CVTE:PAY_3.0  \\\n",
       "0                0.680225                0.209166                0.009781   \n",
       "1               -0.169030               -0.032187               -0.016759   \n",
       "2               -0.193081               -0.047645               -0.025682   \n",
       "3                0.272315                0.152282                0.060244   \n",
       "4               -0.177835               -0.031054               -0.043696   \n",
       "\n",
       "   contrib_7_CVTE:PAY_4.0  contrib_8_CVTE:PAY_5.0      ...       \\\n",
       "0               -0.002243               -0.022902      ...        \n",
       "1               -0.018702               -0.020989      ...        \n",
       "2               -0.019033               -0.021517      ...        \n",
       "3                0.130927                0.168818      ...        \n",
       "4               -0.037261                0.003007      ...        \n",
       "\n",
       "   contrib_24_PAY_AMT2  contrib_25_PAY_AMT3  contrib_26_PAY_AMT4  \\\n",
       "0            -0.016981            -0.003467            -0.007381   \n",
       "1            -0.031151            -0.025753            -0.024552   \n",
       "2            -0.126038            -0.046658            -0.026235   \n",
       "3             0.038604             0.044121             0.009744   \n",
       "4             0.063820             0.090742             0.036829   \n",
       "\n",
       "   contrib_27_PAY_AMT5  contrib_28_PAY_AMT6  \\\n",
       "0             0.023113             0.030002   \n",
       "1            -0.013769            -0.008316   \n",
       "2             0.039928            -0.011408   \n",
       "3             0.037309             0.025741   \n",
       "4             0.047521             0.028429   \n",
       "\n",
       "   contrib_29_NumToCatWoE:BILL_AMT5.0  contrib_30_Freq:LIMIT_BAL  \\\n",
       "0                           -0.011735                  -0.014812   \n",
       "1                           -0.015570                  -0.052556   \n",
       "2                            0.002724                  -0.065585   \n",
       "3                            0.021676                  -0.011991   \n",
       "4                            0.004863                  -0.005218   \n",
       "\n",
       "   contrib_31_NumToCatWoE:PAY_5.0  contrib_32_NumToCatTE:BILL_AMT5:PAY_AMT3.0  \\\n",
       "0                       -0.016101                                    0.012515   \n",
       "1                       -0.015396                                   -0.030725   \n",
       "2                       -0.014735                                    0.012307   \n",
       "3                        0.125375                                   -0.031880   \n",
       "4                       -0.016371                                    0.019274   \n",
       "\n",
       "   contrib_bias  \n",
       "0     -1.314773  \n",
       "1     -1.314773  \n",
       "2     -1.314773  \n",
       "3     -1.314773  \n",
       "4     -1.314773  \n",
       "\n",
       "[5 rows x 35 columns]"
      ]
     },
     "execution_count": 24,
     "metadata": {},
     "output_type": "execute_result"
    }
   ],
   "source": [
    "prediction_contributions = h2oai.make_prediction_sync(experiment.key, test_path, \n",
    "                                                      output_margin = False, pred_contribs = True)\n",
    "pred_contributions_path = h2oai.download(prediction_contributions.predictions_csv_path, '.')\n",
    "pred_contributions_table = pd.read_csv(pred_contributions_path)\n",
    "pred_contributions_table.head()"
   ]
  },
  {
   "cell_type": "markdown",
   "metadata": {},
   "source": [
    "We will examine the contributions for our first record more closely."
   ]
  },
  {
   "cell_type": "code",
   "execution_count": 25,
   "metadata": {},
   "outputs": [
    {
     "data": {
      "text/html": [
       "<div>\n",
       "<table border=\"1\" class=\"dataframe\">\n",
       "  <thead>\n",
       "    <tr style=\"text-align: right;\">\n",
       "      <th></th>\n",
       "      <th>contribution</th>\n",
       "    </tr>\n",
       "  </thead>\n",
       "  <tbody>\n",
       "    <tr>\n",
       "      <th>contrib_bias</th>\n",
       "      <td>-1.314773</td>\n",
       "    </tr>\n",
       "    <tr>\n",
       "      <th>contrib_4_CVTE:PAY_0.0</th>\n",
       "      <td>0.680225</td>\n",
       "    </tr>\n",
       "    <tr>\n",
       "      <th>contrib_20_PAY_0</th>\n",
       "      <td>0.666940</td>\n",
       "    </tr>\n",
       "    <tr>\n",
       "      <th>contrib_5_CVTE:PAY_2.0</th>\n",
       "      <td>0.209166</td>\n",
       "    </tr>\n",
       "    <tr>\n",
       "      <th>contrib_21_PAY_2</th>\n",
       "      <td>0.172259</td>\n",
       "    </tr>\n",
       "  </tbody>\n",
       "</table>\n",
       "</div>"
      ],
      "text/plain": [
       "                        contribution\n",
       "contrib_bias               -1.314773\n",
       "contrib_4_CVTE:PAY_0.0      0.680225\n",
       "contrib_20_PAY_0            0.666940\n",
       "contrib_5_CVTE:PAY_2.0      0.209166\n",
       "contrib_21_PAY_2            0.172259"
      ]
     },
     "execution_count": 25,
     "metadata": {},
     "output_type": "execute_result"
    }
   ],
   "source": [
    "contrib = pd.DataFrame(pred_contributions_table.iloc[0][1:], columns = [\"contribution\"])\n",
    "contrib[\"abs_contribution\"] = contrib.contribution.abs()\n",
    "contrib.sort_values(by=\"abs_contribution\", ascending=False)[[\"contribution\"]].head()"
   ]
  },
  {
   "cell_type": "markdown",
   "metadata": {},
   "source": [
    "This customer's `PAY_0` value had the greatest impact on their prediction.  Since the contribution is positive, we know that it increases the probability that they will default."
   ]
  },
  {
   "cell_type": "markdown",
   "metadata": {
    "collapsed": true
   },
   "source": [
    "## Run Model Interpretation\n",
    "\n",
    "Once we have completed an experiment, we can interpret our H2OAI model.  Model Interpretability is used to provide model transparency and explanations.  More information on Model Interpretability can be found here: http://docs.h2o.ai/driverless-ai/latest-stable/docs/userguide/interpreting.html.\n",
    "\n",
    "\n",
    "### 1. Run Model Interpretation on the Raw Data\n",
    "\n",
    "We can run the model interpretation in the python client as shown below.  By setting the parameter, `use_raw_features` to True, we are interpreting the model using only the raw features in the data.  This will not use the engineered features we saw in our final model's features to explain the data.  \n",
    "\n",
    "By setting `use_raw_features` to False, we can interpret the model using the features used in the final model (raw and engineered)."
   ]
  },
  {
   "cell_type": "code",
   "execution_count": null,
   "metadata": {
    "collapsed": true
   },
   "outputs": [],
   "source": [
    "mli_experiment = h2oai.run_interpretation_sync(\n",
    "    InterpretParameters(dai_model_key=experiment.key, \n",
    "                        dataset_key=train.key, \n",
    "                        target_col=target, \n",
    "                        prediction_col=\"\", # not needed since we are interpreting a Driverless experiment\n",
    "                        use_raw_features=True, # show interpretation based on the original columns\n",
    "                        nfolds=0, # number of folds used for k-lime \n",
    "                        klime_cluster_col='', \n",
    "                        weight_col=params.weight_col, # weight column used by Driverless AI\n",
    "                        drop_cols=params.cols_to_drop, # columns to not use for Interpretability\n",
    "                        sample=True, # whether the training dataset should be sampled down for the interpretation\n",
    "                        sample_num_rows=-1, # use default from config.toml\n",
    "                        qbin_cols=[], # numeric columns to convert to quantile bins (can help fit surrogate models)\n",
    "                        qbin_count=0 # number of quantile bins for the quantile bin columns\n",
    "                       ))"
   ]
  },
  {
   "cell_type": "markdown",
   "metadata": {},
   "source": [
    "This is equivalent to clicking \"Interpet this Model on Original Features\" in the UI once the experiment has completed.\n",
    "\n",
    "![Equivalent Steps in Driverless: View Results](images/experiment_complete_creditcard.png)"
   ]
  },
  {
   "cell_type": "markdown",
   "metadata": {},
   "source": [
    "Once our interpretation is finished, we can navigate to the MLI tab in the UI to see our interpreted model. \n",
    "\n",
    "![Equivalent Steps in Driverless: MLI List](images/mli_list.png)\n",
    "\n",
    "We can also see the list of interpretations using the Python Client:"
   ]
  },
  {
   "cell_type": "code",
   "execution_count": null,
   "metadata": {
    "collapsed": true,
    "scrolled": true
   },
   "outputs": [],
   "source": [
    "# Get list of interpretations\n",
    "mli_list = list(map(lambda x: x.key, h2oai.list_interpretations(offset=0, limit=100)))\n",
    "mli_list"
   ]
  },
  {
   "cell_type": "markdown",
   "metadata": {
    "collapsed": true
   },
   "source": [
    "### 2. Run Model Interpretation on External Model Predictions\n",
    "\n",
    "Model Interpretation does not need to be run on a Driverless AI experiment.  We can also train an external model and run Model Interpretability on the predictions. In this next section, we will walk through the steps to interpret an external model.\n",
    "\n",
    "#### Train External Model\n",
    "\n",
    "We will begin by training a model with scikit-learn.  Our end goal is to use Driverless AI to interpret the predictions made by our scikit-learn model."
   ]
  },
  {
   "cell_type": "code",
   "execution_count": null,
   "metadata": {
    "collapsed": true
   },
   "outputs": [],
   "source": [
    "# Dataset must be located where python client is running\n",
    "train_pd = pd.read_csv(train_path)"
   ]
  },
  {
   "cell_type": "code",
   "execution_count": 32,
   "metadata": {},
   "outputs": [
    {
     "data": {
      "text/plain": [
       "GradientBoostingClassifier(criterion='friedman_mse', init=None,\n",
       "              learning_rate=0.1, loss='deviance', max_depth=3,\n",
       "              max_features=None, max_leaf_nodes=None,\n",
       "              min_impurity_decrease=0.0, min_impurity_split=None,\n",
       "              min_samples_leaf=1, min_samples_split=2,\n",
       "              min_weight_fraction_leaf=0.0, n_estimators=100,\n",
       "              presort='auto', random_state=10, subsample=1.0, verbose=0,\n",
       "              warm_start=False)"
      ]
     },
     "execution_count": 32,
     "metadata": {},
     "output_type": "execute_result"
    }
   ],
   "source": [
    "from sklearn.ensemble import GradientBoostingClassifier\n",
    "\n",
    "predictors = list(set(train_pd.columns) - set([target]))\n",
    "\n",
    "gbm_model = GradientBoostingClassifier(random_state=10)\n",
    "gbm_model.fit(train_pd[predictors], train_pd[target])"
   ]
  },
  {
   "cell_type": "code",
   "execution_count": 33,
   "metadata": {},
   "outputs": [
    {
     "data": {
      "text/plain": [
       "array([[0.38111179, 0.61888821],\n",
       "       [0.44396186, 0.55603814],\n",
       "       [0.91738328, 0.08261672],\n",
       "       [0.88780536, 0.11219464],\n",
       "       [0.80028008, 0.19971992]])"
      ]
     },
     "execution_count": 33,
     "metadata": {},
     "output_type": "execute_result"
    }
   ],
   "source": [
    "predictions = gbm_model.predict_proba(train_pd[predictors])\n",
    "predictions[0:5]"
   ]
  },
  {
   "cell_type": "markdown",
   "metadata": {},
   "source": [
    "#### Interpret on External Predictions\n",
    "\n",
    "Now that we have the predictions from our scikit-learn GBM model, we can call Driverless AI's `h2o_ai.run_interpretation_sync` to create the interpretation screen."
   ]
  },
  {
   "cell_type": "code",
   "execution_count": 34,
   "metadata": {
    "collapsed": true
   },
   "outputs": [],
   "source": [
    "train_gbm_path = \"./CreditCard-train-gbm_pred.csv\"\n",
    "predictions = pd.concat([train_pd, pd.DataFrame(predictions[:, 1], columns = [\"p1\"])], axis = 1)\n",
    "predictions.to_csv(path_or_buf=train_gbm_path, index = False)"
   ]
  },
  {
   "cell_type": "code",
   "execution_count": 35,
   "metadata": {
    "collapsed": true
   },
   "outputs": [],
   "source": [
    "train_gbm_pred = h2oai.upload_dataset_sync(train_gbm_path)"
   ]
  },
  {
   "cell_type": "code",
   "execution_count": 36,
   "metadata": {
    "collapsed": true
   },
   "outputs": [],
   "source": [
    "mli_external = h2oai.run_interpretation_sync(\n",
    "    InterpretParameters(dai_model_key=\"\", # no experiment key since we are interpreting an external model\n",
    "                        dataset_key=train_gbm_pred.key, \n",
    "                        target_col=target, # target column used by external model\n",
    "                        prediction_col=\"p1\", # column with external model's predictions\n",
    "                        use_raw_features=True, # not relevant since we are interpreting our external model\n",
    "                        nfolds=0, \n",
    "                        klime_cluster_col='', \n",
    "                        weight_col='', # weight column used by the external model\n",
    "                        drop_cols=[], # columns not used by the external model\n",
    "                        sample=True, \n",
    "                        sample_num_rows=-1, \n",
    "                        qbin_cols=[], \n",
    "                        qbin_count=0 \n",
    "                       ))"
   ]
  },
  {
   "cell_type": "markdown",
   "metadata": {},
   "source": [
    "We can also run Model Interpretability on an external model in the UI as shown below:\n",
    "\n",
    "![Equivalent Steps in Driverless: MLI External Model](images/mli_external.png)"
   ]
  },
  {
   "cell_type": "code",
   "execution_count": 37,
   "metadata": {},
   "outputs": [
    {
     "data": {
      "text/plain": [
       "['pefudoba', 'fupimepo']"
      ]
     },
     "execution_count": 37,
     "metadata": {},
     "output_type": "execute_result"
    }
   ],
   "source": [
    "# Get list of interpretations\n",
    "mli_list = list(map(lambda x: x.key, h2oai.list_interpretations(offset=0, limit=100)))\n",
    "mli_list"
   ]
  },
  {
   "cell_type": "markdown",
   "metadata": {},
   "source": [
    "## Build Scoring Pipelines\n",
    "\n",
    "In our last section, we will build the scoring pipelines from our experiment.  There are two scoring pipeline options: \n",
    "\n",
    "* Python Scoring Pipeline: requires Python runtime\n",
    "* MOJO Scoring Pipeline: requires Java runtime\n",
    "\n",
    "Documentation on the scoring pipelines is provided here: http://docs.h2o.ai/driverless-ai/latest-stable/docs/userguide/python-mojo-pipelines.html.\n",
    "\n",
    "![Equivalent Steps in Driverless: View Results](images/experiment_complete_creditcard.png)\n",
    "\n",
    "The experiment screen shows two scoring pipeline buttons: **Download Python Scoring Pipeline** or **Build MOJO Scoring Pipeline**.  Driverless AI determines if any scoring pipeline should be automatically built based on the config.toml file.  In this example, we have run Driverless AI with the settings: \n",
    "\n",
    "```\n",
    "# Whether to create the Python scoring pipeline at the end of each experiment\n",
    "make_python_scoring_pipeline = true\n",
    "\n",
    "# Whether to create the MOJO scoring pipeline at the end of each experiment\n",
    "# Note: Not all transformers or main models are available for MOJO (e.g. no gblinear main model)\n",
    "make_mojo_scoring_pipeline = false\n",
    "```\n",
    "\n",
    "Therefore, only the Python Scoring Pipeline will be built by default.\n",
    "\n",
    "### 1. Build Python Scoring Pipeline\n",
    "\n",
    "The Python Scoring Pipeline has been built by default based on our config.toml settings.  We can get the path to the Python Scoring Pipeline in our experiment object."
   ]
  },
  {
   "cell_type": "code",
   "execution_count": 30,
   "metadata": {},
   "outputs": [
    {
     "data": {
      "text/plain": [
       "'h2oai_experiment_kesufuda/scoring_pipeline/scorer.zip'"
      ]
     },
     "execution_count": 30,
     "metadata": {},
     "output_type": "execute_result"
    }
   ],
   "source": [
    "experiment.scoring_pipeline_path"
   ]
  },
  {
   "cell_type": "markdown",
   "metadata": {},
   "source": [
    "We can also build the Python Scoring Pipeline - this is useful if the `make_python_scoring_pipeline` option was set to false."
   ]
  },
  {
   "cell_type": "code",
   "execution_count": 31,
   "metadata": {
    "collapsed": true
   },
   "outputs": [],
   "source": [
    "python_scoring_pipeline = h2oai.build_scoring_pipeline_sync(experiment.key)"
   ]
  },
  {
   "cell_type": "code",
   "execution_count": null,
   "metadata": {},
   "outputs": [
    {
     "data": {
      "text/plain": [
       "'h2oai_experiment_kesufuda/scoring_pipeline/scorer.zip'"
      ]
     },
     "execution_count": 32,
     "metadata": {},
     "output_type": "execute_result"
    }
   ],
   "source": [
    "python_scoring_pipeline.file_path"
   ]
  },
  {
   "cell_type": "markdown",
   "metadata": {},
   "source": [
    "Now we will download the scoring pipeline zip file."
   ]
  },
  {
   "cell_type": "code",
   "execution_count": null,
   "metadata": {
    "collapsed": true
   },
   "outputs": [],
   "source": [
    "h2oai.download(python_scoring_pipeline.file_path, dest_dir=\".\")"
   ]
  },
  {
   "cell_type": "markdown",
   "metadata": {},
   "source": [
    "### 2. Build MOJO Scoring Pipeline\n",
    "\n",
    "The MOJO Scoring Pipeline has not been built by default because of our config.toml settings.  We can build the MOJO Scoring Pipeline using the Python client.  This is equivalent to selecting the **Build MOJO Scoring Pipeline** on the experiment screen."
   ]
  },
  {
   "cell_type": "code",
   "execution_count": 27,
   "metadata": {
    "collapsed": true
   },
   "outputs": [],
   "source": [
    "mojo_scoring_pipeline = h2oai.build_mojo_pipeline_sync(experiment.key)"
   ]
  },
  {
   "cell_type": "code",
   "execution_count": 28,
   "metadata": {},
   "outputs": [
    {
     "data": {
      "text/plain": [
       "'h2oai_experiment_kesufuda/mojo_pipeline/mojo.zip'"
      ]
     },
     "execution_count": 28,
     "metadata": {},
     "output_type": "execute_result"
    }
   ],
   "source": [
    "mojo_scoring_pipeline.file_path"
   ]
  },
  {
   "cell_type": "markdown",
   "metadata": {},
   "source": [
    "Now we can download the scoring pipeline zip file."
   ]
  },
  {
   "cell_type": "code",
   "execution_count": 29,
   "metadata": {},
   "outputs": [
    {
     "data": {
      "text/plain": [
       "'./mojo.zip'"
      ]
     },
     "execution_count": 29,
     "metadata": {},
     "output_type": "execute_result"
    }
   ],
   "source": [
    "h2oai.download(mojo_scoring_pipeline.file_path, dest_dir=\".\")"
   ]
  },
  {
   "cell_type": "markdown",
   "metadata": {
    "collapsed": true
   },
   "source": [
    "Once the MOJO Scoring Pipeline is built, the **Build MOJO Scoring Pipeline** changes to **Download MOJO Scoring Pipeline**.\n",
    "\n",
    "\n",
    "\n",
    "![Equivalent Steps in Driverless: Download MOJO](images/download_mojo.png)"
   ]
  },
  {
   "cell_type": "code",
   "execution_count": null,
   "metadata": {
    "collapsed": true
   },
   "outputs": [],
   "source": []
  }
 ],
 "metadata": {
  "kernelspec": {
   "display_name": "Python 2",
   "language": "python",
   "name": "python2"
  },
  "language_info": {
   "codemirror_mode": {
    "name": "ipython",
    "version": 2
   },
   "file_extension": ".py",
   "mimetype": "text/x-python",
   "name": "python",
   "nbconvert_exporter": "python",
   "pygments_lexer": "ipython2",
   "version": "2.7.13"
  }
 },
 "nbformat": 4,
 "nbformat_minor": 2
}
