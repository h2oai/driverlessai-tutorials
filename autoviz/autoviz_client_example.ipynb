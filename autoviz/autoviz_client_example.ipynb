{
 "cells": [
  {
   "cell_type": "markdown",
   "metadata": {},
   "source": [
    "### 1. Prerequisities\n",
    "\n",
    "Using DriverlessAI Autoviz python client doesn't require any additional packages, other than [DriverlessAI client](http://docs.h2o.ai/driverless-ai/latest-stable/docs/userguide/python_client.html).\n",
    "However, if you are using Jupyter notebooks or labs, installing [Vega](https://pypi.org/project/vega/) package can help better user experience, as it allows you to render the produced graphs directly inside Jupyter environment. In addition, it provides options to download the generated files in SVG, PNG or JSON formats.\n"
   ]
  },
  {
   "cell_type": "markdown",
   "metadata": {},
   "source": [
    "### 2. Initialization\n",
    "\n",
    "To initialize the Autoviz Python client, follow the same steps as when initializing the client for new experiment.\n",
    "You need to import the `Client` and initialize it, providing the DriverlessAI host address and login credentials."
   ]
  },
  {
   "cell_type": "code",
   "execution_count": 1,
   "metadata": {},
   "outputs": [],
   "source": [
    "from h2oai_client import Client\n",
    "address = 'http://ip_where_driverless_is_running:12345'\n",
    "username = 'username'\n",
    "password = 'password'\n",
    "cli = Client(address=address, username=username, password=password)"
   ]
  },
  {
   "cell_type": "markdown",
   "metadata": {},
   "source": [
    "### 3. Upload the dataset"
   ]
  },
  {
   "cell_type": "code",
   "execution_count": 18,
   "metadata": {},
   "outputs": [],
   "source": [
    "dataset_local_path = '/data/Kaggle/CreditCard/CreditCard-train.csv'\n",
    "dataset = cli.create_dataset_sync(dataset_local_path)"
   ]
  },
  {
   "cell_type": "markdown",
   "metadata": {},
   "source": [
    "### 4. Request specific visualizations"
   ]
  },
  {
   "cell_type": "code",
   "execution_count": 19,
   "metadata": {},
   "outputs": [],
   "source": [
    "hist = cli.autoviz.get_histogram(dataset.key, variable_name='PAY_0')"
   ]
  },
  {
   "cell_type": "code",
   "execution_count": 29,
   "metadata": {},
   "outputs": [],
   "source": [
    "barchart = cli.autoviz.get_scatterplot(dataset.key, x_variable_name='BILL_AMT3', y_variable_name='BILL_AMT4')"
   ]
  },
  {
   "cell_type": "markdown",
   "metadata": {},
   "source": [
    "### 5. Visualize using Vega (Optional)\n",
    "\n",
    "All of the methods provided in `Client.autoviz` return graphics in [Vega Lite (v3)](https://vega.github.io/vega-lite/) format. In order to visualize them, you can either paste the returned graph (`hist`) into [Online editor](https://vega.github.io/editor/#/custom/vega-lite), or you can utilize the Python [Vega package](https://pypi.org/project/vega/), which can visualize the charts directly in Jupyter environment."
   ]
  },
  {
   "cell_type": "code",
   "execution_count": 32,
   "metadata": {},
   "outputs": [],
   "source": [
    "from vega import VegaLite"
   ]
  },
  {
   "cell_type": "code",
   "execution_count": 33,
   "metadata": {},
   "outputs": [
    {
     "data": {
      "application/javascript": [
       "var spec = {\"schema\": \"https://vega.github.io/schema/vega-lite/v3.json\", \"data\": {\"values\": [{\"bin_start\": -2.0, \"count\": 2086.0, \"bin_end\": -1.09}, {\"bin_start\": -1.09, \"count\": 4624.0, \"bin_end\": -0.18}, {\"bin_start\": -0.18, \"count\": 11732.0, \"bin_end\": 0.73}, {\"bin_start\": 0.73, \"count\": 2995.0, \"bin_end\": 1.64}, {\"bin_start\": 1.64, \"count\": 2185.0, \"bin_end\": 2.55}, {\"bin_start\": 2.55, \"count\": 255.0, \"bin_end\": 3.45}, {\"bin_start\": 3.45, \"count\": 67.0, \"bin_end\": 4.36}, {\"bin_start\": 4.36, \"count\": 18.0, \"bin_end\": 5.27}, {\"bin_start\": 5.27, \"count\": 10.0, \"bin_end\": 6.18}, {\"bin_start\": 6.18, \"count\": 8.0, \"bin_end\": 7.09}, {\"bin_start\": 7.09, \"count\": 19.0, \"bin_end\": 8.0}]}, \"mark\": \"line\", \"encoding\": {\"x\": {\"field\": \"bin_start\", \"bin\": {\"binned\": true, \"step\": 2.0}, \"type\": \"quantitative\", \"axis\": {\"title\": \"PAY_0\"}}, \"y\": {\"field\": \"count\", \"type\": \"quantitative\"}, \"x2\": {\"field\": \"bin_end\"}}};\n",
       "var opt = {};\n",
       "var type = \"vega-lite\";\n",
       "var id = \"4ba2dbd1-a5be-4824-89d1-e05483dd1708\";\n",
       "\n",
       "var output_area = this;\n",
       "\n",
       "require([\"nbextensions/jupyter-vega/index\"], function(vega) {\n",
       "  var target = document.createElement(\"div\");\n",
       "  target.id = id;\n",
       "  target.className = \"vega-embed\";\n",
       "\n",
       "  var style = document.createElement(\"style\");\n",
       "  style.textContent = [\n",
       "    \".vega-embed .error p {\",\n",
       "    \"  color: firebrick;\",\n",
       "    \"  font-size: 14px;\",\n",
       "    \"}\",\n",
       "  ].join(\"\\\\n\");\n",
       "\n",
       "  // element is a jQuery wrapped DOM element inside the output area\n",
       "  // see http://ipython.readthedocs.io/en/stable/api/generated/\\\n",
       "  // IPython.display.html#IPython.display.Javascript.__init__\n",
       "  element[0].appendChild(target);\n",
       "  element[0].appendChild(style);\n",
       "\n",
       "  vega.render(\"#\" + id, spec, type, opt, output_area);\n",
       "}, function (err) {\n",
       "  if (err.requireType !== \"scripterror\") {\n",
       "    throw(err);\n",
       "  }\n",
       "});\n"
      ],
      "text/plain": [
       "<vega.vegalite.VegaLite at 0x1098b90f0>"
      ]
     },
     "execution_count": 33,
     "metadata": {
      "jupyter-vega": "#4ba2dbd1-a5be-4824-89d1-e05483dd1708"
     },
     "output_type": "execute_result"
    },
    {
     "data": {
      "image/png": "[encoded data removed]"
     },
     "metadata": {
      "jupyter-vega": "#4ba2dbd1-a5be-4824-89d1-e05483dd1708"
     },
     "output_type": "display_data"
    }
   ],
   "source": [
    "VegaLite(hist)"
   ]
  },
  {
   "cell_type": "code",
   "execution_count": 34,
   "metadata": {},
   "outputs": [
    {
     "data": {
      "application/javascript": [
       "var spec = {\"schema\": \"https://vega.github.io/schema/vega-lite/v3.json\", \"data\": {\"values\": [{\"x\": 205530.0, \"count\": 1.0, \"y\": -170000.0}, {\"x\": -25443.0, \"count\": 1.0, \"y\": -46627.0}, {\"x\": 90857.0, \"count\": 1.0, \"y\": -81334.0}, {\"x\": -15000.0, \"count\": 4.0, \"y\": -15000.0}, {\"x\": -527.0, \"count\": 247.0, \"y\": -923.0}, {\"x\": 67782.0, \"count\": 5.0, \"y\": -2618.0}, {\"x\": 149506.0, \"count\": 2.0, \"y\": -4394.0}, {\"x\": 246000.0, \"count\": 1.0, \"y\": -150.0}, {\"x\": -15641.0, \"count\": 4.0, \"y\": 7059.0}, {\"x\": 689.0, \"count\": 15997.0, \"y\": 0.0}, {\"x\": 69938.0, \"count\": 299.0, \"y\": 16518.0}, {\"x\": 144076.0, \"count\": 38.0, \"y\": 8174.0}, {\"x\": 215056.0, \"count\": 12.0, \"y\": 10506.0}, {\"x\": 339176.0, \"count\": 9.0, \"y\": 33146.0}, {\"x\": 45020.0, \"count\": 1806.0, \"y\": 44006.0}, {\"x\": 65701.0, \"count\": 1715.0, \"y\": 66782.0}, {\"x\": 194663.0, \"count\": 52.0, \"y\": 70074.0}, {\"x\": 211725.0, \"count\": 5.0, \"y\": 49064.0}, {\"x\": 314201.0, \"count\": 3.0, \"y\": 84135.0}, {\"x\": 426336.0, \"count\": 2.0, \"y\": 84732.0}, {\"x\": 39940.0, \"count\": 76.0, \"y\": 120483.0}, {\"x\": 126819.0, \"count\": 1328.0, \"y\": 104430.0}, {\"x\": 147032.0, \"count\": 178.0, \"y\": 122196.0}, {\"x\": 242063.0, \"count\": 19.0, \"y\": 122295.0}, {\"x\": 315730.0, \"count\": 5.0, \"y\": 113412.0}, {\"x\": 426103.0, \"count\": 1.0, \"y\": 125218.0}, {\"x\": 1664089.0, \"count\": 1.0, \"y\": 121757.0}, {\"x\": -157264.0, \"count\": 1.0, \"y\": 166969.0}, {\"x\": 4040.0, \"count\": 36.0, \"y\": 151858.0}, {\"x\": 93069.0, \"count\": 173.0, \"y\": 135668.0}, {\"x\": 172308.0, \"count\": 703.0, \"y\": 168608.0}, {\"x\": 223810.0, \"count\": 34.0, \"y\": 158542.0}, {\"x\": 280478.0, \"count\": 4.0, \"y\": 143142.0}, {\"x\": 413019.0, \"count\": 2.0, \"y\": 168770.0}, {\"x\": 8111.0, \"count\": 9.0, \"y\": 198877.0}, {\"x\": 111899.0, \"count\": 7.0, \"y\": 199682.0}, {\"x\": 180422.0, \"count\": 407.0, \"y\": 170410.0}, {\"x\": 234192.0, \"count\": 116.0, \"y\": 190211.0}, {\"x\": 294969.0, \"count\": 13.0, \"y\": 189612.0}, {\"x\": 375948.0, \"count\": 5.0, \"y\": 195991.0}, {\"x\": 776.0, \"count\": 3.0, \"y\": 221876.0}, {\"x\": 86024.0, \"count\": 2.0, \"y\": 232017.0}, {\"x\": 205629.0, \"count\": 12.0, \"y\": 215827.0}, {\"x\": 229049.0, \"count\": 206.0, \"y\": 220951.0}, {\"x\": 344464.0, \"count\": 26.0, \"y\": 240865.0}, {\"x\": 373181.0, \"count\": 6.0, \"y\": 252195.0}, {\"x\": 0.0, \"count\": 2.0, \"y\": 282562.0}, {\"x\": 132554.0, \"count\": 2.0, \"y\": 268084.0}, {\"x\": 206593.0, \"count\": 2.0, \"y\": 275847.0}, {\"x\": 259969.0, \"count\": 87.0, \"y\": 255832.0}, {\"x\": 306314.0, \"count\": 69.0, \"y\": 258610.0}, {\"x\": 363343.0, \"count\": 7.0, \"y\": 290371.0}, {\"x\": 492718.0, \"count\": 1.0, \"y\": 282450.0}, {\"x\": 578971.0, \"count\": 1.0, \"y\": 293063.0}, {\"x\": 2321.0, \"count\": 2.0, \"y\": 327194.0}, {\"x\": 168389.0, \"count\": 4.0, \"y\": 338660.0}, {\"x\": 335527.0, \"count\": 71.0, \"y\": 333860.0}, {\"x\": 353121.0, \"count\": 16.0, \"y\": 337695.0}, {\"x\": 455286.0, \"count\": 1.0, \"y\": 327021.0}, {\"x\": 693131.0, \"count\": 1.0, \"y\": 324522.0}, {\"x\": 5800.0, \"count\": 1.0, \"y\": 369718.0}, {\"x\": 82803.0, \"count\": 1.0, \"y\": 380337.0}, {\"x\": 206296.0, \"count\": 3.0, \"y\": 354521.0}, {\"x\": 344460.0, \"count\": 18.0, \"y\": 347754.0}, {\"x\": 404205.0, \"count\": 43.0, \"y\": 360199.0}, {\"x\": 430637.0, \"count\": 6.0, \"y\": 376657.0}, {\"x\": 31401.0, \"count\": 1.0, \"y\": 417588.0}, {\"x\": 257836.0, \"count\": 1.0, \"y\": 388058.0}, {\"x\": 395612.0, \"count\": 24.0, \"y\": 386295.0}, {\"x\": 429037.0, \"count\": 12.0, \"y\": 383821.0}, {\"x\": 498839.0, \"count\": 1.0, \"y\": 411820.0}, {\"x\": 154653.0, \"count\": 1.0, \"y\": 450497.0}, {\"x\": 469703.0, \"count\": 19.0, \"y\": 447130.0}, {\"x\": 498646.0, \"count\": 3.0, \"y\": 436116.0}, {\"x\": 307843.0, \"count\": 1.0, \"y\": 479978.0}, {\"x\": 479432.0, \"count\": 9.0, \"y\": 487066.0}, {\"x\": 499936.0, \"count\": 1.0, \"y\": 505507.0}, {\"x\": 445007.0, \"count\": 2.0, \"y\": 542653.0}, {\"x\": 548020.0, \"count\": 3.0, \"y\": 530672.0}, {\"x\": 565550.0, \"count\": 1.0, \"y\": 572805.0}, {\"x\": 597415.0, \"count\": 3.0, \"y\": 569034.0}, {\"x\": 206895.0, \"count\": 1.0, \"y\": 628699.0}, {\"x\": 535020.0, \"count\": 1.0, \"y\": 891586.0}]}, \"mark\": \"point\", \"encoding\": {\"size\": {\"field\": \"count\", \"type\": \"quantitative\"}, \"x\": {\"field\": \"x\", \"type\": \"quantitative\", \"axis\": {\"title\": \"BILL_AMT3\"}}, \"y\": {\"field\": \"y\", \"type\": \"quantitative\", \"axis\": {\"title\": \"BILL_AMT4\"}}}};\n",
       "var opt = {};\n",
       "var type = \"vega-lite\";\n",
       "var id = \"6972bca6-c4f7-4171-a268-a84f16861532\";\n",
       "\n",
       "var output_area = this;\n",
       "\n",
       "require([\"nbextensions/jupyter-vega/index\"], function(vega) {\n",
       "  var target = document.createElement(\"div\");\n",
       "  target.id = id;\n",
       "  target.className = \"vega-embed\";\n",
       "\n",
       "  var style = document.createElement(\"style\");\n",
       "  style.textContent = [\n",
       "    \".vega-embed .error p {\",\n",
       "    \"  color: firebrick;\",\n",
       "    \"  font-size: 14px;\",\n",
       "    \"}\",\n",
       "  ].join(\"\\\\n\");\n",
       "\n",
       "  // element is a jQuery wrapped DOM element inside the output area\n",
       "  // see http://ipython.readthedocs.io/en/stable/api/generated/\\\n",
       "  // IPython.display.html#IPython.display.Javascript.__init__\n",
       "  element[0].appendChild(target);\n",
       "  element[0].appendChild(style);\n",
       "\n",
       "  vega.render(\"#\" + id, spec, type, opt, output_area);\n",
       "}, function (err) {\n",
       "  if (err.requireType !== \"scripterror\") {\n",
       "    throw(err);\n",
       "  }\n",
       "});\n"
      ],
      "text/plain": [
       "<vega.vegalite.VegaLite at 0x1087c6eb8>"
      ]
     },
     "execution_count": 34,
     "metadata": {
      "jupyter-vega": "#6972bca6-c4f7-4171-a268-a84f16861532"
     },
     "output_type": "execute_result"
    },
    {
     "data": {
      "image/png": "[encoded data removed]"
     },
     "metadata": {
      "jupyter-vega": "#6972bca6-c4f7-4171-a268-a84f16861532"
     },
     "output_type": "display_data"
    }
   ],
   "source": [
    "VegaLite(barchart)"
   ]
  },
  {
   "cell_type": "markdown",
   "metadata": {},
   "source": [
    "---\n",
    "### 6. API Methods\n",
    "\n",
    "```\n",
    "get_histogram(\n",
    "    dataset_key: str,\n",
    "    variable_name: str,\n",
    "    number_of_bars: int = 0,\n",
    "    transformation: str = \"none\",\n",
    "    mark: str = \"bar\",\n",
    ") -> dict:\n",
    "    \"\"\"\n",
    "    ---------------------------\n",
    "    Required Keyword arguments:\n",
    "    ---------------------------\n",
    "    dataset_key -- str, Key of visualized dataset in DriverlessAI\n",
    "    variable_name -- str, name of variable\n",
    "\n",
    "    ---------------------------\n",
    "    Optional Keyword arguments:\n",
    "    ---------------------------\n",
    "    number_of_bars -- int, number of bars\n",
    "    transformation -- str, default value is \"none\"\n",
    "        (otherwise, \"log\" or \"square_root\")\n",
    "    mark -- str, default value is \"bar\" (use \"area\" to get a density polygon)\n",
    "    \"\"\"\n",
    "\n",
    "get_scatterplot(\n",
    "    dataset_key: str,\n",
    "    x_variable_name: str,\n",
    "    y_variable_name: str,\n",
    "    mark: str = \"point\",\n",
    ") -> dict:\n",
    "    \"\"\"\n",
    "    ---------------------------\n",
    "    Required Keyword arguments:\n",
    "    ---------------------------\n",
    "    dataset_key -- str, Key of visualized dataset in DriverlessAI\n",
    "    x_variable_name -- str, name of x variable\n",
    "        (y variable assumed to be counts if no y variable specified)\n",
    "    y_variable_name -- str, name of y variable\n",
    "\n",
    "    ---------------------------\n",
    "    Optional Keyword arguments:\n",
    "    ---------------------------\n",
    "\n",
    "get_bar_chart(\n",
    "    dataset_key: str,\n",
    "    x_variable_name: str,\n",
    "    y_variable_name: str = \"\",\n",
    "    transpose: bool = False,\n",
    "    mark: str = \"bar\",\n",
    ") -> dict:\n",
    "    \"\"\"\n",
    "    ---------------------------\n",
    "    Required Keyword arguments:\n",
    "    ---------------------------\n",
    "    dataset_key -- str, Key of visualized dataset in DriverlessAI\n",
    "    x_variable_name -- str, name of x variable\n",
    "        (y variable assumed to be counts if no y variable specified)\n",
    "\n",
    "    ---------------------------\n",
    "    Optional Keyword arguments:\n",
    "    ---------------------------\n",
    "    y_variable_name -- str, name of y variable\n",
    "    transpose -- Boolean, default value is false\n",
    "    mark -- str, default value is \"bar\" (use \"point\" to get a Cleveland dot plot)\n",
    "    \"\"\"\n",
    "\n",
    "get_parallel_coordinates_plot(\n",
    "    dataset_key: str,\n",
    "    variable_names: list = [],\n",
    "    permute: bool = False,\n",
    "    transpose: bool = False,\n",
    "    cluster: bool = False,\n",
    ") -> dict:\n",
    "    \"\"\"\n",
    "    ---------------------------\n",
    "    Required Keyword arguments:\n",
    "    ---------------------------\n",
    "    dataset_key -- str, Key of visualized dataset in DriverlessAI\n",
    "\n",
    "    ---------------------------\n",
    "    Optional Keyword arguments:\n",
    "    ---------------------------\n",
    "    variable_names -- str, name of variables\n",
    "        (if no variables specified, all in dataset will be used)\n",
    "    permute -- Boolean, default value is false\n",
    "        (if true, use SVD to permute variables)\n",
    "    transpose -- Boolean, default value is false\n",
    "    cluster -- Boolean, k-means cluster variables and color plot by cluster IDs,\n",
    "        default value is false\n",
    "    \"\"\"\n",
    "\n",
    "get_heatmap(\n",
    "    dataset_key: str,\n",
    "    variable_names: list = [],\n",
    "    permute: bool = False,\n",
    "    transpose: bool = False,\n",
    "    matrix_type: str = \"rectangular\",\n",
    ") -> dict:\n",
    "    \"\"\"\n",
    "    ---------------------------\n",
    "    Required Keyword arguments:\n",
    "    ---------------------------\n",
    "    dataset_key -- str, Key of visualized dataset in DriverlessAI\n",
    "\n",
    "    ---------------------------\n",
    "    Optional Keyword arguments:\n",
    "    ---------------------------\n",
    "    variable_names -- str, name of variables\n",
    "        (if no variables specified, all in dataset will be used)\n",
    "    permute -- Boolean, default value is false\n",
    "        (if true, use SVD to permute rows and columns)\n",
    "    transpose -- Boolean, default value is false\n",
    "    matrix_type -- str, default value is \"rectangular\" (alternative is \"symmetric\")\n",
    "    \"\"\"\n",
    "\n",
    "get_boxplot(\n",
    "    dataset_key: str,\n",
    "    variable_name: str,\n",
    "    group_variable_name: str = \"\",\n",
    "    transpose: bool = False,\n",
    ") -> dict:\n",
    "    \"\"\"\n",
    "    ---------------------------\n",
    "    Required Keyword arguments:\n",
    "    ---------------------------\n",
    "    dataset_key -- str, Key of visualized dataset in DriverlessAI\n",
    "    variable_name -- str, name of variable for box\n",
    "\n",
    "    ---------------------------\n",
    "    Optional Keyword arguments:\n",
    "    ---------------------------\n",
    "    group_variable_name -- str, name of grouping variable\n",
    "    transpose -- Boolean, default value is false\n",
    "    \"\"\"\n",
    "\n",
    "get_linear_regression(\n",
    "    dataset_key: str,\n",
    "    x_variable_name: str,\n",
    "    y_variable_name: str,\n",
    "    mark: str = \"point\",\n",
    ") -> dict:\n",
    "    \"\"\"\n",
    "    ---------------------------\n",
    "    Required Keyword arguments:\n",
    "    ---------------------------\n",
    "    dataset_key -- str, Key of visualized dataset in DriverlessAI\n",
    "    x_variable_name -- str, name of x variable\n",
    "        (y variable assumed to be counts if no y variable specified)\n",
    "    y_variable_name -- str, name of y variable\n",
    "\n",
    "    ---------------------------\n",
    "    Optional Keyword arguments:\n",
    "    ---------------------------\n",
    "    mark -- str, default value is \"point\" (alternative is \"square\")\n",
    "    \"\"\"\n",
    "\n",
    "get_loess_regression(\n",
    "    dataset_key: str,\n",
    "    x_variable_name: str,\n",
    "    y_variable_name: str,\n",
    "    mark: str = \"point\",\n",
    "    bandwidth: float = 0.5,\n",
    ") -> dict:\n",
    "    \"\"\"\n",
    "    ---------------------------\n",
    "    Required Keyword arguments:\n",
    "    ---------------------------\n",
    "    dataset_key -- str, Key of visualized dataset in DriverlessAI\n",
    "    x_variable_name -- str, name of x variable\n",
    "        (y variable assumed to be counts if no y variable specified)\n",
    "    y_variable_name -- str, name of y variable\n",
    "\n",
    "    ---------------------------\n",
    "    Optional Keyword arguments:\n",
    "    ---------------------------\n",
    "    mark -- str, default value is \"point\" (alternative is \"square\")\n",
    "    bandwidth -- float, number in the (0,1)\n",
    "        interval denoting proportion of cases in smoothing window (default is 0.5)\n",
    "    \"\"\"\n",
    "\n",
    "get_dotplot(\n",
    "    dataset_key: str,\n",
    "    variable_name: str,\n",
    "    mark: str = \"point\",\n",
    ") -> dict:\n",
    "    \"\"\"\n",
    "    ---------------------------\n",
    "    Required Keyword arguments:\n",
    "    ---------------------------\n",
    "    dataset_key -- str, Key of visualized dataset in DriverlessAI\n",
    "    variable_name -- str, name of variable on which dots are calculated\n",
    "\n",
    "    ---------------------------\n",
    "    Optional Keyword arguments:\n",
    "    ---------------------------\n",
    "    mark -- str, default value is \"point\" (alternative is \"square\" or \"bar\")\n",
    "    \"\"\"\n",
    "\n",
    "get_distribution_plot(\n",
    "    dataset_key: str,\n",
    "    x_variable_name: str,\n",
    "    y_variable_name: str = \"\",\n",
    "    subtype: str = \"probability_plot\",\n",
    "    distribution: str = \"normal\",\n",
    "    mark: str = \"point\",\n",
    "    transpose: bool = False,\n",
    ") -> dict:\n",
    "    \"\"\"\n",
    "    ---------------------------\n",
    "    Required Keyword arguments:\n",
    "    ---------------------------\n",
    "    dataset_key -- str, Key of visualized dataset in DriverlessAI\n",
    "    x_variable_name -- str, name of x variable\n",
    "\n",
    "    ---------------------------\n",
    "    Optional Keyword arguments:\n",
    "    ---------------------------\n",
    "    y_variable_name -- str, name of y variable for quantile plot\n",
    "    subtype -- str \"probability_plot\" or \"quantile_plot\"\n",
    "        (default is \"probability_plot\" done on x variable)\n",
    "    distribution -- str, type of distribution, \"normal\" or \"uniform\"\n",
    "        (\"normal\" is default)\n",
    "    mark -- str, default value is \"point\" (alternative is \"square\")\n",
    "    transpose -- Boolean, default value is false\n",
    "    \"\"\"\n",
    "```"
   ]
  }
 ],
 "metadata": {
  "kernelspec": {
   "display_name": "Python 3",
   "language": "python",
   "name": "python3"
  },
  "language_info": {
   "codemirror_mode": {
    "name": "ipython",
    "version": 3
   },
   "file_extension": ".py",
   "mimetype": "text/x-python",
   "name": "python",
   "nbconvert_exporter": "python",
   "pygments_lexer": "ipython3",
   "version": "3.6.6"
  }
 },
 "nbformat": 4,
 "nbformat_minor": 2
}
