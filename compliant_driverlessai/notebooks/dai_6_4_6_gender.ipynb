{
 "cells": [
  {
   "cell_type": "markdown",
   "metadata": {},
   "source": [
    "# Increase Fairness in Your Driverless AI Experiment with Disparate Impact Analysis (DIA) using Pandas, Numpy, and Datatable\n",
    "\n",
    "#### Assess if your Driverless AI experiment is treating different groups of people similarly or differently\n",
    "\n",
    "Fairness in machine learning is a very important topic in many respects, but it is a highly complex entity. So much so that leading researchers in the field have yet to agree on a strict definition (there is no concrete \"fairness metric\"). However, there is a practical way to discuss and handle *observational* fairness or simply put, how your model predictions affect different groups. This procedure is known as disparate impact analysis (DIA). DIA is far from perfect, as it relies heavily on user-defined thresholds and reference levels for disparity and does not attempt to remediate disparity or provide information on sources of disparity, but it is a fairly straightforward method to quantify your model’s behavior across sensitive demographic segments or other potentially interesting groups of observations. DIA is also an accepted, regulation-compliant tool for fair-lending purposes in the U.S. financial services industry. \n",
    "\n",
    "This example DIA notebook starts by importing a dataset that contains the UCI credit card default data with predictions of defaulting and not defaulting from a Driverless AI mode. A probability cutoff for making credit decisions is selected by maximizing the `F1` statistic and confusion matrices are generated to summarize the DAI model’s decisions across customers with different gender levels. A basic DIA procedure is then conducted using the information stored in the confusion matrices. \n",
    "\n",
    "For an excellent and free reference on the topics of fairness and machine learning be sure to follow the book being written by Solon Barocas, Moritz Hardt and Arvind Narayanan: https://fairmlbook.org/. \n",
    "\n",
    "For Python fairness libraries that go far beyond the scope of this notebook see: \n",
    "* aequitas: https://github.com/dssg/aequitas\n",
    "* AI Fairness 360: http://aif360.mybluemix.net/\n",
    "* Themis: https://github.com/LASER-UMASS/Themis"
   ]
  },
  {
   "cell_type": "markdown",
   "metadata": {},
   "source": [
    "#### Python imports "
   ]
  },
  {
   "cell_type": "code",
   "execution_count": 1,
   "metadata": {},
   "outputs": [],
   "source": [
    "import numpy as np   \n",
    "import pandas as pd \n",
    "import datatable as dt\n",
    "from datatable import f\n",
    "\n",
    "%matplotlib inline   "
   ]
  },
  {
   "cell_type": "markdown",
   "metadata": {},
   "source": [
    "## 1. Import, explore, and prepare UCI credit card default data with predictions from a DAI experiment\n",
    "\n",
    "The UCI credit card default data contains demographic and payment information about credit card customers in Taiwan in the year 2005. The data set contains 23 input variables: \n",
    "\n",
    "* **`LIMIT_BAL`**: Amount of given credit (NT dollar)\n",
    "* **`SEX`**: 1 = male; 2 = female\n",
    "* **`EDUCATION`**: 1 = graduate school; 2 = university; 3 = high school; 4 = others \n",
    "* **`MARRIAGE`**: 1 = married; 2 = single; 3 = others\n",
    "* **`AGE`**: Age in years \n",
    "* **`PAY_0`, `PAY_2` - `PAY_6`**: History of past payment; `PAY_0` = the repayment status in September, 2005; `PAY_2` = the repayment status in August, 2005; ...; `PAY_6` = the repayment status in April, 2005. The measurement scale for the repayment status is: -1 = pay duly; 1 = payment delay for one month; 2 = payment delay for two months; ...; 8 = payment delay for eight months; 9 = payment delay for nine months and above. \n",
    "* **`BILL_AMT1` - `BILL_AMT6`**: Amount of bill statement (NT dollar). `BILL_AMNT1` = amount of bill statement in September, 2005; `BILL_AMT2` = amount of bill statement in August, 2005; ...; `BILL_AMT6` = amount of bill statement in April, 2005. \n",
    "* **`PAY_AMT1` - `PAY_AMT6`**: Amount of previous payment (NT dollar). `PAY_AMT1` = amount paid in September, 2005; `PAY_AMT2` = amount paid in August, 2005; ...; `PAY_AMT6` = amount paid in April, 2005. \n",
    "\n",
    "These 23 input variables are used to predict the target variable, whether or not a customer defaulted on their credit card bill in late 2005."
   ]
  },
  {
   "cell_type": "markdown",
   "metadata": {},
   "source": [
    "#### Import data and clean"
   ]
  },
  {
   "cell_type": "code",
   "execution_count": 2,
   "metadata": {},
   "outputs": [],
   "source": [
    "# import\n",
    "path = '../data/dai_6_4_6_nulafigi.csv'\n",
    "data = dt.fread(path).to_pandas()\n",
    "\n",
    "# remove spaces from the target column, probabilty of not defaulting column, and the probability of defaulting column\n",
    "data = data.rename(columns={'default payment next month': 'DEFAULT_NEXT_MONTH'}) \n",
    "data = data.rename(columns={'default payment next month.0': 'p_DEFAULT_NEXT_MONTH_0'}) \n",
    "data = data.rename(columns={'default payment next month.1': 'p_DEFAULT_NEXT_MONTH_1'}) "
   ]
  },
  {
   "cell_type": "code",
   "execution_count": 3,
   "metadata": {},
   "outputs": [
    {
     "data": {
      "text/html": [
       "<div>\n",
       "<style scoped>\n",
       "    .dataframe tbody tr th:only-of-type {\n",
       "        vertical-align: middle;\n",
       "    }\n",
       "\n",
       "    .dataframe tbody tr th {\n",
       "        vertical-align: top;\n",
       "    }\n",
       "\n",
       "    .dataframe thead th {\n",
       "        text-align: right;\n",
       "    }\n",
       "</style>\n",
       "<table border=\"1\" class=\"dataframe\">\n",
       "  <thead>\n",
       "    <tr style=\"text-align: right;\">\n",
       "      <th></th>\n",
       "      <th>ID</th>\n",
       "      <th>LIMIT_BAL</th>\n",
       "      <th>SEX</th>\n",
       "      <th>EDUCATION</th>\n",
       "      <th>MARRIAGE</th>\n",
       "      <th>AGE</th>\n",
       "      <th>PAY_0</th>\n",
       "      <th>PAY_2</th>\n",
       "      <th>PAY_3</th>\n",
       "      <th>PAY_4</th>\n",
       "      <th>...</th>\n",
       "      <th>BILL_AMT6</th>\n",
       "      <th>PAY_AMT1</th>\n",
       "      <th>PAY_AMT2</th>\n",
       "      <th>PAY_AMT3</th>\n",
       "      <th>PAY_AMT4</th>\n",
       "      <th>PAY_AMT5</th>\n",
       "      <th>PAY_AMT6</th>\n",
       "      <th>DEFAULT_NEXT_MONTH</th>\n",
       "      <th>p_DEFAULT_NEXT_MONTH_0</th>\n",
       "      <th>p_DEFAULT_NEXT_MONTH_1</th>\n",
       "    </tr>\n",
       "  </thead>\n",
       "  <tbody>\n",
       "    <tr>\n",
       "      <th>0</th>\n",
       "      <td>24001</td>\n",
       "      <td>50000</td>\n",
       "      <td>1</td>\n",
       "      <td>2</td>\n",
       "      <td>2</td>\n",
       "      <td>23</td>\n",
       "      <td>2</td>\n",
       "      <td>2</td>\n",
       "      <td>0</td>\n",
       "      <td>0</td>\n",
       "      <td>...</td>\n",
       "      <td>20066</td>\n",
       "      <td>8</td>\n",
       "      <td>2401</td>\n",
       "      <td>2254</td>\n",
       "      <td>2004</td>\n",
       "      <td>704</td>\n",
       "      <td>707</td>\n",
       "      <td>0</td>\n",
       "      <td>0.381156</td>\n",
       "      <td>0.618844</td>\n",
       "    </tr>\n",
       "    <tr>\n",
       "      <th>1</th>\n",
       "      <td>24002</td>\n",
       "      <td>60000</td>\n",
       "      <td>1</td>\n",
       "      <td>2</td>\n",
       "      <td>2</td>\n",
       "      <td>26</td>\n",
       "      <td>0</td>\n",
       "      <td>0</td>\n",
       "      <td>0</td>\n",
       "      <td>0</td>\n",
       "      <td>...</td>\n",
       "      <td>28847</td>\n",
       "      <td>2282</td>\n",
       "      <td>2324</td>\n",
       "      <td>2049</td>\n",
       "      <td>2000</td>\n",
       "      <td>3000</td>\n",
       "      <td>1120</td>\n",
       "      <td>1</td>\n",
       "      <td>0.889522</td>\n",
       "      <td>0.110478</td>\n",
       "    </tr>\n",
       "    <tr>\n",
       "      <th>2</th>\n",
       "      <td>24003</td>\n",
       "      <td>400000</td>\n",
       "      <td>1</td>\n",
       "      <td>2</td>\n",
       "      <td>2</td>\n",
       "      <td>27</td>\n",
       "      <td>0</td>\n",
       "      <td>0</td>\n",
       "      <td>0</td>\n",
       "      <td>0</td>\n",
       "      <td>...</td>\n",
       "      <td>9545</td>\n",
       "      <td>2501</td>\n",
       "      <td>10009</td>\n",
       "      <td>1437</td>\n",
       "      <td>1105</td>\n",
       "      <td>510</td>\n",
       "      <td>959</td>\n",
       "      <td>0</td>\n",
       "      <td>0.890023</td>\n",
       "      <td>0.109977</td>\n",
       "    </tr>\n",
       "    <tr>\n",
       "      <th>3</th>\n",
       "      <td>24004</td>\n",
       "      <td>20000</td>\n",
       "      <td>1</td>\n",
       "      <td>5</td>\n",
       "      <td>2</td>\n",
       "      <td>27</td>\n",
       "      <td>5</td>\n",
       "      <td>4</td>\n",
       "      <td>3</td>\n",
       "      <td>2</td>\n",
       "      <td>...</td>\n",
       "      <td>19840</td>\n",
       "      <td>0</td>\n",
       "      <td>0</td>\n",
       "      <td>0</td>\n",
       "      <td>900</td>\n",
       "      <td>0</td>\n",
       "      <td>0</td>\n",
       "      <td>0</td>\n",
       "      <td>0.369731</td>\n",
       "      <td>0.630269</td>\n",
       "    </tr>\n",
       "    <tr>\n",
       "      <th>4</th>\n",
       "      <td>24005</td>\n",
       "      <td>50000</td>\n",
       "      <td>1</td>\n",
       "      <td>3</td>\n",
       "      <td>2</td>\n",
       "      <td>27</td>\n",
       "      <td>0</td>\n",
       "      <td>0</td>\n",
       "      <td>-2</td>\n",
       "      <td>-2</td>\n",
       "      <td>...</td>\n",
       "      <td>120</td>\n",
       "      <td>0</td>\n",
       "      <td>100</td>\n",
       "      <td>0</td>\n",
       "      <td>70</td>\n",
       "      <td>200</td>\n",
       "      <td>100</td>\n",
       "      <td>0</td>\n",
       "      <td>0.897837</td>\n",
       "      <td>0.102163</td>\n",
       "    </tr>\n",
       "  </tbody>\n",
       "</table>\n",
       "<p>5 rows × 27 columns</p>\n",
       "</div>"
      ],
      "text/plain": [
       "      ID  LIMIT_BAL  SEX  EDUCATION  MARRIAGE  AGE  PAY_0  PAY_2  PAY_3  \\\n",
       "0  24001      50000    1          2         2   23      2      2      0   \n",
       "1  24002      60000    1          2         2   26      0      0      0   \n",
       "2  24003     400000    1          2         2   27      0      0      0   \n",
       "3  24004      20000    1          5         2   27      5      4      3   \n",
       "4  24005      50000    1          3         2   27      0      0     -2   \n",
       "\n",
       "   PAY_4           ...            BILL_AMT6  PAY_AMT1  PAY_AMT2  PAY_AMT3  \\\n",
       "0      0           ...                20066         8      2401      2254   \n",
       "1      0           ...                28847      2282      2324      2049   \n",
       "2      0           ...                 9545      2501     10009      1437   \n",
       "3      2           ...                19840         0         0         0   \n",
       "4     -2           ...                  120         0       100         0   \n",
       "\n",
       "   PAY_AMT4  PAY_AMT5  PAY_AMT6  DEFAULT_NEXT_MONTH  p_DEFAULT_NEXT_MONTH_0  \\\n",
       "0      2004       704       707                   0                0.381156   \n",
       "1      2000      3000      1120                   1                0.889522   \n",
       "2      1105       510       959                   0                0.890023   \n",
       "3       900         0         0                   0                0.369731   \n",
       "4        70       200       100                   0                0.897837   \n",
       "\n",
       "   p_DEFAULT_NEXT_MONTH_1  \n",
       "0                0.618844  \n",
       "1                0.110478  \n",
       "2                0.109977  \n",
       "3                0.630269  \n",
       "4                0.102163  \n",
       "\n",
       "[5 rows x 27 columns]"
      ]
     },
     "execution_count": 3,
     "metadata": {},
     "output_type": "execute_result"
    }
   ],
   "source": [
    "# See first 5 rows of dataset\n",
    "data.head()"
   ]
  },
  {
   "cell_type": "markdown",
   "metadata": {},
   "source": [
    "#### Helper function for recoding values in the UCI credict card default data\n",
    "This simple function maps longer, more understandable character string values from the UCI credit card default data dictionary to the original integer values of the input variables found in the dataset."
   ]
  },
  {
   "cell_type": "code",
   "execution_count": 4,
   "metadata": {},
   "outputs": [],
   "source": [
    "def recode_cc_data(frame):\n",
    "    \n",
    "    \"\"\" Recodes numeric categorical variables into categorical character variables\n",
    "    with more transparent values. \n",
    "    \n",
    "    Args:\n",
    "        frame: Pandas DataFrame version of UCI credit card default data.\n",
    "        \n",
    "    Returns: \n",
    "        Pandas with recoded values.\n",
    "        \n",
    "    \"\"\"\n",
    "    \n",
    "    # define recoded values\n",
    "    sex_dict = {1:'male', 2:'female'}\n",
    "    education_dict = {0:'other', 1:'graduate school', 2:'university', 3:'high school', \n",
    "                      4:'other', 5:'other', 6:'other'}\n",
    "    marriage_dict = {0:'other', 1:'married', 2:'single', 3:'divorced'}\n",
    "    pay_dict = {-2:'no consumption', -1:'pay duly', 0:'use of revolving credit', 1:'1 month delay', \n",
    "                2:'2 month delay', 3:'3 month delay', 4:'4 month delay', 5:'5 month delay', 6:'6 month delay', \n",
    "                7:'7 month delay', 8:'8 month delay', 9:'9+ month delay'}\n",
    "    \n",
    "    # recode values using Pandas apply() and anonymous function\n",
    "    frame['SEX'] = frame['SEX'].apply(lambda i: sex_dict[i])\n",
    "    frame['EDUCATION'] = frame['EDUCATION'].apply(lambda i: education_dict[i])    \n",
    "    frame['MARRIAGE'] = frame['MARRIAGE'].apply(lambda i: marriage_dict[i]) \n",
    "    for name in frame.columns:\n",
    "        if name in ['PAY_0', 'PAY_2', 'PAY_3', 'PAY_4', 'PAY_5', 'PAY_6']:\n",
    "            frame[name] = frame[name].apply(lambda i: pay_dict[i])            \n",
    "                \n",
    "    return frame\n",
    "\n",
    "data = recode_cc_data(data)"
   ]
  },
  {
   "cell_type": "markdown",
   "metadata": {},
   "source": [
    "#### Display descriptive statistics\n",
    "The `describe()` function displays a brief description of the credit card default data. For the categorical input variables `LIMIT_BAL`, `SEX`, `EDUCATION`, `MARRIAGE`, and `PAY_0`-`PAY_6`, the new character values created above in cell 5 are visible. Basic descriptive statistics are displayed for numeric inputs."
   ]
  },
  {
   "cell_type": "code",
   "execution_count": 5,
   "metadata": {},
   "outputs": [
    {
     "data": {
      "text/html": [
       "<div>\n",
       "<style scoped>\n",
       "    .dataframe tbody tr th:only-of-type {\n",
       "        vertical-align: middle;\n",
       "    }\n",
       "\n",
       "    .dataframe tbody tr th {\n",
       "        vertical-align: top;\n",
       "    }\n",
       "\n",
       "    .dataframe thead th {\n",
       "        text-align: right;\n",
       "    }\n",
       "</style>\n",
       "<table border=\"1\" class=\"dataframe\">\n",
       "  <thead>\n",
       "    <tr style=\"text-align: right;\">\n",
       "      <th></th>\n",
       "      <th>ID</th>\n",
       "      <th>LIMIT_BAL</th>\n",
       "      <th>AGE</th>\n",
       "      <th>BILL_AMT1</th>\n",
       "      <th>BILL_AMT2</th>\n",
       "      <th>BILL_AMT3</th>\n",
       "      <th>BILL_AMT4</th>\n",
       "      <th>BILL_AMT5</th>\n",
       "      <th>BILL_AMT6</th>\n",
       "      <th>PAY_AMT1</th>\n",
       "      <th>PAY_AMT2</th>\n",
       "      <th>PAY_AMT3</th>\n",
       "      <th>PAY_AMT4</th>\n",
       "      <th>PAY_AMT5</th>\n",
       "      <th>PAY_AMT6</th>\n",
       "      <th>DEFAULT_NEXT_MONTH</th>\n",
       "      <th>p_DEFAULT_NEXT_MONTH_0</th>\n",
       "      <th>p_DEFAULT_NEXT_MONTH_1</th>\n",
       "    </tr>\n",
       "  </thead>\n",
       "  <tbody>\n",
       "    <tr>\n",
       "      <th>count</th>\n",
       "      <td>6000.000000</td>\n",
       "      <td>6000.000000</td>\n",
       "      <td>6000.000000</td>\n",
       "      <td>6000.000000</td>\n",
       "      <td>6000.000000</td>\n",
       "      <td>6000.000000</td>\n",
       "      <td>6000.000000</td>\n",
       "      <td>6000.000000</td>\n",
       "      <td>6000.000000</td>\n",
       "      <td>6000.000000</td>\n",
       "      <td>6.000000e+03</td>\n",
       "      <td>6000.000000</td>\n",
       "      <td>6000.000000</td>\n",
       "      <td>6000.000000</td>\n",
       "      <td>6000.000000</td>\n",
       "      <td>6000.000000</td>\n",
       "      <td>6000.000000</td>\n",
       "      <td>6000.000000</td>\n",
       "    </tr>\n",
       "    <tr>\n",
       "      <th>mean</th>\n",
       "      <td>27000.500000</td>\n",
       "      <td>175437.666667</td>\n",
       "      <td>35.905667</td>\n",
       "      <td>53729.115667</td>\n",
       "      <td>51311.119333</td>\n",
       "      <td>49597.543500</td>\n",
       "      <td>46841.991167</td>\n",
       "      <td>41554.274667</td>\n",
       "      <td>40103.959500</td>\n",
       "      <td>6146.250833</td>\n",
       "      <td>6.344473e+03</td>\n",
       "      <td>6251.343500</td>\n",
       "      <td>5156.464167</td>\n",
       "      <td>4862.994000</td>\n",
       "      <td>5319.916667</td>\n",
       "      <td>0.211000</td>\n",
       "      <td>0.788625</td>\n",
       "      <td>0.211375</td>\n",
       "    </tr>\n",
       "    <tr>\n",
       "      <th>std</th>\n",
       "      <td>1732.195139</td>\n",
       "      <td>131905.841315</td>\n",
       "      <td>8.990675</td>\n",
       "      <td>77411.882245</td>\n",
       "      <td>74290.225276</td>\n",
       "      <td>73739.999695</td>\n",
       "      <td>69041.251707</td>\n",
       "      <td>62562.774782</td>\n",
       "      <td>61111.043232</td>\n",
       "      <td>21523.044734</td>\n",
       "      <td>3.040158e+04</td>\n",
       "      <td>22638.732479</td>\n",
       "      <td>18466.518562</td>\n",
       "      <td>15310.976004</td>\n",
       "      <td>18355.191015</td>\n",
       "      <td>0.408052</td>\n",
       "      <td>0.181258</td>\n",
       "      <td>0.181258</td>\n",
       "    </tr>\n",
       "    <tr>\n",
       "      <th>min</th>\n",
       "      <td>24001.000000</td>\n",
       "      <td>10000.000000</td>\n",
       "      <td>21.000000</td>\n",
       "      <td>-11545.000000</td>\n",
       "      <td>-67526.000000</td>\n",
       "      <td>-46127.000000</td>\n",
       "      <td>-65167.000000</td>\n",
       "      <td>-61372.000000</td>\n",
       "      <td>-209051.000000</td>\n",
       "      <td>0.000000</td>\n",
       "      <td>0.000000e+00</td>\n",
       "      <td>0.000000</td>\n",
       "      <td>0.000000</td>\n",
       "      <td>0.000000</td>\n",
       "      <td>0.000000</td>\n",
       "      <td>0.000000</td>\n",
       "      <td>0.127527</td>\n",
       "      <td>0.053208</td>\n",
       "    </tr>\n",
       "    <tr>\n",
       "      <th>25%</th>\n",
       "      <td>25500.750000</td>\n",
       "      <td>60000.000000</td>\n",
       "      <td>29.000000</td>\n",
       "      <td>3213.000000</td>\n",
       "      <td>2578.500000</td>\n",
       "      <td>2487.750000</td>\n",
       "      <td>2290.750000</td>\n",
       "      <td>1900.000000</td>\n",
       "      <td>1320.000000</td>\n",
       "      <td>1000.000000</td>\n",
       "      <td>9.900000e+02</td>\n",
       "      <td>799.750000</td>\n",
       "      <td>326.000000</td>\n",
       "      <td>278.750000</td>\n",
       "      <td>288.750000</td>\n",
       "      <td>0.000000</td>\n",
       "      <td>0.761850</td>\n",
       "      <td>0.100228</td>\n",
       "    </tr>\n",
       "    <tr>\n",
       "      <th>50%</th>\n",
       "      <td>27000.500000</td>\n",
       "      <td>150000.000000</td>\n",
       "      <td>34.000000</td>\n",
       "      <td>22820.000000</td>\n",
       "      <td>20814.500000</td>\n",
       "      <td>20360.500000</td>\n",
       "      <td>19657.000000</td>\n",
       "      <td>18071.500000</td>\n",
       "      <td>17203.500000</td>\n",
       "      <td>2195.500000</td>\n",
       "      <td>2.230000e+03</td>\n",
       "      <td>2000.000000</td>\n",
       "      <td>1634.500000</td>\n",
       "      <td>1590.000000</td>\n",
       "      <td>1697.000000</td>\n",
       "      <td>0.000000</td>\n",
       "      <td>0.868354</td>\n",
       "      <td>0.131646</td>\n",
       "    </tr>\n",
       "    <tr>\n",
       "      <th>75%</th>\n",
       "      <td>28500.250000</td>\n",
       "      <td>250000.000000</td>\n",
       "      <td>42.000000</td>\n",
       "      <td>71456.500000</td>\n",
       "      <td>68612.250000</td>\n",
       "      <td>65252.750000</td>\n",
       "      <td>61357.750000</td>\n",
       "      <td>52099.000000</td>\n",
       "      <td>50620.500000</td>\n",
       "      <td>5188.750000</td>\n",
       "      <td>5.042250e+03</td>\n",
       "      <td>5000.000000</td>\n",
       "      <td>4209.500000</td>\n",
       "      <td>4145.000000</td>\n",
       "      <td>4300.000000</td>\n",
       "      <td>0.000000</td>\n",
       "      <td>0.899772</td>\n",
       "      <td>0.238150</td>\n",
       "    </tr>\n",
       "    <tr>\n",
       "      <th>max</th>\n",
       "      <td>30000.000000</td>\n",
       "      <td>780000.000000</td>\n",
       "      <td>75.000000</td>\n",
       "      <td>746814.000000</td>\n",
       "      <td>671563.000000</td>\n",
       "      <td>855086.000000</td>\n",
       "      <td>706864.000000</td>\n",
       "      <td>587067.000000</td>\n",
       "      <td>514975.000000</td>\n",
       "      <td>873552.000000</td>\n",
       "      <td>1.227082e+06</td>\n",
       "      <td>889043.000000</td>\n",
       "      <td>621000.000000</td>\n",
       "      <td>426529.000000</td>\n",
       "      <td>443001.000000</td>\n",
       "      <td>1.000000</td>\n",
       "      <td>0.946792</td>\n",
       "      <td>0.872473</td>\n",
       "    </tr>\n",
       "  </tbody>\n",
       "</table>\n",
       "</div>"
      ],
      "text/plain": [
       "                 ID      LIMIT_BAL          AGE      BILL_AMT1      BILL_AMT2  \\\n",
       "count   6000.000000    6000.000000  6000.000000    6000.000000    6000.000000   \n",
       "mean   27000.500000  175437.666667    35.905667   53729.115667   51311.119333   \n",
       "std     1732.195139  131905.841315     8.990675   77411.882245   74290.225276   \n",
       "min    24001.000000   10000.000000    21.000000  -11545.000000  -67526.000000   \n",
       "25%    25500.750000   60000.000000    29.000000    3213.000000    2578.500000   \n",
       "50%    27000.500000  150000.000000    34.000000   22820.000000   20814.500000   \n",
       "75%    28500.250000  250000.000000    42.000000   71456.500000   68612.250000   \n",
       "max    30000.000000  780000.000000    75.000000  746814.000000  671563.000000   \n",
       "\n",
       "           BILL_AMT3      BILL_AMT4      BILL_AMT5      BILL_AMT6  \\\n",
       "count    6000.000000    6000.000000    6000.000000    6000.000000   \n",
       "mean    49597.543500   46841.991167   41554.274667   40103.959500   \n",
       "std     73739.999695   69041.251707   62562.774782   61111.043232   \n",
       "min    -46127.000000  -65167.000000  -61372.000000 -209051.000000   \n",
       "25%      2487.750000    2290.750000    1900.000000    1320.000000   \n",
       "50%     20360.500000   19657.000000   18071.500000   17203.500000   \n",
       "75%     65252.750000   61357.750000   52099.000000   50620.500000   \n",
       "max    855086.000000  706864.000000  587067.000000  514975.000000   \n",
       "\n",
       "            PAY_AMT1      PAY_AMT2       PAY_AMT3       PAY_AMT4  \\\n",
       "count    6000.000000  6.000000e+03    6000.000000    6000.000000   \n",
       "mean     6146.250833  6.344473e+03    6251.343500    5156.464167   \n",
       "std     21523.044734  3.040158e+04   22638.732479   18466.518562   \n",
       "min         0.000000  0.000000e+00       0.000000       0.000000   \n",
       "25%      1000.000000  9.900000e+02     799.750000     326.000000   \n",
       "50%      2195.500000  2.230000e+03    2000.000000    1634.500000   \n",
       "75%      5188.750000  5.042250e+03    5000.000000    4209.500000   \n",
       "max    873552.000000  1.227082e+06  889043.000000  621000.000000   \n",
       "\n",
       "            PAY_AMT5       PAY_AMT6  DEFAULT_NEXT_MONTH  \\\n",
       "count    6000.000000    6000.000000         6000.000000   \n",
       "mean     4862.994000    5319.916667            0.211000   \n",
       "std     15310.976004   18355.191015            0.408052   \n",
       "min         0.000000       0.000000            0.000000   \n",
       "25%       278.750000     288.750000            0.000000   \n",
       "50%      1590.000000    1697.000000            0.000000   \n",
       "75%      4145.000000    4300.000000            0.000000   \n",
       "max    426529.000000  443001.000000            1.000000   \n",
       "\n",
       "       p_DEFAULT_NEXT_MONTH_0  p_DEFAULT_NEXT_MONTH_1  \n",
       "count             6000.000000             6000.000000  \n",
       "mean                 0.788625                0.211375  \n",
       "std                  0.181258                0.181258  \n",
       "min                  0.127527                0.053208  \n",
       "25%                  0.761850                0.100228  \n",
       "50%                  0.868354                0.131646  \n",
       "75%                  0.899772                0.238150  \n",
       "max                  0.946792                0.872473  "
      ]
     },
     "execution_count": 5,
     "metadata": {},
     "output_type": "execute_result"
    }
   ],
   "source": [
    "data.describe()"
   ]
  },
  {
   "cell_type": "markdown",
   "metadata": {},
   "source": [
    "# 3. Select a Probability Cutoff by Maximizing F1 Statistic"
   ]
  },
  {
   "cell_type": "markdown",
   "metadata": {},
   "source": [
    "#### Function to calculate AUC-PR Curve\n",
    "\n",
    "Classification models often produce probabilities, not decisions. So to make a decision with a model-generated predicted probability for any one customer, you must specify a numeric cutoff above which we say a customer will default and below which we say they will not default. Cutoffs play a crucial role in DIA as they impact the underlying measurements used to calculate diparity. In fact, tuning cutoffs carefully is a potential remdiation tactic for any discovered disparity. There are many accepted ways to select a cutoff (besides simply using 0.5) and in this notebook the cutoff will be selected by striking a balance between the model's recall (true positive rate) and it's precision using the F1 statistic.  \n",
    "\n",
    "To learn more about confusion matrices see: https://en.wikipedia.org/wiki/Confusion_matrix."
   ]
  },
  {
   "cell_type": "markdown",
   "metadata": {},
   "source": [
    "#### Create datatable version of test_yhat"
   ]
  },
  {
   "cell_type": "code",
   "execution_count": 6,
   "metadata": {},
   "outputs": [
    {
     "data": {
      "text/html": [
       "<style type='text/css'>\n",
       ".datatable table.frame { margin-bottom: 0; }\n",
       ".datatable table.frame thead { border-bottom: none; }\n",
       ".datatable table.frame tr.coltypes td {  color: #FFFFFF;  line-height: 6px;  padding: 0 0.5em;}\n",
       ".datatable .bool { background: #DDDD99; }\n",
       ".datatable .obj  { background: #565656; }\n",
       ".datatable .int  { background: #5D9E5D; }\n",
       ".datatable .real { background: #4040CC; }\n",
       ".datatable .str  { background: #CC4040; }\n",
       ".datatable .row_index {  background: var(--jp-border-color3);  border-right: 1px solid var(--jp-border-color0);  color: var(--jp-ui-font-color3);  font-size: 9px;}\n",
       ".datatable .frame tr.coltypes .row_index {  background: var(--jp-border-color0);}\n",
       ".datatable th:nth-child(2) { padding-left: 12px; }\n",
       ".datatable .hellipsis {  color: var(--jp-cell-editor-border-color);}\n",
       ".datatable .vellipsis {  background: var(--jp-layout-color0);  color: var(--jp-cell-editor-border-color);}\n",
       ".datatable .na {  color: var(--jp-cell-editor-border-color);  font-size: 80%;}\n",
       ".datatable .footer { font-size: 9px; }\n",
       ".datatable .frame_dimensions {  background: var(--jp-border-color3);  border-top: 1px solid var(--jp-border-color0);  color: var(--jp-ui-font-color3);  display: inline-block;  opacity: 0.6;  padding: 1px 10px 1px 5px;}\n",
       "</style>\n",
       "<div class='datatable'>\n",
       "  <table class='frame'>\n",
       "  <thead>\n",
       "    <tr class='colnames'><td class='row_index'></td><th>ID</th><th>LIMIT_BAL</th><th>SEX</th><th>EDUCATION</th><th>MARRIAGE</th><th>AGE</th><th>PAY_0</th><th>PAY_2</th><th>PAY_3</th><th>PAY_4</th><th class='vellipsis'>&hellip;</th><th>PAY_AMT5</th><th>PAY_AMT6</th><th>DEFAULT_NEXT_MONTH</th><th>p_DEFAULT_NEXT_MONTH_0</th><th>p_DEFAULT_NEXT_MONTH_1</th></tr>\n",
       "    <tr class='coltypes'><td class='row_index'></td><td class='int' title='int32'>&#x25AA;&#x25AA;&#x25AA;&#x25AA;</td><td class='int' title='int32'>&#x25AA;&#x25AA;&#x25AA;&#x25AA;</td><td class='str' title='str32'>&#x25AA;&#x25AA;&#x25AA;&#x25AA;</td><td class='str' title='str32'>&#x25AA;&#x25AA;&#x25AA;&#x25AA;</td><td class='str' title='str32'>&#x25AA;&#x25AA;&#x25AA;&#x25AA;</td><td class='int' title='int32'>&#x25AA;&#x25AA;&#x25AA;&#x25AA;</td><td class='str' title='str32'>&#x25AA;&#x25AA;&#x25AA;&#x25AA;</td><td class='str' title='str32'>&#x25AA;&#x25AA;&#x25AA;&#x25AA;</td><td class='str' title='str32'>&#x25AA;&#x25AA;&#x25AA;&#x25AA;</td><td class='str' title='str32'>&#x25AA;&#x25AA;&#x25AA;&#x25AA;</td><th class='vellipsis'>&hellip;</th><td class='int' title='int32'>&#x25AA;&#x25AA;&#x25AA;&#x25AA;</td><td class='int' title='int32'>&#x25AA;&#x25AA;&#x25AA;&#x25AA;</td><td class='int' title='int8'>&#x25AA;</td><td class='real' title='float64'>&#x25AA;&#x25AA;&#x25AA;&#x25AA;&#x25AA;&#x25AA;&#x25AA;&#x25AA;</td><td class='real' title='float64'>&#x25AA;&#x25AA;&#x25AA;&#x25AA;&#x25AA;&#x25AA;&#x25AA;&#x25AA;</td></tr>\n",
       "  </thead>\n",
       "  <tbody>\n",
       "    <tr><td class='row_index'>0</td><td>24001</td><td>50000</td><td>male</td><td>university</td><td>single</td><td>23</td><td>2 month delay</td><td>2 month delay</td><td>use of revolving credit</td><td>use of revolving credit</td><td class=vellipsis>&hellip;</td><td>704</td><td>707</td><td>0</td><td>0.381156</td><td>0.618844</td></tr>\n",
       "    <tr><td class='row_index'>1</td><td>24002</td><td>60000</td><td>male</td><td>university</td><td>single</td><td>26</td><td>use of revolving credit</td><td>use of revolving credit</td><td>use of revolving credit</td><td>use of revolving credit</td><td class=vellipsis>&hellip;</td><td>3000</td><td>1120</td><td>1</td><td>0.889522</td><td>0.110478</td></tr>\n",
       "    <tr><td class='row_index'>2</td><td>24003</td><td>400000</td><td>male</td><td>university</td><td>single</td><td>27</td><td>use of revolving credit</td><td>use of revolving credit</td><td>use of revolving credit</td><td>use of revolving credit</td><td class=vellipsis>&hellip;</td><td>510</td><td>959</td><td>0</td><td>0.890023</td><td>0.109977</td></tr>\n",
       "    <tr><td class='row_index'>3</td><td>24004</td><td>20000</td><td>male</td><td>other</td><td>single</td><td>27</td><td>5 month delay</td><td>4 month delay</td><td>3 month delay</td><td>2 month delay</td><td class=vellipsis>&hellip;</td><td>0</td><td>0</td><td>0</td><td>0.369731</td><td>0.630269</td></tr>\n",
       "    <tr><td class='row_index'>4</td><td>24005</td><td>50000</td><td>male</td><td>high school</td><td>single</td><td>27</td><td>use of revolving credit</td><td>use of revolving credit</td><td>no consumption</td><td>no consumption</td><td class=vellipsis>&hellip;</td><td>200</td><td>100</td><td>0</td><td>0.897837</td><td>0.102163</td></tr>\n",
       "  </tbody>\n",
       "  </table>\n",
       "  <div class='footer'>\n",
       "    <div class='frame_dimensions'>5 rows &times; 27 columns</div>\n",
       "  </div>\n",
       "</div>\n"
      ],
      "text/plain": []
     },
     "execution_count": 6,
     "metadata": {},
     "output_type": "execute_result"
    }
   ],
   "source": [
    "data_dt = dt.Frame(data)\n",
    "data_dt.head(n=5)"
   ]
  },
  {
   "cell_type": "code",
   "execution_count": 7,
   "metadata": {},
   "outputs": [],
   "source": [
    "def get_prroc_dt(frame, y, yhat, pos=1, neg=0, res=0.01):\n",
    "    \n",
    "    \"\"\" Calculates precision, recall, and f1 for a datatable of y and yhat values.\n",
    "    \n",
    "    Args:\n",
    "        frame: Datatable of actual (y) and predicted (yhat) values.\n",
    "        y: Name of actual value column.\n",
    "        yhat: Name of predicted value column.\n",
    "        pos: Primary target value, default 1.\n",
    "        neg: Secondary target value, default 0.\n",
    "        res: Resolution by which to loop through cutoffs, default 0.01.\n",
    "    \n",
    "    Returns:\n",
    "        Datatable of precision, recall, and f1 values. \n",
    "    \"\"\"\n",
    "    \n",
    "    frame_ = frame # don't destroy original data\n",
    "    dname = 'd_' + str(y) # column for predicted decisions\n",
    "    eps = 1e-20 # for safe numerical operations\n",
    "    \n",
    "    # init p-r roc frame\n",
    "    prroc_frame = dt.Frame({\"cutoff\" : [], \"recall\" : [], \"precision\" : [], \"f1\" : []})\n",
    "    \n",
    "    # loop through cutoffs to create p-r roc frame\n",
    "    for cutoff in np.arange(0, 1 + res, res):\n",
    "\n",
    "        # binarize decision to create confusion matrix values                      \n",
    "        frame_[:, dname] = 0; \n",
    "        frame_[f[yhat] > cutoff, dname] = 1\n",
    "\n",
    "        # calculate confusion matrix values\n",
    "        tp = frame_[(f[dname] == pos) & (f[y] == pos), :].shape[0]\n",
    "        fp = frame_[(f[dname] == pos) & (f[y] == neg), :].shape[0]\n",
    "        tn = frame_[(f[dname] == neg) & (f[y] == neg), :].shape[0]\n",
    "        fn = frame_[(f[dname] == neg) & (f[y] == pos), :].shape[0]\n",
    "        \n",
    "        # calculate precision, recall, and f1\n",
    "        recall = (tp + eps)/((tp + fn) + eps)\n",
    "        precision = (tp + eps)/((tp + fp) + eps)\n",
    "        f1 = 2/((1/(recall + eps)) + (1/(precision + eps)))\n",
    "        \n",
    "        # add new values to frame\n",
    "        prroc_frame.rbind(dt.Frame({'cutoff': [cutoff], \n",
    "                                                 'recall': [recall],\n",
    "                                                 'precision': [precision],\n",
    "                                                 'f1': [f1]}))\n",
    "    \n",
    "    return prroc_frame\n",
    "        \n",
    "prroc_frame = get_prroc_dt(data_dt, 'DEFAULT_NEXT_MONTH', 'p_DEFAULT_NEXT_MONTH_1')"
   ]
  },
  {
   "cell_type": "markdown",
   "metadata": {},
   "source": [
    "#### Select best cutoff by using get_prroc()"
   ]
  },
  {
   "cell_type": "code",
   "execution_count": 8,
   "metadata": {},
   "outputs": [
    {
     "name": "stdout",
     "output_type": "stream",
     "text": [
      "0.25\n"
     ]
    }
   ],
   "source": [
    "from datatable import max\n",
    "best_cut = prroc_frame[f.f1 == max(f.f1),:][:,f.cutoff][0,0]\n",
    "print('%.2f' % best_cut)"
   ]
  },
  {
   "cell_type": "markdown",
   "metadata": {},
   "source": [
    "#### Plot AUC-PR Curve\n",
    "\n",
    "An area under the curve for precision and recall (AUC-PR) plot is a typical way to visualize recall and precision for a predictive model. The F1 statistic is the harmonic mean of recall and precision, and we can visualize where F1 is maximized on with the AUC-PR curve."
   ]
  },
  {
   "cell_type": "code",
   "execution_count": 9,
   "metadata": {},
   "outputs": [
    {
     "data": {
      "image/png": "[encoded data removed]",
      "text/plain": [
       "<Figure size 432x288 with 1 Axes>"
      ]
     },
     "metadata": {
      "needs_background": "light"
     },
     "output_type": "display_data"
    }
   ],
   "source": [
    "# Plot P-R ROC w/ best cutoff\n",
    "title_ = 'P-R Curve: Best F1 = ' + str(best_cut)\n",
    "ax = prroc_frame.to_pandas().plot(x='recall', y='precision', kind='scatter', title=title_, xlim=[0,1])\n",
    "_ = ax.axvline(best_cut, color='r')"
   ]
  },
  {
   "cell_type": "markdown",
   "metadata": {},
   "source": [
    "# 4. Report Raw Confusion Matrices\n",
    "\n",
    "The basic DIA procedure in this notebook is based on measurements found commonly in confusion matrices, so confusion matrices are calculated as a precursor to DIA and to provide a basic summary of the DAI model's behavior in general and across eduction levels."
   ]
  },
  {
   "cell_type": "markdown",
   "metadata": {},
   "source": [
    "#### Functions to print confusion matrices by an input variable"
   ]
  },
  {
   "cell_type": "code",
   "execution_count": 10,
   "metadata": {},
   "outputs": [
    {
     "name": "stdout",
     "output_type": "stream",
     "text": [
      "Confusion matrix:\n"
     ]
    },
    {
     "data": {
      "text/html": [
       "<div>\n",
       "<style scoped>\n",
       "    .dataframe tbody tr th:only-of-type {\n",
       "        vertical-align: middle;\n",
       "    }\n",
       "\n",
       "    .dataframe tbody tr th {\n",
       "        vertical-align: top;\n",
       "    }\n",
       "\n",
       "    .dataframe thead th {\n",
       "        text-align: right;\n",
       "    }\n",
       "</style>\n",
       "<table border=\"1\" class=\"dataframe\">\n",
       "  <thead>\n",
       "    <tr style=\"text-align: right;\">\n",
       "      <th></th>\n",
       "      <th>actual: 1</th>\n",
       "      <th>actual: 0</th>\n",
       "    </tr>\n",
       "  </thead>\n",
       "  <tbody>\n",
       "    <tr>\n",
       "      <th>predicted: 1</th>\n",
       "      <td>743.0</td>\n",
       "      <td>523.0</td>\n",
       "    </tr>\n",
       "    <tr>\n",
       "      <th>predicted: 0</th>\n",
       "      <td>694.0</td>\n",
       "      <td>4040.0</td>\n",
       "    </tr>\n",
       "  </tbody>\n",
       "</table>\n",
       "</div>"
      ],
      "text/plain": [
       "              actual: 1  actual: 0\n",
       "predicted: 1      743.0      523.0\n",
       "predicted: 0      694.0     4040.0"
      ]
     },
     "execution_count": 10,
     "metadata": {},
     "output_type": "execute_result"
    }
   ],
   "source": [
    "def get_confusion_matrix_dt(frame, y, yhat, by=None, level=None, cutoff=0.5, convert_to_pandas=False):\n",
    "    \"\"\" Creates confusion matrix from a datatable of y and yhat values, can be sliced \n",
    "    by a variable and level.\n",
    "    \n",
    "    Args:\n",
    "        frame: Datatable of actual (y) and predicted (yhat) values.\n",
    "        y: Name of actual value column.\n",
    "        yhat: Name of predicted value column.\n",
    "        by: By variable to slice frame before creating confusion matrix, default None.\n",
    "        level: Value of by variable to slice frame before creating confusion matrix, default None.\n",
    "        cutoff: Cutoff threshold for confusion matrix, default 0.5. \n",
    "\n",
    "    Returns:\n",
    "        Confusion matrix as datatable \n",
    "    \"\"\"\n",
    "    level_list = dt.unique(frame[:,y]).to_list()[0]\n",
    "    level_list.sort(reverse=True)\n",
    "    cm_frame = dt.Frame({\"actual\" + str(level_list[0]) : [np.nan], \"actual\" + str(level_list[1]) : [np.nan]})\n",
    "    cm_frame.rbind(cm_frame)\n",
    "    \n",
    "    # Do not destroy original data\n",
    "    frame_ = frame\n",
    "\n",
    "    dname = 'd_' + str(y)\n",
    "    frame_[:, dname] = 0; \n",
    "    frame_[f[yhat] > cutoff, dname] = 1\n",
    "\n",
    "    if (by is not None) & (level is not None):\n",
    "        frame_ = frame_[f[by] == level,:]\n",
    "    # calculate size of each confusion matrix value\n",
    "    for i, lev_i in enumerate(level_list):\n",
    "        for j, lev_j in enumerate(level_list):\n",
    "            cm_frame[i, j] = frame_[(f[y] == lev_i) & (f[dname] == lev_j), :].shape[0]\n",
    "    # output results\n",
    "    if by is None:\n",
    "        print('Confusion matrix:')\n",
    "    else:\n",
    "        print('Confusion matrix by ' + by + '=' + level)\n",
    "    \n",
    "    if convert_to_pandas:\n",
    "        cm_frame = cm_frame.to_pandas()\n",
    "        cm_frame.columns = [\"actual: \" + str(i) for i in level_list]\n",
    "        cm_frame.index = [\"predicted: \" + str(i) for i in level_list]\n",
    "    \n",
    "    return cm_frame\n",
    "\n",
    "get_confusion_matrix_dt(data_dt, 'DEFAULT_NEXT_MONTH', 'p_DEFAULT_NEXT_MONTH_1', cutoff=best_cut, convert_to_pandas=True)"
   ]
  },
  {
   "cell_type": "markdown",
   "metadata": {},
   "source": [
    "The general confusion matrix shows that the DAI model is more accurate than not because the true positive and true negative cells contain the largest values by far. But the DAI model seems to make a large number of type I errors or false positive predictions. False positives are a known disparity issue, because for complex reasons, many credit scoring and other models tend to overestimate the likelihood a reference group to default. This is both a sociological fairness problem and a financial problem if a group is not getting loans they really deserve."
   ]
  },
  {
   "cell_type": "markdown",
   "metadata": {},
   "source": [
    "#### Report confusion matrices by SEX\n",
    "\n",
    "Because race is unavailable in the UCI credit card data set, `SEX` level will be used to perform DIA."
   ]
  },
  {
   "cell_type": "code",
   "execution_count": 11,
   "metadata": {},
   "outputs": [
    {
     "data": {
      "text/plain": [
       "['female', 'male']"
      ]
     },
     "execution_count": 11,
     "metadata": {},
     "output_type": "execute_result"
    }
   ],
   "source": [
    "sex_levels = dt.unique(data_dt[:,'SEX']).to_list()[0]\n",
    "sex_levels"
   ]
  },
  {
   "cell_type": "markdown",
   "metadata": {},
   "source": [
    "#### Confusion matrix for `SEX = male`"
   ]
  },
  {
   "cell_type": "code",
   "execution_count": 12,
   "metadata": {},
   "outputs": [
    {
     "name": "stdout",
     "output_type": "stream",
     "text": [
      "Confusion matrix by SEX=male\n"
     ]
    },
    {
     "data": {
      "text/html": [
       "<div>\n",
       "<style scoped>\n",
       "    .dataframe tbody tr th:only-of-type {\n",
       "        vertical-align: middle;\n",
       "    }\n",
       "\n",
       "    .dataframe tbody tr th {\n",
       "        vertical-align: top;\n",
       "    }\n",
       "\n",
       "    .dataframe thead th {\n",
       "        text-align: right;\n",
       "    }\n",
       "</style>\n",
       "<table border=\"1\" class=\"dataframe\">\n",
       "  <thead>\n",
       "    <tr style=\"text-align: right;\">\n",
       "      <th></th>\n",
       "      <th>actual: 1</th>\n",
       "      <th>actual: 0</th>\n",
       "    </tr>\n",
       "  </thead>\n",
       "  <tbody>\n",
       "    <tr>\n",
       "      <th>predicted: 1</th>\n",
       "      <td>400.0</td>\n",
       "      <td>286.0</td>\n",
       "    </tr>\n",
       "    <tr>\n",
       "      <th>predicted: 0</th>\n",
       "      <td>354.0</td>\n",
       "      <td>1926.0</td>\n",
       "    </tr>\n",
       "  </tbody>\n",
       "</table>\n",
       "</div>"
      ],
      "text/plain": [
       "              actual: 1  actual: 0\n",
       "predicted: 1      400.0      286.0\n",
       "predicted: 0      354.0     1926.0"
      ]
     },
     "execution_count": 12,
     "metadata": {},
     "output_type": "execute_result"
    }
   ],
   "source": [
    "male_cm_dt = get_confusion_matrix_dt(data_dt, 'DEFAULT_NEXT_MONTH', 'p_DEFAULT_NEXT_MONTH_1', by='SEX', level='male', \n",
    "                                     cutoff=best_cut, convert_to_pandas=True)\n",
    "male_cm_dt"
   ]
  },
  {
   "cell_type": "markdown",
   "metadata": {},
   "source": [
    "#### Confusion matrix for `SEX = female`"
   ]
  },
  {
   "cell_type": "code",
   "execution_count": 13,
   "metadata": {},
   "outputs": [
    {
     "name": "stdout",
     "output_type": "stream",
     "text": [
      "Confusion matrix by SEX=female\n"
     ]
    },
    {
     "data": {
      "text/html": [
       "<div>\n",
       "<style scoped>\n",
       "    .dataframe tbody tr th:only-of-type {\n",
       "        vertical-align: middle;\n",
       "    }\n",
       "\n",
       "    .dataframe tbody tr th {\n",
       "        vertical-align: top;\n",
       "    }\n",
       "\n",
       "    .dataframe thead th {\n",
       "        text-align: right;\n",
       "    }\n",
       "</style>\n",
       "<table border=\"1\" class=\"dataframe\">\n",
       "  <thead>\n",
       "    <tr style=\"text-align: right;\">\n",
       "      <th></th>\n",
       "      <th>actual: 1</th>\n",
       "      <th>actual: 0</th>\n",
       "    </tr>\n",
       "  </thead>\n",
       "  <tbody>\n",
       "    <tr>\n",
       "      <th>predicted: 1</th>\n",
       "      <td>343.0</td>\n",
       "      <td>237.0</td>\n",
       "    </tr>\n",
       "    <tr>\n",
       "      <th>predicted: 0</th>\n",
       "      <td>340.0</td>\n",
       "      <td>2114.0</td>\n",
       "    </tr>\n",
       "  </tbody>\n",
       "</table>\n",
       "</div>"
      ],
      "text/plain": [
       "              actual: 1  actual: 0\n",
       "predicted: 1      343.0      237.0\n",
       "predicted: 0      340.0     2114.0"
      ]
     },
     "execution_count": 13,
     "metadata": {},
     "output_type": "execute_result"
    }
   ],
   "source": [
    "female_cm_dt = get_confusion_matrix_dt(data_dt, 'DEFAULT_NEXT_MONTH', 'p_DEFAULT_NEXT_MONTH_1', by='SEX', level='female', \n",
    "                                       cutoff=best_cut, convert_to_pandas=True)\n",
    "female_cm_dt"
   ]
  },
  {
   "cell_type": "markdown",
   "metadata": {},
   "source": [
    "# 5. Disparate Impact Analysis (DIA)"
   ]
  },
  {
   "cell_type": "markdown",
   "metadata": {},
   "source": [
    "To perform the following basic DIA many different values from the confusion matrices reflecting different prediction behavior are calculated. These metrics essentially help us understand the DAI models overall performance and how it behaves when predicting:\n",
    "\n",
    "* Default correctly\n",
    "* Non-default correctly\n",
    "* Default incorrectly (type I errors)\n",
    "* Non-default incorrectly (type II errors)\n",
    "\n",
    "In a real-life lending scenario, type I errors essentially amount to false accusations of financial impropriety and type II errors result in awarding loans to undeserving customers. Both types of errors can be costly to the lender too. Type I errors likely result in lost interest and fees. Type II errors often result in write-offs."
   ]
  },
  {
   "cell_type": "markdown",
   "metadata": {},
   "source": [
    "#### Dictionary of metrics used to assess parity"
   ]
  },
  {
   "cell_type": "code",
   "execution_count": 14,
   "metadata": {},
   "outputs": [],
   "source": [
    "# represent metrics as dictionary for use later\n",
    "metric_dict = {\n",
    "\n",
    "#### overall performance\n",
    "#'Prevalence': '(tp + fn) / (tp + tn +fp + fn)', # how much default actually happens for this group\n",
    "'Adverse Impact': '(tp + fp) / (tp + tn + fp + fn)', # how often the model predicted default for each group \n",
    "'Accuracy':   '(tp + tn) / (tp + tn +fp + fn)', # how often the model predicts default and non-default correctly for this group\n",
    "\n",
    "#### predicting default will happen\n",
    "# (correctly)\n",
    "'True Positive Rate': 'tp / (tp + fn)',  # out of the people in the group *that did* default, how many the model predicted *correctly* would default              \n",
    "'Precision':          'tp / (tp + fp)',  # out of the people in the group the model *predicted* would default, how many the model predicted *correctly* would default\n",
    "\n",
    "#### predicting default won't happen\n",
    "# (correctly)\n",
    "'Specificity':              'tn / (tn + fp)', # out of the people in the group *that did not* default, how many the model predicted *correctly* would not default\n",
    "'Negative Predicted Value': 'tn / (tn + fn)', # out of the people in the group the model *predicted* would not default, how many the model predicted *correctly* would not default  \n",
    "\n",
    "#### analyzing errors - type I\n",
    "# false accusations \n",
    "'False Positive Rate':  'fp / (tn + fp)', # out of the people in the group *that did not* default, how many the model predicted *incorrectly* would default\n",
    "'False Discovery Rate': 'fp / (tp + fp)', # out of the people in the group the model *predicted* would default, how many the model predicted *incorrectly* would default\n",
    "\n",
    "#### analyzing errors - type II\n",
    "# costly ommisions\n",
    "'False Negative Rate': 'fn / (tp + fn)', # out of the people in the group *that did* default, how many the model predicted *incorrectly* would not default\n",
    "'False Omissions Rate':'fn / (tn + fn)'  # out of the people in the group the model *predicted* would not default, how many the model predicted *incorrectly* would not default\n",
    "}    "
   ]
  },
  {
   "cell_type": "markdown",
   "metadata": {},
   "source": [
    "#### Utility function to translate metrics into Pandas statements"
   ]
  },
  {
   "cell_type": "code",
   "execution_count": 15,
   "metadata": {},
   "outputs": [],
   "source": [
    "# small utility function\n",
    "# translates abbreviated metric expressions into executable Python statements\n",
    "\n",
    "def cm_exp_parser(expression):\n",
    "    \n",
    "    # tp | fp       cm_dict[level].iat[0, 0] | cm_dict[level].iat[0, 1]\n",
    "    # -------  ==>  --------------------------------------------\n",
    "    # fn | tn       cm_dict[level].iat[1, 0] | cm_dict[level].iat[1, 1]\n",
    "\n",
    "    expression = expression.replace('tp', 'cm_dict[level][0, 0]')\\\n",
    "                           .replace('fp', 'cm_dict[level][0, 1]')\\\n",
    "                           .replace('fn', 'cm_dict[level][1, 0]')\\\n",
    "                           .replace('tn', 'cm_dict[level][1, 1]')\n",
    "\n",
    "    return expression\n"
   ]
  },
  {
   "cell_type": "markdown",
   "metadata": {},
   "source": [
    "#### Calculate and report metrics\n",
    "This nested loop calculates all the metrics defined above for each gender level."
   ]
  },
  {
   "cell_type": "code",
   "execution_count": 16,
   "metadata": {},
   "outputs": [
    {
     "data": {
      "text/html": [
       "<div class='datatable'>\n",
       "  <table class='frame'>\n",
       "  <thead>\n",
       "    <tr class='colnames'><td class='row_index'></td><th>Groups</th><th>Adverse Impact</th><th>Accuracy</th><th>True Positive Rate</th><th>Precision</th><th>Specificity</th><th>Negative Predicted Value</th><th>False Positive Rate</th><th>False Discovery Rate</th><th>False Negative Rate</th><th>False Omissions Rate</th></tr>\n",
       "    <tr class='coltypes'><td class='row_index'></td><td class='str' title='str32'>&#x25AA;&#x25AA;&#x25AA;&#x25AA;</td><td class='real' title='float32'>&#x25AA;&#x25AA;&#x25AA;&#x25AA;</td><td class='real' title='float32'>&#x25AA;&#x25AA;&#x25AA;&#x25AA;</td><td class='real' title='float32'>&#x25AA;&#x25AA;&#x25AA;&#x25AA;</td><td class='real' title='float32'>&#x25AA;&#x25AA;&#x25AA;&#x25AA;</td><td class='real' title='float32'>&#x25AA;&#x25AA;&#x25AA;&#x25AA;</td><td class='real' title='float32'>&#x25AA;&#x25AA;&#x25AA;&#x25AA;</td><td class='real' title='float32'>&#x25AA;&#x25AA;&#x25AA;&#x25AA;</td><td class='real' title='float32'>&#x25AA;&#x25AA;&#x25AA;&#x25AA;</td><td class='real' title='float32'>&#x25AA;&#x25AA;&#x25AA;&#x25AA;</td><td class='real' title='float32'>&#x25AA;&#x25AA;&#x25AA;&#x25AA;</td></tr>\n",
       "  </thead>\n",
       "  <tbody>\n",
       "    <tr><td class='row_index'>0</td><td>female</td><td>0.191167</td><td>0.809822</td><td>0.502196</td><td>0.591379</td><td>0.899192</td><td>0.861451</td><td>0.100808</td><td>0.408621</td><td>0.497804</td><td>0.138549</td></tr>\n",
       "    <tr><td class='row_index'>1</td><td>male</td><td>0.231288</td><td>0.784221</td><td>0.530504</td><td>0.58309</td><td>0.870705</td><td>0.844737</td><td>0.129295</td><td>0.41691</td><td>0.469496</td><td>0.155263</td></tr>\n",
       "  </tbody>\n",
       "  </table>\n",
       "  <div class='footer'>\n",
       "    <div class='frame_dimensions'>2 rows &times; 11 columns</div>\n",
       "  </div>\n",
       "</div>\n"
      ],
      "text/plain": []
     },
     "execution_count": 16,
     "metadata": {},
     "output_type": "execute_result"
    }
   ],
   "source": [
    "# initialize dict of confusion matrices and corresponding rows of dataframe\n",
    "cm_dict = {'male': dt.Frame(male_cm_dt), \n",
    "           'female': dt.Frame(female_cm_dt)} \n",
    "\n",
    "metrics = dt.Frame(names=list(metric_dict.keys()), stypes = [dt.stype.float32] * len(list(metric_dict.keys())))\n",
    "metrics.nrows=len(sex_levels)\n",
    "groups = dt.Frame(Groups=sex_levels)\n",
    "# nested loop through:\n",
    "# - gender levels\n",
    "# - metrics \n",
    "for i, level in enumerate(sex_levels):\n",
    "    for j, metric in enumerate(metric_dict.keys()):\n",
    "        # parse metric expressions into executable pandas statements\n",
    "        expression = cm_exp_parser(metric_dict[metric])\n",
    "        # dynamically evaluate metrics to avoid code duplication\n",
    "        metrics[i, j] = eval(expression)\n",
    "\n",
    "# display results                \n",
    "metrics_frame = dt.cbind(groups, metrics)\n",
    "metrics_frame.head()"
   ]
  },
  {
   "cell_type": "markdown",
   "metadata": {},
   "source": [
    "From eyeballing the raw metrics we can start to see very few disparity problems except for `False Positive Rate` and `Specificity`. However, these do not show a big difference between gender groups."
   ]
  },
  {
   "cell_type": "markdown",
   "metadata": {},
   "source": [
    "#### Plot false negative rate by sex level "
   ]
  },
  {
   "cell_type": "code",
   "execution_count": 17,
   "metadata": {},
   "outputs": [
    {
     "data": {
      "image/png": "[encoded data removed]",
      "text/plain": [
       "<Figure size 432x288 with 1 Axes>"
      ]
     },
     "metadata": {
      "needs_background": "light"
     },
     "output_type": "display_data"
    }
   ],
   "source": [
    "# Convert datatable to Pandas for plotting\n",
    "metrics_frame_pandas = metrics_frame.to_pandas()\n",
    "metrics_frame_pandas.index = metrics_frame_pandas[\"Groups\"].values\n",
    "metrics_frame_pandas.drop(\"Groups\", axis=1, inplace=True)\n",
    "_ = metrics_frame_pandas['False Negative Rate'].plot(kind='bar', color='b', title='False Negative Rate by SEX Level')"
   ]
  },
  {
   "cell_type": "markdown",
   "metadata": {},
   "source": [
    "#### Plot false positive rate by sex level "
   ]
  },
  {
   "cell_type": "code",
   "execution_count": 18,
   "metadata": {},
   "outputs": [
    {
     "data": {
      "image/png": "[encoded data removed]",
      "text/plain": [
       "<Figure size 432x288 with 1 Axes>"
      ]
     },
     "metadata": {
      "needs_background": "light"
     },
     "output_type": "display_data"
    }
   ],
   "source": [
    "__ = metrics_frame_pandas['False Positive Rate'].plot(kind='bar', color='b', title='False Positive Rate by SEX Level')"
   ]
  },
  {
   "cell_type": "markdown",
   "metadata": {},
   "source": [
    "#### Calculate and report disparity\n",
    "To calculate disparity we compare the confusion matrix for each sex level to the metrics for a user-defined reference level and to user-defined thresholds. In this case, we take the class of people who seem least likely to default as the reference level, i.e. `SEX = male`.We set thresholds such that metrics 20% lower or higher than the reference level metric will be flagged as disparate. "
   ]
  },
  {
   "cell_type": "code",
   "execution_count": 19,
   "metadata": {},
   "outputs": [
    {
     "data": {
      "text/html": [
       "<style  type=\"text/css\" >\n",
       "    #T_9f6f70be_78e0_11e9_a0f1_acbc32b44307row0_col0 {\n",
       "            color:  blue;\n",
       "        }    #T_9f6f70be_78e0_11e9_a0f1_acbc32b44307row0_col1 {\n",
       "            color:  blue;\n",
       "        }    #T_9f6f70be_78e0_11e9_a0f1_acbc32b44307row0_col2 {\n",
       "            color:  blue;\n",
       "        }    #T_9f6f70be_78e0_11e9_a0f1_acbc32b44307row0_col3 {\n",
       "            color:  blue;\n",
       "        }    #T_9f6f70be_78e0_11e9_a0f1_acbc32b44307row0_col4 {\n",
       "            color:  blue;\n",
       "        }    #T_9f6f70be_78e0_11e9_a0f1_acbc32b44307row0_col5 {\n",
       "            color:  blue;\n",
       "        }    #T_9f6f70be_78e0_11e9_a0f1_acbc32b44307row0_col6 {\n",
       "            color:  red;\n",
       "        }    #T_9f6f70be_78e0_11e9_a0f1_acbc32b44307row0_col7 {\n",
       "            color:  blue;\n",
       "        }    #T_9f6f70be_78e0_11e9_a0f1_acbc32b44307row0_col8 {\n",
       "            color:  blue;\n",
       "        }    #T_9f6f70be_78e0_11e9_a0f1_acbc32b44307row0_col9 {\n",
       "            color:  blue;\n",
       "        }    #T_9f6f70be_78e0_11e9_a0f1_acbc32b44307row1_col0 {\n",
       "            color:  blue;\n",
       "        }    #T_9f6f70be_78e0_11e9_a0f1_acbc32b44307row1_col1 {\n",
       "            color:  blue;\n",
       "        }    #T_9f6f70be_78e0_11e9_a0f1_acbc32b44307row1_col2 {\n",
       "            color:  blue;\n",
       "        }    #T_9f6f70be_78e0_11e9_a0f1_acbc32b44307row1_col3 {\n",
       "            color:  blue;\n",
       "        }    #T_9f6f70be_78e0_11e9_a0f1_acbc32b44307row1_col4 {\n",
       "            color:  blue;\n",
       "        }    #T_9f6f70be_78e0_11e9_a0f1_acbc32b44307row1_col5 {\n",
       "            color:  blue;\n",
       "        }    #T_9f6f70be_78e0_11e9_a0f1_acbc32b44307row1_col6 {\n",
       "            color:  blue;\n",
       "        }    #T_9f6f70be_78e0_11e9_a0f1_acbc32b44307row1_col7 {\n",
       "            color:  blue;\n",
       "        }    #T_9f6f70be_78e0_11e9_a0f1_acbc32b44307row1_col8 {\n",
       "            color:  blue;\n",
       "        }    #T_9f6f70be_78e0_11e9_a0f1_acbc32b44307row1_col9 {\n",
       "            color:  blue;\n",
       "        }</style>  \n",
       "<table id=\"T_9f6f70be_78e0_11e9_a0f1_acbc32b44307\" > \n",
       "<thead>    <tr> \n",
       "        <th class=\"blank level0\" ></th> \n",
       "        <th class=\"col_heading level0 col0\" >Adverse Impact_Disparity</th> \n",
       "        <th class=\"col_heading level0 col1\" >Accuracy_Disparity</th> \n",
       "        <th class=\"col_heading level0 col2\" >True Positive Rate_Disparity</th> \n",
       "        <th class=\"col_heading level0 col3\" >Precision_Disparity</th> \n",
       "        <th class=\"col_heading level0 col4\" >Specificity_Disparity</th> \n",
       "        <th class=\"col_heading level0 col5\" >Negative Predicted Value_Disparity</th> \n",
       "        <th class=\"col_heading level0 col6\" >False Positive Rate_Disparity</th> \n",
       "        <th class=\"col_heading level0 col7\" >False Discovery Rate_Disparity</th> \n",
       "        <th class=\"col_heading level0 col8\" >False Negative Rate_Disparity</th> \n",
       "        <th class=\"col_heading level0 col9\" >False Omissions Rate_Disparity</th> \n",
       "    </tr></thead> \n",
       "<tbody>    <tr> \n",
       "        <th id=\"T_9f6f70be_78e0_11e9_a0f1_acbc32b44307level0_row0\" class=\"row_heading level0 row0\" >female</th> \n",
       "        <td id=\"T_9f6f70be_78e0_11e9_a0f1_acbc32b44307row0_col0\" class=\"data row0 col0\" >0.826532</td> \n",
       "        <td id=\"T_9f6f70be_78e0_11e9_a0f1_acbc32b44307row0_col1\" class=\"data row0 col1\" >1.03264</td> \n",
       "        <td id=\"T_9f6f70be_78e0_11e9_a0f1_acbc32b44307row0_col2\" class=\"data row0 col2\" >0.94664</td> \n",
       "        <td id=\"T_9f6f70be_78e0_11e9_a0f1_acbc32b44307row0_col3\" class=\"data row0 col3\" >1.01422</td> \n",
       "        <td id=\"T_9f6f70be_78e0_11e9_a0f1_acbc32b44307row0_col4\" class=\"data row0 col4\" >1.03272</td> \n",
       "        <td id=\"T_9f6f70be_78e0_11e9_a0f1_acbc32b44307row0_col5\" class=\"data row0 col5\" >1.01979</td> \n",
       "        <td id=\"T_9f6f70be_78e0_11e9_a0f1_acbc32b44307row0_col6\" class=\"data row0 col6\" >0.779677</td> \n",
       "        <td id=\"T_9f6f70be_78e0_11e9_a0f1_acbc32b44307row0_col7\" class=\"data row0 col7\" >0.980118</td> \n",
       "        <td id=\"T_9f6f70be_78e0_11e9_a0f1_acbc32b44307row0_col8\" class=\"data row0 col8\" >1.06029</td> \n",
       "        <td id=\"T_9f6f70be_78e0_11e9_a0f1_acbc32b44307row0_col9\" class=\"data row0 col9\" >0.892352</td> \n",
       "    </tr>    <tr> \n",
       "        <th id=\"T_9f6f70be_78e0_11e9_a0f1_acbc32b44307level0_row1\" class=\"row_heading level0 row1\" >male</th> \n",
       "        <td id=\"T_9f6f70be_78e0_11e9_a0f1_acbc32b44307row1_col0\" class=\"data row1 col0\" >1</td> \n",
       "        <td id=\"T_9f6f70be_78e0_11e9_a0f1_acbc32b44307row1_col1\" class=\"data row1 col1\" >1</td> \n",
       "        <td id=\"T_9f6f70be_78e0_11e9_a0f1_acbc32b44307row1_col2\" class=\"data row1 col2\" >1</td> \n",
       "        <td id=\"T_9f6f70be_78e0_11e9_a0f1_acbc32b44307row1_col3\" class=\"data row1 col3\" >1</td> \n",
       "        <td id=\"T_9f6f70be_78e0_11e9_a0f1_acbc32b44307row1_col4\" class=\"data row1 col4\" >1</td> \n",
       "        <td id=\"T_9f6f70be_78e0_11e9_a0f1_acbc32b44307row1_col5\" class=\"data row1 col5\" >1</td> \n",
       "        <td id=\"T_9f6f70be_78e0_11e9_a0f1_acbc32b44307row1_col6\" class=\"data row1 col6\" >1</td> \n",
       "        <td id=\"T_9f6f70be_78e0_11e9_a0f1_acbc32b44307row1_col7\" class=\"data row1 col7\" >1</td> \n",
       "        <td id=\"T_9f6f70be_78e0_11e9_a0f1_acbc32b44307row1_col8\" class=\"data row1 col8\" >1</td> \n",
       "        <td id=\"T_9f6f70be_78e0_11e9_a0f1_acbc32b44307row1_col9\" class=\"data row1 col9\" >1</td> \n",
       "    </tr></tbody> \n",
       "</table> "
      ],
      "text/plain": [
       "<pandas.io.formats.style.Styler at 0x11381a160>"
      ]
     },
     "execution_count": 19,
     "metadata": {},
     "output_type": "execute_result"
    }
   ],
   "source": [
    "ref_level = 'male' # user-defined reference level\n",
    "\n",
    "parity_threshold_low = 0.8    # user-defined low threshold value\n",
    "parity_threshold_hi = 1.25    # user-defined high threshold value\n",
    "\n",
    "ref_group = metrics_frame[f.Groups == ref_level,:]\n",
    "ref_group = ref_group[:,list(metric_dict.keys())]\n",
    "\n",
    "disp_col_names = columns=[col + '_Disparity' for col in list(metric_dict.keys())]\n",
    "disp_frame = metrics_frame[:,list(metric_dict.keys())]\n",
    "\n",
    "for disparity_measure in disp_col_names:\n",
    "    measure = disparity_measure.rsplit('_', 1)[0]\n",
    "    ref_group[:,f[measure]][0,0]\n",
    "    disp_frame[:,disparity_measure] = disp_frame[:,f[measure]/ref_group[:,f[measure]][0,0]]\n",
    "disp_frame\n",
    "\n",
    "# small utility function to format pandas table output\n",
    "def disparate_red(val):\n",
    "   \n",
    "   color = 'blue' if (parity_threshold_low < val < parity_threshold_hi) else 'red'\n",
    "   return 'color: %s' % color \n",
    "\n",
    "disp_frame = disp_frame[:,disp_col_names]\n",
    "disp_frame_pd = disp_frame.to_pandas()\n",
    "disp_frame_pd.index =sex_levels\n",
    "disp_frame_pd.head()\n",
    "# display results\n",
    "disp_frame_pd.style.applymap(disparate_red)"
   ]
  },
  {
   "cell_type": "markdown",
   "metadata": {},
   "source": [
    "For the selected thresholds, the DAI model appears to have only one disparate value for `False Positive Rate`. However, the disparity is quite small."
   ]
  },
  {
   "cell_type": "markdown",
   "metadata": {},
   "source": [
    "#### Plot false positive rate disparity"
   ]
  },
  {
   "cell_type": "code",
   "execution_count": 20,
   "metadata": {},
   "outputs": [
    {
     "data": {
      "image/png": "[encoded data removed]",
      "text/plain": [
       "<Figure size 432x288 with 1 Axes>"
      ]
     },
     "metadata": {
      "needs_background": "light"
     },
     "output_type": "display_data"
    }
   ],
   "source": [
    "ax = disp_frame_pd['False Positive Rate_Disparity'].plot(kind='bar', color='b', title='False Positive Rate Disparity by SEX Level')\n",
    "_ = ax.axhline(parity_threshold_low, color='r', linestyle='--')\n",
    "_ = ax.axhline(parity_threshold_hi, color='r', linestyle='--')"
   ]
  },
  {
   "cell_type": "markdown",
   "metadata": {},
   "source": [
    "#### Plot false negative rate disparity"
   ]
  },
  {
   "cell_type": "code",
   "execution_count": 21,
   "metadata": {},
   "outputs": [
    {
     "data": {
      "image/png": "[encoded data removed]",
      "text/plain": [
       "<Figure size 432x288 with 1 Axes>"
      ]
     },
     "metadata": {
      "needs_background": "light"
     },
     "output_type": "display_data"
    }
   ],
   "source": [
    "ax = disp_frame_pd['False Negative Rate_Disparity'].plot(kind='bar', color='b', title='False Negative Rate Disparity by SEX Level')\n",
    "_ = ax.axhline(parity_threshold_low, color='r', linestyle='--')\n",
    "_ = ax.axhline(parity_threshold_hi, color='r', linestyle='--')"
   ]
  },
  {
   "cell_type": "markdown",
   "metadata": {},
   "source": [
    "#### Assess and report parity\n",
    "A binary indication of parity for metrics is reported by simply checking whether disparity values are within the user-defined thresholds. Further parity indicators are defined as combinations of other disparity values:\n",
    "\n",
    "* Type I Parity: Fairness in both FDR Parity and FPR Parity\n",
    "* Type II Parity: Fairness in both FOR Parity and FNR Parity\n",
    "* Equalized Odds: Fairness in both FPR Parity and TPR Parity\n",
    "* Supervised Fairness: Fairness in both Type I and Type II Parity\n",
    "* Overall Fairness: Fairness across all parities for all metrics"
   ]
  },
  {
   "cell_type": "code",
   "execution_count": 22,
   "metadata": {},
   "outputs": [
    {
     "data": {
      "text/html": [
       "<style  type=\"text/css\" >\n",
       "    #T_9f9effbe_78e0_11e9_a9b6_acbc32b44307row0_col0 {\n",
       "            color:  blue;\n",
       "        }    #T_9f9effbe_78e0_11e9_a9b6_acbc32b44307row0_col1 {\n",
       "            color:  blue;\n",
       "        }    #T_9f9effbe_78e0_11e9_a9b6_acbc32b44307row0_col2 {\n",
       "            color:  blue;\n",
       "        }    #T_9f9effbe_78e0_11e9_a9b6_acbc32b44307row0_col3 {\n",
       "            color:  blue;\n",
       "        }    #T_9f9effbe_78e0_11e9_a9b6_acbc32b44307row0_col4 {\n",
       "            color:  blue;\n",
       "        }    #T_9f9effbe_78e0_11e9_a9b6_acbc32b44307row0_col5 {\n",
       "            color:  blue;\n",
       "        }    #T_9f9effbe_78e0_11e9_a9b6_acbc32b44307row0_col6 {\n",
       "            color:  red;\n",
       "        }    #T_9f9effbe_78e0_11e9_a9b6_acbc32b44307row0_col7 {\n",
       "            color:  blue;\n",
       "        }    #T_9f9effbe_78e0_11e9_a9b6_acbc32b44307row0_col8 {\n",
       "            color:  blue;\n",
       "        }    #T_9f9effbe_78e0_11e9_a9b6_acbc32b44307row0_col9 {\n",
       "            color:  blue;\n",
       "        }    #T_9f9effbe_78e0_11e9_a9b6_acbc32b44307row0_col10 {\n",
       "            color:  red;\n",
       "        }    #T_9f9effbe_78e0_11e9_a9b6_acbc32b44307row0_col11 {\n",
       "            color:  blue;\n",
       "        }    #T_9f9effbe_78e0_11e9_a9b6_acbc32b44307row0_col12 {\n",
       "            color:  red;\n",
       "        }    #T_9f9effbe_78e0_11e9_a9b6_acbc32b44307row0_col13 {\n",
       "            color:  red;\n",
       "        }    #T_9f9effbe_78e0_11e9_a9b6_acbc32b44307row0_col14 {\n",
       "            color:  red;\n",
       "        }    #T_9f9effbe_78e0_11e9_a9b6_acbc32b44307row1_col0 {\n",
       "            color:  blue;\n",
       "        }    #T_9f9effbe_78e0_11e9_a9b6_acbc32b44307row1_col1 {\n",
       "            color:  blue;\n",
       "        }    #T_9f9effbe_78e0_11e9_a9b6_acbc32b44307row1_col2 {\n",
       "            color:  blue;\n",
       "        }    #T_9f9effbe_78e0_11e9_a9b6_acbc32b44307row1_col3 {\n",
       "            color:  blue;\n",
       "        }    #T_9f9effbe_78e0_11e9_a9b6_acbc32b44307row1_col4 {\n",
       "            color:  blue;\n",
       "        }    #T_9f9effbe_78e0_11e9_a9b6_acbc32b44307row1_col5 {\n",
       "            color:  blue;\n",
       "        }    #T_9f9effbe_78e0_11e9_a9b6_acbc32b44307row1_col6 {\n",
       "            color:  blue;\n",
       "        }    #T_9f9effbe_78e0_11e9_a9b6_acbc32b44307row1_col7 {\n",
       "            color:  blue;\n",
       "        }    #T_9f9effbe_78e0_11e9_a9b6_acbc32b44307row1_col8 {\n",
       "            color:  blue;\n",
       "        }    #T_9f9effbe_78e0_11e9_a9b6_acbc32b44307row1_col9 {\n",
       "            color:  blue;\n",
       "        }    #T_9f9effbe_78e0_11e9_a9b6_acbc32b44307row1_col10 {\n",
       "            color:  blue;\n",
       "        }    #T_9f9effbe_78e0_11e9_a9b6_acbc32b44307row1_col11 {\n",
       "            color:  blue;\n",
       "        }    #T_9f9effbe_78e0_11e9_a9b6_acbc32b44307row1_col12 {\n",
       "            color:  blue;\n",
       "        }    #T_9f9effbe_78e0_11e9_a9b6_acbc32b44307row1_col13 {\n",
       "            color:  blue;\n",
       "        }    #T_9f9effbe_78e0_11e9_a9b6_acbc32b44307row1_col14 {\n",
       "            color:  blue;\n",
       "        }    #T_9f9effbe_78e0_11e9_a9b6_acbc32b44307row2_col0 {\n",
       "            color:  blue;\n",
       "        }    #T_9f9effbe_78e0_11e9_a9b6_acbc32b44307row2_col1 {\n",
       "            color:  blue;\n",
       "        }    #T_9f9effbe_78e0_11e9_a9b6_acbc32b44307row2_col2 {\n",
       "            color:  blue;\n",
       "        }    #T_9f9effbe_78e0_11e9_a9b6_acbc32b44307row2_col3 {\n",
       "            color:  blue;\n",
       "        }    #T_9f9effbe_78e0_11e9_a9b6_acbc32b44307row2_col4 {\n",
       "            color:  blue;\n",
       "        }    #T_9f9effbe_78e0_11e9_a9b6_acbc32b44307row2_col5 {\n",
       "            color:  blue;\n",
       "        }    #T_9f9effbe_78e0_11e9_a9b6_acbc32b44307row2_col6 {\n",
       "            color:  red;\n",
       "        }    #T_9f9effbe_78e0_11e9_a9b6_acbc32b44307row2_col7 {\n",
       "            color:  blue;\n",
       "        }    #T_9f9effbe_78e0_11e9_a9b6_acbc32b44307row2_col8 {\n",
       "            color:  blue;\n",
       "        }    #T_9f9effbe_78e0_11e9_a9b6_acbc32b44307row2_col9 {\n",
       "            color:  blue;\n",
       "        }    #T_9f9effbe_78e0_11e9_a9b6_acbc32b44307row2_col10 {\n",
       "            color:  red;\n",
       "        }    #T_9f9effbe_78e0_11e9_a9b6_acbc32b44307row2_col11 {\n",
       "            color:  blue;\n",
       "        }    #T_9f9effbe_78e0_11e9_a9b6_acbc32b44307row2_col12 {\n",
       "            color:  red;\n",
       "        }    #T_9f9effbe_78e0_11e9_a9b6_acbc32b44307row2_col13 {\n",
       "            color:  red;\n",
       "        }    #T_9f9effbe_78e0_11e9_a9b6_acbc32b44307row2_col14 {\n",
       "            color:  red;\n",
       "        }</style>  \n",
       "<table id=\"T_9f9effbe_78e0_11e9_a9b6_acbc32b44307\" > \n",
       "<thead>    <tr> \n",
       "        <th class=\"blank level0\" ></th> \n",
       "        <th class=\"col_heading level0 col0\" >Adverse Impact Parity</th> \n",
       "        <th class=\"col_heading level0 col1\" >Accuracy Parity</th> \n",
       "        <th class=\"col_heading level0 col2\" >True Positive Rate Parity</th> \n",
       "        <th class=\"col_heading level0 col3\" >Precision Parity</th> \n",
       "        <th class=\"col_heading level0 col4\" >Specificity Parity</th> \n",
       "        <th class=\"col_heading level0 col5\" >Negative Predicted Value Parity</th> \n",
       "        <th class=\"col_heading level0 col6\" >False Positive Rate Parity</th> \n",
       "        <th class=\"col_heading level0 col7\" >False Discovery Rate Parity</th> \n",
       "        <th class=\"col_heading level0 col8\" >False Negative Rate Parity</th> \n",
       "        <th class=\"col_heading level0 col9\" >False Omissions Rate Parity</th> \n",
       "        <th class=\"col_heading level0 col10\" >Type I Parity</th> \n",
       "        <th class=\"col_heading level0 col11\" >Type II Parity</th> \n",
       "        <th class=\"col_heading level0 col12\" >Equalized Odds</th> \n",
       "        <th class=\"col_heading level0 col13\" >Supervised Fairness</th> \n",
       "        <th class=\"col_heading level0 col14\" >Overall Fairness</th> \n",
       "    </tr></thead> \n",
       "<tbody>    <tr> \n",
       "        <th id=\"T_9f9effbe_78e0_11e9_a9b6_acbc32b44307level0_row0\" class=\"row_heading level0 row0\" >female</th> \n",
       "        <td id=\"T_9f9effbe_78e0_11e9_a9b6_acbc32b44307row0_col0\" class=\"data row0 col0\" >1</td> \n",
       "        <td id=\"T_9f9effbe_78e0_11e9_a9b6_acbc32b44307row0_col1\" class=\"data row0 col1\" >1</td> \n",
       "        <td id=\"T_9f9effbe_78e0_11e9_a9b6_acbc32b44307row0_col2\" class=\"data row0 col2\" >1</td> \n",
       "        <td id=\"T_9f9effbe_78e0_11e9_a9b6_acbc32b44307row0_col3\" class=\"data row0 col3\" >1</td> \n",
       "        <td id=\"T_9f9effbe_78e0_11e9_a9b6_acbc32b44307row0_col4\" class=\"data row0 col4\" >1</td> \n",
       "        <td id=\"T_9f9effbe_78e0_11e9_a9b6_acbc32b44307row0_col5\" class=\"data row0 col5\" >1</td> \n",
       "        <td id=\"T_9f9effbe_78e0_11e9_a9b6_acbc32b44307row0_col6\" class=\"data row0 col6\" >0</td> \n",
       "        <td id=\"T_9f9effbe_78e0_11e9_a9b6_acbc32b44307row0_col7\" class=\"data row0 col7\" >1</td> \n",
       "        <td id=\"T_9f9effbe_78e0_11e9_a9b6_acbc32b44307row0_col8\" class=\"data row0 col8\" >1</td> \n",
       "        <td id=\"T_9f9effbe_78e0_11e9_a9b6_acbc32b44307row0_col9\" class=\"data row0 col9\" >1</td> \n",
       "        <td id=\"T_9f9effbe_78e0_11e9_a9b6_acbc32b44307row0_col10\" class=\"data row0 col10\" >0</td> \n",
       "        <td id=\"T_9f9effbe_78e0_11e9_a9b6_acbc32b44307row0_col11\" class=\"data row0 col11\" >1</td> \n",
       "        <td id=\"T_9f9effbe_78e0_11e9_a9b6_acbc32b44307row0_col12\" class=\"data row0 col12\" >0</td> \n",
       "        <td id=\"T_9f9effbe_78e0_11e9_a9b6_acbc32b44307row0_col13\" class=\"data row0 col13\" >0</td> \n",
       "        <td id=\"T_9f9effbe_78e0_11e9_a9b6_acbc32b44307row0_col14\" class=\"data row0 col14\" >0</td> \n",
       "    </tr>    <tr> \n",
       "        <th id=\"T_9f9effbe_78e0_11e9_a9b6_acbc32b44307level0_row1\" class=\"row_heading level0 row1\" >male</th> \n",
       "        <td id=\"T_9f9effbe_78e0_11e9_a9b6_acbc32b44307row1_col0\" class=\"data row1 col0\" >1</td> \n",
       "        <td id=\"T_9f9effbe_78e0_11e9_a9b6_acbc32b44307row1_col1\" class=\"data row1 col1\" >1</td> \n",
       "        <td id=\"T_9f9effbe_78e0_11e9_a9b6_acbc32b44307row1_col2\" class=\"data row1 col2\" >1</td> \n",
       "        <td id=\"T_9f9effbe_78e0_11e9_a9b6_acbc32b44307row1_col3\" class=\"data row1 col3\" >1</td> \n",
       "        <td id=\"T_9f9effbe_78e0_11e9_a9b6_acbc32b44307row1_col4\" class=\"data row1 col4\" >1</td> \n",
       "        <td id=\"T_9f9effbe_78e0_11e9_a9b6_acbc32b44307row1_col5\" class=\"data row1 col5\" >1</td> \n",
       "        <td id=\"T_9f9effbe_78e0_11e9_a9b6_acbc32b44307row1_col6\" class=\"data row1 col6\" >1</td> \n",
       "        <td id=\"T_9f9effbe_78e0_11e9_a9b6_acbc32b44307row1_col7\" class=\"data row1 col7\" >1</td> \n",
       "        <td id=\"T_9f9effbe_78e0_11e9_a9b6_acbc32b44307row1_col8\" class=\"data row1 col8\" >1</td> \n",
       "        <td id=\"T_9f9effbe_78e0_11e9_a9b6_acbc32b44307row1_col9\" class=\"data row1 col9\" >1</td> \n",
       "        <td id=\"T_9f9effbe_78e0_11e9_a9b6_acbc32b44307row1_col10\" class=\"data row1 col10\" >1</td> \n",
       "        <td id=\"T_9f9effbe_78e0_11e9_a9b6_acbc32b44307row1_col11\" class=\"data row1 col11\" >1</td> \n",
       "        <td id=\"T_9f9effbe_78e0_11e9_a9b6_acbc32b44307row1_col12\" class=\"data row1 col12\" >1</td> \n",
       "        <td id=\"T_9f9effbe_78e0_11e9_a9b6_acbc32b44307row1_col13\" class=\"data row1 col13\" >1</td> \n",
       "        <td id=\"T_9f9effbe_78e0_11e9_a9b6_acbc32b44307row1_col14\" class=\"data row1 col14\" >1</td> \n",
       "    </tr>    <tr> \n",
       "        <th id=\"T_9f9effbe_78e0_11e9_a9b6_acbc32b44307level0_row2\" class=\"row_heading level0 row2\" >all</th> \n",
       "        <td id=\"T_9f9effbe_78e0_11e9_a9b6_acbc32b44307row2_col0\" class=\"data row2 col0\" >1</td> \n",
       "        <td id=\"T_9f9effbe_78e0_11e9_a9b6_acbc32b44307row2_col1\" class=\"data row2 col1\" >1</td> \n",
       "        <td id=\"T_9f9effbe_78e0_11e9_a9b6_acbc32b44307row2_col2\" class=\"data row2 col2\" >1</td> \n",
       "        <td id=\"T_9f9effbe_78e0_11e9_a9b6_acbc32b44307row2_col3\" class=\"data row2 col3\" >1</td> \n",
       "        <td id=\"T_9f9effbe_78e0_11e9_a9b6_acbc32b44307row2_col4\" class=\"data row2 col4\" >1</td> \n",
       "        <td id=\"T_9f9effbe_78e0_11e9_a9b6_acbc32b44307row2_col5\" class=\"data row2 col5\" >1</td> \n",
       "        <td id=\"T_9f9effbe_78e0_11e9_a9b6_acbc32b44307row2_col6\" class=\"data row2 col6\" >0</td> \n",
       "        <td id=\"T_9f9effbe_78e0_11e9_a9b6_acbc32b44307row2_col7\" class=\"data row2 col7\" >1</td> \n",
       "        <td id=\"T_9f9effbe_78e0_11e9_a9b6_acbc32b44307row2_col8\" class=\"data row2 col8\" >1</td> \n",
       "        <td id=\"T_9f9effbe_78e0_11e9_a9b6_acbc32b44307row2_col9\" class=\"data row2 col9\" >1</td> \n",
       "        <td id=\"T_9f9effbe_78e0_11e9_a9b6_acbc32b44307row2_col10\" class=\"data row2 col10\" >0</td> \n",
       "        <td id=\"T_9f9effbe_78e0_11e9_a9b6_acbc32b44307row2_col11\" class=\"data row2 col11\" >1</td> \n",
       "        <td id=\"T_9f9effbe_78e0_11e9_a9b6_acbc32b44307row2_col12\" class=\"data row2 col12\" >0</td> \n",
       "        <td id=\"T_9f9effbe_78e0_11e9_a9b6_acbc32b44307row2_col13\" class=\"data row2 col13\" >0</td> \n",
       "        <td id=\"T_9f9effbe_78e0_11e9_a9b6_acbc32b44307row2_col14\" class=\"data row2 col14\" >0</td> \n",
       "    </tr></tbody> \n",
       "</table> "
      ],
      "text/plain": [
       "<pandas.io.formats.style.Styler at 0x113dcd2e8>"
      ]
     },
     "execution_count": 22,
     "metadata": {},
     "output_type": "execute_result"
    }
   ],
   "source": [
    "# parity checks\n",
    "# low_threshold (0.8) < *_metric/white_metric < (high_threshold) 1.25 => parity, else disparity \n",
    "\n",
    "# init frame for parity\n",
    "par_col_names = columns=[col + ' Parity' for col in list(metric_dict.keys())]\n",
    "par_frame = dt.Frame(names=par_col_names, stypes = [dt.stype.bool8] * len(par_col_names))\n",
    "par_levels = sex_levels\n",
    "par_frame.nrows = len(par_levels)\n",
    "\n",
    "# nested loop through: \n",
    "# - races\n",
    "# - disparity metrics\n",
    "for i, _ in enumerate(sex_levels):\n",
    "    for j, _ in enumerate(par_frame.names):\n",
    "        # frame_[(f[y] == lev_i) & (f[dname] == lev_j), :].shape[0]\n",
    "        if parity_threshold_low < disp_frame[i,j] < parity_threshold_hi:\n",
    "            par_frame[i, j] = True\n",
    "        else:\n",
    "            par_frame[i, j] = False\n",
    "\n",
    "\n",
    "# add overall parity checks\n",
    "# Type I Parity: Fairness in both FDR Parity and FPR Parity\n",
    "# Type II Parity: Fairness in both FOR Parity and FNR Parity\n",
    "# Equalized Odds: Fairness in both FPR Parity and TPR Parity\n",
    "# Supervised Fairness: Fairness in both Type I and Type II Parity\n",
    "# Overall Fairness: Fairness across all parities for all metrics\n",
    "par_frame[:,'Type I Parity'] = par_frame[:,f['False Discovery Rate Parity'] & f['False Positive Rate Parity']]\n",
    "par_frame[:,'Type II Parity'] = par_frame[:,f['False Omissions Rate Parity'] & f['False Negative Rate Parity']]\n",
    "par_frame[:,'Equalized Odds'] = par_frame[:,f['False Positive Rate Parity'] & f['True Positive Rate Parity']]\n",
    "par_frame[:,'Supervised Fairness'] = par_frame[:,f['Type I Parity'] & f['Type II Parity']]\n",
    "par_frame[:, 'Overall Fairness'] = par_frame[:,f['Type I Parity'] & f['Type II Parity'] & \n",
    "                                             f['False Positive Rate Parity'] & f['True Positive Rate Parity'] &\n",
    "                                             f['False Omissions Rate Parity'] & f['False Negative Rate Parity'] &\n",
    "                                             f['False Discovery Rate Parity'] & f['False Positive Rate Parity']]\n",
    "\n",
    "par_frame_groups = dt.Frame(Groups = par_levels)\n",
    "par_frame_groups.nrows = len(par_levels)\n",
    "par_frame = dt.cbind(par_frame_groups, par_frame)\n",
    "\n",
    "par_frame_all = dt.cbind(dt.Frame(dt.Frame(par_frame.sum())))\n",
    "par_frame_all[0,\"Groups\"] = 'all'\n",
    "par_frame_all_metrics = list(par_frame.names)\n",
    "par_frame_all_metrics.remove(\"Groups\")\n",
    "par_frame_all_metrics\n",
    "\n",
    "for j in range(1,len(par_frame_all_metrics) + 1):\n",
    "    if par_frame_all[0, j] == len(par_levels):\n",
    "        par_frame_all[0, j] = True\n",
    "    else:\n",
    "        par_frame_all[0, j] = False \n",
    "\n",
    "par_frame = dt.rbind(par_frame, par_frame_all)\n",
    "# small utility function to format pandas table output    \n",
    "def color_false_red(val):\n",
    "\n",
    "    color = 'red' if not val else 'blue'\n",
    "    return 'color: %s' % color \n",
    "\n",
    "par_frame = par_frame\n",
    "par_frame_pd = par_frame.to_pandas()\n",
    "par_frame_pd = par_frame_pd.drop([\"Groups\"], axis=1)\n",
    "par_frame_pd.index = par_levels + [\"all\"]\n",
    "# display results\n",
    "par_frame_pd.style.applymap(color_false_red)"
   ]
  },
  {
   "cell_type": "markdown",
   "metadata": {},
   "source": [
    "In general the DAI model appears to have accuracy, negative predicted value, and specificity parity, but has disparate impact across sex levels for `False Positive Rate Parity`, `Type 1 Parity`, `Equalized Odds`, `Supervised Fairness`, and `Overall Fairness`. To address such disparate impact users could tune the DAI model cutoff or regularization, could try new methods for reweighing data prior to model training or try new modeling methods specifically designed for fairness. Simply dropping the variable `SEX` is likely an inappropriate solution. In nonlinear models, different variables are combined by the model to represent strong signals. If a variable is important in a dataset, model, or problem domain it's likely that a nonlinear model will find combinations of other variables to act as proxies for the problematic variable -- potentially even different combinations for different rows of data!. So by simply dropping the variable from the model, you will likely not solve the disparate impact problem, but instead just make it harder to diagnose."
   ]
  },
  {
   "cell_type": "markdown",
   "metadata": {},
   "source": [
    "#### Conclusion"
   ]
  },
  {
   "cell_type": "markdown",
   "metadata": {},
   "source": [
    "This notebook outlines a basic approach to DIA. In a complex, real-world machine learning project the hard-to-define phenomenas of sociological bias and unfairness can materialize in many ways and from many different sources. Although far from a flawless technique, the beauty of DIA is it is straightforward to implement, functions in a model-agnostic fashion on known labels and model predictions, and is applied in complex real-world fair lending situations, so it can probably be applied to your model too!\n",
    "\n",
    "Why risk being called out in the media for training an unfair model? Or why not investigate the monetary opportunity costs of type I errors and potential losses from type II errors? Why not do the right thing and investigate how your model treats people?"
   ]
  }
 ],
 "metadata": {
  "anaconda-cloud": {},
  "kernelspec": {
   "display_name": "compliant-dai",
   "language": "python",
   "name": "env"
  },
  "language_info": {
   "codemirror_mode": {
    "name": "ipython",
    "version": 3
   },
   "file_extension": ".py",
   "mimetype": "text/x-python",
   "name": "python",
   "nbconvert_exporter": "python",
   "pygments_lexer": "ipython3",
   "version": "3.6.4"
  }
 },
 "nbformat": 4,
 "nbformat_minor": 2
}
